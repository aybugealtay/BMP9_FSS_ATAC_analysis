{
 "cells": [
  {
   "cell_type": "markdown",
   "id": "96d023b9-0e32-4150-b079-615b2abe0271",
   "metadata": {},
   "source": [
    "## We utilized the [TSS annotation](https://www.encodeproject.org/files/ENCFF493CCB/) provided by the [ENCODE ATAC-seq pipeline](https://github.com/ENCODE-DCC/atac-seq-pipeline) to annotate genomic regions based on their proximity to the nearest gene. This annotation file employs UCSC names as the gene identifiers. To convert the gene identifier to gene names, the code provided below was used."
   ]
  },
  {
   "cell_type": "code",
   "execution_count": 2,
   "id": "88793ece-15f4-42b8-90d2-5371d5901049",
   "metadata": {
    "tags": []
   },
   "outputs": [],
   "source": [
    "library(\"org.Hs.eg.db\") # remember to install it if you don't have it already\n"
   ]
  },
  {
   "cell_type": "code",
   "execution_count": 44,
   "id": "d5c50e31-7c03-4bd2-b56c-cb640374df30",
   "metadata": {},
   "outputs": [],
   "source": [
    "convert_ensembleID_to_geneSymbol_bed <- function(file_name){\n",
    "    bed_input_path =  paste(\"/project/Mechanogenomics_data/ATACseq_analysis/DiffAcc/results/TSS_annotated_bedFiles/\", file_name, \".bed\", sep=\"\")\n",
    "    bed_file = read.table(bed_input_path, sep = \"\\t\", header = F)\n",
    "    ENS_IDs = gsub(\"\\\\..*\",\"\",bed_file$V14)\n",
    "    symbols <- mapIds(org.Hs.eg.db, keys = ENS_IDs, keytype = \"ENSEMBL\", column=\"SYMBOL\")\n",
    "    bed_file$V4 = as.data.frame(symbols)$symbols\n",
    "    out_name = paste(\"/project/Mechanogenomics_data/ATACseq_analysis/DiffAcc/results/TSS_annotated_bedFiles/TSS_geneSymbolAnnotated_bedFiles/\", file_name, \"_geneSymbol.bed\", sep=\"\")\n",
    "    write.table(bed_file, file=out_name, quote=F, sep=\"\\t\", row.names=F, col.names=F)\n",
    "    }"
   ]
  },
  {
   "cell_type": "code",
   "execution_count": 30,
   "id": "598510e6-6366-463d-a08e-2967b43ae961",
   "metadata": {},
   "outputs": [],
   "source": [
    "files <- list.files(path=\"/project/Mechanogenomics_data/ATACseq_analysis/DiffAcc/results/TSS_annotated_bedFiles/\", pattern=\"*.bed$\", full.names=F, recursive=FALSE)\n"
   ]
  },
  {
   "cell_type": "code",
   "execution_count": 39,
   "id": "543fef52-a768-440c-b5eb-99c2088fa288",
   "metadata": {},
   "outputs": [],
   "source": [
    "files_noextension = sub('\\\\.bed$', '', files) "
   ]
  },
  {
   "cell_type": "code",
   "execution_count": 45,
   "id": "172bde12-ecaf-432a-999a-54ebae7352a9",
   "metadata": {
    "tags": []
   },
   "outputs": [
    {
     "name": "stderr",
     "output_type": "stream",
     "text": [
      "'select()' returned 1:many mapping between keys and columns\n",
      "\n",
      "'select()' returned 1:many mapping between keys and columns\n",
      "\n",
      "'select()' returned 1:1 mapping between keys and columns\n",
      "\n",
      "'select()' returned 1:many mapping between keys and columns\n",
      "\n",
      "'select()' returned 1:many mapping between keys and columns\n",
      "\n",
      "'select()' returned 1:many mapping between keys and columns\n",
      "\n"
     ]
    }
   ],
   "source": [
    "for (file in files_noextension){\n",
    "    convert_ensembleID_to_geneSymbol_bed(file)\n",
    "}"
   ]
  },
  {
   "cell_type": "markdown",
   "id": "b74724f3-0e15-46cd-9779-32858039b65d",
   "metadata": {},
   "source": [
    "## convert TSS bed file"
   ]
  },
  {
   "cell_type": "code",
   "execution_count": 50,
   "id": "154b018d-daa5-4b53-ba2d-3e4bf0dbc910",
   "metadata": {},
   "outputs": [
    {
     "data": {
      "text/html": [
       "<table class=\"dataframe\">\n",
       "<caption>A data.frame: 6 × 6</caption>\n",
       "<thead>\n",
       "\t<tr><th></th><th scope=col>V1</th><th scope=col>V2</th><th scope=col>V3</th><th scope=col>V4</th><th scope=col>V5</th><th scope=col>V6</th></tr>\n",
       "\t<tr><th></th><th scope=col>&lt;chr&gt;</th><th scope=col>&lt;int&gt;</th><th scope=col>&lt;int&gt;</th><th scope=col>&lt;chr&gt;</th><th scope=col>&lt;int&gt;</th><th scope=col>&lt;chr&gt;</th></tr>\n",
       "</thead>\n",
       "<tbody>\n",
       "\t<tr><th scope=row>1</th><td>chr1</td><td> 65417</td><td> 65418</td><td>ENSG00000186092.6 </td><td>0</td><td>+</td></tr>\n",
       "\t<tr><th scope=row>2</th><td>chr1</td><td>451697</td><td>451698</td><td>ENSG00000284733.1 </td><td>0</td><td>-</td></tr>\n",
       "\t<tr><th scope=row>3</th><td>chr1</td><td>686673</td><td>686674</td><td>ENSG00000284662.1 </td><td>0</td><td>-</td></tr>\n",
       "\t<tr><th scope=row>4</th><td>chr1</td><td>923926</td><td>923927</td><td>ENSG00000187634.11</td><td>0</td><td>+</td></tr>\n",
       "\t<tr><th scope=row>5</th><td>chr1</td><td>959309</td><td>959310</td><td>ENSG00000188976.10</td><td>0</td><td>-</td></tr>\n",
       "\t<tr><th scope=row>6</th><td>chr1</td><td>960585</td><td>960586</td><td>ENSG00000187961.13</td><td>0</td><td>+</td></tr>\n",
       "</tbody>\n",
       "</table>\n"
      ],
      "text/latex": [
       "A data.frame: 6 × 6\n",
       "\\begin{tabular}{r|llllll}\n",
       "  & V1 & V2 & V3 & V4 & V5 & V6\\\\\n",
       "  & <chr> & <int> & <int> & <chr> & <int> & <chr>\\\\\n",
       "\\hline\n",
       "\t1 & chr1 &  65417 &  65418 & ENSG00000186092.6  & 0 & +\\\\\n",
       "\t2 & chr1 & 451697 & 451698 & ENSG00000284733.1  & 0 & -\\\\\n",
       "\t3 & chr1 & 686673 & 686674 & ENSG00000284662.1  & 0 & -\\\\\n",
       "\t4 & chr1 & 923926 & 923927 & ENSG00000187634.11 & 0 & +\\\\\n",
       "\t5 & chr1 & 959309 & 959310 & ENSG00000188976.10 & 0 & -\\\\\n",
       "\t6 & chr1 & 960585 & 960586 & ENSG00000187961.13 & 0 & +\\\\\n",
       "\\end{tabular}\n"
      ],
      "text/markdown": [
       "\n",
       "A data.frame: 6 × 6\n",
       "\n",
       "| <!--/--> | V1 &lt;chr&gt; | V2 &lt;int&gt; | V3 &lt;int&gt; | V4 &lt;chr&gt; | V5 &lt;int&gt; | V6 &lt;chr&gt; |\n",
       "|---|---|---|---|---|---|---|\n",
       "| 1 | chr1 |  65417 |  65418 | ENSG00000186092.6  | 0 | + |\n",
       "| 2 | chr1 | 451697 | 451698 | ENSG00000284733.1  | 0 | - |\n",
       "| 3 | chr1 | 686673 | 686674 | ENSG00000284662.1  | 0 | - |\n",
       "| 4 | chr1 | 923926 | 923927 | ENSG00000187634.11 | 0 | + |\n",
       "| 5 | chr1 | 959309 | 959310 | ENSG00000188976.10 | 0 | - |\n",
       "| 6 | chr1 | 960585 | 960586 | ENSG00000187961.13 | 0 | + |\n",
       "\n"
      ],
      "text/plain": [
       "  V1   V2     V3     V4                 V5 V6\n",
       "1 chr1  65417  65418 ENSG00000186092.6  0  + \n",
       "2 chr1 451697 451698 ENSG00000284733.1  0  - \n",
       "3 chr1 686673 686674 ENSG00000284662.1  0  - \n",
       "4 chr1 923926 923927 ENSG00000187634.11 0  + \n",
       "5 chr1 959309 959310 ENSG00000188976.10 0  - \n",
       "6 chr1 960585 960586 ENSG00000187961.13 0  + "
      ]
     },
     "metadata": {},
     "output_type": "display_data"
    }
   ],
   "source": [
    "TSS_bed_file = read.table(\"/project/Mechanogenomics_data/ATACseq_analysis/DiffAcc/annotation/ENCFF493CCB_TSS_sorted.bed\", sep = \"\\t\", header = F)\n",
    "head(TSS_bed_file)\n"
   ]
  },
  {
   "cell_type": "code",
   "execution_count": 49,
   "id": "89488e3b-9c3c-4b0e-96ef-4c7a3beee947",
   "metadata": {},
   "outputs": [
    {
     "data": {
      "text/html": [],
      "text/latex": [],
      "text/markdown": [],
      "text/plain": [
       "character(0)"
      ]
     },
     "metadata": {},
     "output_type": "display_data"
    }
   ],
   "source": [
    "gsub(\"\\\\..*\",\"\",TSS_bed_file$V14)"
   ]
  },
  {
   "cell_type": "code",
   "execution_count": 51,
   "id": "c5e3d48f-feea-4833-9d72-8852a84b4889",
   "metadata": {},
   "outputs": [
    {
     "name": "stderr",
     "output_type": "stream",
     "text": [
      "'select()' returned 1:many mapping between keys and columns\n",
      "\n"
     ]
    }
   ],
   "source": [
    "TSS_symbols <- mapIds(org.Hs.eg.db, keys = gsub(\"\\\\..*\",\"\",TSS_bed_file$V4), keytype = \"ENSEMBL\", column=\"SYMBOL\")"
   ]
  },
  {
   "cell_type": "code",
   "execution_count": 52,
   "id": "62b79ea6-6bc5-41ea-b013-52c0ad8a41d9",
   "metadata": {},
   "outputs": [
    {
     "data": {
      "text/html": [
       "<table class=\"dataframe\">\n",
       "<caption>A data.frame: 6 × 6</caption>\n",
       "<thead>\n",
       "\t<tr><th></th><th scope=col>V1</th><th scope=col>V2</th><th scope=col>V3</th><th scope=col>V4</th><th scope=col>V5</th><th scope=col>V6</th></tr>\n",
       "\t<tr><th></th><th scope=col>&lt;chr&gt;</th><th scope=col>&lt;int&gt;</th><th scope=col>&lt;int&gt;</th><th scope=col>&lt;chr&gt;</th><th scope=col>&lt;int&gt;</th><th scope=col>&lt;chr&gt;</th></tr>\n",
       "</thead>\n",
       "<tbody>\n",
       "\t<tr><th scope=row>1</th><td>chr1</td><td> 65417</td><td> 65418</td><td>OR4F5 </td><td>0</td><td>+</td></tr>\n",
       "\t<tr><th scope=row>2</th><td>chr1</td><td>451697</td><td>451698</td><td>OR4F29</td><td>0</td><td>-</td></tr>\n",
       "\t<tr><th scope=row>3</th><td>chr1</td><td>686673</td><td>686674</td><td>OR4F16</td><td>0</td><td>-</td></tr>\n",
       "\t<tr><th scope=row>4</th><td>chr1</td><td>923926</td><td>923927</td><td>SAMD11</td><td>0</td><td>+</td></tr>\n",
       "\t<tr><th scope=row>5</th><td>chr1</td><td>959309</td><td>959310</td><td>NOC2L </td><td>0</td><td>-</td></tr>\n",
       "\t<tr><th scope=row>6</th><td>chr1</td><td>960585</td><td>960586</td><td>KLHL17</td><td>0</td><td>+</td></tr>\n",
       "</tbody>\n",
       "</table>\n"
      ],
      "text/latex": [
       "A data.frame: 6 × 6\n",
       "\\begin{tabular}{r|llllll}\n",
       "  & V1 & V2 & V3 & V4 & V5 & V6\\\\\n",
       "  & <chr> & <int> & <int> & <chr> & <int> & <chr>\\\\\n",
       "\\hline\n",
       "\t1 & chr1 &  65417 &  65418 & OR4F5  & 0 & +\\\\\n",
       "\t2 & chr1 & 451697 & 451698 & OR4F29 & 0 & -\\\\\n",
       "\t3 & chr1 & 686673 & 686674 & OR4F16 & 0 & -\\\\\n",
       "\t4 & chr1 & 923926 & 923927 & SAMD11 & 0 & +\\\\\n",
       "\t5 & chr1 & 959309 & 959310 & NOC2L  & 0 & -\\\\\n",
       "\t6 & chr1 & 960585 & 960586 & KLHL17 & 0 & +\\\\\n",
       "\\end{tabular}\n"
      ],
      "text/markdown": [
       "\n",
       "A data.frame: 6 × 6\n",
       "\n",
       "| <!--/--> | V1 &lt;chr&gt; | V2 &lt;int&gt; | V3 &lt;int&gt; | V4 &lt;chr&gt; | V5 &lt;int&gt; | V6 &lt;chr&gt; |\n",
       "|---|---|---|---|---|---|---|\n",
       "| 1 | chr1 |  65417 |  65418 | OR4F5  | 0 | + |\n",
       "| 2 | chr1 | 451697 | 451698 | OR4F29 | 0 | - |\n",
       "| 3 | chr1 | 686673 | 686674 | OR4F16 | 0 | - |\n",
       "| 4 | chr1 | 923926 | 923927 | SAMD11 | 0 | + |\n",
       "| 5 | chr1 | 959309 | 959310 | NOC2L  | 0 | - |\n",
       "| 6 | chr1 | 960585 | 960586 | KLHL17 | 0 | + |\n",
       "\n"
      ],
      "text/plain": [
       "  V1   V2     V3     V4     V5 V6\n",
       "1 chr1  65417  65418 OR4F5  0  + \n",
       "2 chr1 451697 451698 OR4F29 0  - \n",
       "3 chr1 686673 686674 OR4F16 0  - \n",
       "4 chr1 923926 923927 SAMD11 0  + \n",
       "5 chr1 959309 959310 NOC2L  0  - \n",
       "6 chr1 960585 960586 KLHL17 0  + "
      ]
     },
     "metadata": {},
     "output_type": "display_data"
    }
   ],
   "source": [
    "TSS_bed_file$V4 = as.data.frame(TSS_symbols)$TSS_symbols\n",
    "head(TSS_bed_file)"
   ]
  },
  {
   "cell_type": "code",
   "execution_count": 53,
   "id": "e9852ea1-3349-4486-a628-d68025753dad",
   "metadata": {},
   "outputs": [],
   "source": [
    "write.table(TSS_bed_file, file=\"/project/Mechanogenomics_data/ATACseq_analysis/DiffAcc/annotation/ENCFF493CCB_TSS_sorted_geneSymbol.bed\", quote=F, sep=\"\\t\", row.names=F, col.names=F)"
   ]
  },
  {
   "cell_type": "markdown",
   "id": "e03b0cd0-a8e7-4eb4-ba6e-710a4bc1fab4",
   "metadata": {},
   "source": [
    "## then, we used bedtools to assign closest genes to each regions as follows:\n",
    "\n",
    "with USCS naming:\n",
    "\n",
    "bedtools closest -a ./sortedBedFiles/flow_bmp9_VS_stat_bmp9_sorted.bed -b /project/Mechanogenomics_data/ATACseq_analysis/DiffAcc/annotation/ENCFF493CCB_TSS_sorted.bed -d > ../TSS_annotated_bedFiles/flow_bmp9_VS_stat_bmp9_TSS_annotated.bed\n",
    "\n",
    "with gene symbols:\n",
    "\n",
    "bedtools closest -a ./sortedBedFiles/flow_bmp9_VS_stat_bmp9_sorted.bed -b /project/Mechanogenomics_data/ATACseq_analysis/DiffAcc/annotation/ENCFF493CCB_TSS_sorted.bed -d > ../TSS_annotated_bedFiles/flow_bmp9_VS_stat_bmp9_TSS_annotated.bed\n",
    "\n",
    "bedtools closest -a ./sortedBedFiles/flow_bmp9_VS_stat_cont_sorted.bed -b /project/Mechanogenomics_data/ATACseq_analysis/DiffAcc/annotation/ENCFF493CCB_TSS_sorted.bed -d > ../TSS_annotated_bedFiles/flow_bmp9_VS_stat_cont_TSS_annotated.bed\n",
    "\n",
    "bedtools closest -a ./sortedBedFiles/flow_cont_VS_flow_bmp9_sorted.bed -b /project/Mechanogenomics_data/ATACseq_analysis/DiffAcc/annotation/ENCFF493CCB_TSS_sorted.bed -d > ../TSS_annotated_bedFiles/flow_cont_VS_flow_bmp9_TSS_annotated.bed\n",
    "\n",
    "bedtools closest -a ./sortedBedFiles/flow_cont_VS_stat_bmp9_sorted.bed -b /project/Mechanogenomics_data/ATACseq_analysis/DiffAcc/annotation/ENCFF493CCB_TSS_sorted.bed -d > ../TSS_annotated_bedFiles/flow_cont_VS_stat_bmp9_TSS_annotated.bed\n",
    "\n",
    "bedtools closest -a ./sortedBedFiles/flow_cont_VS_stat_cont_sorted.bed -b /project/Mechanogenomics_data/ATACseq_analysis/DiffAcc/annotation/ENCFF493CCB_TSS_sorted.bed -d > ../TSS_annotated_bedFiles/flow_cont_VS_stat_cont_TSS_annotated.bed\n",
    "\n",
    "bedtools closest -a ./sortedBedFiles/stat_bmp9_VS_stat_cont_sorted.bed -b /project/Mechanogenomics_data/ATACseq_analysis/DiffAcc/annotation/ENCFF493CCB_TSS_sorted.bed -d > ../TSS_annotated_bedFiles/stat_bmp9_VS_stat_cont_TSS_annotated.bed\n",
    "\n"
   ]
  }
 ],
 "metadata": {
  "kernelspec": {
   "display_name": "R",
   "language": "R",
   "name": "ir"
  },
  "language_info": {
   "codemirror_mode": "r",
   "file_extension": ".r",
   "mimetype": "text/x-r-source",
   "name": "R",
   "pygments_lexer": "r",
   "version": "4.2.1"
  }
 },
 "nbformat": 4,
 "nbformat_minor": 5
}
