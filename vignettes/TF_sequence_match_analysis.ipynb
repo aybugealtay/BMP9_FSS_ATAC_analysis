{
 "cells": [
  {
   "cell_type": "markdown",
   "id": "a37ff4fb-f9d7-401a-a4db-1326f4d1f81a",
   "metadata": {
    "tags": []
   },
   "source": [
    "## The below code calculates the occurrence and clustering of GC-SBEs, 5bp GC-SBEs and SBEs in BMP9-induced active regions. (Figure 2G)\n",
    "\n",
    "1. Obtain the regions 5bp GC-SBEs and SBEs are bound within BMP sensitive regions:\n"
   ]
  },
  {
   "cell_type": "markdown",
   "id": "87c02f21-edbc-4a6e-8e9d-c13e8bd27862",
   "metadata": {
    "tags": []
   },
   "source": [
    "## The below code calculates the occurrence and clustering of GC-SBEs, 5bp GC-SBEs and SBEs in BMP9-induced active regions. (Figure 2G)\n",
    "\n",
    "1. Number of hits per 200 bp \n",
    "    * A. motif 1,2,3 (1 vs 2,3) -- use only hit of GC-motif\n",
    "    * B. motifs 4,5 -- use only hit of CAGA-motif\n",
    "    * C. motifs 6-9 -- use only hit of GC-motif\n"
   ]
  },
  {
   "cell_type": "raw",
   "id": "2e77eec4-e83d-4f16-80d6-ac845322363d",
   "metadata": {},
   "source": [
    "2. mean distance between:\n",
    "     * A-A (1 vs 2,3) -- use only hit of GC-motif\n",
    "     * A-B -- intersection of GC-motif and CAGA-motif\n",
    "     * B-C -- intersection of GC-motif and CAGA-motif\n",
    "     * C-C -- use only hit of GC-motif\n",
    "     \n",
    "     \n",
    "For the Q2, it would be nice to keep the exact motifs as well. "
   ]
  },
  {
   "cell_type": "code",
   "execution_count": 7,
   "id": "8335102b-9b8c-4b3b-b06d-277faae681c6",
   "metadata": {},
   "outputs": [],
   "source": [
    "# these are the list of interesting motifs\n",
    "motif1=\"GGCGCC\"\n",
    "motif2=\"GGAGCC\"\n",
    "motif3=\"CCTCGG\"\n",
    "motif4=\"CAGAC\"\n",
    "motif5=\"GTCTG\"\n",
    "motif6=\"GGCGC\"\n",
    "motif7=\"GGCGG\"\n",
    "motif8=\"GGCTG\"\n",
    "motif9=\"GGCCG\""
   ]
  },
  {
   "cell_type": "code",
   "execution_count": 2,
   "id": "c8aa647a-1e56-4e0c-9614-0f3b8ff9af39",
   "metadata": {},
   "outputs": [],
   "source": [
    "from Bio import SeqIO\n",
    "\n",
    "from Bio.Seq import Seq\n",
    "import re\n",
    "import pandas as pd\n",
    "import matplotlib.ticker as mtick\n",
    "import matplotlib\n",
    "import itertools\n",
    "import seaborn as sns\n",
    "#from itertools import chain"
   ]
  },
  {
   "cell_type": "code",
   "execution_count": 4,
   "id": "d4361c4b-ab44-4d19-a236-f43b1bba0afe",
   "metadata": {},
   "outputs": [],
   "source": [
    "# this function flattens the lists\n",
    "from collections.abc import Iterable\n",
    "\n",
    "def flatten(l):\n",
    "    for el in l:\n",
    "        if isinstance(el, Iterable) and not isinstance(el, (str, bytes)):\n",
    "            yield from flatten(el)\n",
    "        else:\n",
    "            yield el"
   ]
  },
  {
   "cell_type": "markdown",
   "id": "15fa447e-3510-483e-90f2-3b25b092fd08",
   "metadata": {},
   "source": [
    "from Bio import SeqIO\n",
    "import sys\n",
    "\n",
    "headerList = []\n",
    "seqList = []\n",
    "\n",
    "inFile = open(\"/project/Mechanogenomics_data/ATACseq_analysis/MotifEnrichment/distancesBtwMotifs/stat_bmp9_VS_stat_cont_FC_biger_1.5_motif5_6_hits.fa.out\",'r')\n",
    "for record in SeqIO.parse(inFile,'fasta'):\n",
    "    headerList.append(record.id)\n",
    "    seqList.append(str(record.seq))"
   ]
  },
  {
   "cell_type": "code",
   "execution_count": 6,
   "id": "9329db2d-3475-4483-9ce9-6cb5974b768d",
   "metadata": {},
   "outputs": [],
   "source": [
    "\n",
    "common_seq_dict = SeqIO.to_dict(SeqIO.parse(open(\"/project/Mechanogenomics_data/ATACseq_analysis/MotifEnrichment/distancesBtwMotifs/200bp/stat_bmp9_VS_stat_cont_FC_biger_1.5_motif5_6_hits_200.fa.out\",'r'), \"fasta\"))"
   ]
  },
  {
   "cell_type": "code",
   "execution_count": 7,
   "id": "1910ae7a-0465-4a49-893a-272eafdc31ef",
   "metadata": {},
   "outputs": [],
   "source": [
    "\n",
    "CAGA_seq_dict = SeqIO.to_dict(SeqIO.parse(open(\"/project/Mechanogenomics_data/ATACseq_analysis/MotifEnrichment/distancesBtwMotifs/200bp/stat_bmp9_VS_stat_cont_FC_biger_1.5_motif6_caga_hits_200.fa.out\",'r'), \"fasta\"))"
   ]
  },
  {
   "cell_type": "code",
   "execution_count": 8,
   "id": "1d0d00f3-1e4a-4d5e-bef0-8de8bab3b79b",
   "metadata": {},
   "outputs": [],
   "source": [
    "\n",
    "GCmotif_seq_dict = SeqIO.to_dict(SeqIO.parse(open(\"/project/Mechanogenomics_data/ATACseq_analysis/MotifEnrichment/distancesBtwMotifs/200bp/stat_bmp9_VS_stat_cont_FC_biger_1.5_motif5_GCmotif_hits_200.fa.out\",'r'), \"fasta\"))"
   ]
  },
  {
   "cell_type": "code",
   "execution_count": 9,
   "id": "6d941401-71fd-4a14-a4f3-2769d9b34be2",
   "metadata": {},
   "outputs": [],
   "source": [
    "motif1=\"GGCGCC\"\n",
    "motif2=\"GGAGCC\"\n",
    "motif3=\"CCTCGG\"\n",
    "motif4=\"CAGAC\"\n",
    "motif5=\"GTCTG\"\n",
    "motif6=\"GGCGC\"\n",
    "motif7=\"GGCGG\"\n",
    "motif8=\"GGCTG\"\n",
    "motif9=\"GGCCG\""
   ]
  },
  {
   "cell_type": "markdown",
   "id": "52f04271-61d3-469d-9d34-fc74acc20ebd",
   "metadata": {},
   "source": [
    "### define motif groups\n"
   ]
  },
  {
   "cell_type": "code",
   "execution_count": 10,
   "id": "8a92b939-3296-4064-a52b-abbd9440e432",
   "metadata": {},
   "outputs": [],
   "source": [
    "CAGA_motifs = [motif4,motif5]\n",
    "GC_5bp_motifs = [motif6,motif7,motif8,motif9]\n",
    "GC_6bp_motifs_1= [motif1]\n",
    "GC_6bp_motifs_2_3= [motif2, motif3]\n",
    "GC_6bp_motifs=[motif1,motif2, motif3]\n",
    "all_motifs=[motif1,motif2,motif3,motif4,motif5,motif6,motif7,motif8,motif9]"
   ]
  },
  {
   "cell_type": "code",
   "execution_count": 11,
   "id": "4087bcfa-a9e6-4ef3-af01-ee17d83acfc3",
   "metadata": {},
   "outputs": [],
   "source": [
    "### working code!!!!\n",
    "def get_motif_match_dict(seq_dict, motif_list):\n",
    "    count=0\n",
    "    multiple_hit_regions=[]\n",
    "    motif_match_dict = dict()\n",
    "    for key, value in seq_dict.items():\n",
    "        #print(key)\n",
    "        for m in motif_list:\n",
    "            occurance_count = seq_dict[key].seq.count(m)\n",
    "            #print(occurance_count)\n",
    "            if occurance_count>0:\n",
    "                if occurance_count == 1:\n",
    "                    if key in motif_match_dict:\n",
    "                        z=motif_match_dict[key]\n",
    "                        z[m] = [(match.start(), match.end()) for match in re.finditer(m, str(seq_dict[key].seq))]\n",
    "                        #print(z)\n",
    "                        motif_match_dict[key]=z\n",
    "                    else:\n",
    "                        new_dict=dict()\n",
    "                        for match in re.finditer(m, str(seq_dict[key].seq)):\n",
    "                            new_dict[m] =[(match.start(), match.end())]\n",
    "                            #print(new_dict[m])\n",
    "                            motif_match_dict[key]=new_dict\n",
    "                else:\n",
    "                    multiple_hit_regions.append(key)\n",
    "                    count=count+1\n",
    "                    if key in motif_match_dict:\n",
    "                        z=motif_match_dict[key]\n",
    "                        z[m] = [(match.start(), match.end()) for match in re.finditer(m, str(seq_dict[key].seq))]\n",
    "                        motif_match_dict[key]=z\n",
    "\n",
    "                        #motif_match_dict[i][m] = [(match.start(), match.end()) for match in re.finditer(m, str(seq_dict[i].seq))]\n",
    "                    else:    \n",
    "                        \n",
    "                        new_dict=dict()\n",
    "                        new_dict[m] = [(match.start(), match.end()) for match in re.finditer(m, str(seq_dict[key].seq))]\n",
    "                        #print(new_dict[m])\n",
    "                        motif_match_dict[key] = new_dict\n",
    "    return motif_match_dict\n",
    "                        \n",
    "\n",
    "\n",
    "        \n",
    "    "
   ]
  },
  {
   "cell_type": "code",
   "execution_count": 12,
   "id": "cee2cc22-9471-4a3a-b2b7-4a7416fca82c",
   "metadata": {},
   "outputs": [],
   "source": [
    "def get_distance_between_motifs_dict(motif_match_dict):\n",
    "    distance_between_motifs_dict=dict()\n",
    "    for k in motif_match_dict:\n",
    "        #print(k)\n",
    "        motifs=list(motif_match_dict[k].keys())\n",
    "        hits=list(motif_match_dict[k].values())\n",
    "        values_sorted_hit_dict = dict(sorted(motif_match_dict[k].items(), key=lambda item: item[1]))\n",
    "        hit_dict_values_list = sum(values_sorted_hit_dict.values(),[])\n",
    "        if len(motifs)==len(hit_dict_values_list):\n",
    "            if len(motifs)==1:\n",
    "                continue\n",
    "            if len(motifs)==2:\n",
    "                # get the motifs and iterate over them by the order\n",
    "                for motif_idx in range(1):\n",
    "                    #print((motif[motif_idx],motif[motif_idx+1]))\n",
    "                    distance = [(hit_dict_values_list[motif_idx+1][0]-hit_dict_values_list[motif_idx][1]-1)]\n",
    "                    if (motifs[motif_idx],motifs[motif_idx+1]) in distance_between_motifs_dict:\n",
    "                        new_dist = distance_between_motifs_dict[(motifs[motif_idx],motifs[motif_idx+1])]\n",
    "                        new_dist =  new_dist + distance\n",
    "                        distance_between_motifs_dict[(motifs[motif_idx],motifs[motif_idx+1])]= new_dist\n",
    "                    else:\n",
    "                        distance_between_motifs_dict[(motifs[motif_idx],motifs[motif_idx+1])] = distance\n",
    "            if len(motifs) >2:\n",
    "                dist_list =[]\n",
    "                for motif_idx in range(len(motifs)-1):\n",
    "                    distance = [(hit_dict_values_list[motif_idx+1][0]-hit_dict_values_list[motif_idx][1]-1)]\n",
    "                    dist_list= dist_list + distance\n",
    "                key_= tuple(values_sorted_hit_dict.keys())\n",
    "                if key_ in distance_between_motifs_dict:\n",
    "                    new_dist = list(distance_between_motifs_dict[key_])\n",
    "                    new_dist = new_dist + [dist_list]\n",
    "                    distance_between_motifs_dict[key_]= new_dist\n",
    "                else:\n",
    "                    distance_between_motifs_dict[(key_)] = [dist_list]\n",
    "        if len(motifs)!=len(hit_dict_values_list):\n",
    "            hit_dict_values_list = sorted(sum(values_sorted_hit_dict.values(),[]))\n",
    "            dist_list =[]\n",
    "            motif_tpl=[]\n",
    "            for hit_idx in range(len(hit_dict_values_list)-1):\n",
    "                distance = [(hit_dict_values_list[hit_idx+1][0]-hit_dict_values_list[hit_idx][1]-1)]\n",
    "                dist_list=dist_list+distance\n",
    "            for hit_val in hit_dict_values_list:\n",
    "                for motif_ in motifs: \n",
    "                    if hit_val in motif_match_dict[k].get(motif_):\n",
    "                        motif_tpl = motif_tpl+[motif_]\n",
    "                    else:\n",
    "                        continue\n",
    "            if tuple(motif_tpl) in distance_between_motifs_dict:\n",
    "                new_dist = distance_between_motifs_dict[tuple(motif_tpl)]\n",
    "                new_dist = new_dist + [dist_list]\n",
    "                distance_between_motifs_dict[tuple(motif_tpl)]= new_dist\n",
    "            else:\n",
    "                distance_between_motifs_dict[tuple(motif_tpl)]=dist_list\n",
    "    return distance_between_motifs_dict\n"
   ]
  },
  {
   "cell_type": "code",
   "execution_count": 13,
   "id": "4b60877e-8270-4b54-be2f-6ea5adec8a8f",
   "metadata": {
    "tags": []
   },
   "outputs": [],
   "source": [
    "def get_distance_between_motifs_dict_simplified(motif_match_dict):\n",
    "    distance_between_motifs_dict=dict()\n",
    "    for k in motif_match_dict:\n",
    "        motifs=list(motif_match_dict[k].keys())        \n",
    "        hits=list(motif_match_dict[k].values())\n",
    "        values_sorted_hit_dict = dict(sorted(motif_match_dict[k].items(), key=lambda item: item[1]))        \n",
    "        #motifs=list(values_sorted_hit_dict[k].keys())\n",
    "        hit_dict_values_list = sorted(sum(values_sorted_hit_dict.values(),[]))\n",
    "        #count the distance only if there are mutliple hits \n",
    "        if len(hit_dict_values_list)>1:\n",
    "#             print(k)\n",
    "#             print(common_regions_GC_6bp_and_CAGA_motifs_dict[k])\n",
    "#             print(motifs)\n",
    "#             print(values_sorted_hit_dict)\n",
    "#             print(hit_dict_values_list)\n",
    "            dist_list =[]\n",
    "            motif_tpl=[]\n",
    "        # iterate over the sorted hit list and calculate the distances between hit positions\n",
    "        # then, iterate iver the hit positions and collect the corresponding motifs and store as a tuple\n",
    "        # if the tuple length is 2 --> (A,B) = (B,A)\n",
    "        #otherwise, keep the occurances of motifs\n",
    "            for hit_idx in range(len(hit_dict_values_list)-1):\n",
    "                distance = [(hit_dict_values_list[hit_idx+1][0]-hit_dict_values_list[hit_idx][1]-1)]\n",
    "                dist_list=dist_list+distance\n",
    "            for hit_val in hit_dict_values_list:\n",
    "                for motif_ in motifs: \n",
    "                    if hit_val in motif_match_dict[k].get(motif_):\n",
    "                        motif_tpl = motif_tpl+[motif_]\n",
    "                    else:\n",
    "                        continue\n",
    "            if len(tuple(motif_tpl))==2:\n",
    "                two_motif_tuple = tuple(sorted(tuple(motif_tpl)))\n",
    "                if two_motif_tuple in distance_between_motifs_dict:\n",
    "                    new_dist = distance_between_motifs_dict[two_motif_tuple]\n",
    "                    new_dist = new_dist + [dist_list]\n",
    "                    distance_between_motifs_dict[two_motif_tuple]= new_dist\n",
    "                else:\n",
    "                    distance_between_motifs_dict[two_motif_tuple]=dist_list\n",
    "            else:    \n",
    "                if tuple(motif_tpl) in distance_between_motifs_dict:\n",
    "                    new_dist = distance_between_motifs_dict[tuple(motif_tpl)]\n",
    "                    new_dist = new_dist + [dist_list]\n",
    "                    distance_between_motifs_dict[tuple(motif_tpl)]= new_dist\n",
    "                else:\n",
    "                    distance_between_motifs_dict[tuple(motif_tpl)]=dist_list\n",
    "    return distance_between_motifs_dict"
   ]
  },
  {
   "cell_type": "markdown",
   "id": "7459c529-9abf-4c3f-b78b-37d17025aa7c",
   "metadata": {},
   "source": [
    "## I ignore the negative occurances for the pairwise diatnces but not for all combinatorial distance. Also, I don't also check this for the hits"
   ]
  },
  {
   "cell_type": "code",
   "execution_count": 14,
   "id": "a446598e-8b99-4c25-996a-64db55426945",
   "metadata": {
    "tags": []
   },
   "outputs": [],
   "source": [
    "def get_pairwise_distance_between_motifs_dict_simplified(motif_match_dict):\n",
    "    distance_between_motifs_dict=dict()\n",
    "    for k in motif_match_dict:       \n",
    "        motifs=list(motif_match_dict[k].keys())   \n",
    "        hits=list(motif_match_dict[k].values())\n",
    "        values_sorted_hit_dict = dict(sorted(motif_match_dict[k].items(), key=lambda item: item[1]))\n",
    "        hit_dict_values_list = sorted(sum(values_sorted_hit_dict.values(),[]))       \n",
    "        if len(hit_dict_values_list)>1:\n",
    "            dist_list =[]\n",
    "            motif_tpl=[]\n",
    "            for hit_idx in range(len(hit_dict_values_list)-1):\n",
    "                distance = [(hit_dict_values_list[hit_idx+1][0]-hit_dict_values_list[hit_idx][1]-1)]\n",
    "                dist_list=dist_list+distance\n",
    "            for hit_val in hit_dict_values_list:\n",
    "                for motif_ in motifs: \n",
    "                    if hit_val in motif_match_dict[k].get(motif_):\n",
    "                        motif_tpl = motif_tpl+[motif_]\n",
    "                    else:\n",
    "                        continue\n",
    "            for tup_idx in range(len(motif_tpl)-1):\n",
    "                tuple_pair = tuple(sorted(tuple((motif_tpl[tup_idx],motif_tpl[tup_idx+1]))))\n",
    "                pairwise_dist=[dist_list[tup_idx]]\n",
    "                if pairwise_dist[0] > 0:\n",
    "                    if tuple_pair in distance_between_motifs_dict:\n",
    "                        new_dist = distance_between_motifs_dict[tuple_pair]\n",
    "                        new_dist = new_dist + [pairwise_dist]\n",
    "                        distance_between_motifs_dict[tuple_pair]= new_dist\n",
    "                    else:\n",
    "                        distance_between_motifs_dict[tuple_pair]=pairwise_dist\n",
    "    return distance_between_motifs_dict"
   ]
  },
  {
   "cell_type": "markdown",
   "id": "2f344e3e-0f19-4a80-a66b-69535f8a5ff4",
   "metadata": {
    "tags": []
   },
   "source": [
    "## COMMON HITS"
   ]
  },
  {
   "cell_type": "code",
   "execution_count": 15,
   "id": "e3467e7a-561a-4485-80ec-73c960fb9c2d",
   "metadata": {},
   "outputs": [],
   "source": [
    "common_motif_match_dict=  get_motif_match_dict(common_seq_dict, all_motifs)"
   ]
  },
  {
   "cell_type": "code",
   "execution_count": 16,
   "id": "5041f676-1c0d-41a1-a8d0-6f4e1ae4e330",
   "metadata": {},
   "outputs": [],
   "source": [
    "distance_between_all_motifs_dict=get_distance_between_motifs_dict(common_motif_match_dict)"
   ]
  },
  {
   "cell_type": "code",
   "execution_count": 17,
   "id": "7072c86c-9b36-4653-96a7-21a61c263e1a",
   "metadata": {},
   "outputs": [
    {
     "data": {
      "text/plain": [
       "{('GTCTG', 'GGCTG', 'GTCTG', 'GGCTG', 'GTCTG', 'GGCTG'): [7, 24, 1, 29, 15],\n",
       " ('CAGAC', 'GTCTG', 'CAGAC'): [23, 4],\n",
       " ('GGAGCC', 'GTCTG'): [8, 4],\n",
       " ('CAGAC', 'GTCTG', 'GTCTG', 'GGCTG'): [4, 48, 86],\n",
       " ('GTCTG', 'GGCTG'): [-2, 94],\n",
       " ('CAGAC', 'CAGAC'): [71],\n",
       " ('GTCTG', 'GGCTG', 'GGCGG'): [[25, 55]],\n",
       " ('GGAGCC', 'CAGAC'): [65],\n",
       " ('GGCTG', 'GGCTG', 'GTCTG', 'GGCTG', 'GGAGCC', 'GGAGCC'): [14, 11, -2, 8, 4],\n",
       " ('GGCTG', 'GTCTG', 'GGAGCC', 'GTCTG'): [93, -2, 3],\n",
       " ('CAGAC', 'CAGAC', 'GGCTG'): [84, 5],\n",
       " ('GGAGCC', 'GGCTG', 'GTCTG', 'GGCGC'): [[0, 10, 29]],\n",
       " ('CAGAC', 'CAGAC', 'GGAGCC'): [70, 4],\n",
       " ('GGCTG', 'GGAGCC', 'GTCTG', 'GGCTG'): [2, 42, 28],\n",
       " ('GGAGCC', 'GGAGCC'): [17],\n",
       " ('GGCTG', 'CAGAC', 'CAGAC', 'GGAGCC', 'GTCTG'): [71, 52, 19, 4],\n",
       " ('GGCTG', 'GGCTG', 'GTCTG', 'CAGAC', 'GGCTG'): [16, 56, 37, 10]}"
      ]
     },
     "execution_count": 17,
     "metadata": {},
     "output_type": "execute_result"
    }
   ],
   "source": [
    "distance_between_all_motifs_dict"
   ]
  },
  {
   "cell_type": "markdown",
   "id": "fe68fe95-721b-4e14-8316-9daccf528a60",
   "metadata": {},
   "source": [
    "## CAGA motif "
   ]
  },
  {
   "cell_type": "code",
   "execution_count": 18,
   "id": "09d09ecd-26ea-4762-98c6-14096a91ec57",
   "metadata": {},
   "outputs": [],
   "source": [
    "CAGA_motif_match_dict=  get_motif_match_dict(CAGA_seq_dict, CAGA_motifs)"
   ]
  },
  {
   "cell_type": "code",
   "execution_count": 19,
   "id": "0401b878-100b-4234-8ef6-681a1b5586de",
   "metadata": {},
   "outputs": [],
   "source": [
    "distance_between_CAGA_motifs_dict=get_distance_between_motifs_dict(CAGA_motif_match_dict)"
   ]
  },
  {
   "cell_type": "code",
   "execution_count": 20,
   "id": "a155693f-8c7e-4f5c-97ac-f05740c96dcf",
   "metadata": {},
   "outputs": [
    {
     "data": {
      "text/plain": [
       "{('GTCTG', 'GTCTG', 'GTCTG'): [37, 36],\n",
       " ('CAGAC', 'CAGAC'): [36, [71], [24], [84], [70], [49], [84]],\n",
       " ('GTCTG', 'CAGAC', 'CAGAC'): [1, 7],\n",
       " ('CAGAC', 'GTCTG', 'CAGAC'): [23, 4],\n",
       " ('CAGAC', 'GTCTG', 'GTCTG'): [4, 48],\n",
       " ('GTCTG', 'GTCTG'): [8, [80], [2]],\n",
       " ('CAGAC', 'GTCTG'): [85, 85, 37],\n",
       " ('CAGAC', 'CAGAC', 'GTCTG'): [52, 30]}"
      ]
     },
     "execution_count": 20,
     "metadata": {},
     "output_type": "execute_result"
    }
   ],
   "source": [
    "distance_between_CAGA_motifs_dict"
   ]
  },
  {
   "cell_type": "markdown",
   "id": "b065cbaa-5bfe-49c9-9438-89d4556beee8",
   "metadata": {
    "tags": []
   },
   "source": [
    "## GC motif"
   ]
  },
  {
   "cell_type": "markdown",
   "id": "005ba013-1f7b-4dc8-9a4b-e536286a7958",
   "metadata": {},
   "source": [
    "### A. 6 BP MOTIFS\n",
    "    motif 1,2,3 (1 vs 2,3) -- use only hit of GC-motif"
   ]
  },
  {
   "cell_type": "markdown",
   "id": "5379df8b-2919-4bc0-a468-f3a7f6d7a23b",
   "metadata": {},
   "source": [
    "CAGA_motifs = [motif4,motif5]\n",
    "GC_5bp_motifs = [motif6,motif7,motif8,motif9]\n",
    "GC_6bp_motifs_1= [motif1]\n",
    "GC_6bp_motifs_2_3= [motif2, motif3]\n",
    "GC_6bp_motifs=[motif1,motif2, motif3]\n",
    "all_motifs=[motif1,motif2,motif3,motif4,motif5,motif6,motif7,motif8,motif9]"
   ]
  },
  {
   "cell_type": "code",
   "execution_count": 21,
   "id": "4e0d1694-dfbd-4541-b4f6-b76727cbe021",
   "metadata": {},
   "outputs": [],
   "source": [
    "GC_6bp_motifs_1_match_dict = get_motif_match_dict(GCmotif_seq_dict, GC_6bp_motifs_1)"
   ]
  },
  {
   "cell_type": "code",
   "execution_count": 22,
   "id": "eeac7b5d-2ee4-4e9c-8e61-5596ba0eb251",
   "metadata": {},
   "outputs": [],
   "source": [
    "distance_between_GC_6bp_motifs_1_dict = get_distance_between_motifs_dict(GC_6bp_motifs_1_match_dict)\n"
   ]
  },
  {
   "cell_type": "code",
   "execution_count": 23,
   "id": "93a18cdf-0bd5-4954-a2c9-d9489f550d2d",
   "metadata": {},
   "outputs": [],
   "source": [
    "GC_6bp_motifs_2_3_match_dict= get_motif_match_dict(GCmotif_seq_dict, GC_6bp_motifs_2_3)"
   ]
  },
  {
   "cell_type": "code",
   "execution_count": 24,
   "id": "8f98b857-cdc8-40bb-b63b-af8191ba6bb3",
   "metadata": {},
   "outputs": [],
   "source": [
    "distance_between_GC_6bp_motifs_2_3_dict = get_distance_between_motifs_dict(GC_6bp_motifs_2_3_match_dict)\n"
   ]
  },
  {
   "cell_type": "code",
   "execution_count": 25,
   "id": "a734ad96-6465-4ac3-87e8-732350bcb03f",
   "metadata": {},
   "outputs": [],
   "source": [
    "GC_6bp_motifs_match_dict= get_motif_match_dict(GCmotif_seq_dict, GC_6bp_motifs)"
   ]
  },
  {
   "cell_type": "code",
   "execution_count": 26,
   "id": "9301f425-d38c-4c81-bdcc-667d3f5d5749",
   "metadata": {},
   "outputs": [],
   "source": [
    "distance_between_all_GC_6bp_motifs_dict = get_distance_between_motifs_dict(GC_6bp_motifs_match_dict)\n"
   ]
  },
  {
   "cell_type": "code",
   "execution_count": 27,
   "id": "60c46f19-279e-44bc-a21a-3b90b22bbc13",
   "metadata": {},
   "outputs": [
    {
     "data": {
      "text/plain": [
       "{('GGAGCC', 'GGAGCC'): [4, [17]]}"
      ]
     },
     "execution_count": 27,
     "metadata": {},
     "output_type": "execute_result"
    }
   ],
   "source": [
    "distance_between_all_GC_6bp_motifs_dict"
   ]
  },
  {
   "cell_type": "markdown",
   "id": "2842c4dd-edce-435b-8d0e-8ebbc4a2728d",
   "metadata": {},
   "source": [
    "### C. 5 BP MOTIFS \n",
    "    motifs 6-9 -- use only hit of GC-motif"
   ]
  },
  {
   "cell_type": "code",
   "execution_count": 28,
   "id": "9f8799f6-465b-4c10-82fb-c08855aa5c4e",
   "metadata": {},
   "outputs": [],
   "source": [
    "GC_5bp_motifs_match_dict = get_motif_match_dict(GCmotif_seq_dict, GC_5bp_motifs)"
   ]
  },
  {
   "cell_type": "code",
   "execution_count": 29,
   "id": "6dd6d57d-acde-4135-b8c8-a707f3837d1f",
   "metadata": {},
   "outputs": [
    {
     "data": {
      "text/plain": [
       "{'chr22:28714257-28714457': {'GGCTG': [(186, 191)]},\n",
       " 'chr2:96147043-96147243': {'GGCTG': [(40, 45), (77, 82), (133, 138)]},\n",
       " 'chr2:223122795-223122995': {'GGCTG': [(9, 14)]},\n",
       " 'chr10:110145010-110145210': {'GGCTG': [(88, 93)]},\n",
       " 'chr3:63927769-63927969': {'GGCTG': [(181, 186)]},\n",
       " 'chr5:131177260-131177460': {'GGCTG': [(8, 13)]},\n",
       " 'chr10:78656831-78657031': {'GGCGG': [(138, 143)], 'GGCTG': [(77, 82)]},\n",
       " 'chr10:53007109-53007309': {'GGCTG': [(56, 61)]},\n",
       " 'chr18:49524488-49524688': {'GGCTG': [(65, 70), (85, 90), (106, 111)]},\n",
       " 'chr6:9624167-9624367': {'GGCGC': [(47, 52)]},\n",
       " 'chr7:114947809-114948009': {'GGCTG': [(160, 165), (187, 192)]},\n",
       " 'chr1:64217179-64217379': {'GGCGC': [(97, 102)]},\n",
       " 'chr4:125795119-125795319': {'GGCTG': [(37, 42)]},\n",
       " 'chr18:40925354-40925554': {'GGCTG': [(1, 6)]},\n",
       " 'chr3:64352275-64352475': {'GGCTG': [(104, 109)]},\n",
       " 'chr6:134513031-134513231': {'GGCGC': [(115, 120)], 'GGCTG': [(64, 69)]},\n",
       " 'chr7:66789752-66789952': {'GGCTG': [(81, 86)]},\n",
       " 'chr6:104702533-104702733': {'GGCTG': [(41, 46)]},\n",
       " 'chr9:101481324-101481524': {'GGCTG': [(63, 68)]},\n",
       " 'chr5:56282388-56282588': {'GGCTG': [(18, 23), (109, 114)]},\n",
       " 'chr2:138023423-138023623': {'GGCGC': [(119, 124)]},\n",
       " 'chr15:66711591-66711791': {'GGCTG': [(100, 105)]},\n",
       " 'chr3:23189501-23189701': {'GGCTG': [(178, 183)]},\n",
       " 'chr15:36334076-36334276': {'GGCTG': [(16, 21)]},\n",
       " 'chr1:173113399-173113599': {'GGCGG': [(148, 153)]},\n",
       " 'chr8:56175202-56175402': {'GGCTG': [(161, 166)]},\n",
       " 'chr15:66631055-66631255': {'GGCTG': [(26, 31), (48, 53), (169, 174)]}}"
      ]
     },
     "execution_count": 29,
     "metadata": {},
     "output_type": "execute_result"
    }
   ],
   "source": [
    "GC_5bp_motifs_match_dict"
   ]
  },
  {
   "cell_type": "code",
   "execution_count": 30,
   "id": "ca277325-2f27-4072-a196-89766baa2530",
   "metadata": {},
   "outputs": [],
   "source": [
    "distance_between_GC_5bp_motifs_dict = get_distance_between_motifs_dict(GC_5bp_motifs_match_dict)"
   ]
  },
  {
   "cell_type": "code",
   "execution_count": 31,
   "id": "cbb89b8a-9d76-4a5b-91bc-ef6671ba7f99",
   "metadata": {},
   "outputs": [
    {
     "data": {
      "text/plain": [
       "{('GGCTG', 'GGCTG', 'GGCTG'): [31, 50, [14, 15], [16, 115]],\n",
       " ('GGCGG', 'GGCTG'): [55],\n",
       " ('GGCTG', 'GGCTG'): [21, [85]],\n",
       " ('GGCGC', 'GGCTG'): [45]}"
      ]
     },
     "execution_count": 31,
     "metadata": {},
     "output_type": "execute_result"
    }
   ],
   "source": [
    "distance_between_GC_5bp_motifs_dict"
   ]
  },
  {
   "cell_type": "code",
   "execution_count": 32,
   "id": "87407695-1f04-4526-b8fa-2d11c8242c56",
   "metadata": {
    "tags": []
   },
   "outputs": [
    {
     "data": {
      "text/plain": [
       "{'chrX:37457504-37457704': {'GGAGCC': [(117, 123)]},\n",
       " 'chr4:80126887-80127087': {'GGAGCC': [(134, 140)]},\n",
       " 'chr18:45156769-45156969': {'GGAGCC': [(107, 113)]},\n",
       " 'chr2:84991869-84992069': {'GGAGCC': [(194, 200)]},\n",
       " 'chr2:154130979-154131179': {'GGAGCC': [(82, 88)]},\n",
       " 'chr12:92076910-92077110': {'GGAGCC': [(130, 136)]},\n",
       " 'chr11:124302824-124303024': {'GGAGCC': [(115, 121)]},\n",
       " 'chr5:170651454-170651654': {'GGAGCC': [(108, 114)]},\n",
       " 'chr5:32268677-32268877': {'GGAGCC': [(82, 88)]},\n",
       " 'chr18:49524488-49524688': {'GGAGCC': [(120, 126), (131, 137)]},\n",
       " 'chr5:72129750-72129950': {'GGAGCC': [(166, 172)]},\n",
       " 'chr10:60483853-60484053': {'GGAGCC': [(134, 140)]},\n",
       " 'chr4:125795119-125795319': {'GGAGCC': [(84, 90)]},\n",
       " 'chr18:40925354-40925554': {'GGAGCC': [(104, 110)]},\n",
       " 'chr6:134513031-134513231': {'GGAGCC': [(57, 63)]},\n",
       " 'chr1:64518787-64518987': {'GGAGCC': [(81, 87)]},\n",
       " 'chr6:125667622-125667822': {'GGAGCC': [(136, 142)]},\n",
       " 'chr6:104702533-104702733': {'GGAGCC': [(18, 24)]},\n",
       " 'chr5:56282388-56282588': {'GGAGCC': [(26, 32)]},\n",
       " 'chr4:109820668-109820868': {'GGAGCC': [(48, 54), (72, 78)]},\n",
       " 'chr9:5718374-5718574': {'GGAGCC': [(62, 68)]},\n",
       " 'chr14:38994859-38995059': {'GGAGCC': [(9, 15)]},\n",
       " 'chr15:36334076-36334276': {'GGAGCC': [(176, 182)]},\n",
       " 'chr7:86942180-86942380': {'GGAGCC': [(75, 81)]},\n",
       " 'chr19:46951436-46951636': {'GGAGCC': [(56, 62)]}}"
      ]
     },
     "execution_count": 32,
     "metadata": {},
     "output_type": "execute_result"
    }
   ],
   "source": [
    "GC_6bp_motifs_2_3_match_dict"
   ]
  },
  {
   "cell_type": "markdown",
   "id": "a615ba78-fd06-4986-a400-477cab8e9cbc",
   "metadata": {
    "tags": []
   },
   "source": [
    "## PLOT:\n",
    "\n",
    "1. Number of hits per 200 bp ( can we somehow calculate significance)\n",
    "    * A. motif 1,2,3 (1 vs 2,3) -- use only hit of GC-motif\n",
    "    * B. motifs 4,5 -- use only hit of CAGA-motif\n",
    "    * C. motifs 6-9 -- use only hit of GC-motif\n",
    "    \n",
    "2.  create a stacked bar plotwith the categories below\n",
    "    - CAGA_motif_match_dict\n",
    "    - GC_6bp_motifs_1_match_dict\n",
    "    - GC_6bp_motifs_2_3_match_dict\n",
    "    - GC_5bp_motifs_match_dict\n"
   ]
  },
  {
   "cell_type": "code",
   "execution_count": 33,
   "id": "6df9d7dc-e128-46a4-9c5a-3e7b42d08b7c",
   "metadata": {},
   "outputs": [],
   "source": [
    "def from_dict_to_counts(motif_match_dict):\n",
    "    motif_match_df = pd.DataFrame.from_dict(motif_match_dict)\n",
    "    motif_match_df = motif_match_df.fillna(0)\n",
    "    motif_match_df_count = motif_match_df.copy()\n",
    "    for row_idx in range(motif_match_df.shape[0]):\n",
    "        for col_idx in range(motif_match_df.shape[1]):\n",
    "            if isinstance(motif_match_df.iloc[row_idx,col_idx],list):\n",
    "                motif_match_df_count.iloc[row_idx,col_idx] = len(motif_match_df.iloc[row_idx,col_idx])\n",
    "            else:\n",
    "                motif_match_df_count.iloc[row_idx,col_idx] =motif_match_df.iloc[row_idx,col_idx]\n",
    "    return motif_match_df_count\n",
    "        \n",
    "                         "
   ]
  },
  {
   "cell_type": "code",
   "execution_count": 34,
   "id": "0c05e35f-b110-4bc9-851b-bdd9fd646572",
   "metadata": {},
   "outputs": [],
   "source": [
    "def motif_count_to_count_groups(match_count_df, total_num_regions, motif_name):\n",
    "    match_count_df = pd.DataFrame(match_count_df.sum(), columns=[\"motif_count\"])\n",
    "    col_name = match_count_df.columns\n",
    "    count_group_df=pd.DataFrame(columns=['count'],index=[\"0\",\"1\",\"2\",\"2+\"])\n",
    "    zeros= total_num_regions - match_count_df.shape[0]\n",
    "    ones= match_count_df.loc[match_count_df['motif_count'] ==1].shape[0]\n",
    "    twos= match_count_df.loc[match_count_df['motif_count'] ==2].shape[0]\n",
    "    biggerThanTwo= match_count_df.loc[match_count_df['motif_count'] >2].shape[0]\n",
    "    count_group_df.loc['0','count'] = zeros\n",
    "    count_group_df.loc['1','count'] =ones\n",
    "    count_group_df.loc['2','count'] =twos\n",
    "    count_group_df.loc['2+','count'] =biggerThanTwo\n",
    "    count_group_df.columns = [motif_name + \"_count\"]\n",
    "    return count_group_df"
   ]
  },
  {
   "cell_type": "code",
   "execution_count": 35,
   "id": "2fae6c02-827e-4561-a85f-161dd90a4252",
   "metadata": {},
   "outputs": [],
   "source": [
    "CAGA_motif_match_count_df =from_dict_to_counts(CAGA_motif_match_dict)"
   ]
  },
  {
   "cell_type": "code",
   "execution_count": 36,
   "id": "49381045-6f2d-409e-bda5-423f79e89de3",
   "metadata": {},
   "outputs": [
    {
     "data": {
      "text/html": [
       "<div>\n",
       "<style scoped>\n",
       "    .dataframe tbody tr th:only-of-type {\n",
       "        vertical-align: middle;\n",
       "    }\n",
       "\n",
       "    .dataframe tbody tr th {\n",
       "        vertical-align: top;\n",
       "    }\n",
       "\n",
       "    .dataframe thead th {\n",
       "        text-align: right;\n",
       "    }\n",
       "</style>\n",
       "<table border=\"1\" class=\"dataframe\">\n",
       "  <thead>\n",
       "    <tr style=\"text-align: right;\">\n",
       "      <th></th>\n",
       "      <th>CAGA_count</th>\n",
       "    </tr>\n",
       "  </thead>\n",
       "  <tbody>\n",
       "    <tr>\n",
       "      <th>0</th>\n",
       "      <td>344</td>\n",
       "    </tr>\n",
       "    <tr>\n",
       "      <th>1</th>\n",
       "      <td>62</td>\n",
       "    </tr>\n",
       "    <tr>\n",
       "      <th>2</th>\n",
       "      <td>13</td>\n",
       "    </tr>\n",
       "    <tr>\n",
       "      <th>2+</th>\n",
       "      <td>5</td>\n",
       "    </tr>\n",
       "  </tbody>\n",
       "</table>\n",
       "</div>"
      ],
      "text/plain": [
       "   CAGA_count\n",
       "0         344\n",
       "1          62\n",
       "2          13\n",
       "2+          5"
      ]
     },
     "execution_count": 36,
     "metadata": {},
     "output_type": "execute_result"
    }
   ],
   "source": [
    "CAGA_count = motif_count_to_count_groups(CAGA_motif_match_count_df,424, \"CAGA\")\n",
    "CAGA_count"
   ]
  },
  {
   "cell_type": "code",
   "execution_count": 37,
   "id": "40c07a48-56c4-4e2c-b88f-109110c56cdd",
   "metadata": {},
   "outputs": [
    {
     "data": {
      "text/html": [
       "<div>\n",
       "<style scoped>\n",
       "    .dataframe tbody tr th:only-of-type {\n",
       "        vertical-align: middle;\n",
       "    }\n",
       "\n",
       "    .dataframe tbody tr th {\n",
       "        vertical-align: top;\n",
       "    }\n",
       "\n",
       "    .dataframe thead th {\n",
       "        text-align: right;\n",
       "    }\n",
       "</style>\n",
       "<table border=\"1\" class=\"dataframe\">\n",
       "  <thead>\n",
       "    <tr style=\"text-align: right;\">\n",
       "      <th></th>\n",
       "      <th>GC_6bp_motifs_1_count</th>\n",
       "    </tr>\n",
       "  </thead>\n",
       "  <tbody>\n",
       "    <tr>\n",
       "      <th>0</th>\n",
       "      <td>421</td>\n",
       "    </tr>\n",
       "    <tr>\n",
       "      <th>1</th>\n",
       "      <td>3</td>\n",
       "    </tr>\n",
       "    <tr>\n",
       "      <th>2</th>\n",
       "      <td>0</td>\n",
       "    </tr>\n",
       "    <tr>\n",
       "      <th>2+</th>\n",
       "      <td>0</td>\n",
       "    </tr>\n",
       "  </tbody>\n",
       "</table>\n",
       "</div>"
      ],
      "text/plain": [
       "   GC_6bp_motifs_1_count\n",
       "0                    421\n",
       "1                      3\n",
       "2                      0\n",
       "2+                     0"
      ]
     },
     "execution_count": 37,
     "metadata": {},
     "output_type": "execute_result"
    }
   ],
   "source": [
    "GC_6bp_motifs_1_match_count_df =from_dict_to_counts(GC_6bp_motifs_1_match_dict)\n",
    "GC_6bp_motifs_1_count = motif_count_to_count_groups(GC_6bp_motifs_1_match_count_df,424, \"GC_6bp_motifs_1\")\n",
    "GC_6bp_motifs_1_count\n"
   ]
  },
  {
   "cell_type": "code",
   "execution_count": 38,
   "id": "a99757fe-a0e4-4404-abcb-66205dfd5f8a",
   "metadata": {},
   "outputs": [
    {
     "data": {
      "text/html": [
       "<div>\n",
       "<style scoped>\n",
       "    .dataframe tbody tr th:only-of-type {\n",
       "        vertical-align: middle;\n",
       "    }\n",
       "\n",
       "    .dataframe tbody tr th {\n",
       "        vertical-align: top;\n",
       "    }\n",
       "\n",
       "    .dataframe thead th {\n",
       "        text-align: right;\n",
       "    }\n",
       "</style>\n",
       "<table border=\"1\" class=\"dataframe\">\n",
       "  <thead>\n",
       "    <tr style=\"text-align: right;\">\n",
       "      <th></th>\n",
       "      <th>GC_6bp_motifs_2_3_count</th>\n",
       "    </tr>\n",
       "  </thead>\n",
       "  <tbody>\n",
       "    <tr>\n",
       "      <th>0</th>\n",
       "      <td>399</td>\n",
       "    </tr>\n",
       "    <tr>\n",
       "      <th>1</th>\n",
       "      <td>23</td>\n",
       "    </tr>\n",
       "    <tr>\n",
       "      <th>2</th>\n",
       "      <td>2</td>\n",
       "    </tr>\n",
       "    <tr>\n",
       "      <th>2+</th>\n",
       "      <td>0</td>\n",
       "    </tr>\n",
       "  </tbody>\n",
       "</table>\n",
       "</div>"
      ],
      "text/plain": [
       "   GC_6bp_motifs_2_3_count\n",
       "0                      399\n",
       "1                       23\n",
       "2                        2\n",
       "2+                       0"
      ]
     },
     "execution_count": 38,
     "metadata": {},
     "output_type": "execute_result"
    }
   ],
   "source": [
    "GC_6bp_motifs_2_3_match_count_df =from_dict_to_counts(GC_6bp_motifs_2_3_match_dict)\n",
    "GC_6bp_motifs_2_3_count = motif_count_to_count_groups(GC_6bp_motifs_2_3_match_count_df,424, \"GC_6bp_motifs_2_3\")\n",
    "GC_6bp_motifs_2_3_count"
   ]
  },
  {
   "cell_type": "code",
   "execution_count": 39,
   "id": "4d6588c1-c8a1-4f0b-b9b7-0f29981bc25f",
   "metadata": {},
   "outputs": [
    {
     "data": {
      "text/html": [
       "<div>\n",
       "<style scoped>\n",
       "    .dataframe tbody tr th:only-of-type {\n",
       "        vertical-align: middle;\n",
       "    }\n",
       "\n",
       "    .dataframe tbody tr th {\n",
       "        vertical-align: top;\n",
       "    }\n",
       "\n",
       "    .dataframe thead th {\n",
       "        text-align: right;\n",
       "    }\n",
       "</style>\n",
       "<table border=\"1\" class=\"dataframe\">\n",
       "  <thead>\n",
       "    <tr style=\"text-align: right;\">\n",
       "      <th></th>\n",
       "      <th>GC_6bp_count</th>\n",
       "    </tr>\n",
       "  </thead>\n",
       "  <tbody>\n",
       "    <tr>\n",
       "      <th>0</th>\n",
       "      <td>396</td>\n",
       "    </tr>\n",
       "    <tr>\n",
       "      <th>1</th>\n",
       "      <td>26</td>\n",
       "    </tr>\n",
       "    <tr>\n",
       "      <th>2</th>\n",
       "      <td>2</td>\n",
       "    </tr>\n",
       "    <tr>\n",
       "      <th>2+</th>\n",
       "      <td>0</td>\n",
       "    </tr>\n",
       "  </tbody>\n",
       "</table>\n",
       "</div>"
      ],
      "text/plain": [
       "   GC_6bp_count\n",
       "0           396\n",
       "1            26\n",
       "2             2\n",
       "2+            0"
      ]
     },
     "execution_count": 39,
     "metadata": {},
     "output_type": "execute_result"
    }
   ],
   "source": [
    "GC_6bp_motifs_match_count_df =from_dict_to_counts(GC_6bp_motifs_match_dict)\n",
    "GC_6bp_count = motif_count_to_count_groups(GC_6bp_motifs_match_count_df,424, \"GC_6bp\")\n",
    "GC_6bp_count"
   ]
  },
  {
   "cell_type": "code",
   "execution_count": 40,
   "id": "60b2875e-7632-4e29-ba23-bd517ecea9bf",
   "metadata": {},
   "outputs": [
    {
     "data": {
      "text/html": [
       "<div>\n",
       "<style scoped>\n",
       "    .dataframe tbody tr th:only-of-type {\n",
       "        vertical-align: middle;\n",
       "    }\n",
       "\n",
       "    .dataframe tbody tr th {\n",
       "        vertical-align: top;\n",
       "    }\n",
       "\n",
       "    .dataframe thead th {\n",
       "        text-align: right;\n",
       "    }\n",
       "</style>\n",
       "<table border=\"1\" class=\"dataframe\">\n",
       "  <thead>\n",
       "    <tr style=\"text-align: right;\">\n",
       "      <th></th>\n",
       "      <th>GC_5bp_count</th>\n",
       "    </tr>\n",
       "  </thead>\n",
       "  <tbody>\n",
       "    <tr>\n",
       "      <th>0</th>\n",
       "      <td>397</td>\n",
       "    </tr>\n",
       "    <tr>\n",
       "      <th>1</th>\n",
       "      <td>20</td>\n",
       "    </tr>\n",
       "    <tr>\n",
       "      <th>2</th>\n",
       "      <td>4</td>\n",
       "    </tr>\n",
       "    <tr>\n",
       "      <th>2+</th>\n",
       "      <td>3</td>\n",
       "    </tr>\n",
       "  </tbody>\n",
       "</table>\n",
       "</div>"
      ],
      "text/plain": [
       "   GC_5bp_count\n",
       "0           397\n",
       "1            20\n",
       "2             4\n",
       "2+            3"
      ]
     },
     "execution_count": 40,
     "metadata": {},
     "output_type": "execute_result"
    }
   ],
   "source": [
    "\n",
    "GC_5bp_motifs_match_count_df =from_dict_to_counts(GC_5bp_motifs_match_dict)\n",
    "GC_5bp_count = motif_count_to_count_groups(GC_5bp_motifs_match_count_df,424, \"GC_5bp\")\n",
    "GC_5bp_count"
   ]
  },
  {
   "cell_type": "code",
   "execution_count": 41,
   "id": "63fff592-fe4f-4a59-85c5-8e941c467ba2",
   "metadata": {},
   "outputs": [
    {
     "data": {
      "text/html": [
       "<div>\n",
       "<style scoped>\n",
       "    .dataframe tbody tr th:only-of-type {\n",
       "        vertical-align: middle;\n",
       "    }\n",
       "\n",
       "    .dataframe tbody tr th {\n",
       "        vertical-align: top;\n",
       "    }\n",
       "\n",
       "    .dataframe thead th {\n",
       "        text-align: right;\n",
       "    }\n",
       "</style>\n",
       "<table border=\"1\" class=\"dataframe\">\n",
       "  <thead>\n",
       "    <tr style=\"text-align: right;\">\n",
       "      <th></th>\n",
       "      <th>CAGA_count</th>\n",
       "      <th>GC_6bp_motifs_1_count</th>\n",
       "      <th>GC_6bp_motifs_2_3_count</th>\n",
       "      <th>GC_6bp_count</th>\n",
       "      <th>GC_5bp_count</th>\n",
       "    </tr>\n",
       "  </thead>\n",
       "  <tbody>\n",
       "    <tr>\n",
       "      <th>0</th>\n",
       "      <td>344</td>\n",
       "      <td>421</td>\n",
       "      <td>399</td>\n",
       "      <td>396</td>\n",
       "      <td>397</td>\n",
       "    </tr>\n",
       "    <tr>\n",
       "      <th>1</th>\n",
       "      <td>62</td>\n",
       "      <td>3</td>\n",
       "      <td>23</td>\n",
       "      <td>26</td>\n",
       "      <td>20</td>\n",
       "    </tr>\n",
       "    <tr>\n",
       "      <th>2</th>\n",
       "      <td>13</td>\n",
       "      <td>0</td>\n",
       "      <td>2</td>\n",
       "      <td>2</td>\n",
       "      <td>4</td>\n",
       "    </tr>\n",
       "    <tr>\n",
       "      <th>2+</th>\n",
       "      <td>5</td>\n",
       "      <td>0</td>\n",
       "      <td>0</td>\n",
       "      <td>0</td>\n",
       "      <td>3</td>\n",
       "    </tr>\n",
       "  </tbody>\n",
       "</table>\n",
       "</div>"
      ],
      "text/plain": [
       "   CAGA_count GC_6bp_motifs_1_count GC_6bp_motifs_2_3_count GC_6bp_count  \\\n",
       "0         344                   421                     399          396   \n",
       "1          62                     3                      23           26   \n",
       "2          13                     0                       2            2   \n",
       "2+          5                     0                       0            0   \n",
       "\n",
       "   GC_5bp_count  \n",
       "0           397  \n",
       "1            20  \n",
       "2             4  \n",
       "2+            3  "
      ]
     },
     "execution_count": 41,
     "metadata": {},
     "output_type": "execute_result"
    }
   ],
   "source": [
    "motif_occurance_counts = pd.concat([CAGA_count, GC_6bp_motifs_1_count,GC_6bp_motifs_2_3_count,GC_6bp_count,GC_5bp_count], axis=1)\n",
    "motif_occurance_counts"
   ]
  },
  {
   "cell_type": "code",
   "execution_count": 42,
   "id": "1372c45d-e4f7-4beb-9903-90985d4cc8f2",
   "metadata": {},
   "outputs": [],
   "source": [
    "motif_occurance_counts.to_csv(\"/project/Mechanogenomics_data/ATACseq_analysis/MotifEnrichment/distancesBtwMotifs/200bp/outs/motif_occurance_counts.csv\")"
   ]
  },
  {
   "cell_type": "code",
   "execution_count": 43,
   "id": "4cb5440d-be83-4371-ab4c-a371d8f7c185",
   "metadata": {},
   "outputs": [
    {
     "data": {
      "text/plain": [
       "424"
      ]
     },
     "execution_count": 43,
     "metadata": {},
     "output_type": "execute_result"
    }
   ],
   "source": [
    "motif_occurance_counts['CAGA_count'].sum()"
   ]
  },
  {
   "cell_type": "code",
   "execution_count": 45,
   "id": "c99401ba-4dc9-4004-981d-a24faf73ac12",
   "metadata": {},
   "outputs": [
    {
     "data": {
      "text/html": [
       "<div>\n",
       "<style scoped>\n",
       "    .dataframe tbody tr th:only-of-type {\n",
       "        vertical-align: middle;\n",
       "    }\n",
       "\n",
       "    .dataframe tbody tr th {\n",
       "        vertical-align: top;\n",
       "    }\n",
       "\n",
       "    .dataframe thead th {\n",
       "        text-align: right;\n",
       "    }\n",
       "</style>\n",
       "<table border=\"1\" class=\"dataframe\">\n",
       "  <thead>\n",
       "    <tr style=\"text-align: right;\">\n",
       "      <th></th>\n",
       "      <th>CAGA_count</th>\n",
       "      <th>GC_6bp_motifs_1_count</th>\n",
       "      <th>GC_6bp_motifs_2_3_count</th>\n",
       "      <th>GC_6bp_count</th>\n",
       "      <th>GC_5bp_count</th>\n",
       "    </tr>\n",
       "  </thead>\n",
       "  <tbody>\n",
       "    <tr>\n",
       "      <th>0</th>\n",
       "      <td>81.132075</td>\n",
       "      <td>99.292453</td>\n",
       "      <td>94.103774</td>\n",
       "      <td>93.396226</td>\n",
       "      <td>93.632075</td>\n",
       "    </tr>\n",
       "    <tr>\n",
       "      <th>1</th>\n",
       "      <td>14.622642</td>\n",
       "      <td>0.707547</td>\n",
       "      <td>5.424528</td>\n",
       "      <td>6.132075</td>\n",
       "      <td>4.716981</td>\n",
       "    </tr>\n",
       "    <tr>\n",
       "      <th>2</th>\n",
       "      <td>3.066038</td>\n",
       "      <td>0.000000</td>\n",
       "      <td>0.471698</td>\n",
       "      <td>0.471698</td>\n",
       "      <td>0.943396</td>\n",
       "    </tr>\n",
       "    <tr>\n",
       "      <th>2+</th>\n",
       "      <td>1.179245</td>\n",
       "      <td>0.000000</td>\n",
       "      <td>0.000000</td>\n",
       "      <td>0.000000</td>\n",
       "      <td>0.707547</td>\n",
       "    </tr>\n",
       "  </tbody>\n",
       "</table>\n",
       "</div>"
      ],
      "text/plain": [
       "    CAGA_count  GC_6bp_motifs_1_count  GC_6bp_motifs_2_3_count  GC_6bp_count  \\\n",
       "0    81.132075              99.292453                94.103774     93.396226   \n",
       "1    14.622642               0.707547                 5.424528      6.132075   \n",
       "2     3.066038               0.000000                 0.471698      0.471698   \n",
       "2+    1.179245               0.000000                 0.000000      0.000000   \n",
       "\n",
       "    GC_5bp_count  \n",
       "0      93.632075  \n",
       "1       4.716981  \n",
       "2       0.943396  \n",
       "2+      0.707547  "
      ]
     },
     "execution_count": 45,
     "metadata": {},
     "output_type": "execute_result"
    }
   ],
   "source": [
    "motif_occurance_perc_df = pd.DataFrame([100 *  motif_occurance_counts[i]/motif_occurance_counts[i].sum() for i in motif_occurance_counts.columns]).T\n",
    "motif_occurance_perc_df"
   ]
  },
  {
   "cell_type": "code",
   "execution_count": 46,
   "id": "06f2536c-cde2-4dd2-bdb6-25687d64a979",
   "metadata": {},
   "outputs": [],
   "source": [
    "motif_occurance_perc_df.to_csv(\"/project/Mechanogenomics_data/ATACseq_analysis/MotifEnrichment/distancesBtwMotifs/200bp/outs/motif_occurance_perc_df.csv\")"
   ]
  },
  {
   "cell_type": "code",
   "execution_count": null,
   "id": "bceee36b-bcc0-4836-8c5e-79c934071080",
   "metadata": {},
   "outputs": [],
   "source": [
    "min_val, max_val = 0.2,1.0\n",
    "\n",
    "n = 4\n",
    "orig_cmap = plt.cm.Blues\n",
    "colors = orig_cmap(np.linspace(min_val, max_val, n))\n",
    "blue_cmap = matplotlib.colors.LinearSegmentedColormap.from_list(\"mycmap\", colors)"
   ]
  },
  {
   "cell_type": "code",
   "execution_count": 50,
   "id": "5b1a6a85-0795-42f7-8ccd-97881376465e",
   "metadata": {},
   "outputs": [
    {
     "data": {
      "image/png": "[encoded data removed]",
      "text/plain": [
       "<Figure size 720x432 with 1 Axes>"
      ]
     },
     "metadata": {
      "needs_background": "light"
     },
     "output_type": "display_data"
    }
   ],
   "source": [
    "ax = df.plot(kind='barh', stacked=True, figsize=(10, 6),colormap=blue_cmap)\n",
    "fmt = '%.0f%%' # Format you want the ticks, e.g. '40%'\n",
    "xticks = mtick.FormatStrFormatter(fmt)\n",
    "ax.xaxis.set_major_formatter(xticks)\n",
    "ax.set_xlabel('percentage',)\n",
    "ax.set_xlabel('percentage')\n",
    "#ax.invert_yaxis() \n",
    "plt.legend(title='occurances', bbox_to_anchor=(1.0, 1), loc='upper left')\n",
    "# plt.savefig('stacked.png')  # if needed\n",
    "plt.show()"
   ]
  },
  {
   "cell_type": "markdown",
   "id": "0535f4c2-9b37-4bed-b6a5-b379c1a0076d",
   "metadata": {
    "tags": []
   },
   "source": [
    "### without 0 "
   ]
  },
  {
   "cell_type": "code",
   "execution_count": 56,
   "id": "9f1d5e64-ca16-42f1-ba62-4187f2d68014",
   "metadata": {},
   "outputs": [
    {
     "data": {
      "text/plain": [
       "<Figure size 1440x1440 with 0 Axes>"
      ]
     },
     "metadata": {},
     "output_type": "display_data"
    },
    {
     "data": {
      "image/png": "[encoded data removed]",
      "text/plain": [
       "<Figure size 1080x576 with 1 Axes>"
      ]
     },
     "metadata": {
      "needs_background": "light"
     },
     "output_type": "display_data"
    }
   ],
   "source": [
    "plt.figure(figsize=(20,20))\n",
    "X_AXIS = list(motif_occurance_counts.columns)\n",
    "min_val, max_val = 0.35,1.0\n",
    "data = { \n",
    "        '1' : tuple(motif_occurance_counts.iloc[1,:]),\n",
    "        '2' : tuple(motif_occurance_counts.iloc[2,:]),\n",
    "        '2+' : tuple(motif_occurance_counts.iloc[3,:])\n",
    "}\n",
    "df = pd.DataFrame(data, index=index)\n",
    "n = 4\n",
    "orig_cmap = plt.cm.Blues\n",
    "colors = orig_cmap(np.linspace(min_val, max_val, n))\n",
    "blue_cmap_dark = matplotlib.colors.LinearSegmentedColormap.from_list(\"mycmap\", colors)\n",
    "\n",
    "ax = df.plot(kind='barh', stacked=True, figsize=(15,8),colormap=blue_cmap_dark)\n",
    "# fmt = '%.0f%%' # Format you want the ticks, e.g. '40%'\n",
    "# xticks = mtick.FormatStrFormatter(fmt)\n",
    "# ax.xaxis.set_major_formatter(xticks)\n",
    "ax.set_xlabel('counts',)\n",
    "#ax.invert_yaxis() \n",
    "plt.legend(title='occurances', bbox_to_anchor=(1.0, 1), loc='upper left')\n",
    "# plt.savefig('stacked.png')  # if needed\n",
    "plt.savefig(\"/project/Mechanogenomics_data/ATACseq_analysis/MotifEnrichment/distancesBtwMotifs/200bp/figures/motif_occurance_00.png\",\n",
    "          format='png',dpi=750,bbox_inches='tight')\n",
    "plt.show()"
   ]
  },
  {
   "cell_type": "code",
   "execution_count": 59,
   "id": "60f998d0-3bd4-4b4d-bf38-08ec25b94e00",
   "metadata": {},
   "outputs": [
    {
     "data": {
      "text/html": [
       "<div>\n",
       "<style scoped>\n",
       "    .dataframe tbody tr th:only-of-type {\n",
       "        vertical-align: middle;\n",
       "    }\n",
       "\n",
       "    .dataframe tbody tr th {\n",
       "        vertical-align: top;\n",
       "    }\n",
       "\n",
       "    .dataframe thead th {\n",
       "        text-align: right;\n",
       "    }\n",
       "</style>\n",
       "<table border=\"1\" class=\"dataframe\">\n",
       "  <thead>\n",
       "    <tr style=\"text-align: right;\">\n",
       "      <th></th>\n",
       "      <th>CAGA_count</th>\n",
       "      <th>GC_6bp_motifs_1_count</th>\n",
       "      <th>GC_6bp_motifs_2_3_count</th>\n",
       "      <th>GC_6bp_count</th>\n",
       "      <th>GC_5bp_count</th>\n",
       "    </tr>\n",
       "  </thead>\n",
       "  <tbody>\n",
       "    <tr>\n",
       "      <th>0</th>\n",
       "      <td>344</td>\n",
       "      <td>421</td>\n",
       "      <td>399</td>\n",
       "      <td>396</td>\n",
       "      <td>397</td>\n",
       "    </tr>\n",
       "    <tr>\n",
       "      <th>1</th>\n",
       "      <td>62</td>\n",
       "      <td>3</td>\n",
       "      <td>23</td>\n",
       "      <td>26</td>\n",
       "      <td>20</td>\n",
       "    </tr>\n",
       "    <tr>\n",
       "      <th>2</th>\n",
       "      <td>13</td>\n",
       "      <td>0</td>\n",
       "      <td>2</td>\n",
       "      <td>2</td>\n",
       "      <td>4</td>\n",
       "    </tr>\n",
       "    <tr>\n",
       "      <th>2+</th>\n",
       "      <td>5</td>\n",
       "      <td>0</td>\n",
       "      <td>0</td>\n",
       "      <td>0</td>\n",
       "      <td>3</td>\n",
       "    </tr>\n",
       "  </tbody>\n",
       "</table>\n",
       "</div>"
      ],
      "text/plain": [
       "   CAGA_count GC_6bp_motifs_1_count GC_6bp_motifs_2_3_count GC_6bp_count  \\\n",
       "0         344                   421                     399          396   \n",
       "1          62                     3                      23           26   \n",
       "2          13                     0                       2            2   \n",
       "2+          5                     0                       0            0   \n",
       "\n",
       "   GC_5bp_count  \n",
       "0           397  \n",
       "1            20  \n",
       "2             4  \n",
       "2+            3  "
      ]
     },
     "execution_count": 59,
     "metadata": {},
     "output_type": "execute_result"
    }
   ],
   "source": [
    "motif_occurance_counts"
   ]
  },
  {
   "cell_type": "code",
   "execution_count": 60,
   "id": "e4055a0e-729e-423e-9c19-94d90ebddbc1",
   "metadata": {},
   "outputs": [
    {
     "data": {
      "text/html": [
       "<div>\n",
       "<style scoped>\n",
       "    .dataframe tbody tr th:only-of-type {\n",
       "        vertical-align: middle;\n",
       "    }\n",
       "\n",
       "    .dataframe tbody tr th {\n",
       "        vertical-align: top;\n",
       "    }\n",
       "\n",
       "    .dataframe thead th {\n",
       "        text-align: right;\n",
       "    }\n",
       "</style>\n",
       "<table border=\"1\" class=\"dataframe\">\n",
       "  <thead>\n",
       "    <tr style=\"text-align: right;\">\n",
       "      <th></th>\n",
       "      <th>CAGA_count</th>\n",
       "      <th>GC_6bp_motifs_1_count</th>\n",
       "      <th>GC_6bp_motifs_2_3_count</th>\n",
       "      <th>GC_6bp_count</th>\n",
       "      <th>GC_5bp_count</th>\n",
       "    </tr>\n",
       "  </thead>\n",
       "  <tbody>\n",
       "    <tr>\n",
       "      <th>0</th>\n",
       "      <td>81.132075</td>\n",
       "      <td>99.292453</td>\n",
       "      <td>94.103774</td>\n",
       "      <td>93.396226</td>\n",
       "      <td>93.632075</td>\n",
       "    </tr>\n",
       "    <tr>\n",
       "      <th>1</th>\n",
       "      <td>14.622642</td>\n",
       "      <td>0.707547</td>\n",
       "      <td>5.424528</td>\n",
       "      <td>6.132075</td>\n",
       "      <td>4.716981</td>\n",
       "    </tr>\n",
       "    <tr>\n",
       "      <th>2</th>\n",
       "      <td>3.066038</td>\n",
       "      <td>0.000000</td>\n",
       "      <td>0.471698</td>\n",
       "      <td>0.471698</td>\n",
       "      <td>0.943396</td>\n",
       "    </tr>\n",
       "    <tr>\n",
       "      <th>2+</th>\n",
       "      <td>1.179245</td>\n",
       "      <td>0.000000</td>\n",
       "      <td>0.000000</td>\n",
       "      <td>0.000000</td>\n",
       "      <td>0.707547</td>\n",
       "    </tr>\n",
       "  </tbody>\n",
       "</table>\n",
       "</div>"
      ],
      "text/plain": [
       "    CAGA_count  GC_6bp_motifs_1_count  GC_6bp_motifs_2_3_count  GC_6bp_count  \\\n",
       "0    81.132075              99.292453                94.103774     93.396226   \n",
       "1    14.622642               0.707547                 5.424528      6.132075   \n",
       "2     3.066038               0.000000                 0.471698      0.471698   \n",
       "2+    1.179245               0.000000                 0.000000      0.000000   \n",
       "\n",
       "    GC_5bp_count  \n",
       "0      93.632075  \n",
       "1       4.716981  \n",
       "2       0.943396  \n",
       "2+      0.707547  "
      ]
     },
     "execution_count": 60,
     "metadata": {},
     "output_type": "execute_result"
    }
   ],
   "source": [
    "motif_occurance_perc_df"
   ]
  },
  {
   "cell_type": "code",
   "execution_count": 61,
   "id": "8866abac-a55d-4a32-88b4-3ef791cd9728",
   "metadata": {},
   "outputs": [
    {
     "data": {
      "text/plain": [
       "<Figure size 1440x1440 with 0 Axes>"
      ]
     },
     "metadata": {},
     "output_type": "display_data"
    },
    {
     "data": {
      "image/png": "[encoded data removed]",
      "text/plain": [
       "<Figure size 864x504 with 1 Axes>"
      ]
     },
     "metadata": {},
     "output_type": "display_data"
    }
   ],
   "source": [
    "plt.figure(figsize=(20,20))\n",
    "X_AXIS = list(motif_occurance_perc_df.columns)\n",
    "\n",
    "data = { \n",
    "        '1' : tuple(motif_occurance_perc_df.iloc[1,:]),\n",
    "        '2' : tuple(motif_occurance_perc_df.iloc[2,:]),\n",
    "        '2+' : tuple(motif_occurance_perc_df.iloc[3,:])\n",
    "}\n",
    "df = pd.DataFrame(data, index=index)\n",
    "n = 4\n",
    "orig_cmap = plt.cm.Blues\n",
    "colors = orig_cmap(np.linspace(min_val, max_val, n))\n",
    "blue_cmap_dark = matplotlib.colors.LinearSegmentedColormap.from_list(\"mycmap\", colors)\n",
    "\n",
    "ax = df.plot(kind='barh', stacked=True, figsize=(12, 7),colormap=blue_cmap_dark)\n",
    "fmt = '%.0f%%' # Format you want the ticks, e.g. '40%'\n",
    "xticks = mtick.FormatStrFormatter(fmt)\n",
    "ax.xaxis.set_major_formatter(xticks)\n",
    "ax.set_xlabel('percentage',)\n",
    "#ax.invert_yaxis() \n",
    "plt.legend(title='occurances', bbox_to_anchor=(1.0, 1), loc='upper left')\n",
    "# plt.savefig('stacked.png')  # if needed\n",
    "plt.savefig(\"/project/Mechanogenomics_data/ATACseq_analysis/MotifEnrichment/distancesBtwMotifs/200bp/figures/motif_occurance_perc_001.png\",\n",
    "         format='png',dpi=750,bbox_inches='tight')\n",
    "plt.show()"
   ]
  },
  {
   "cell_type": "code",
   "execution_count": 62,
   "id": "68f2c134-346a-4c84-8042-7561178d4443",
   "metadata": {},
   "outputs": [
    {
     "data": {
      "text/plain": [
       "<Figure size 1440x1440 with 0 Axes>"
      ]
     },
     "metadata": {},
     "output_type": "display_data"
    },
    {
     "data": {
      "image/png": "[encoded data removed]",
      "text/plain": [
       "<Figure size 1080x576 with 1 Axes>"
      ]
     },
     "metadata": {},
     "output_type": "display_data"
    }
   ],
   "source": [
    "plt.figure(figsize=(20,20))\n",
    "X_AXIS = list(motif_occurance_perc_df.columns)\n",
    "\n",
    "data = { \n",
    "        '1' : tuple(motif_occurance_perc_df.iloc[1,:]),\n",
    "        '2' : tuple(motif_occurance_perc_df.iloc[2,:]),\n",
    "        '2+' : tuple(motif_occurance_perc_df.iloc[3,:])\n",
    "}\n",
    "df = pd.DataFrame(data, index=index)\n",
    "n = 4\n",
    "orig_cmap = plt.cm.Blues\n",
    "colors = orig_cmap(np.linspace(min_val, max_val, n))\n",
    "blue_cmap_dark = matplotlib.colors.LinearSegmentedColormap.from_list(\"mycmap\", colors)\n",
    "\n",
    "ax = df.plot(kind='barh', stacked=True, figsize=(15, 8),colormap=blue_cmap_dark)\n",
    "fmt = '%.0f%%' # Format you want the ticks, e.g. '40%'\n",
    "xticks = mtick.FormatStrFormatter(fmt)\n",
    "ax.xaxis.set_major_formatter(xticks)\n",
    "ax.set_xlabel('percentage',)\n",
    "#ax.invert_yaxis() \n",
    "plt.legend(title='occurances', bbox_to_anchor=(1.0, 1), loc='upper left')\n",
    "# plt.savefig('stacked.png')  # if needed\n",
    "plt.savefig(\"/project/Mechanogenomics_data/ATACseq_analysis/MotifEnrichment/distancesBtwMotifs/200bp/figures/motif_occurance_perc.png\",\n",
    "         format='png',dpi=750,bbox_inches='tight')\n",
    "plt.show()"
   ]
  },
  {
   "cell_type": "markdown",
   "id": "8e5267de-7e21-4fd3-bb0e-5f82747a36e7",
   "metadata": {},
   "source": [
    "## THIS PART IS NOT INCLUDED IN THE MANUSCROPT BUT MIGHT BE INTERESTING FOR THE PEOPLE:\n",
    "\n",
    "## ___________________________________________________________________________________________________________________________________________\n",
    "## ___________________________________________________________________________________________________________________________________________\n",
    "## ___________________________________________________________________________________________________________________________________________\n",
    "\n",
    "\n",
    "___________________________________________________________________________________________________________________________________________"
   ]
  },
  {
   "cell_type": "markdown",
   "id": "4648ea63-0740-44fc-9262-102da59d7f1a",
   "metadata": {},
   "source": [
    "## 2. mean distance between:\n",
    "1. Number of hits per 200 bp ( can we somehow calculate significance)\n",
    "    * A. motif 1,2,3 (1 vs 2,3) -- use only hit of GC-motif\n",
    "    * B. motifs 4,5 -- use only hit of CAGA-motif\n",
    "    * C. motifs 6-9 -- use only hit of GC-motif\n",
    "\n",
    "####     * A-A (1 vs 2,3) -- use only hit of GC-motif\n",
    "####     * A-B -- intersection of GC-motif and CAGA-motif\n",
    "####     * B-C -- intersection of GC-motif and CAGA-motif\n",
    "####     * C-C -- use only hit of GC-motif\n",
    "     "
   ]
  },
  {
   "cell_type": "markdown",
   "id": "186fe593-967b-4554-bf2c-0b6d1baa6d36",
   "metadata": {},
   "source": [
    "###     * A-A (1 vs 2,3) -- use only hit of GC-motif"
   ]
  },
  {
   "cell_type": "code",
   "execution_count": 85,
   "id": "1ddc74f1-8c5a-4aa1-a4a0-9af65c205dd5",
   "metadata": {},
   "outputs": [
    {
     "data": {
      "text/plain": [
       "{'chr6:9624167-9624367': {'GGCGCC': [(47, 53)]},\n",
       " 'chr1:64217179-64217379': {'GGCGCC': [(97, 103)]},\n",
       " 'chr2:138023423-138023623': {'GGCGCC': [(119, 125)]}}"
      ]
     },
     "execution_count": 85,
     "metadata": {},
     "output_type": "execute_result"
    }
   ],
   "source": [
    "GC_6bp_motifs_1_match_dict"
   ]
  },
  {
   "cell_type": "code",
   "execution_count": 86,
   "id": "974dfedb-d075-489d-a55c-3e6130fee2a3",
   "metadata": {},
   "outputs": [
    {
     "data": {
      "text/plain": [
       "{'chrX:37457504-37457704': {'GGAGCC': [(117, 123)]},\n",
       " 'chr4:80126887-80127087': {'GGAGCC': [(134, 140)]},\n",
       " 'chr18:45156769-45156969': {'GGAGCC': [(107, 113)]},\n",
       " 'chr2:84991869-84992069': {'GGAGCC': [(194, 200)]},\n",
       " 'chr2:154130979-154131179': {'GGAGCC': [(82, 88)]},\n",
       " 'chr12:92076910-92077110': {'GGAGCC': [(130, 136)]},\n",
       " 'chr11:124302824-124303024': {'GGAGCC': [(115, 121)]},\n",
       " 'chr5:170651454-170651654': {'GGAGCC': [(108, 114)]},\n",
       " 'chr5:32268677-32268877': {'GGAGCC': [(82, 88)]},\n",
       " 'chr18:49524488-49524688': {'GGAGCC': [(120, 126), (131, 137)]},\n",
       " 'chr5:72129750-72129950': {'GGAGCC': [(166, 172)]},\n",
       " 'chr10:60483853-60484053': {'GGAGCC': [(134, 140)]},\n",
       " 'chr4:125795119-125795319': {'GGAGCC': [(84, 90)]},\n",
       " 'chr18:40925354-40925554': {'GGAGCC': [(104, 110)]},\n",
       " 'chr6:134513031-134513231': {'GGAGCC': [(57, 63)]},\n",
       " 'chr1:64518787-64518987': {'GGAGCC': [(81, 87)]},\n",
       " 'chr6:125667622-125667822': {'GGAGCC': [(136, 142)]},\n",
       " 'chr6:104702533-104702733': {'GGAGCC': [(18, 24)]},\n",
       " 'chr5:56282388-56282588': {'GGAGCC': [(26, 32)]},\n",
       " 'chr4:109820668-109820868': {'GGAGCC': [(48, 54), (72, 78)]},\n",
       " 'chr9:5718374-5718574': {'GGAGCC': [(62, 68)]},\n",
       " 'chr14:38994859-38995059': {'GGAGCC': [(9, 15)]},\n",
       " 'chr15:36334076-36334276': {'GGAGCC': [(176, 182)]},\n",
       " 'chr7:86942180-86942380': {'GGAGCC': [(75, 81)]},\n",
       " 'chr19:46951436-46951636': {'GGAGCC': [(56, 62)]}}"
      ]
     },
     "execution_count": 86,
     "metadata": {},
     "output_type": "execute_result"
    }
   ],
   "source": [
    "GC_6bp_motifs_2_3_match_dict\n"
   ]
  },
  {
   "cell_type": "markdown",
   "id": "772c41d0-c52b-4462-8690-3895fe6fa1e6",
   "metadata": {
    "tags": []
   },
   "source": [
    "##### GC_6bp_motifs_1_match_dict --> only has single hits"
   ]
  },
  {
   "cell_type": "code",
   "execution_count": 87,
   "id": "90fe76b1-e875-46a5-b7d4-c658b11af318",
   "metadata": {},
   "outputs": [
    {
     "data": {
      "text/plain": [
       "{('GGAGCC', 'GGAGCC'): [4, [17]]}"
      ]
     },
     "execution_count": 87,
     "metadata": {},
     "output_type": "execute_result"
    }
   ],
   "source": [
    "distance_between_all_GC_6bp_motifs_dict"
   ]
  },
  {
   "cell_type": "code",
   "execution_count": 65,
   "id": "01be9c51-bf8a-4cfd-a518-40f8e2ccd235",
   "metadata": {},
   "outputs": [
    {
     "data": {
      "text/plain": [
       "[4, 17]"
      ]
     },
     "execution_count": 65,
     "metadata": {},
     "output_type": "execute_result"
    }
   ],
   "source": [
    "distance_between_all_GC_6bp_motifs_list = list(flatten(list(distance_between_all_GC_6bp_motifs_dict.values())))\n",
    "distance_between_all_GC_6bp_motifs_list"
   ]
  },
  {
   "cell_type": "code",
   "execution_count": 68,
   "id": "40160cbf-c3f0-4048-8f3e-552fff921d19",
   "metadata": {},
   "outputs": [],
   "source": [
    "#distance_between_CAGA_motifs_list = list(flatten(list(distance_between_CAGA_motifs_dict.values())))\n",
    "#distance_between_CAGA_motifs_list\n"
   ]
  },
  {
   "cell_type": "markdown",
   "id": "3bbd39bc-6182-4822-99da-ec4e984ff36a",
   "metadata": {},
   "source": [
    "###     * A-B -- intersection of GC-motif and CAGA-motif\n",
    "* motif1 VS motif4 & motif5\n",
    "* motif2 & motif3  VS motif4 & motif5"
   ]
  },
  {
   "cell_type": "code",
   "execution_count": 66,
   "id": "ea6f2b59-f356-4817-bca7-df97c86921e0",
   "metadata": {},
   "outputs": [],
   "source": [
    "motif1=\"GGCGCC\"\n",
    "motif2=\"GGAGCC\"\n",
    "motif3=\"CCTCGG\"\n",
    "motif4=\"CAGAC\"\n",
    "motif5=\"GTCTG\"\n",
    "motif6=\"GGCGC\"\n",
    "motif7=\"GGCGG\"\n",
    "motif8=\"GGCTG\"\n",
    "motif9=\"GGCCG\""
   ]
  },
  {
   "cell_type": "code",
   "execution_count": 67,
   "id": "bdde242c-5841-4120-8754-e7b6fd5061e5",
   "metadata": {},
   "outputs": [],
   "source": [
    "motif_dict = {\"motif1\":\"GGCGCC\",\"motif2\":\"GGAGCC\",\"motif3\":\"CCTCGG\",\"motif4\":\"CAGAC\",\"motif5\":\"GTCTG\",\"motif6\":\"GGCGC\",\"motif7\":\"GGCGG\",\"motif8\":\"GGCTG\",\"motif9\":\"GGCCG\"}"
   ]
  },
  {
   "cell_type": "markdown",
   "id": "7b99136f-6f79-4f59-86fb-2b9d6b0b6b75",
   "metadata": {},
   "source": [
    "### define motif groups\n"
   ]
  },
  {
   "cell_type": "code",
   "execution_count": 68,
   "id": "983de894-0f51-4477-9450-b7b6fc2e4101",
   "metadata": {},
   "outputs": [],
   "source": [
    "# CAGA_motifs = [motif4,motif5]\n",
    "# GC_5bp_motifs = [motif6,motif7,motif8,motif9]\n",
    "# GC_6bp_motifs_1= [motif1]\n",
    "# GC_6bp_motifs_2_3= [motif2, motif3]\n",
    "# GC_6bp_motifs=[motif1,motif2, motif3]\n",
    "# all_motifs=[motif1,motif2,motif3,motif4,motif5,motif6,motif7,motif8,motif9]\n",
    "GC_6bp_and_CAGA_motifs = [motif1,motif2,motif3,motif4,motif5]\n",
    "GC_5bp_and_CAGA_motifs = [motif4,motif5,motif6,motif7,motif8,motif9]\n"
   ]
  },
  {
   "cell_type": "code",
   "execution_count": 69,
   "id": "10f37047-b994-4a6b-ba6d-716fe7b4ec12",
   "metadata": {
    "tags": []
   },
   "outputs": [],
   "source": [
    "common_regions_GC_6bp_and_CAGA_motifs_dict = get_motif_match_dict(common_seq_dict, GC_6bp_and_CAGA_motifs)"
   ]
  },
  {
   "cell_type": "code",
   "execution_count": 70,
   "id": "0fd6c433-ff90-4e3e-9f02-1c09bcdf7caf",
   "metadata": {
    "tags": []
   },
   "outputs": [
    {
     "data": {
      "text/plain": [
       "{'chr8:119193834-119194034': {'CAGAC': [(113, 118)]},\n",
       " 'chr2:96147043-96147243': {'GTCTG': [(27, 32), (70, 75), (112, 117)]},\n",
       " 'chr2:173249949-173250149': {'GTCTG': [(58, 63)]},\n",
       " 'chr12:71007046-71007246': {'CAGAC': [(75, 80)]},\n",
       " 'chr4:133657981-133658181': {'GTCTG': [(115, 120)]},\n",
       " 'chr11:86474099-86474299': {'CAGAC': [(37, 42), (76, 81)],\n",
       "  'GTCTG': [(66, 71)]},\n",
       " 'chr4:80126887-80127087': {'GGAGCC': [(134, 140)], 'GTCTG': [(120, 125)]},\n",
       " 'chr18:45156769-45156969': {'GGAGCC': [(107, 113)], 'GTCTG': [(118, 123)]},\n",
       " 'chr1:208837070-208837270': {'GTCTG': [(148, 153)]},\n",
       " 'chr3:63927769-63927969': {'CAGAC': [(25, 30)],\n",
       "  'GTCTG': [(35, 40), (89, 94)]},\n",
       " 'chr7:80298336-80298536': {'GTCTG': [(100, 105)]},\n",
       " 'chr5:131177260-131177460': {'GTCTG': [(4, 9)]},\n",
       " 'chr3:174094719-174094919': {'CAGAC': [(91, 96), (168, 173)]},\n",
       " 'chr10:78656831-78657031': {'GTCTG': [(46, 51)]},\n",
       " 'chr11:124302824-124303024': {'GGAGCC': [(115, 121)], 'CAGAC': [(187, 192)]},\n",
       " 'chr3:64361519-64361719': {'CAGAC': [(89, 94)]},\n",
       " 'chr18:49524488-49524688': {'GGAGCC': [(120, 126), (131, 137)],\n",
       "  'GTCTG': [(102, 107)]},\n",
       " 'chr12:14834105-14834305': {'CAGAC': [(156, 161)]},\n",
       " 'chr5:74625827-74626027': {'GTCTG': [(33, 38)]},\n",
       " 'chr18:40925354-40925554': {'GGAGCC': [(104, 110)],\n",
       "  'GTCTG': [(100, 105), (114, 119)]},\n",
       " 'chr3:64352275-64352475': {'CAGAC': [(3, 8), (93, 98)]},\n",
       " 'chr6:134513031-134513231': {'GGAGCC': [(57, 63)], 'GTCTG': [(80, 85)]},\n",
       " 'chr6:125667622-125667822': {'GGAGCC': [(136, 142)],\n",
       "  'CAGAC': [(50, 55), (126, 131)]},\n",
       " 'chr5:56282388-56282588': {'GGAGCC': [(26, 32)], 'GTCTG': [(75, 80)]},\n",
       " 'chr4:109820668-109820868': {'GGAGCC': [(48, 54), (72, 78)]},\n",
       " 'chr15:36334076-36334276': {'GGAGCC': [(176, 182)],\n",
       "  'CAGAC': [(93, 98), (151, 156)],\n",
       "  'GTCTG': [(187, 192)]},\n",
       " 'chr8:56175202-56175402': {'GTCTG': [(61, 66)]},\n",
       " 'chr15:66631055-66631255': {'CAGAC': [(153, 158)], 'GTCTG': [(110, 115)]},\n",
       " 'chr18:27847533-27847733': {'CAGAC': [(76, 81)]}}"
      ]
     },
     "execution_count": 70,
     "metadata": {},
     "output_type": "execute_result"
    }
   ],
   "source": [
    "common_regions_GC_6bp_and_CAGA_motifs_dict"
   ]
  },
  {
   "cell_type": "code",
   "execution_count": 71,
   "id": "cf0c9c7d-4bd4-4496-953a-5c7f01e29e9b",
   "metadata": {},
   "outputs": [
    {
     "data": {
      "text/plain": [
       "{('GTCTG', 'GTCTG', 'GTCTG'): [37, 36],\n",
       " ('CAGAC', 'GTCTG', 'CAGAC'): [23, 4],\n",
       " ('GGAGCC', 'GTCTG'): [8, [4], [16], [42]],\n",
       " ('CAGAC', 'GTCTG', 'GTCTG'): [4, 48],\n",
       " ('CAGAC', 'CAGAC'): [71, [84]],\n",
       " ('CAGAC', 'GGAGCC'): [65],\n",
       " ('GTCTG', 'GGAGCC', 'GGAGCC'): [12, 4],\n",
       " ('GTCTG', 'GGAGCC', 'GTCTG'): [-2, 3],\n",
       " ('CAGAC', 'CAGAC', 'GGAGCC'): [70, 4],\n",
       " ('GGAGCC', 'GGAGCC'): [17],\n",
       " ('CAGAC', 'CAGAC', 'GGAGCC', 'GTCTG'): [52, 19, 4],\n",
       " ('CAGAC', 'GTCTG'): [37]}"
      ]
     },
     "execution_count": 71,
     "metadata": {},
     "output_type": "execute_result"
    }
   ],
   "source": [
    "(get_distance_between_motifs_dict_simplified(common_regions_GC_6bp_and_CAGA_motifs_dict))"
   ]
  },
  {
   "cell_type": "code",
   "execution_count": 72,
   "id": "2ebe50fd-79e7-48d9-a9fd-4c70e9ef67be",
   "metadata": {},
   "outputs": [],
   "source": [
    "pairwise_dist_GC_6bp_and_CAGA_motifs_dict = get_pairwise_distance_between_motifs_dict_simplified(common_regions_GC_6bp_and_CAGA_motifs_dict)"
   ]
  },
  {
   "cell_type": "code",
   "execution_count": 73,
   "id": "0473b608-276e-4e8f-9ce9-aea734d5c238",
   "metadata": {},
   "outputs": [
    {
     "data": {
      "text/plain": [
       "{('GTCTG', 'GTCTG'): [37, [36], [48]],\n",
       " ('CAGAC', 'GTCTG'): [23, [4], [4], [37]],\n",
       " ('GGAGCC', 'GTCTG'): [8, [4], [12], [3], [16], [42], [4]],\n",
       " ('CAGAC', 'CAGAC'): [71, [84], [70], [52]],\n",
       " ('CAGAC', 'GGAGCC'): [65, [4], [19]],\n",
       " ('GGAGCC', 'GGAGCC'): [4, [17]]}"
      ]
     },
     "execution_count": 73,
     "metadata": {},
     "output_type": "execute_result"
    }
   ],
   "source": [
    "pairwise_dist_GC_6bp_and_CAGA_motifs_dict"
   ]
  },
  {
   "cell_type": "code",
   "execution_count": 74,
   "id": "befd53d6-518c-4ed8-9b88-ecfd0a068cd8",
   "metadata": {},
   "outputs": [
    {
     "name": "stdout",
     "output_type": "stream",
     "text": [
      "('GTCTG', 'GTCTG')\n",
      "motif5\n",
      "motif5\n",
      "('CAGAC', 'GTCTG')\n",
      "motif4\n",
      "motif5\n",
      "('GGAGCC', 'GTCTG')\n",
      "motif2\n",
      "motif5\n",
      "('CAGAC', 'CAGAC')\n",
      "motif4\n",
      "motif4\n",
      "('CAGAC', 'GGAGCC')\n",
      "motif4\n",
      "motif2\n",
      "('GGAGCC', 'GGAGCC')\n",
      "motif2\n",
      "motif2\n"
     ]
    }
   ],
   "source": [
    "# which pairs I have?\n",
    "for tp in pairwise_dist_GC_6bp_and_CAGA_motifs_dict.keys():\n",
    "    print(tp)\n",
    "    for i in tp:\n",
    "        #print(i)\n",
    "        print(list(motif_dict.keys())[list(motif_dict.values()).index(i)])\n"
   ]
  },
  {
   "cell_type": "code",
   "execution_count": 75,
   "id": "25e06406-1f3d-4ad0-8148-45a180e13b53",
   "metadata": {},
   "outputs": [],
   "source": [
    "#motif1_motif_5_dist = pairwise_dist_GC_6bp_and_CAGA_motifs_dict[('GGCGCC', 'GTCTG')]"
   ]
  },
  {
   "cell_type": "code",
   "execution_count": 76,
   "id": "d0fd6052-f9df-467c-a663-5c0d9ea3e55b",
   "metadata": {},
   "outputs": [
    {
     "data": {
      "text/plain": [
       "[8, [4], [12], [3], [16], [42], [4]]"
      ]
     },
     "execution_count": 76,
     "metadata": {},
     "output_type": "execute_result"
    }
   ],
   "source": [
    "motif2_motif_5_dist = pairwise_dist_GC_6bp_and_CAGA_motifs_dict[('GGAGCC', 'GTCTG')]\n",
    "motif2_motif_5_dist"
   ]
  },
  {
   "cell_type": "code",
   "execution_count": 77,
   "id": "6bddfa3e-6d6a-462a-aad7-835728ffbcc4",
   "metadata": {},
   "outputs": [
    {
     "data": {
      "text/plain": [
       "12.714285714285714"
      ]
     },
     "execution_count": 77,
     "metadata": {},
     "output_type": "execute_result"
    }
   ],
   "source": [
    "import statistics\n",
    "statistics.mean(list(flatten(motif2_motif_5_dist))) "
   ]
  },
  {
   "cell_type": "code",
   "execution_count": 78,
   "id": "bd4ab584-b2a0-4d8c-a1a6-08d42d4b3a7d",
   "metadata": {},
   "outputs": [
    {
     "data": {
      "text/plain": [
       "[65, [4], [19]]"
      ]
     },
     "execution_count": 78,
     "metadata": {},
     "output_type": "execute_result"
    }
   ],
   "source": [
    "motif2_motif_4_dist = pairwise_dist_GC_6bp_and_CAGA_motifs_dict[('CAGAC', 'GGAGCC')]\n",
    "motif2_motif_4_dist"
   ]
  },
  {
   "cell_type": "code",
   "execution_count": 79,
   "id": "7d20ef5b-ee27-4eea-b26b-436a64823aa7",
   "metadata": {},
   "outputs": [
    {
     "data": {
      "text/plain": [
       "29.333333333333332"
      ]
     },
     "execution_count": 79,
     "metadata": {},
     "output_type": "execute_result"
    }
   ],
   "source": [
    "statistics.mean(list(flatten(motif2_motif_4_dist))) "
   ]
  },
  {
   "cell_type": "code",
   "execution_count": 80,
   "id": "aaae1e05-bdf3-42e4-bc13-b546c90d3ab1",
   "metadata": {},
   "outputs": [],
   "source": [
    "pairwise_dist_GC_6bp_and_CAGA_motifs_list = list((flatten(motif2_motif_5_dist+motif2_motif_4_dist)))"
   ]
  },
  {
   "cell_type": "code",
   "execution_count": 81,
   "id": "c86f57bf-3bc0-4771-96d2-8a5fc9685efe",
   "metadata": {},
   "outputs": [
    {
     "data": {
      "text/plain": [
       "[8, 4, 12, 3, 16, 42, 4, 65, 4, 19]"
      ]
     },
     "execution_count": 81,
     "metadata": {},
     "output_type": "execute_result"
    }
   ],
   "source": [
    "pairwise_dist_GC_6bp_and_CAGA_motifs_list"
   ]
  },
  {
   "cell_type": "markdown",
   "id": "ca6576a1-59c4-4ea9-8abb-9e3ada860c72",
   "metadata": {},
   "source": [
    "###     * B-C -- intersection of GC-motif and CAGA-motif\n",
    "* motif4 & motif5 VS motifs6-9"
   ]
  },
  {
   "cell_type": "code",
   "execution_count": 82,
   "id": "6a1d5343-4d4e-4546-9ef6-20caaa35bf57",
   "metadata": {},
   "outputs": [],
   "source": [
    "GC_5bp_and_CAGA_motifs = [motif4,motif5,motif6,motif7,motif8,motif9]"
   ]
  },
  {
   "cell_type": "code",
   "execution_count": 83,
   "id": "73d32762-9680-4fab-ad60-05a813ed9b66",
   "metadata": {},
   "outputs": [],
   "source": [
    "common_regions_GC_5bp_and_CAGA_motifs_dict = get_motif_match_dict(common_seq_dict, GC_5bp_and_CAGA_motifs)"
   ]
  },
  {
   "cell_type": "code",
   "execution_count": 84,
   "id": "8d870f7f-8fbe-442b-82f9-a02d558757c7",
   "metadata": {},
   "outputs": [
    {
     "data": {
      "text/plain": [
       "{('GGCTG', 'GTCTG'): [7,\n",
       "  [24],\n",
       "  [1],\n",
       "  [29],\n",
       "  [15],\n",
       "  [86],\n",
       "  [25],\n",
       "  [11],\n",
       "  [93],\n",
       "  [10],\n",
       "  [51],\n",
       "  [28],\n",
       "  [94],\n",
       "  [56]],\n",
       " ('CAGAC', 'GTCTG'): [23, [4], [4], [30], [37]],\n",
       " ('GTCTG', 'GTCTG'): [48, [8]],\n",
       " ('CAGAC', 'CAGAC'): [71, [84], [70], [52]],\n",
       " ('GGCGG', 'GGCTG'): [55],\n",
       " ('GGCTG', 'GGCTG'): [14, [16]],\n",
       " ('CAGAC', 'GGCTG'): [5, [71], [10]],\n",
       " ('GGCGC', 'GTCTG'): [29]}"
      ]
     },
     "execution_count": 84,
     "metadata": {},
     "output_type": "execute_result"
    }
   ],
   "source": [
    "pairwise_dist_GC_5bp_and_CAGA_motifs_dict = get_pairwise_distance_between_motifs_dict_simplified(common_regions_GC_5bp_and_CAGA_motifs_dict)\n",
    "pairwise_dist_GC_5bp_and_CAGA_motifs_dict"
   ]
  },
  {
   "cell_type": "code",
   "execution_count": 85,
   "id": "f4531845-6b80-4f5c-9ba2-40f49782f243",
   "metadata": {},
   "outputs": [
    {
     "name": "stdout",
     "output_type": "stream",
     "text": [
      "('GGCTG', 'GTCTG')\n",
      "motif8\n",
      "motif5\n",
      "('CAGAC', 'GTCTG')\n",
      "motif4\n",
      "motif5\n",
      "('GTCTG', 'GTCTG')\n",
      "motif5\n",
      "motif5\n",
      "('CAGAC', 'CAGAC')\n",
      "motif4\n",
      "motif4\n",
      "('GGCGG', 'GGCTG')\n",
      "motif7\n",
      "motif8\n",
      "('GGCTG', 'GGCTG')\n",
      "motif8\n",
      "motif8\n",
      "('CAGAC', 'GGCTG')\n",
      "motif4\n",
      "motif8\n",
      "('GGCGC', 'GTCTG')\n",
      "motif6\n",
      "motif5\n"
     ]
    }
   ],
   "source": [
    "# which pairs I have?\n",
    "for tp in pairwise_dist_GC_5bp_and_CAGA_motifs_dict.keys():\n",
    "    print(tp)\n",
    "    for i in tp:\n",
    "        #print(i)\n",
    "        print(list(motif_dict.keys())[list(motif_dict.values()).index(i)])\n"
   ]
  },
  {
   "cell_type": "code",
   "execution_count": 86,
   "id": "2bb35cbd-21e1-41a9-a3bb-7212c857dc2e",
   "metadata": {},
   "outputs": [],
   "source": [
    "pairwise_dist_GC_5bp_and_CAGA_motifs_list = [pairwise_dist_GC_5bp_and_CAGA_motifs_dict[('GGCTG', 'GTCTG')], # 8 and 5\n",
    "                                             pairwise_dist_GC_5bp_and_CAGA_motifs_dict[('CAGAC', 'GGCTG')], # 4 and 8\n",
    "                                             pairwise_dist_GC_5bp_and_CAGA_motifs_dict[('GGCGC', 'GTCTG')]] # 6 and 5\n"
   ]
  },
  {
   "cell_type": "code",
   "execution_count": 87,
   "id": "7ace6ee1-04ae-4123-a673-3052094d52a3",
   "metadata": {
    "tags": []
   },
   "outputs": [
    {
     "data": {
      "text/plain": [
       "[[7,\n",
       "  [24],\n",
       "  [1],\n",
       "  [29],\n",
       "  [15],\n",
       "  [86],\n",
       "  [25],\n",
       "  [11],\n",
       "  [93],\n",
       "  [10],\n",
       "  [51],\n",
       "  [28],\n",
       "  [94],\n",
       "  [56]],\n",
       " [5, [71], [10]],\n",
       " [29]]"
      ]
     },
     "execution_count": 87,
     "metadata": {},
     "output_type": "execute_result"
    }
   ],
   "source": [
    "pairwise_dist_GC_5bp_and_CAGA_motifs_list"
   ]
  },
  {
   "cell_type": "code",
   "execution_count": 88,
   "id": "98ca8b6f-e212-4922-a12b-fab4ddb69161",
   "metadata": {},
   "outputs": [],
   "source": [
    "pairwise_dist_GC_5bp_and_CAGA_motifs_list = list(flatten(pairwise_dist_GC_5bp_and_CAGA_motifs_list))"
   ]
  },
  {
   "cell_type": "code",
   "execution_count": 89,
   "id": "a90614ab-c7cf-4c6a-a0c4-c4319b38c7da",
   "metadata": {},
   "outputs": [
    {
     "data": {
      "text/plain": [
       "[7, 24, 1, 29, 15, 86, 25, 11, 93, 10, 51, 28, 94, 56, 5, 71, 10, 29]"
      ]
     },
     "execution_count": 89,
     "metadata": {},
     "output_type": "execute_result"
    }
   ],
   "source": [
    "pairwise_dist_GC_5bp_and_CAGA_motifs_list"
   ]
  },
  {
   "cell_type": "code",
   "execution_count": 90,
   "id": "436a4f6a-3bdb-40d5-bade-515f6cbe1776",
   "metadata": {},
   "outputs": [
    {
     "data": {
      "text/plain": [
       "35.833333333333336"
      ]
     },
     "execution_count": 90,
     "metadata": {},
     "output_type": "execute_result"
    }
   ],
   "source": [
    "statistics.mean(pairwise_dist_GC_5bp_and_CAGA_motifs_list)"
   ]
  },
  {
   "cell_type": "markdown",
   "id": "ed8a374d-55cf-4451-973d-7a207726fe17",
   "metadata": {},
   "source": [
    "###     * C-C -- use only hit of GC-motif\n",
    "* between motif6,motif7,motif8,motif9"
   ]
  },
  {
   "cell_type": "code",
   "execution_count": 91,
   "id": "60239156-539a-44e5-9400-a103ba748939",
   "metadata": {},
   "outputs": [],
   "source": [
    "GC_5bp_motifs = [motif6,motif7,motif8,motif9]"
   ]
  },
  {
   "cell_type": "code",
   "execution_count": 92,
   "id": "3d0a9d37-3ed5-4fdf-b229-0f467b9787e2",
   "metadata": {},
   "outputs": [],
   "source": [
    "pairwise_dist_GC_5bp_motifs_dict = get_pairwise_distance_between_motifs_dict_simplified(GC_5bp_motifs_match_dict)"
   ]
  },
  {
   "cell_type": "code",
   "execution_count": 93,
   "id": "01d05039-d0c6-46c2-8eb8-bb3cb866f1c7",
   "metadata": {},
   "outputs": [
    {
     "data": {
      "text/plain": [
       "{('GGCTG', 'GGCTG'): [31, [50], [14], [15], [21], [85], [16], [115]],\n",
       " ('GGCGG', 'GGCTG'): [55],\n",
       " ('GGCGC', 'GGCTG'): [45]}"
      ]
     },
     "execution_count": 93,
     "metadata": {},
     "output_type": "execute_result"
    }
   ],
   "source": [
    "pairwise_dist_GC_5bp_motifs_dict"
   ]
  },
  {
   "cell_type": "code",
   "execution_count": 94,
   "id": "8eebe932-836c-429f-aead-42ddb6857504",
   "metadata": {},
   "outputs": [
    {
     "name": "stdout",
     "output_type": "stream",
     "text": [
      "('GGCTG', 'GGCTG')\n",
      "motif8\n",
      "motif8\n",
      "('GGCGG', 'GGCTG')\n",
      "motif7\n",
      "motif8\n",
      "('GGCGC', 'GGCTG')\n",
      "motif6\n",
      "motif8\n"
     ]
    }
   ],
   "source": [
    "# which pairs I have?\n",
    "for tp in pairwise_dist_GC_5bp_motifs_dict.keys():\n",
    "    print(tp)\n",
    "    for i in tp:\n",
    "        #print(i)\n",
    "        print(list(motif_dict.keys())[list(motif_dict.values()).index(i)])\n"
   ]
  },
  {
   "cell_type": "code",
   "execution_count": 95,
   "id": "60c7f20b-d39e-4657-8e1f-887e915bcabe",
   "metadata": {},
   "outputs": [],
   "source": [
    "pairwise_dist_GC_5bp_motifs_list = list(flatten(pairwise_dist_GC_5bp_motifs_dict.values()))"
   ]
  },
  {
   "cell_type": "code",
   "execution_count": 96,
   "id": "7af73764-de14-4e1c-8a1b-f591ad27278c",
   "metadata": {},
   "outputs": [
    {
     "data": {
      "text/plain": [
       "[31, 50, 14, 15, 21, 85, 16, 115, 55, 45]"
      ]
     },
     "execution_count": 96,
     "metadata": {},
     "output_type": "execute_result"
    }
   ],
   "source": [
    "pairwise_dist_GC_5bp_motifs_list"
   ]
  },
  {
   "cell_type": "markdown",
   "id": "54b8006a-3397-432a-8e0c-f5312c93ab4b",
   "metadata": {
    "tags": []
   },
   "source": [
    "## export"
   ]
  },
  {
   "cell_type": "code",
   "execution_count": 97,
   "id": "9d41e976-88a4-4ae1-a259-3bdc3b948853",
   "metadata": {},
   "outputs": [],
   "source": [
    "pd.DataFrame(dict([ (k,pd.Series(v)) for k,v in (get_distance_between_motifs_dict_simplified(common_regions_GC_6bp_and_CAGA_motifs_dict)).items() ])).T.to_csv(\"/project/Mechanogenomics_data/ATACseq_analysis/MotifEnrichment/distancesBtwMotifs/200bp/outs/GC_6bp_and_CAGA_motifs_hits.csv\")"
   ]
  },
  {
   "cell_type": "code",
   "execution_count": 98,
   "id": "77123524-68c6-497a-ac22-4842e246aef0",
   "metadata": {},
   "outputs": [],
   "source": [
    "pd.DataFrame(dict([ (k,pd.Series(v)) for k,v in (get_distance_between_motifs_dict_simplified(common_regions_GC_5bp_and_CAGA_motifs_dict)).items() ])).T.to_csv(\"/project/Mechanogenomics_data/ATACseq_analysis/MotifEnrichment/distancesBtwMotifs/200bp/outs/GC_5bp_and_CAGA_motifs_hits.csv\")"
   ]
  },
  {
   "cell_type": "code",
   "execution_count": 99,
   "id": "9997b438-f6b4-45ae-81e8-7f38cfee723a",
   "metadata": {},
   "outputs": [],
   "source": [
    "pd.DataFrame(dict([ (k,pd.Series(v)) for k,v in (get_distance_between_motifs_dict_simplified(GC_5bp_motifs_match_dict)).items() ])).T.to_csv(\"/project/Mechanogenomics_data/ATACseq_analysis/MotifEnrichment/distancesBtwMotifs/200bp/outs/GC_5bp_motifs_hits.csv\")"
   ]
  },
  {
   "cell_type": "code",
   "execution_count": 100,
   "id": "28370e1d-204d-4975-8fee-ce84a360d538",
   "metadata": {},
   "outputs": [],
   "source": [
    "pd.DataFrame(dict([ (k,pd.Series(v)) for k,v in (get_distance_between_motifs_dict_simplified(GC_6bp_motifs_match_dict)).items() ])).T.to_csv(\"/project/Mechanogenomics_data/ATACseq_analysis/MotifEnrichment/distancesBtwMotifs/200bp/outs/GC_6bp_motifs_hits.csv\")"
   ]
  },
  {
   "cell_type": "code",
   "execution_count": 101,
   "id": "a9c06f59-8692-406f-9306-d6367e2129fa",
   "metadata": {},
   "outputs": [],
   "source": [
    "pd.DataFrame(dict([ (k,pd.Series(v)) for k,v in (get_distance_between_motifs_dict_simplified(CAGA_motif_match_dict)).items() ])).T.to_csv(\"/project/Mechanogenomics_data/ATACseq_analysis/MotifEnrichment/distancesBtwMotifs/200bp/outs/CAGA_motifs_hits.csv\")"
   ]
  },
  {
   "cell_type": "markdown",
   "id": "2bb208c1-7153-473d-885b-996efd7a3bf7",
   "metadata": {},
   "source": [
    "## PLOT"
   ]
  },
  {
   "cell_type": "code",
   "execution_count": 102,
   "id": "121fdfeb-d5d0-4aca-9ad5-518b40f27122",
   "metadata": {
    "tags": []
   },
   "outputs": [
    {
     "data": {
      "text/plain": [
       "[31, 50, 14, 15, 21, 85, 16, 115, 55, 45]"
      ]
     },
     "execution_count": 102,
     "metadata": {},
     "output_type": "execute_result"
    }
   ],
   "source": [
    "distance_between_all_GC_6bp_motifs_list\n",
    "pairwise_dist_GC_5bp_and_CAGA_motifs_list\n",
    "pairwise_dist_GC_6bp_and_CAGA_motifs_list\n",
    "pairwise_dist_GC_5bp_motifs_list"
   ]
  },
  {
   "cell_type": "code",
   "execution_count": 103,
   "id": "c32e20d7-7b1d-422b-be72-0ef4ce85f6a7",
   "metadata": {},
   "outputs": [],
   "source": [
    "distance_between_all_GC_6bp_motifs_list_mean = np.mean(distance_between_all_GC_6bp_motifs_list)\n",
    "pairwise_dist_GC_5bp_and_CAGA_motifs_list_mean = np.mean(pairwise_dist_GC_5bp_and_CAGA_motifs_list)\n",
    "pairwise_dist_GC_6bp_and_CAGA_motifs_list_mean = np.mean(pairwise_dist_GC_6bp_and_CAGA_motifs_list)\n",
    "pairwise_dist_GC_5bp_motifs_list_mean = np.mean(pairwise_dist_GC_5bp_motifs_list)\n",
    "\n"
   ]
  },
  {
   "cell_type": "code",
   "execution_count": 104,
   "id": "5104d081-09b5-4104-9fe9-e6568b4a12e6",
   "metadata": {},
   "outputs": [],
   "source": [
    "distance_between_all_GC_6bp_motifs_list_std = np.std(distance_between_all_GC_6bp_motifs_list)\n",
    "pairwise_dist_GC_5bp_and_CAGA_motifs_list_std = np.std(pairwise_dist_GC_5bp_and_CAGA_motifs_list)\n",
    "pairwise_dist_GC_6bp_and_CAGA_motifs_list_std = np.std(pairwise_dist_GC_6bp_and_CAGA_motifs_list)\n",
    "pairwise_dist_GC_5bp_motifs_list_std = np.std(pairwise_dist_GC_5bp_motifs_list)\n"
   ]
  },
  {
   "cell_type": "code",
   "execution_count": 105,
   "id": "96ee9fe7-4641-45f3-951f-9037236db08f",
   "metadata": {},
   "outputs": [],
   "source": [
    "# Create lists for the GC_5bp_and_CAGA_motifs\n",
    "distances = ['GC_6bp_motifs', 'GC_5bp_and_CAGA_motifs', 'GC_6bp_and_CAGA_motifs', 'GC_5bp_motifs']\n",
    "x_pos = np.arange(len(distances))\n",
    "CTEs = [distance_between_all_GC_6bp_motifs_list_mean, pairwise_dist_GC_5bp_and_CAGA_motifs_list_mean, pairwise_dist_GC_6bp_and_CAGA_motifs_list_mean,pairwise_dist_GC_5bp_motifs_list_mean ]\n",
    "error = [distance_between_all_GC_6bp_motifs_list_std, pairwise_dist_GC_5bp_and_CAGA_motifs_list_std, pairwise_dist_GC_6bp_and_CAGA_motifs_list_std,pairwise_dist_GC_5bp_motifs_list_std]"
   ]
  },
  {
   "cell_type": "code",
   "execution_count": 106,
   "id": "ebd40d89-9a2a-45fc-837e-ddc477fc7613",
   "metadata": {},
   "outputs": [
    {
     "data": {
      "image/png": "[encoded data removed]",
      "text/plain": [
       "<Figure size 432x288 with 1 Axes>"
      ]
     },
     "metadata": {},
     "output_type": "display_data"
    }
   ],
   "source": [
    "\n",
    "\n",
    "# Build the plot\n",
    "fig, ax = plt.subplots()\n",
    "ax.bar(x_pos, CTEs, yerr=error, align='center', alpha=0.5, ecolor='black', capsize=10)\n",
    "ax.set_ylabel('distance (bp)')\n",
    "ax.set_xticks(x_pos)\n",
    "ax.set_xticklabels(distances)\n",
    "\n",
    "#ax.yaxis.grid(True)\n",
    "plt.xticks(rotation=45, ha='right')\n",
    "# Save the figure and show\n",
    "plt.tight_layout()\n",
    "plt.savefig('bar_plot_with_error_bars.png')\n",
    "plt.show()\n"
   ]
  },
  {
   "cell_type": "code",
   "execution_count": 110,
   "id": "f2c8ba6b-9126-4037-acd0-1f92fe3e8f56",
   "metadata": {},
   "outputs": [
    {
     "data": {
      "text/html": [
       "<div>\n",
       "<style scoped>\n",
       "    .dataframe tbody tr th:only-of-type {\n",
       "        vertical-align: middle;\n",
       "    }\n",
       "\n",
       "    .dataframe tbody tr th {\n",
       "        vertical-align: top;\n",
       "    }\n",
       "\n",
       "    .dataframe thead th {\n",
       "        text-align: right;\n",
       "    }\n",
       "</style>\n",
       "<table border=\"1\" class=\"dataframe\">\n",
       "  <thead>\n",
       "    <tr style=\"text-align: right;\">\n",
       "      <th></th>\n",
       "      <th>distances</th>\n",
       "      <th>label</th>\n",
       "    </tr>\n",
       "  </thead>\n",
       "  <tbody>\n",
       "    <tr>\n",
       "      <th>0</th>\n",
       "      <td>4</td>\n",
       "      <td>GC_6bp_motifs</td>\n",
       "    </tr>\n",
       "    <tr>\n",
       "      <th>1</th>\n",
       "      <td>17</td>\n",
       "      <td>GC_6bp_motifs</td>\n",
       "    </tr>\n",
       "    <tr>\n",
       "      <th>2</th>\n",
       "      <td>7</td>\n",
       "      <td>GC_5bp_and_CAGA</td>\n",
       "    </tr>\n",
       "    <tr>\n",
       "      <th>3</th>\n",
       "      <td>24</td>\n",
       "      <td>GC_5bp_and_CAGA</td>\n",
       "    </tr>\n",
       "    <tr>\n",
       "      <th>4</th>\n",
       "      <td>1</td>\n",
       "      <td>GC_5bp_and_CAGA</td>\n",
       "    </tr>\n",
       "    <tr>\n",
       "      <th>5</th>\n",
       "      <td>29</td>\n",
       "      <td>GC_5bp_and_CAGA</td>\n",
       "    </tr>\n",
       "    <tr>\n",
       "      <th>6</th>\n",
       "      <td>15</td>\n",
       "      <td>GC_5bp_and_CAGA</td>\n",
       "    </tr>\n",
       "    <tr>\n",
       "      <th>7</th>\n",
       "      <td>86</td>\n",
       "      <td>GC_5bp_and_CAGA</td>\n",
       "    </tr>\n",
       "    <tr>\n",
       "      <th>8</th>\n",
       "      <td>25</td>\n",
       "      <td>GC_5bp_and_CAGA</td>\n",
       "    </tr>\n",
       "    <tr>\n",
       "      <th>9</th>\n",
       "      <td>11</td>\n",
       "      <td>GC_5bp_and_CAGA</td>\n",
       "    </tr>\n",
       "    <tr>\n",
       "      <th>10</th>\n",
       "      <td>93</td>\n",
       "      <td>GC_5bp_and_CAGA</td>\n",
       "    </tr>\n",
       "    <tr>\n",
       "      <th>11</th>\n",
       "      <td>10</td>\n",
       "      <td>GC_5bp_and_CAGA</td>\n",
       "    </tr>\n",
       "    <tr>\n",
       "      <th>12</th>\n",
       "      <td>51</td>\n",
       "      <td>GC_5bp_and_CAGA</td>\n",
       "    </tr>\n",
       "    <tr>\n",
       "      <th>13</th>\n",
       "      <td>28</td>\n",
       "      <td>GC_5bp_and_CAGA</td>\n",
       "    </tr>\n",
       "    <tr>\n",
       "      <th>14</th>\n",
       "      <td>94</td>\n",
       "      <td>GC_5bp_and_CAGA</td>\n",
       "    </tr>\n",
       "    <tr>\n",
       "      <th>15</th>\n",
       "      <td>56</td>\n",
       "      <td>GC_5bp_and_CAGA</td>\n",
       "    </tr>\n",
       "    <tr>\n",
       "      <th>16</th>\n",
       "      <td>5</td>\n",
       "      <td>GC_5bp_and_CAGA</td>\n",
       "    </tr>\n",
       "    <tr>\n",
       "      <th>17</th>\n",
       "      <td>71</td>\n",
       "      <td>GC_5bp_and_CAGA</td>\n",
       "    </tr>\n",
       "    <tr>\n",
       "      <th>18</th>\n",
       "      <td>10</td>\n",
       "      <td>GC_5bp_and_CAGA</td>\n",
       "    </tr>\n",
       "    <tr>\n",
       "      <th>19</th>\n",
       "      <td>29</td>\n",
       "      <td>GC_5bp_and_CAGA</td>\n",
       "    </tr>\n",
       "    <tr>\n",
       "      <th>20</th>\n",
       "      <td>8</td>\n",
       "      <td>GC_6bp_and_CAGA</td>\n",
       "    </tr>\n",
       "    <tr>\n",
       "      <th>21</th>\n",
       "      <td>4</td>\n",
       "      <td>GC_6bp_and_CAGA</td>\n",
       "    </tr>\n",
       "    <tr>\n",
       "      <th>22</th>\n",
       "      <td>12</td>\n",
       "      <td>GC_6bp_and_CAGA</td>\n",
       "    </tr>\n",
       "    <tr>\n",
       "      <th>23</th>\n",
       "      <td>3</td>\n",
       "      <td>GC_6bp_and_CAGA</td>\n",
       "    </tr>\n",
       "    <tr>\n",
       "      <th>24</th>\n",
       "      <td>16</td>\n",
       "      <td>GC_6bp_and_CAGA</td>\n",
       "    </tr>\n",
       "    <tr>\n",
       "      <th>25</th>\n",
       "      <td>42</td>\n",
       "      <td>GC_6bp_and_CAGA</td>\n",
       "    </tr>\n",
       "    <tr>\n",
       "      <th>26</th>\n",
       "      <td>4</td>\n",
       "      <td>GC_6bp_and_CAGA</td>\n",
       "    </tr>\n",
       "    <tr>\n",
       "      <th>27</th>\n",
       "      <td>65</td>\n",
       "      <td>GC_6bp_and_CAGA</td>\n",
       "    </tr>\n",
       "    <tr>\n",
       "      <th>28</th>\n",
       "      <td>4</td>\n",
       "      <td>GC_6bp_and_CAGA</td>\n",
       "    </tr>\n",
       "    <tr>\n",
       "      <th>29</th>\n",
       "      <td>19</td>\n",
       "      <td>GC_6bp_and_CAGA</td>\n",
       "    </tr>\n",
       "    <tr>\n",
       "      <th>30</th>\n",
       "      <td>31</td>\n",
       "      <td>GC_5bp_motifs</td>\n",
       "    </tr>\n",
       "    <tr>\n",
       "      <th>31</th>\n",
       "      <td>50</td>\n",
       "      <td>GC_5bp_motifs</td>\n",
       "    </tr>\n",
       "    <tr>\n",
       "      <th>32</th>\n",
       "      <td>14</td>\n",
       "      <td>GC_5bp_motifs</td>\n",
       "    </tr>\n",
       "    <tr>\n",
       "      <th>33</th>\n",
       "      <td>15</td>\n",
       "      <td>GC_5bp_motifs</td>\n",
       "    </tr>\n",
       "    <tr>\n",
       "      <th>34</th>\n",
       "      <td>21</td>\n",
       "      <td>GC_5bp_motifs</td>\n",
       "    </tr>\n",
       "    <tr>\n",
       "      <th>35</th>\n",
       "      <td>85</td>\n",
       "      <td>GC_5bp_motifs</td>\n",
       "    </tr>\n",
       "    <tr>\n",
       "      <th>36</th>\n",
       "      <td>16</td>\n",
       "      <td>GC_5bp_motifs</td>\n",
       "    </tr>\n",
       "    <tr>\n",
       "      <th>37</th>\n",
       "      <td>115</td>\n",
       "      <td>GC_5bp_motifs</td>\n",
       "    </tr>\n",
       "    <tr>\n",
       "      <th>38</th>\n",
       "      <td>55</td>\n",
       "      <td>GC_5bp_motifs</td>\n",
       "    </tr>\n",
       "    <tr>\n",
       "      <th>39</th>\n",
       "      <td>45</td>\n",
       "      <td>GC_5bp_motifs</td>\n",
       "    </tr>\n",
       "  </tbody>\n",
       "</table>\n",
       "</div>"
      ],
      "text/plain": [
       "    distances            label\n",
       "0           4    GC_6bp_motifs\n",
       "1          17    GC_6bp_motifs\n",
       "2           7  GC_5bp_and_CAGA\n",
       "3          24  GC_5bp_and_CAGA\n",
       "4           1  GC_5bp_and_CAGA\n",
       "5          29  GC_5bp_and_CAGA\n",
       "6          15  GC_5bp_and_CAGA\n",
       "7          86  GC_5bp_and_CAGA\n",
       "8          25  GC_5bp_and_CAGA\n",
       "9          11  GC_5bp_and_CAGA\n",
       "10         93  GC_5bp_and_CAGA\n",
       "11         10  GC_5bp_and_CAGA\n",
       "12         51  GC_5bp_and_CAGA\n",
       "13         28  GC_5bp_and_CAGA\n",
       "14         94  GC_5bp_and_CAGA\n",
       "15         56  GC_5bp_and_CAGA\n",
       "16          5  GC_5bp_and_CAGA\n",
       "17         71  GC_5bp_and_CAGA\n",
       "18         10  GC_5bp_and_CAGA\n",
       "19         29  GC_5bp_and_CAGA\n",
       "20          8  GC_6bp_and_CAGA\n",
       "21          4  GC_6bp_and_CAGA\n",
       "22         12  GC_6bp_and_CAGA\n",
       "23          3  GC_6bp_and_CAGA\n",
       "24         16  GC_6bp_and_CAGA\n",
       "25         42  GC_6bp_and_CAGA\n",
       "26          4  GC_6bp_and_CAGA\n",
       "27         65  GC_6bp_and_CAGA\n",
       "28          4  GC_6bp_and_CAGA\n",
       "29         19  GC_6bp_and_CAGA\n",
       "30         31    GC_5bp_motifs\n",
       "31         50    GC_5bp_motifs\n",
       "32         14    GC_5bp_motifs\n",
       "33         15    GC_5bp_motifs\n",
       "34         21    GC_5bp_motifs\n",
       "35         85    GC_5bp_motifs\n",
       "36         16    GC_5bp_motifs\n",
       "37        115    GC_5bp_motifs\n",
       "38         55    GC_5bp_motifs\n",
       "39         45    GC_5bp_motifs"
      ]
     },
     "execution_count": 110,
     "metadata": {},
     "output_type": "execute_result"
    }
   ],
   "source": [
    "plot_dict_df = pd.DataFrame()\n",
    "plot_dict_df['distances'] = list(distance_between_all_GC_6bp_motifs_list+\n",
    "pairwise_dist_GC_5bp_and_CAGA_motifs_list+\n",
    "pairwise_dist_GC_6bp_and_CAGA_motifs_list+\n",
    "pairwise_dist_GC_5bp_motifs_list)\n",
    "plot_dict_df['label']= list(list(np.repeat('GC_6bp_motifs', len(distance_between_all_GC_6bp_motifs_list), axis=0))+\n",
    "                           list(np.repeat('GC_5bp_and_CAGA', len(pairwise_dist_GC_5bp_and_CAGA_motifs_list), axis=0))+\n",
    "                           list(np.repeat('GC_6bp_and_CAGA', len(pairwise_dist_GC_6bp_and_CAGA_motifs_list), axis=0))+\n",
    "                           list(np.repeat('GC_5bp_motifs', len(pairwise_dist_GC_5bp_motifs_list), axis=0)))\n",
    "plot_dict_df"
   ]
  },
  {
   "cell_type": "code",
   "execution_count": null,
   "id": "cd7e7303-a99a-44f8-97e1-6292f257bfb0",
   "metadata": {},
   "outputs": [],
   "source": [
    "orig_cmap = plt.cm.Blues\n",
    "colors = orig_cmap(np.linspace(min_val, max_val, n))\n",
    "blue_cmap_dark = matplotlib.colors.LinearSegmentedColormap.from_list(\"mycmap\", colors)"
   ]
  },
  {
   "cell_type": "code",
   "execution_count": 250,
   "id": "9687851c-cdf7-4a54-9d67-e710f51fb725",
   "metadata": {},
   "outputs": [
    {
     "data": {
      "text/plain": [
       "array([[[0.23192618, 0.54565167, 0.76261438, 1.        ],\n",
       "        [0.0840446 , 0.38506728, 0.66443676, 1.        ],\n",
       "        [0.03137255, 0.29785467, 0.58237601, 1.        ],\n",
       "        [0.03137255, 0.18823529, 0.41960784, 1.        ]],\n",
       "\n",
       "       [[0.67681661, 0.81647059, 0.90237601, 1.        ],\n",
       "        [0.26071511, 0.57384083, 0.77720877, 1.        ],\n",
       "        [0.0840446 , 0.38506728, 0.66443676, 1.        ],\n",
       "        [0.03137255, 0.18823529, 0.41960784, 1.        ]],\n",
       "\n",
       "       [[0.88865821, 0.93313341, 0.97440984, 1.        ],\n",
       "        [0.56705882, 0.76330642, 0.87101884, 1.        ],\n",
       "        [0.19944637, 0.51317186, 0.74588235, 1.        ],\n",
       "        [0.03137255, 0.18823529, 0.41960784, 1.        ]],\n",
       "\n",
       "       [[0.94402153, 0.96856594, 0.99212611, 1.        ],\n",
       "        [0.82297578, 0.88982699, 0.95275663, 1.        ],\n",
       "        [0.54823529, 0.75297193, 0.86695886, 1.        ],\n",
       "        [0.03137255, 0.18823529, 0.41960784, 1.        ]]])"
      ]
     },
     "execution_count": 250,
     "metadata": {},
     "output_type": "execute_result"
    }
   ],
   "source": [
    "orig_cmap(colors)"
   ]
  },
  {
   "cell_type": "code",
   "execution_count": null,
   "id": "8ecf392a-c983-40a1-852b-0ddd88b4e204",
   "metadata": {},
   "outputs": [],
   "source": [
    "nner{“box”, “quartile”, “point”, “stick”, None}, optional"
   ]
  },
  {
   "cell_type": "code",
   "execution_count": 307,
   "id": "f396293a-94dc-4714-9a69-1659a80b9416",
   "metadata": {},
   "outputs": [
    {
     "data": {
      "image/png": "[encoded data removed]",
      "text/plain": [
       "<Figure size 864x576 with 1 Axes>"
      ]
     },
     "metadata": {},
     "output_type": "display_data"
    }
   ],
   "source": [
    "sns.set_context(\"talk\", font_scale=0.8)\n",
    "plt.figure(figsize=(12,8))\n",
    "ax = sns.violinplot(y=\"label\", x=\"distances\", data=plot_dict_df, palette=\"Blues\",inner=None,linewidth=1,edgecolor=\"white\")#cornflowerbluelightskyblue\n",
    "#sns.stripplot(x=\"label\", y=\"distances\", data=plot_dict_df,\n",
    "#              color=\"grey\", edgecolor=\"gray\")\n",
    "#sns.swarmplot(y=\"label\", x=\"distances\", data=plot_dict_df, color=\"aliceblue\",size=4)\n",
    "# plt.savefig(\"/project/Mechanogenomics_data/ATACseq_analysis/MotifEnrichment/distancesBtwMotifs/200bp/figures/distance_08.png\",\n",
    "#           format='png',dpi=750)\n",
    "#ax.set_xticklabels(ax.get_xticklabels(), rotation=45, horizontalalignment='right')"
   ]
  },
  {
   "cell_type": "code",
   "execution_count": 115,
   "id": "ef5de183-0539-4ca6-8801-f3b7da92aafe",
   "metadata": {},
   "outputs": [
    {
     "data": {
      "image/png": "[encoded data removed]",
      "text/plain": [
       "<Figure size 864x576 with 1 Axes>"
      ]
     },
     "metadata": {},
     "output_type": "display_data"
    }
   ],
   "source": [
    "sns.set_context(\"talk\", font_scale=0.8)\n",
    "plt.figure(figsize=(12,8))\n",
    "ax = sns.violinplot(y=\"label\", x=\"distances\", data=plot_dict_df, palette=\"Blues\",linewidth=1,edgecolor=\"gray\")#cornflowerbluelightskyblue\n",
    "#sns.stripplot(x=\"label\", y=\"distances\", data=plot_dict_df,\n",
    "#              color=\"grey\", edgecolor=\"gray\")\n",
    "sns.swarmplot(y=\"label\", x=\"distances\", data=plot_dict_df, color=\"aliceblue\",size=4)\n",
    "plt.savefig(\"/project/Mechanogenomics_data/ATACseq_analysis/MotifEnrichment/distancesBtwMotifs/200bp/figures/distance_05.png\",\n",
    "            format='png',dpi=750)\n",
    "#ax.set_xticklabels(ax.get_xticklabels(), rotation=45, horizontalalignment='right')"
   ]
  },
  {
   "cell_type": "code",
   "execution_count": 382,
   "id": "805b2730-da9e-4d76-95a0-fe6ebd46ce67",
   "metadata": {},
   "outputs": [
    {
     "data": {
      "text/plain": [
       "[[4, 17],\n",
       " [7, 24, 1, 29, 15, 86, 25, 11, 93, 10, 51, 28, 94, 56, 5, 71, 10, 29],\n",
       " [8, 4, 12, 3, 16, 42, 4, 65, 4, 19],\n",
       " [31, 50, 14, 15, 21, 85, 16, 115, 55, 45]]"
      ]
     },
     "execution_count": 382,
     "metadata": {},
     "output_type": "execute_result"
    }
   ],
   "source": [
    "my_y_data= [distance_between_all_GC_6bp_motifs_list,\n",
    "pairwise_dist_GC_5bp_and_CAGA_motifs_list,\n",
    "pairwise_dist_GC_6bp_and_CAGA_motifs_list,\n",
    "pairwise_dist_GC_5bp_motifs_list]\n",
    "my_y_data"
   ]
  },
  {
   "cell_type": "code",
   "execution_count": null,
   "id": "99e5a864-49b1-48d8-8915-e537ffb1d538",
   "metadata": {},
   "outputs": [],
   "source": []
  },
  {
   "cell_type": "code",
   "execution_count": 383,
   "id": "1fb4b24b-ed20-4e0e-9498-f975bee290e9",
   "metadata": {},
   "outputs": [],
   "source": [
    "from palmerpenguins import load_penguins\n",
    "import numpy as np\n",
    "import matplotlib.pyplot as plt\n",
    "import scipy.stats as st\n",
    "penguins = load_penguins()\n",
    "penguins = penguins.dropna()\n",
    "penguins.head()\n",
    "# Get the species, sorted alphabetically\n",
    "species = sorted(penguins[\"species\"].unique())\n",
    "\n",
    "# y_data is a list of length 3 containing the bill_length_mm values for each specie \n",
    "y_data = [penguins[penguins[\"species\"] == specie][\"bill_length_mm\"].values for specie in species]\n",
    "y_data= my_y_data\n",
    "# Create jittered version of \"x\" (which is only 0, 1, and 2)\n",
    "# More about this in the bonus track!\n",
    "jitter = 0.04\n",
    "x_data = [np.array([i] * len(d)) for i, d in enumerate(y_data)]\n",
    "x_jittered = [x + st.t(df=6, scale=jitter).rvs(len(x)) for x in x_data]"
   ]
  },
  {
   "cell_type": "code",
   "execution_count": 401,
   "id": "1cad4497-ece8-4cc6-9349-5793254425d7",
   "metadata": {},
   "outputs": [],
   "source": [
    "# Colors\n",
    "BG_WHITE = \"#fbf9f4\"\n",
    "GREY_LIGHT = \"#b4aea9\"\n",
    "GREY50 = \"#7F7F7F\"\n",
    "BLUE_DARK = \"#1B2838\"\n",
    "BLUE = \"#2a475e\"\n",
    "BLACK = \"#282724\"\n",
    "GREY_DARK = \"#747473\"\n",
    "RED_DARK = \"#850e00\"\n",
    "\n",
    "# Colors taken from Dark2 palette in RColorBrewer R library\n",
    "COLOR_SCALE = [\"#1B9E77\", \"#D95F02\", \"#7570B3\", \"INDIGO\"]\n",
    "\n",
    "# Horizontal positions for the violins. \n",
    "# They are arbitrary numbers. They could have been [-1, 0, 1] for example.\n",
    "POSITIONS = [0, 1, 2,3]\n",
    "\n",
    "# Horizontal lines\n",
    "HLINES = [40, 50, 60,70]"
   ]
  },
  {
   "cell_type": "code",
   "execution_count": 403,
   "id": "a6d56788-9def-4838-84d5-b22927ff93d5",
   "metadata": {},
   "outputs": [
    {
     "data": {
      "image/png": "[encoded data removed]",
      "text/plain": [
       "<Figure size 1008x720 with 1 Axes>"
      ]
     },
     "metadata": {},
     "output_type": "display_data"
    }
   ],
   "source": [
    "fig, ax = plt.subplots(figsize= (14, 10))\n",
    "\n",
    "# Some layout stuff ----------------------------------------------\n",
    "# Background color\n",
    "fig.patch.set_facecolor(\"white\")\n",
    "ax.set_facecolor(\"white\")\n",
    "\n",
    "# Horizontal lines that are used as scale reference\n",
    "# for h in HLINES:\n",
    "#     ax.axhline(h, color=GREY50, ls=(0, (5, 5)), alpha=0.8, zorder=0)\n",
    "\n",
    "# Add violins ----------------------------------------------------\n",
    "# bw_method=\"silverman\" means the bandwidth of the kernel density\n",
    "# estimator is computed via Silverman's rule of thumb. \n",
    "# More on this in the bonus track ;)\n",
    "\n",
    "# The output is stored in 'violins', used to customize their appearence\n",
    "violins = ax.violinplot(\n",
    "    my_y_data, \n",
    "    positions=POSITIONS,\n",
    "    widths=0.45,\n",
    "    bw_method=\"silverman\",\n",
    "    showmeans=False, \n",
    "    showmedians=False,\n",
    "    showextrema=False\n",
    ")\n",
    "\n",
    "# Customize violins (remove fill, customize line, etc.)\n",
    "for pc in violins[\"bodies\"]:\n",
    "    pc.set_facecolor(\"none\")\n",
    "    pc.set_edgecolor(BLACK)\n",
    "    pc.set_linewidth(1.4)\n",
    "    pc.set_alpha(1)\n",
    "    \n",
    "\n",
    "# Add boxplots ---------------------------------------------------\n",
    "# Note that properties about the median and the box are passed\n",
    "# as dictionaries.\n",
    "\n",
    "medianprops = dict(\n",
    "    linewidth=4, \n",
    "    color=GREY_DARK,\n",
    "    solid_capstyle=\"butt\"\n",
    ")\n",
    "boxprops = dict(\n",
    "    linewidth=2, \n",
    "    color=GREY_DARK\n",
    ")\n",
    "\n",
    "ax.boxplot(\n",
    "    y_data,\n",
    "    positions=POSITIONS, \n",
    "    showfliers = False, # Do not show the outliers beyond the caps.\n",
    "    showcaps = False,   # Do not show the caps\n",
    "    #medianprops = medianprops,\n",
    "    #meansprops = meansprops,\n",
    "    whiskerprops = boxprops,\n",
    "    boxprops = boxprops\n",
    ")\n",
    "\n",
    "# Add jittered dots ----------------------------------------------\n",
    "for x, y, color in zip(x_jittered, my_y_data, COLOR_SCALE):\n",
    "    ax.scatter(x, y, s = 100, color=color, alpha=0.4)"
   ]
  },
  {
   "cell_type": "code",
   "execution_count": 404,
   "id": "e0ab124e-9b03-4276-bf2b-d801e98efc40",
   "metadata": {},
   "outputs": [
    {
     "data": {
      "image/png": "[encoded data removed]",
      "text/plain": [
       "<Figure size 1008x720 with 1 Axes>"
      ]
     },
     "execution_count": 404,
     "metadata": {},
     "output_type": "execute_result"
    }
   ],
   "source": [
    "# Add mean value labels ------------------------------------------\n",
    "means = [np.array(y).mean() for y in y_data]\n",
    "for i, mean in enumerate(means):\n",
    "    # Add dot representing the mean\n",
    "    ax.scatter(i, mean, s=250, color=RED_DARK, zorder=3)\n",
    "    \n",
    "    # Add line conecting mean value and its label\n",
    "    ax.plot([i, i + 0.25], [mean, mean], ls=\"dashdot\", color=\"black\", zorder=3)\n",
    "    \n",
    "    # Add mean value label.\n",
    "    ax.text(\n",
    "        i + 0.25,\n",
    "        mean,\n",
    "        r\"$\\hat{\\mu}_{\\rm{mean}} = $\" + str(round(mean, 2)),\n",
    "        fontsize=13,\n",
    "        va=\"center\",\n",
    "        bbox = dict(\n",
    "            facecolor=\"white\",\n",
    "            edgecolor=\"black\",\n",
    "            boxstyle=\"round\",\n",
    "            pad=0.15\n",
    "        ),\n",
    "        zorder=10 # to make sure the line is on top\n",
    "    )\n",
    "\n",
    "# Add multiple comparisons p-value for mean difference -----------\n",
    "# Plot lines indicating what means are compared\n",
    "# 'tick_len' gives the length of the tick on the end of each line\n",
    "\n",
    "# tick_len = 0.25\n",
    "# ax.plot([0, 0, 1, 1], [62.5 - tick_len, 62.5, 62.5, 62.5 - tick_len], c=\"black\")\n",
    "# ax.plot([0, 0, 2, 2], [65 - tick_len, 65, 65, 65 - tick_len], c=\"black\")\n",
    "# ax.plot([1, 1, 2, 2], [67.5 - tick_len, 67.5, 67.5, 67.5 - tick_len], c=\"black\")\n",
    "\n",
    "# # Add labels for the p-values\n",
    "# label1 = r\"$p_{\\rm{Holm-corrected}}$ = 8.42e-14\"\n",
    "# label2 = r\"$p_{\\rm{Holm-corrected}}$ = 4.3e-14\"\n",
    "# label3 = r\"$p_{\\rm{Holm-corrected}}$ = 0.031\"\n",
    "\n",
    "# pad = 0.2\n",
    "# ax.text(0.5, 62.5 + pad, label1, fontsize=11, va=\"bottom\", ha=\"center\")\n",
    "# ax.text(1, 65 + pad, label2, fontsize=11, va=\"bottom\", ha=\"center\")\n",
    "# ax.text(1.5, 67.5 + pad, label3, fontsize=11, va=\"bottom\", ha=\"center\")   \n",
    "ax.set_xticklabels(['GC_6bp_motifs','GC_5bp_and_CAGA','GC_6bp_and_CAGA','GC_5bp_motifs'],  horizontalalignment='right')\n",
    "fig"
   ]
  },
  {
   "cell_type": "code",
   "execution_count": 114,
   "id": "76cf9336-f044-471c-8166-d945fe5520fc",
   "metadata": {},
   "outputs": [],
   "source": [
    "fig.savefig(\"/project/Mechanogenomics_data/ATACseq_analysis/MotifEnrichment/distancesBtwMotifs/200bp/figures/distance_NEW_2.png\",\n",
    "            format='png',dpi=750)"
   ]
  }
 ],
 "metadata": {
  "kernelspec": {
   "display_name": "Python 3 (ipykernel)",
   "language": "python",
   "name": "python3"
  },
  "language_info": {
   "codemirror_mode": {
    "name": "ipython",
    "version": 3
   },
   "file_extension": ".py",
   "mimetype": "text/x-python",
   "name": "python",
   "nbconvert_exporter": "python",
   "pygments_lexer": "ipython3",
   "version": "3.10.8"
  }
 },
 "nbformat": 4,
 "nbformat_minor": 5
}
