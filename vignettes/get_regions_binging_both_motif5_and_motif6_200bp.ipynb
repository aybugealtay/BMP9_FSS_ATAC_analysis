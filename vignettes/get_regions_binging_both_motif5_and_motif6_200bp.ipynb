{
 "cells": [
  {
   "cell_type": "markdown",
   "id": "1770f0ca-eb1d-4f49-866c-9bea7341182c",
   "metadata": {},
   "source": [
    "### we have regions that CAGA motf of GC-SBE motif binds\n",
    "1. We find which regions are binding to both those regions ( from motif instances, last column)\n",
    "2. Then we get the sequences of these commonly bound regions\n",
    "3. Fianlly, we find the distances between the motfs"
   ]
  },
  {
   "cell_type": "code",
   "execution_count": 1,
   "id": "bf3ef662-1d19-4900-90f2-c384ae31a9dc",
   "metadata": {},
   "outputs": [
    {
     "name": "stderr",
     "output_type": "stream",
     "text": [
      "Loading required package: stats4\n",
      "\n",
      "Loading required package: BiocGenerics\n",
      "\n",
      "Loading required package: parallel\n",
      "\n",
      "\n",
      "Attaching package: ‘BiocGenerics’\n",
      "\n",
      "\n",
      "The following objects are masked from ‘package:parallel’:\n",
      "\n",
      "    clusterApply, clusterApplyLB, clusterCall, clusterEvalQ,\n",
      "    clusterExport, clusterMap, parApply, parCapply, parLapply,\n",
      "    parLapplyLB, parRapply, parSapply, parSapplyLB\n",
      "\n",
      "\n",
      "The following objects are masked from ‘package:stats’:\n",
      "\n",
      "    IQR, mad, sd, var, xtabs\n",
      "\n",
      "\n",
      "The following objects are masked from ‘package:base’:\n",
      "\n",
      "    Filter, Find, Map, Position, Reduce, anyDuplicated, append,\n",
      "    as.data.frame, basename, cbind, colnames, dirname, do.call,\n",
      "    duplicated, eval, evalq, get, grep, grepl, intersect, is.unsorted,\n",
      "    lapply, mapply, match, mget, order, paste, pmax, pmax.int, pmin,\n",
      "    pmin.int, rank, rbind, rownames, sapply, setdiff, sort, table,\n",
      "    tapply, union, unique, unsplit, which.max, which.min\n",
      "\n",
      "\n",
      "Loading required package: S4Vectors\n",
      "\n",
      "\n",
      "Attaching package: ‘S4Vectors’\n",
      "\n",
      "\n",
      "The following object is masked from ‘package:base’:\n",
      "\n",
      "    expand.grid\n",
      "\n",
      "\n",
      "Loading required package: IRanges\n",
      "\n",
      "Loading required package: GenomeInfoDb\n",
      "\n"
     ]
    }
   ],
   "source": [
    "library(\"IRdisplay\")\n",
    "library(GenomicRanges)"
   ]
  },
  {
   "cell_type": "markdown",
   "id": "1d9dbf51-4e08-49f4-a4af-866bd6314895",
   "metadata": {},
   "source": [
    "## GC-motif"
   ]
  },
  {
   "cell_type": "code",
   "execution_count": 3,
   "id": "d8a1bf61-66ce-461e-85c4-e3ad887fce1f",
   "metadata": {},
   "outputs": [
    {
     "data": {
      "image/png": "[encoded data removed]"
     },
     "metadata": {},
     "output_type": "display_data"
    }
   ],
   "source": [
    "display_png(file='/project/Mechanogenomics_data/ATACseq_analysis/MotifEnrichment/distancesBtwMotifs/motif5.png')"
   ]
  },
  {
   "cell_type": "code",
   "execution_count": 10,
   "id": "0c4eae54-8856-46b5-a8bd-e1c42a976457",
   "metadata": {},
   "outputs": [],
   "source": [
    "names_list = c(\"ID\",\"Chr\",\"Start\",\"End\",\"Strand\",\"Peak Score\",\"Focus Ratio/Region Size\",\"Annotation\",\"Detailed Annotation\",\"Distance to TSS\",\"Nearest PromoterID\",\"Entrez ID\",\"Nearest Unigene\",\"Nearest Refseq\",\"Nearest Ensembl\",\"Gene Name\",\"Gene Alias\",\"Gene Description\",\"Gene Type\",\"CpG%\",\"GC%\",\"hit\"\n",
    ")"
   ]
  },
  {
   "cell_type": "code",
   "execution_count": 11,
   "id": "8ca94031-a8f0-41b8-94a6-c09b0b34b844",
   "metadata": {},
   "outputs": [
    {
     "data": {
      "text/html": [
       "<table class=\"dataframe\">\n",
       "<caption>A data.frame: 6 × 22</caption>\n",
       "<thead>\n",
       "\t<tr><th></th><th scope=col>ID</th><th scope=col>Chr</th><th scope=col>Start</th><th scope=col>End</th><th scope=col>Strand</th><th scope=col>Peak Score</th><th scope=col>Focus Ratio/Region Size</th><th scope=col>Annotation</th><th scope=col>Detailed Annotation</th><th scope=col>Distance to TSS</th><th scope=col>⋯</th><th scope=col>Nearest Unigene</th><th scope=col>Nearest Refseq</th><th scope=col>Nearest Ensembl</th><th scope=col>Gene Name</th><th scope=col>Gene Alias</th><th scope=col>Gene Description</th><th scope=col>Gene Type</th><th scope=col>CpG%</th><th scope=col>GC%</th><th scope=col>hit</th></tr>\n",
       "\t<tr><th></th><th scope=col>&lt;chr&gt;</th><th scope=col>&lt;chr&gt;</th><th scope=col>&lt;int&gt;</th><th scope=col>&lt;int&gt;</th><th scope=col>&lt;chr&gt;</th><th scope=col>&lt;int&gt;</th><th scope=col>&lt;lgl&gt;</th><th scope=col>&lt;chr&gt;</th><th scope=col>&lt;lgl&gt;</th><th scope=col>&lt;int&gt;</th><th scope=col>⋯</th><th scope=col>&lt;chr&gt;</th><th scope=col>&lt;chr&gt;</th><th scope=col>&lt;chr&gt;</th><th scope=col>&lt;chr&gt;</th><th scope=col>&lt;chr&gt;</th><th scope=col>&lt;chr&gt;</th><th scope=col>&lt;chr&gt;</th><th scope=col>&lt;dbl&gt;</th><th scope=col>&lt;dbl&gt;</th><th scope=col>&lt;chr&gt;</th></tr>\n",
       "</thead>\n",
       "<tbody>\n",
       "\t<tr><th scope=row>1</th><td>chr1_101376595_101376996_S1PR1  </td><td>chr1 </td><td>101376696</td><td>101376896</td><td>+</td><td>0</td><td>NA</td><td>intron (ENST00000444327.1, intron 1 of 1)  </td><td>NA</td><td>26747</td><td>⋯</td><td></td><td></td><td></td><td></td><td></td><td></td><td></td><td>0.010</td><td>0.383085</td><td>                    </td></tr>\n",
       "\t<tr><th scope=row>2</th><td>chr2_140988684_140989085_LRP1B  </td><td>chr2 </td><td>140988785</td><td>140988985</td><td>+</td><td>0</td><td>NA</td><td>intron (ENST00000434794.1, intron 2 of 13) </td><td>NA</td><td>-3658</td><td>⋯</td><td></td><td></td><td></td><td></td><td></td><td></td><td></td><td>0.000</td><td>0.288557</td><td>                    </td></tr>\n",
       "\t<tr><th scope=row>3</th><td>chr12_108668571_108668972_SELPLG</td><td>chr12</td><td>108668672</td><td>108668872</td><td>+</td><td>0</td><td>NA</td><td>TTS (ENST00000459456.1)                    </td><td>NA</td><td>  324</td><td>⋯</td><td></td><td></td><td></td><td></td><td></td><td></td><td></td><td>0.000</td><td>0.333333</td><td>                    </td></tr>\n",
       "\t<tr><th scope=row>4</th><td>chr22_28714156_28714557_HSCB    </td><td>chr22</td><td> 28714257</td><td> 28714457</td><td>+</td><td>0</td><td>NA</td><td>intron (ENST00000439346.5, intron 2 of 5)  </td><td>NA</td><td>-1862</td><td>⋯</td><td></td><td></td><td></td><td></td><td></td><td></td><td></td><td>0.005</td><td>0.407960</td><td>77(CTGTCGCC,+,0.00) </td></tr>\n",
       "\t<tr><th scope=row>5</th><td>chr6_126015807_126016208_TRMT11 </td><td>chr6 </td><td>126015908</td><td>126016108</td><td>+</td><td>0</td><td>NA</td><td>intron (ENST00000648977.1, intron 13 of 22)</td><td>NA</td><td> 9166</td><td>⋯</td><td></td><td></td><td></td><td></td><td></td><td></td><td></td><td>0.005</td><td>0.373134</td><td>                    </td></tr>\n",
       "\t<tr><th scope=row>6</th><td>chr12_77957053_77957454_NAV3    </td><td>chr12</td><td> 77957154</td><td> 77957354</td><td>+</td><td>0</td><td>NA</td><td>intron (ENST00000550042.2, intron 4 of 8)  </td><td>NA</td><td>-9022</td><td>⋯</td><td></td><td></td><td></td><td></td><td></td><td></td><td></td><td>0.000</td><td>0.333333</td><td>-48(CTGTCTCC,+,0.00)</td></tr>\n",
       "</tbody>\n",
       "</table>\n"
      ],
      "text/latex": [
       "A data.frame: 6 × 22\n",
       "\\begin{tabular}{r|lllllllllllllllllllll}\n",
       "  & ID & Chr & Start & End & Strand & Peak Score & Focus Ratio/Region Size & Annotation & Detailed Annotation & Distance to TSS & ⋯ & Nearest Unigene & Nearest Refseq & Nearest Ensembl & Gene Name & Gene Alias & Gene Description & Gene Type & CpG\\% & GC\\% & hit\\\\\n",
       "  & <chr> & <chr> & <int> & <int> & <chr> & <int> & <lgl> & <chr> & <lgl> & <int> & ⋯ & <chr> & <chr> & <chr> & <chr> & <chr> & <chr> & <chr> & <dbl> & <dbl> & <chr>\\\\\n",
       "\\hline\n",
       "\t1 & chr1\\_101376595\\_101376996\\_S1PR1   & chr1  & 101376696 & 101376896 & + & 0 & NA & intron (ENST00000444327.1, intron 1 of 1)   & NA & 26747 & ⋯ &  &  &  &  &  &  &  & 0.010 & 0.383085 &                     \\\\\n",
       "\t2 & chr2\\_140988684\\_140989085\\_LRP1B   & chr2  & 140988785 & 140988985 & + & 0 & NA & intron (ENST00000434794.1, intron 2 of 13)  & NA & -3658 & ⋯ &  &  &  &  &  &  &  & 0.000 & 0.288557 &                     \\\\\n",
       "\t3 & chr12\\_108668571\\_108668972\\_SELPLG & chr12 & 108668672 & 108668872 & + & 0 & NA & TTS (ENST00000459456.1)                     & NA &   324 & ⋯ &  &  &  &  &  &  &  & 0.000 & 0.333333 &                     \\\\\n",
       "\t4 & chr22\\_28714156\\_28714557\\_HSCB     & chr22 &  28714257 &  28714457 & + & 0 & NA & intron (ENST00000439346.5, intron 2 of 5)   & NA & -1862 & ⋯ &  &  &  &  &  &  &  & 0.005 & 0.407960 & 77(CTGTCGCC,+,0.00) \\\\\n",
       "\t5 & chr6\\_126015807\\_126016208\\_TRMT11  & chr6  & 126015908 & 126016108 & + & 0 & NA & intron (ENST00000648977.1, intron 13 of 22) & NA &  9166 & ⋯ &  &  &  &  &  &  &  & 0.005 & 0.373134 &                     \\\\\n",
       "\t6 & chr12\\_77957053\\_77957454\\_NAV3     & chr12 &  77957154 &  77957354 & + & 0 & NA & intron (ENST00000550042.2, intron 4 of 8)   & NA & -9022 & ⋯ &  &  &  &  &  &  &  & 0.000 & 0.333333 & -48(CTGTCTCC,+,0.00)\\\\\n",
       "\\end{tabular}\n"
      ],
      "text/markdown": [
       "\n",
       "A data.frame: 6 × 22\n",
       "\n",
       "| <!--/--> | ID &lt;chr&gt; | Chr &lt;chr&gt; | Start &lt;int&gt; | End &lt;int&gt; | Strand &lt;chr&gt; | Peak Score &lt;int&gt; | Focus Ratio/Region Size &lt;lgl&gt; | Annotation &lt;chr&gt; | Detailed Annotation &lt;lgl&gt; | Distance to TSS &lt;int&gt; | ⋯ ⋯ | Nearest Unigene &lt;chr&gt; | Nearest Refseq &lt;chr&gt; | Nearest Ensembl &lt;chr&gt; | Gene Name &lt;chr&gt; | Gene Alias &lt;chr&gt; | Gene Description &lt;chr&gt; | Gene Type &lt;chr&gt; | CpG% &lt;dbl&gt; | GC% &lt;dbl&gt; | hit &lt;chr&gt; |\n",
       "|---|---|---|---|---|---|---|---|---|---|---|---|---|---|---|---|---|---|---|---|---|---|\n",
       "| 1 | chr1_101376595_101376996_S1PR1   | chr1  | 101376696 | 101376896 | + | 0 | NA | intron (ENST00000444327.1, intron 1 of 1)   | NA | 26747 | ⋯ | <!----> | <!----> | <!----> | <!----> | <!----> | <!----> | <!----> | 0.010 | 0.383085 | <!----> |\n",
       "| 2 | chr2_140988684_140989085_LRP1B   | chr2  | 140988785 | 140988985 | + | 0 | NA | intron (ENST00000434794.1, intron 2 of 13)  | NA | -3658 | ⋯ | <!----> | <!----> | <!----> | <!----> | <!----> | <!----> | <!----> | 0.000 | 0.288557 | <!----> |\n",
       "| 3 | chr12_108668571_108668972_SELPLG | chr12 | 108668672 | 108668872 | + | 0 | NA | TTS (ENST00000459456.1)                     | NA |   324 | ⋯ | <!----> | <!----> | <!----> | <!----> | <!----> | <!----> | <!----> | 0.000 | 0.333333 | <!----> |\n",
       "| 4 | chr22_28714156_28714557_HSCB     | chr22 |  28714257 |  28714457 | + | 0 | NA | intron (ENST00000439346.5, intron 2 of 5)   | NA | -1862 | ⋯ | <!----> | <!----> | <!----> | <!----> | <!----> | <!----> | <!----> | 0.005 | 0.407960 | 77(CTGTCGCC,+,0.00)  |\n",
       "| 5 | chr6_126015807_126016208_TRMT11  | chr6  | 126015908 | 126016108 | + | 0 | NA | intron (ENST00000648977.1, intron 13 of 22) | NA |  9166 | ⋯ | <!----> | <!----> | <!----> | <!----> | <!----> | <!----> | <!----> | 0.005 | 0.373134 | <!----> |\n",
       "| 6 | chr12_77957053_77957454_NAV3     | chr12 |  77957154 |  77957354 | + | 0 | NA | intron (ENST00000550042.2, intron 4 of 8)   | NA | -9022 | ⋯ | <!----> | <!----> | <!----> | <!----> | <!----> | <!----> | <!----> | 0.000 | 0.333333 | -48(CTGTCTCC,+,0.00) |\n",
       "\n"
      ],
      "text/plain": [
       "  ID                               Chr   Start     End       Strand Peak Score\n",
       "1 chr1_101376595_101376996_S1PR1   chr1  101376696 101376896 +      0         \n",
       "2 chr2_140988684_140989085_LRP1B   chr2  140988785 140988985 +      0         \n",
       "3 chr12_108668571_108668972_SELPLG chr12 108668672 108668872 +      0         \n",
       "4 chr22_28714156_28714557_HSCB     chr22  28714257  28714457 +      0         \n",
       "5 chr6_126015807_126016208_TRMT11  chr6  126015908 126016108 +      0         \n",
       "6 chr12_77957053_77957454_NAV3     chr12  77957154  77957354 +      0         \n",
       "  Focus Ratio/Region Size Annotation                                 \n",
       "1 NA                      intron (ENST00000444327.1, intron 1 of 1)  \n",
       "2 NA                      intron (ENST00000434794.1, intron 2 of 13) \n",
       "3 NA                      TTS (ENST00000459456.1)                    \n",
       "4 NA                      intron (ENST00000439346.5, intron 2 of 5)  \n",
       "5 NA                      intron (ENST00000648977.1, intron 13 of 22)\n",
       "6 NA                      intron (ENST00000550042.2, intron 4 of 8)  \n",
       "  Detailed Annotation Distance to TSS ⋯ Nearest Unigene Nearest Refseq\n",
       "1 NA                  26747           ⋯                               \n",
       "2 NA                  -3658           ⋯                               \n",
       "3 NA                    324           ⋯                               \n",
       "4 NA                  -1862           ⋯                               \n",
       "5 NA                   9166           ⋯                               \n",
       "6 NA                  -9022           ⋯                               \n",
       "  Nearest Ensembl Gene Name Gene Alias Gene Description Gene Type CpG% \n",
       "1                                                                 0.010\n",
       "2                                                                 0.000\n",
       "3                                                                 0.000\n",
       "4                                                                 0.005\n",
       "5                                                                 0.005\n",
       "6                                                                 0.000\n",
       "  GC%      hit                 \n",
       "1 0.383085                     \n",
       "2 0.288557                     \n",
       "3 0.333333                     \n",
       "4 0.407960 77(CTGTCGCC,+,0.00) \n",
       "5 0.373134                     \n",
       "6 0.333333 -48(CTGTCTCC,+,0.00)"
      ]
     },
     "metadata": {},
     "output_type": "display_data"
    }
   ],
   "source": [
    "# get the motif occurances\n",
    "GCmotif_instances = read.table(\"/project/Mechanogenomics_data/ATACseq_analysis/MotifEnrichment/instancesOfSpecificMotifs/stat_bmp9_VS_stat_cont_FC_biger_1.5_motif5_200.txt\", sep = \"\\t\", header = F, quote=\"\\\"\")#quote=\"\\\"*\")\n",
    "colnames(GCmotif_instances) = names_list\n",
    "head(GCmotif_instances)\n",
    "\n"
   ]
  },
  {
   "cell_type": "code",
   "execution_count": 12,
   "id": "653b2819-41c6-45ea-a007-07fbc21b95d7",
   "metadata": {},
   "outputs": [
    {
     "data": {
      "text/html": [
       "<table class=\"dataframe\">\n",
       "<caption>A data.frame: 6 × 22</caption>\n",
       "<thead>\n",
       "\t<tr><th></th><th scope=col>ID</th><th scope=col>Chr</th><th scope=col>Start</th><th scope=col>End</th><th scope=col>Strand</th><th scope=col>Peak Score</th><th scope=col>Focus Ratio/Region Size</th><th scope=col>Annotation</th><th scope=col>Detailed Annotation</th><th scope=col>Distance to TSS</th><th scope=col>⋯</th><th scope=col>Nearest Unigene</th><th scope=col>Nearest Refseq</th><th scope=col>Nearest Ensembl</th><th scope=col>Gene Name</th><th scope=col>Gene Alias</th><th scope=col>Gene Description</th><th scope=col>Gene Type</th><th scope=col>CpG%</th><th scope=col>GC%</th><th scope=col>hit</th></tr>\n",
       "\t<tr><th></th><th scope=col>&lt;chr&gt;</th><th scope=col>&lt;chr&gt;</th><th scope=col>&lt;int&gt;</th><th scope=col>&lt;int&gt;</th><th scope=col>&lt;chr&gt;</th><th scope=col>&lt;int&gt;</th><th scope=col>&lt;lgl&gt;</th><th scope=col>&lt;chr&gt;</th><th scope=col>&lt;lgl&gt;</th><th scope=col>&lt;int&gt;</th><th scope=col>⋯</th><th scope=col>&lt;chr&gt;</th><th scope=col>&lt;chr&gt;</th><th scope=col>&lt;chr&gt;</th><th scope=col>&lt;chr&gt;</th><th scope=col>&lt;chr&gt;</th><th scope=col>&lt;chr&gt;</th><th scope=col>&lt;chr&gt;</th><th scope=col>&lt;dbl&gt;</th><th scope=col>&lt;dbl&gt;</th><th scope=col>&lt;chr&gt;</th></tr>\n",
       "</thead>\n",
       "<tbody>\n",
       "\t<tr><th scope=row>1</th><td>chr22_28714156_28714557_HSCB </td><td>chr22</td><td> 28714257</td><td> 28714457</td><td>+</td><td>0</td><td>NA</td><td>intron (ENST00000439346.5, intron 2 of 5)  </td><td>NA</td><td> -1862</td><td>⋯</td><td></td><td></td><td></td><td></td><td></td><td></td><td></td><td>0.005</td><td>0.407960</td><td>77(CTGTCGCC,+,0.00)                    </td></tr>\n",
       "\t<tr><th scope=row>2</th><td>chr12_77957053_77957454_NAV3 </td><td>chr12</td><td> 77957154</td><td> 77957354</td><td>+</td><td>0</td><td>NA</td><td>intron (ENST00000550042.2, intron 4 of 8)  </td><td>NA</td><td> -9022</td><td>⋯</td><td></td><td></td><td></td><td></td><td></td><td></td><td></td><td>0.000</td><td>0.333333</td><td>-48(CTGTCTCC,+,0.00)                   </td></tr>\n",
       "\t<tr><th scope=row>3</th><td>chrX_37457403_37457804_NA    </td><td>chrX </td><td> 37457504</td><td> 37457704</td><td>+</td><td>0</td><td>NA</td><td>TTS (ENST00000378628.8)                    </td><td>NA</td><td> 16081</td><td>⋯</td><td></td><td></td><td></td><td></td><td></td><td></td><td></td><td>0.005</td><td>0.412935</td><td>18(GGAGCCTG,-,0.00)                    </td></tr>\n",
       "\t<tr><th scope=row>4</th><td>chr8_119193733_119194134_MAL2</td><td>chr8 </td><td>119193834</td><td>119194034</td><td>+</td><td>0</td><td>NA</td><td>intron (ENST00000522112.6, intron 2 of 4)  </td><td>NA</td><td>-14015</td><td>⋯</td><td></td><td></td><td></td><td></td><td></td><td></td><td></td><td>0.005</td><td>0.412935</td><td>21(TTGGCTCC,+,0.00),23(GGCTCCAA,-,0.00)</td></tr>\n",
       "\t<tr><th scope=row>5</th><td>chr2_96146942_96147343_DUSP2 </td><td>chr2 </td><td> 96147043</td><td> 96147243</td><td>+</td><td>0</td><td>NA</td><td>promoter-TSS (ENST00000449242.1)           </td><td>NA</td><td>  -131</td><td>⋯</td><td></td><td></td><td></td><td></td><td></td><td></td><td></td><td>0.015</td><td>0.572139</td><td>-100(GGCTCCAA,-,0.00)                  </td></tr>\n",
       "\t<tr><th scope=row>6</th><td>chr12_26640717_26641118_ITPR2</td><td>chr12</td><td> 26640818</td><td> 26641018</td><td>+</td><td>0</td><td>NA</td><td>intron (ENST00000381340.7, intron 21 of 56)</td><td>NA</td><td>-10204</td><td>⋯</td><td></td><td></td><td></td><td></td><td></td><td></td><td></td><td>0.010</td><td>0.402985</td><td>4(GGAGACAG,-,0.00)                     </td></tr>\n",
       "</tbody>\n",
       "</table>\n"
      ],
      "text/latex": [
       "A data.frame: 6 × 22\n",
       "\\begin{tabular}{r|lllllllllllllllllllll}\n",
       "  & ID & Chr & Start & End & Strand & Peak Score & Focus Ratio/Region Size & Annotation & Detailed Annotation & Distance to TSS & ⋯ & Nearest Unigene & Nearest Refseq & Nearest Ensembl & Gene Name & Gene Alias & Gene Description & Gene Type & CpG\\% & GC\\% & hit\\\\\n",
       "  & <chr> & <chr> & <int> & <int> & <chr> & <int> & <lgl> & <chr> & <lgl> & <int> & ⋯ & <chr> & <chr> & <chr> & <chr> & <chr> & <chr> & <chr> & <dbl> & <dbl> & <chr>\\\\\n",
       "\\hline\n",
       "\t1 & chr22\\_28714156\\_28714557\\_HSCB  & chr22 &  28714257 &  28714457 & + & 0 & NA & intron (ENST00000439346.5, intron 2 of 5)   & NA &  -1862 & ⋯ &  &  &  &  &  &  &  & 0.005 & 0.407960 & 77(CTGTCGCC,+,0.00)                    \\\\\n",
       "\t2 & chr12\\_77957053\\_77957454\\_NAV3  & chr12 &  77957154 &  77957354 & + & 0 & NA & intron (ENST00000550042.2, intron 4 of 8)   & NA &  -9022 & ⋯ &  &  &  &  &  &  &  & 0.000 & 0.333333 & -48(CTGTCTCC,+,0.00)                   \\\\\n",
       "\t3 & chrX\\_37457403\\_37457804\\_NA     & chrX  &  37457504 &  37457704 & + & 0 & NA & TTS (ENST00000378628.8)                     & NA &  16081 & ⋯ &  &  &  &  &  &  &  & 0.005 & 0.412935 & 18(GGAGCCTG,-,0.00)                    \\\\\n",
       "\t4 & chr8\\_119193733\\_119194134\\_MAL2 & chr8  & 119193834 & 119194034 & + & 0 & NA & intron (ENST00000522112.6, intron 2 of 4)   & NA & -14015 & ⋯ &  &  &  &  &  &  &  & 0.005 & 0.412935 & 21(TTGGCTCC,+,0.00),23(GGCTCCAA,-,0.00)\\\\\n",
       "\t5 & chr2\\_96146942\\_96147343\\_DUSP2  & chr2  &  96147043 &  96147243 & + & 0 & NA & promoter-TSS (ENST00000449242.1)            & NA &   -131 & ⋯ &  &  &  &  &  &  &  & 0.015 & 0.572139 & -100(GGCTCCAA,-,0.00)                  \\\\\n",
       "\t6 & chr12\\_26640717\\_26641118\\_ITPR2 & chr12 &  26640818 &  26641018 & + & 0 & NA & intron (ENST00000381340.7, intron 21 of 56) & NA & -10204 & ⋯ &  &  &  &  &  &  &  & 0.010 & 0.402985 & 4(GGAGACAG,-,0.00)                     \\\\\n",
       "\\end{tabular}\n"
      ],
      "text/markdown": [
       "\n",
       "A data.frame: 6 × 22\n",
       "\n",
       "| <!--/--> | ID &lt;chr&gt; | Chr &lt;chr&gt; | Start &lt;int&gt; | End &lt;int&gt; | Strand &lt;chr&gt; | Peak Score &lt;int&gt; | Focus Ratio/Region Size &lt;lgl&gt; | Annotation &lt;chr&gt; | Detailed Annotation &lt;lgl&gt; | Distance to TSS &lt;int&gt; | ⋯ ⋯ | Nearest Unigene &lt;chr&gt; | Nearest Refseq &lt;chr&gt; | Nearest Ensembl &lt;chr&gt; | Gene Name &lt;chr&gt; | Gene Alias &lt;chr&gt; | Gene Description &lt;chr&gt; | Gene Type &lt;chr&gt; | CpG% &lt;dbl&gt; | GC% &lt;dbl&gt; | hit &lt;chr&gt; |\n",
       "|---|---|---|---|---|---|---|---|---|---|---|---|---|---|---|---|---|---|---|---|---|---|\n",
       "| 1 | chr22_28714156_28714557_HSCB  | chr22 |  28714257 |  28714457 | + | 0 | NA | intron (ENST00000439346.5, intron 2 of 5)   | NA |  -1862 | ⋯ | <!----> | <!----> | <!----> | <!----> | <!----> | <!----> | <!----> | 0.005 | 0.407960 | 77(CTGTCGCC,+,0.00)                     |\n",
       "| 2 | chr12_77957053_77957454_NAV3  | chr12 |  77957154 |  77957354 | + | 0 | NA | intron (ENST00000550042.2, intron 4 of 8)   | NA |  -9022 | ⋯ | <!----> | <!----> | <!----> | <!----> | <!----> | <!----> | <!----> | 0.000 | 0.333333 | -48(CTGTCTCC,+,0.00)                    |\n",
       "| 3 | chrX_37457403_37457804_NA     | chrX  |  37457504 |  37457704 | + | 0 | NA | TTS (ENST00000378628.8)                     | NA |  16081 | ⋯ | <!----> | <!----> | <!----> | <!----> | <!----> | <!----> | <!----> | 0.005 | 0.412935 | 18(GGAGCCTG,-,0.00)                     |\n",
       "| 4 | chr8_119193733_119194134_MAL2 | chr8  | 119193834 | 119194034 | + | 0 | NA | intron (ENST00000522112.6, intron 2 of 4)   | NA | -14015 | ⋯ | <!----> | <!----> | <!----> | <!----> | <!----> | <!----> | <!----> | 0.005 | 0.412935 | 21(TTGGCTCC,+,0.00),23(GGCTCCAA,-,0.00) |\n",
       "| 5 | chr2_96146942_96147343_DUSP2  | chr2  |  96147043 |  96147243 | + | 0 | NA | promoter-TSS (ENST00000449242.1)            | NA |   -131 | ⋯ | <!----> | <!----> | <!----> | <!----> | <!----> | <!----> | <!----> | 0.015 | 0.572139 | -100(GGCTCCAA,-,0.00)                   |\n",
       "| 6 | chr12_26640717_26641118_ITPR2 | chr12 |  26640818 |  26641018 | + | 0 | NA | intron (ENST00000381340.7, intron 21 of 56) | NA | -10204 | ⋯ | <!----> | <!----> | <!----> | <!----> | <!----> | <!----> | <!----> | 0.010 | 0.402985 | 4(GGAGACAG,-,0.00)                      |\n",
       "\n"
      ],
      "text/plain": [
       "  ID                            Chr   Start     End       Strand Peak Score\n",
       "1 chr22_28714156_28714557_HSCB  chr22  28714257  28714457 +      0         \n",
       "2 chr12_77957053_77957454_NAV3  chr12  77957154  77957354 +      0         \n",
       "3 chrX_37457403_37457804_NA     chrX   37457504  37457704 +      0         \n",
       "4 chr8_119193733_119194134_MAL2 chr8  119193834 119194034 +      0         \n",
       "5 chr2_96146942_96147343_DUSP2  chr2   96147043  96147243 +      0         \n",
       "6 chr12_26640717_26641118_ITPR2 chr12  26640818  26641018 +      0         \n",
       "  Focus Ratio/Region Size Annotation                                 \n",
       "1 NA                      intron (ENST00000439346.5, intron 2 of 5)  \n",
       "2 NA                      intron (ENST00000550042.2, intron 4 of 8)  \n",
       "3 NA                      TTS (ENST00000378628.8)                    \n",
       "4 NA                      intron (ENST00000522112.6, intron 2 of 4)  \n",
       "5 NA                      promoter-TSS (ENST00000449242.1)           \n",
       "6 NA                      intron (ENST00000381340.7, intron 21 of 56)\n",
       "  Detailed Annotation Distance to TSS ⋯ Nearest Unigene Nearest Refseq\n",
       "1 NA                   -1862          ⋯                               \n",
       "2 NA                   -9022          ⋯                               \n",
       "3 NA                   16081          ⋯                               \n",
       "4 NA                  -14015          ⋯                               \n",
       "5 NA                    -131          ⋯                               \n",
       "6 NA                  -10204          ⋯                               \n",
       "  Nearest Ensembl Gene Name Gene Alias Gene Description Gene Type CpG% \n",
       "1                                                                 0.005\n",
       "2                                                                 0.000\n",
       "3                                                                 0.005\n",
       "4                                                                 0.005\n",
       "5                                                                 0.015\n",
       "6                                                                 0.010\n",
       "  GC%      hit                                    \n",
       "1 0.407960 77(CTGTCGCC,+,0.00)                    \n",
       "2 0.333333 -48(CTGTCTCC,+,0.00)                   \n",
       "3 0.412935 18(GGAGCCTG,-,0.00)                    \n",
       "4 0.412935 21(TTGGCTCC,+,0.00),23(GGCTCCAA,-,0.00)\n",
       "5 0.572139 -100(GGCTCCAA,-,0.00)                  \n",
       "6 0.402985 4(GGAGACAG,-,0.00)                     "
      ]
     },
     "metadata": {},
     "output_type": "display_data"
    }
   ],
   "source": [
    "# select the columns which actually has a hit\n",
    "GCmotif_instances_hits = GCmotif_instances[GCmotif_instances$hit!='',]\n",
    "rownames(GCmotif_instances_hits) <- 1:nrow(GCmotif_instances_hits)\n",
    "head(GCmotif_instances_hits)"
   ]
  },
  {
   "cell_type": "code",
   "execution_count": 13,
   "id": "90bcecf7-9cd1-418b-9a98-d3683b114136",
   "metadata": {},
   "outputs": [
    {
     "data": {
      "text/plain": [
       "GRanges object with 81 ranges and 19 metadata columns:\n",
       "       seqnames              ranges strand |                     ID      Strand\n",
       "          <Rle>           <IRanges>  <Rle> |            <character> <character>\n",
       "   [1]    chr22   28714257-28714457      * | chr22_28714156_28714..           +\n",
       "   [2]    chr12   77957154-77957354      * | chr12_77957053_77957..           +\n",
       "   [3]     chrX   37457504-37457704      * | chrX_37457403_374578..           +\n",
       "   [4]     chr8 119193834-119194034      * | chr8_119193733_11919..           +\n",
       "   [5]     chr2   96147043-96147243      * | chr2_96146942_961473..           +\n",
       "   ...      ...                 ...    ... .                    ...         ...\n",
       "  [77]     chr8   56175202-56175402      * | chr8_56175101_561755..           +\n",
       "  [78]     chr7   86942180-86942380      * | chr7_86942079_869424..           +\n",
       "  [79]    chr15   66631055-66631255      * | chr15_66630954_66631..           +\n",
       "  [80]    chr19   46951436-46951636      * | chr19_46951335_46951..           +\n",
       "  [81]    chr18   27847533-27847733      * | chr18_27847432_27847..           +\n",
       "       Peak Score Focus Ratio/Region Size             Annotation\n",
       "        <integer>               <logical>            <character>\n",
       "   [1]          0                    <NA> intron (ENST00000439..\n",
       "   [2]          0                    <NA> intron (ENST00000550..\n",
       "   [3]          0                    <NA> TTS (ENST00000378628..\n",
       "   [4]          0                    <NA> intron (ENST00000522..\n",
       "   [5]          0                    <NA> promoter-TSS (ENST00..\n",
       "   ...        ...                     ...                    ...\n",
       "  [77]          0                    <NA> intron (ENST00000429..\n",
       "  [78]          0                    <NA> intron (ENST00000450..\n",
       "  [79]          0                    <NA> intron (ENST00000558..\n",
       "  [80]          0                    <NA> intron (ENST00000614..\n",
       "  [81]          0                    <NA>             Intergenic\n",
       "       Detailed Annotation Distance to TSS Nearest PromoterID Entrez ID\n",
       "                 <logical>       <integer>        <character> <integer>\n",
       "   [1]                <NA>           -1862  ENST00000648295.1      <NA>\n",
       "   [2]                <NA>           -9022  ENST00000547725.1      <NA>\n",
       "   [3]                <NA>           16081  ENST00000413104.1      <NA>\n",
       "   [4]                <NA>          -14015  ENST00000534619.5      <NA>\n",
       "   [5]                <NA>            -131  ENST00000449242.1      <NA>\n",
       "   ...                 ...             ...                ...       ...\n",
       "  [77]                <NA>           -3878  ENST00000522009.1      <NA>\n",
       "  [78]                <NA>            2766  ENST00000394714.6      <NA>\n",
       "  [79]                <NA>           48965  ENST00000558797.1 102723165\n",
       "  [80]                <NA>            5001  ENST00000624074.1      <NA>\n",
       "  [81]                <NA>         -106886  ENST00000423367.1      <NA>\n",
       "       Nearest Unigene Nearest Refseq Nearest Ensembl   Gene Name  Gene Alias\n",
       "           <character>    <character>     <character> <character> <character>\n",
       "   [1]                                                                       \n",
       "   [2]                                                                       \n",
       "   [3]                                                                       \n",
       "   [4]                                                                       \n",
       "   [5]                                                                       \n",
       "   ...             ...            ...             ...         ...         ...\n",
       "  [77]                                                                       \n",
       "  [78]                                                                       \n",
       "  [79]       Hs.636703      NR_110372 ENSG00000259471   LINC01169           -\n",
       "  [80]                                                                       \n",
       "  [81]                                                                       \n",
       "             Gene Description   Gene Type      CpG%       GC%\n",
       "                  <character> <character> <numeric> <numeric>\n",
       "   [1]                                        0.005  0.407960\n",
       "   [2]                                        0.000  0.333333\n",
       "   [3]                                        0.005  0.412935\n",
       "   [4]                                        0.005  0.412935\n",
       "   [5]                                        0.015  0.572139\n",
       "   ...                    ...         ...       ...       ...\n",
       "  [77]                                        0.015  0.437811\n",
       "  [78]                                        0.010  0.402985\n",
       "  [79] long intergenic non-..       ncRNA     0.035  0.676617\n",
       "  [80]                                        0.000  0.378109\n",
       "  [81]                                        0.010  0.388060\n",
       "                          hit\n",
       "                  <character>\n",
       "   [1]    77(CTGTCGCC,+,0.00)\n",
       "   [2]   -48(CTGTCTCC,+,0.00)\n",
       "   [3]    18(GGAGCCTG,-,0.00)\n",
       "   [4] 21(TTGGCTCC,+,0.00),..\n",
       "   [5]  -100(GGCTCCAA,-,0.00)\n",
       "   ...                    ...\n",
       "  [77]   -36(CTGGCTCC,+,0.00)\n",
       "  [78]   -26(CTGGAGCC,+,0.00)\n",
       "  [79] -82(GGAGACAG,-,0.00)..\n",
       "  [80] -45(TTGGAGCC,+,0.00)..\n",
       "  [81]   -57(TTGGCTCC,+,0.00)\n",
       "  -------\n",
       "  seqinfo: 19 sequences from an unspecified genome; no seqlengths"
      ]
     },
     "metadata": {},
     "output_type": "display_data"
    }
   ],
   "source": [
    "GCmotif_instances_gr = makeGRangesFromDataFrame(GCmotif_instances_hits,                         \n",
    "                         keep.extra.columns=T,\n",
    "                        ignore.strand=T,\n",
    "                         seqinfo=NULL,\n",
    "                         seqnames.field='Chr',\n",
    "                         start.field=\"Start\",\n",
    "                         end.field=\"End\",\n",
    "                         #strand.field=\"strand\",\n",
    "                         starts.in.df.are.0based=FALSE)\n",
    "GCmotif_instances_gr"
   ]
  },
  {
   "cell_type": "markdown",
   "id": "89b11a81-7288-4798-8685-7541da3f8a73",
   "metadata": {},
   "source": [
    "## CAGA-motf"
   ]
  },
  {
   "cell_type": "code",
   "execution_count": 8,
   "id": "e9e9d86e-3e36-4189-9e40-6ee783545075",
   "metadata": {},
   "outputs": [
    {
     "data": {
      "image/png": "[encoded data removed]"
     },
     "metadata": {},
     "output_type": "display_data"
    }
   ],
   "source": [
    "display_png(file='/project/Mechanogenomics_data/ATACseq_analysis/MotifEnrichment/distancesBtwMotifs/motif6.png')"
   ]
  },
  {
   "cell_type": "code",
   "execution_count": 15,
   "id": "05309403-6c70-477a-b11c-5e212939e8a7",
   "metadata": {},
   "outputs": [
    {
     "data": {
      "text/html": [
       "<table class=\"dataframe\">\n",
       "<caption>A data.frame: 6 × 22</caption>\n",
       "<thead>\n",
       "\t<tr><th></th><th scope=col>ID</th><th scope=col>Chr</th><th scope=col>Start</th><th scope=col>End</th><th scope=col>Strand</th><th scope=col>Peak Score</th><th scope=col>Focus Ratio/Region Size</th><th scope=col>Annotation</th><th scope=col>Detailed Annotation</th><th scope=col>Distance to TSS</th><th scope=col>⋯</th><th scope=col>Nearest Unigene</th><th scope=col>Nearest Refseq</th><th scope=col>Nearest Ensembl</th><th scope=col>Gene Name</th><th scope=col>Gene Alias</th><th scope=col>Gene Description</th><th scope=col>Gene Type</th><th scope=col>CpG%</th><th scope=col>GC%</th><th scope=col>hit</th></tr>\n",
       "\t<tr><th></th><th scope=col>&lt;chr&gt;</th><th scope=col>&lt;chr&gt;</th><th scope=col>&lt;int&gt;</th><th scope=col>&lt;int&gt;</th><th scope=col>&lt;chr&gt;</th><th scope=col>&lt;int&gt;</th><th scope=col>&lt;lgl&gt;</th><th scope=col>&lt;chr&gt;</th><th scope=col>&lt;lgl&gt;</th><th scope=col>&lt;int&gt;</th><th scope=col>⋯</th><th scope=col>&lt;chr&gt;</th><th scope=col>&lt;chr&gt;</th><th scope=col>&lt;chr&gt;</th><th scope=col>&lt;chr&gt;</th><th scope=col>&lt;chr&gt;</th><th scope=col>&lt;chr&gt;</th><th scope=col>&lt;chr&gt;</th><th scope=col>&lt;dbl&gt;</th><th scope=col>&lt;dbl&gt;</th><th scope=col>&lt;chr&gt;</th></tr>\n",
       "</thead>\n",
       "<tbody>\n",
       "\t<tr><th scope=row>1</th><td>chr1_101376595_101376996_S1PR1  </td><td>chr1 </td><td>101376696</td><td>101376896</td><td>+</td><td>0</td><td>NA</td><td>intron (ENST00000444327.1, intron 1 of 1)  </td><td>NA</td><td>26747</td><td>⋯</td><td></td><td></td><td></td><td></td><td></td><td></td><td></td><td>0.010</td><td>0.383085</td><td>76(GTCTGGTC,-,0.00) </td></tr>\n",
       "\t<tr><th scope=row>2</th><td>chr2_140988684_140989085_LRP1B  </td><td>chr2 </td><td>140988785</td><td>140988985</td><td>+</td><td>0</td><td>NA</td><td>intron (ENST00000434794.1, intron 2 of 13) </td><td>NA</td><td>-3658</td><td>⋯</td><td></td><td></td><td></td><td></td><td></td><td></td><td></td><td>0.000</td><td>0.288557</td><td>                    </td></tr>\n",
       "\t<tr><th scope=row>3</th><td>chr12_108668571_108668972_SELPLG</td><td>chr12</td><td>108668672</td><td>108668872</td><td>+</td><td>0</td><td>NA</td><td>TTS (ENST00000459456.1)                    </td><td>NA</td><td>  324</td><td>⋯</td><td></td><td></td><td></td><td></td><td></td><td></td><td></td><td>0.000</td><td>0.333333</td><td>-69(TCCCAGAC,+,0.00)</td></tr>\n",
       "\t<tr><th scope=row>4</th><td>chr22_28714156_28714557_HSCB    </td><td>chr22</td><td> 28714257</td><td> 28714457</td><td>+</td><td>0</td><td>NA</td><td>intron (ENST00000439346.5, intron 2 of 5)  </td><td>NA</td><td>-1862</td><td>⋯</td><td></td><td></td><td></td><td></td><td></td><td></td><td></td><td>0.005</td><td>0.407960</td><td>79(GTCGCCCA,-,0.00) </td></tr>\n",
       "\t<tr><th scope=row>5</th><td>chr6_126015807_126016208_TRMT11 </td><td>chr6 </td><td>126015908</td><td>126016108</td><td>+</td><td>0</td><td>NA</td><td>intron (ENST00000648977.1, intron 13 of 22)</td><td>NA</td><td> 9166</td><td>⋯</td><td></td><td></td><td></td><td></td><td></td><td></td><td></td><td>0.005</td><td>0.373134</td><td>-19(GTCTGGTC,-,0.00)</td></tr>\n",
       "\t<tr><th scope=row>6</th><td>chr12_77957053_77957454_NAV3    </td><td>chr12</td><td> 77957154</td><td> 77957354</td><td>+</td><td>0</td><td>NA</td><td>intron (ENST00000550042.2, intron 4 of 8)  </td><td>NA</td><td>-9022</td><td>⋯</td><td></td><td></td><td></td><td></td><td></td><td></td><td></td><td>0.000</td><td>0.333333</td><td>-46(GTCTCCTC,-,0.00)</td></tr>\n",
       "</tbody>\n",
       "</table>\n"
      ],
      "text/latex": [
       "A data.frame: 6 × 22\n",
       "\\begin{tabular}{r|lllllllllllllllllllll}\n",
       "  & ID & Chr & Start & End & Strand & Peak Score & Focus Ratio/Region Size & Annotation & Detailed Annotation & Distance to TSS & ⋯ & Nearest Unigene & Nearest Refseq & Nearest Ensembl & Gene Name & Gene Alias & Gene Description & Gene Type & CpG\\% & GC\\% & hit\\\\\n",
       "  & <chr> & <chr> & <int> & <int> & <chr> & <int> & <lgl> & <chr> & <lgl> & <int> & ⋯ & <chr> & <chr> & <chr> & <chr> & <chr> & <chr> & <chr> & <dbl> & <dbl> & <chr>\\\\\n",
       "\\hline\n",
       "\t1 & chr1\\_101376595\\_101376996\\_S1PR1   & chr1  & 101376696 & 101376896 & + & 0 & NA & intron (ENST00000444327.1, intron 1 of 1)   & NA & 26747 & ⋯ &  &  &  &  &  &  &  & 0.010 & 0.383085 & 76(GTCTGGTC,-,0.00) \\\\\n",
       "\t2 & chr2\\_140988684\\_140989085\\_LRP1B   & chr2  & 140988785 & 140988985 & + & 0 & NA & intron (ENST00000434794.1, intron 2 of 13)  & NA & -3658 & ⋯ &  &  &  &  &  &  &  & 0.000 & 0.288557 &                     \\\\\n",
       "\t3 & chr12\\_108668571\\_108668972\\_SELPLG & chr12 & 108668672 & 108668872 & + & 0 & NA & TTS (ENST00000459456.1)                     & NA &   324 & ⋯ &  &  &  &  &  &  &  & 0.000 & 0.333333 & -69(TCCCAGAC,+,0.00)\\\\\n",
       "\t4 & chr22\\_28714156\\_28714557\\_HSCB     & chr22 &  28714257 &  28714457 & + & 0 & NA & intron (ENST00000439346.5, intron 2 of 5)   & NA & -1862 & ⋯ &  &  &  &  &  &  &  & 0.005 & 0.407960 & 79(GTCGCCCA,-,0.00) \\\\\n",
       "\t5 & chr6\\_126015807\\_126016208\\_TRMT11  & chr6  & 126015908 & 126016108 & + & 0 & NA & intron (ENST00000648977.1, intron 13 of 22) & NA &  9166 & ⋯ &  &  &  &  &  &  &  & 0.005 & 0.373134 & -19(GTCTGGTC,-,0.00)\\\\\n",
       "\t6 & chr12\\_77957053\\_77957454\\_NAV3     & chr12 &  77957154 &  77957354 & + & 0 & NA & intron (ENST00000550042.2, intron 4 of 8)   & NA & -9022 & ⋯ &  &  &  &  &  &  &  & 0.000 & 0.333333 & -46(GTCTCCTC,-,0.00)\\\\\n",
       "\\end{tabular}\n"
      ],
      "text/markdown": [
       "\n",
       "A data.frame: 6 × 22\n",
       "\n",
       "| <!--/--> | ID &lt;chr&gt; | Chr &lt;chr&gt; | Start &lt;int&gt; | End &lt;int&gt; | Strand &lt;chr&gt; | Peak Score &lt;int&gt; | Focus Ratio/Region Size &lt;lgl&gt; | Annotation &lt;chr&gt; | Detailed Annotation &lt;lgl&gt; | Distance to TSS &lt;int&gt; | ⋯ ⋯ | Nearest Unigene &lt;chr&gt; | Nearest Refseq &lt;chr&gt; | Nearest Ensembl &lt;chr&gt; | Gene Name &lt;chr&gt; | Gene Alias &lt;chr&gt; | Gene Description &lt;chr&gt; | Gene Type &lt;chr&gt; | CpG% &lt;dbl&gt; | GC% &lt;dbl&gt; | hit &lt;chr&gt; |\n",
       "|---|---|---|---|---|---|---|---|---|---|---|---|---|---|---|---|---|---|---|---|---|---|\n",
       "| 1 | chr1_101376595_101376996_S1PR1   | chr1  | 101376696 | 101376896 | + | 0 | NA | intron (ENST00000444327.1, intron 1 of 1)   | NA | 26747 | ⋯ | <!----> | <!----> | <!----> | <!----> | <!----> | <!----> | <!----> | 0.010 | 0.383085 | 76(GTCTGGTC,-,0.00)  |\n",
       "| 2 | chr2_140988684_140989085_LRP1B   | chr2  | 140988785 | 140988985 | + | 0 | NA | intron (ENST00000434794.1, intron 2 of 13)  | NA | -3658 | ⋯ | <!----> | <!----> | <!----> | <!----> | <!----> | <!----> | <!----> | 0.000 | 0.288557 | <!----> |\n",
       "| 3 | chr12_108668571_108668972_SELPLG | chr12 | 108668672 | 108668872 | + | 0 | NA | TTS (ENST00000459456.1)                     | NA |   324 | ⋯ | <!----> | <!----> | <!----> | <!----> | <!----> | <!----> | <!----> | 0.000 | 0.333333 | -69(TCCCAGAC,+,0.00) |\n",
       "| 4 | chr22_28714156_28714557_HSCB     | chr22 |  28714257 |  28714457 | + | 0 | NA | intron (ENST00000439346.5, intron 2 of 5)   | NA | -1862 | ⋯ | <!----> | <!----> | <!----> | <!----> | <!----> | <!----> | <!----> | 0.005 | 0.407960 | 79(GTCGCCCA,-,0.00)  |\n",
       "| 5 | chr6_126015807_126016208_TRMT11  | chr6  | 126015908 | 126016108 | + | 0 | NA | intron (ENST00000648977.1, intron 13 of 22) | NA |  9166 | ⋯ | <!----> | <!----> | <!----> | <!----> | <!----> | <!----> | <!----> | 0.005 | 0.373134 | -19(GTCTGGTC,-,0.00) |\n",
       "| 6 | chr12_77957053_77957454_NAV3     | chr12 |  77957154 |  77957354 | + | 0 | NA | intron (ENST00000550042.2, intron 4 of 8)   | NA | -9022 | ⋯ | <!----> | <!----> | <!----> | <!----> | <!----> | <!----> | <!----> | 0.000 | 0.333333 | -46(GTCTCCTC,-,0.00) |\n",
       "\n"
      ],
      "text/plain": [
       "  ID                               Chr   Start     End       Strand Peak Score\n",
       "1 chr1_101376595_101376996_S1PR1   chr1  101376696 101376896 +      0         \n",
       "2 chr2_140988684_140989085_LRP1B   chr2  140988785 140988985 +      0         \n",
       "3 chr12_108668571_108668972_SELPLG chr12 108668672 108668872 +      0         \n",
       "4 chr22_28714156_28714557_HSCB     chr22  28714257  28714457 +      0         \n",
       "5 chr6_126015807_126016208_TRMT11  chr6  126015908 126016108 +      0         \n",
       "6 chr12_77957053_77957454_NAV3     chr12  77957154  77957354 +      0         \n",
       "  Focus Ratio/Region Size Annotation                                 \n",
       "1 NA                      intron (ENST00000444327.1, intron 1 of 1)  \n",
       "2 NA                      intron (ENST00000434794.1, intron 2 of 13) \n",
       "3 NA                      TTS (ENST00000459456.1)                    \n",
       "4 NA                      intron (ENST00000439346.5, intron 2 of 5)  \n",
       "5 NA                      intron (ENST00000648977.1, intron 13 of 22)\n",
       "6 NA                      intron (ENST00000550042.2, intron 4 of 8)  \n",
       "  Detailed Annotation Distance to TSS ⋯ Nearest Unigene Nearest Refseq\n",
       "1 NA                  26747           ⋯                               \n",
       "2 NA                  -3658           ⋯                               \n",
       "3 NA                    324           ⋯                               \n",
       "4 NA                  -1862           ⋯                               \n",
       "5 NA                   9166           ⋯                               \n",
       "6 NA                  -9022           ⋯                               \n",
       "  Nearest Ensembl Gene Name Gene Alias Gene Description Gene Type CpG% \n",
       "1                                                                 0.010\n",
       "2                                                                 0.000\n",
       "3                                                                 0.000\n",
       "4                                                                 0.005\n",
       "5                                                                 0.005\n",
       "6                                                                 0.000\n",
       "  GC%      hit                 \n",
       "1 0.383085 76(GTCTGGTC,-,0.00) \n",
       "2 0.288557                     \n",
       "3 0.333333 -69(TCCCAGAC,+,0.00)\n",
       "4 0.407960 79(GTCGCCCA,-,0.00) \n",
       "5 0.373134 -19(GTCTGGTC,-,0.00)\n",
       "6 0.333333 -46(GTCTCCTC,-,0.00)"
      ]
     },
     "metadata": {},
     "output_type": "display_data"
    }
   ],
   "source": [
    "CAGAmotif_instances = read.table(\"/project/Mechanogenomics_data/ATACseq_analysis/MotifEnrichment/instancesOfSpecificMotifs/stat_bmp9_VS_stat_cont_FC_biger_1.5_motif6_200.txt\", sep = \"\\t\", header = F)\n",
    "colnames(CAGAmotif_instances) = names_list\n",
    "head(CAGAmotif_instances)"
   ]
  },
  {
   "cell_type": "code",
   "execution_count": 16,
   "id": "fc485269-2bc9-4e19-97cc-e33a62b4b243",
   "metadata": {},
   "outputs": [
    {
     "data": {
      "text/html": [
       "<table class=\"dataframe\">\n",
       "<caption>A data.frame: 6 × 22</caption>\n",
       "<thead>\n",
       "\t<tr><th></th><th scope=col>ID</th><th scope=col>Chr</th><th scope=col>Start</th><th scope=col>End</th><th scope=col>Strand</th><th scope=col>Peak Score</th><th scope=col>Focus Ratio/Region Size</th><th scope=col>Annotation</th><th scope=col>Detailed Annotation</th><th scope=col>Distance to TSS</th><th scope=col>⋯</th><th scope=col>Nearest Unigene</th><th scope=col>Nearest Refseq</th><th scope=col>Nearest Ensembl</th><th scope=col>Gene Name</th><th scope=col>Gene Alias</th><th scope=col>Gene Description</th><th scope=col>Gene Type</th><th scope=col>CpG%</th><th scope=col>GC%</th><th scope=col>hit</th></tr>\n",
       "\t<tr><th></th><th scope=col>&lt;chr&gt;</th><th scope=col>&lt;chr&gt;</th><th scope=col>&lt;int&gt;</th><th scope=col>&lt;int&gt;</th><th scope=col>&lt;chr&gt;</th><th scope=col>&lt;int&gt;</th><th scope=col>&lt;lgl&gt;</th><th scope=col>&lt;chr&gt;</th><th scope=col>&lt;lgl&gt;</th><th scope=col>&lt;int&gt;</th><th scope=col>⋯</th><th scope=col>&lt;chr&gt;</th><th scope=col>&lt;chr&gt;</th><th scope=col>&lt;chr&gt;</th><th scope=col>&lt;chr&gt;</th><th scope=col>&lt;chr&gt;</th><th scope=col>&lt;chr&gt;</th><th scope=col>&lt;chr&gt;</th><th scope=col>&lt;dbl&gt;</th><th scope=col>&lt;dbl&gt;</th><th scope=col>&lt;chr&gt;</th></tr>\n",
       "</thead>\n",
       "<tbody>\n",
       "\t<tr><th scope=row>1</th><td>chr1_101376595_101376996_S1PR1  </td><td>chr1 </td><td>101376696</td><td>101376896</td><td>+</td><td>0</td><td>NA</td><td>intron (ENST00000444327.1, intron 1 of 1)  </td><td>NA</td><td> 26747</td><td>⋯</td><td></td><td></td><td></td><td></td><td></td><td></td><td></td><td>0.010</td><td>0.383085</td><td>76(GTCTGGTC,-,0.00) </td></tr>\n",
       "\t<tr><th scope=row>2</th><td>chr12_108668571_108668972_SELPLG</td><td>chr12</td><td>108668672</td><td>108668872</td><td>+</td><td>0</td><td>NA</td><td>TTS (ENST00000459456.1)                    </td><td>NA</td><td>   324</td><td>⋯</td><td></td><td></td><td></td><td></td><td></td><td></td><td></td><td>0.000</td><td>0.333333</td><td>-69(TCCCAGAC,+,0.00)</td></tr>\n",
       "\t<tr><th scope=row>3</th><td>chr22_28714156_28714557_HSCB    </td><td>chr22</td><td> 28714257</td><td> 28714457</td><td>+</td><td>0</td><td>NA</td><td>intron (ENST00000439346.5, intron 2 of 5)  </td><td>NA</td><td> -1862</td><td>⋯</td><td></td><td></td><td></td><td></td><td></td><td></td><td></td><td>0.005</td><td>0.407960</td><td>79(GTCGCCCA,-,0.00) </td></tr>\n",
       "\t<tr><th scope=row>4</th><td>chr6_126015807_126016208_TRMT11 </td><td>chr6 </td><td>126015908</td><td>126016108</td><td>+</td><td>0</td><td>NA</td><td>intron (ENST00000648977.1, intron 13 of 22)</td><td>NA</td><td>  9166</td><td>⋯</td><td></td><td></td><td></td><td></td><td></td><td></td><td></td><td>0.005</td><td>0.373134</td><td>-19(GTCTGGTC,-,0.00)</td></tr>\n",
       "\t<tr><th scope=row>5</th><td>chr12_77957053_77957454_NAV3    </td><td>chr12</td><td> 77957154</td><td> 77957354</td><td>+</td><td>0</td><td>NA</td><td>intron (ENST00000550042.2, intron 4 of 8)  </td><td>NA</td><td> -9022</td><td>⋯</td><td></td><td></td><td></td><td></td><td></td><td></td><td></td><td>0.000</td><td>0.333333</td><td>-46(GTCTCCTC,-,0.00)</td></tr>\n",
       "\t<tr><th scope=row>6</th><td>chr8_119193733_119194134_MAL2   </td><td>chr8 </td><td>119193834</td><td>119194034</td><td>+</td><td>0</td><td>NA</td><td>intron (ENST00000522112.6, intron 2 of 4)  </td><td>NA</td><td>-14015</td><td>⋯</td><td></td><td></td><td></td><td></td><td></td><td></td><td></td><td>0.005</td><td>0.412935</td><td>11(TGGCAGAC,+,0.00) </td></tr>\n",
       "</tbody>\n",
       "</table>\n"
      ],
      "text/latex": [
       "A data.frame: 6 × 22\n",
       "\\begin{tabular}{r|lllllllllllllllllllll}\n",
       "  & ID & Chr & Start & End & Strand & Peak Score & Focus Ratio/Region Size & Annotation & Detailed Annotation & Distance to TSS & ⋯ & Nearest Unigene & Nearest Refseq & Nearest Ensembl & Gene Name & Gene Alias & Gene Description & Gene Type & CpG\\% & GC\\% & hit\\\\\n",
       "  & <chr> & <chr> & <int> & <int> & <chr> & <int> & <lgl> & <chr> & <lgl> & <int> & ⋯ & <chr> & <chr> & <chr> & <chr> & <chr> & <chr> & <chr> & <dbl> & <dbl> & <chr>\\\\\n",
       "\\hline\n",
       "\t1 & chr1\\_101376595\\_101376996\\_S1PR1   & chr1  & 101376696 & 101376896 & + & 0 & NA & intron (ENST00000444327.1, intron 1 of 1)   & NA &  26747 & ⋯ &  &  &  &  &  &  &  & 0.010 & 0.383085 & 76(GTCTGGTC,-,0.00) \\\\\n",
       "\t2 & chr12\\_108668571\\_108668972\\_SELPLG & chr12 & 108668672 & 108668872 & + & 0 & NA & TTS (ENST00000459456.1)                     & NA &    324 & ⋯ &  &  &  &  &  &  &  & 0.000 & 0.333333 & -69(TCCCAGAC,+,0.00)\\\\\n",
       "\t3 & chr22\\_28714156\\_28714557\\_HSCB     & chr22 &  28714257 &  28714457 & + & 0 & NA & intron (ENST00000439346.5, intron 2 of 5)   & NA &  -1862 & ⋯ &  &  &  &  &  &  &  & 0.005 & 0.407960 & 79(GTCGCCCA,-,0.00) \\\\\n",
       "\t4 & chr6\\_126015807\\_126016208\\_TRMT11  & chr6  & 126015908 & 126016108 & + & 0 & NA & intron (ENST00000648977.1, intron 13 of 22) & NA &   9166 & ⋯ &  &  &  &  &  &  &  & 0.005 & 0.373134 & -19(GTCTGGTC,-,0.00)\\\\\n",
       "\t5 & chr12\\_77957053\\_77957454\\_NAV3     & chr12 &  77957154 &  77957354 & + & 0 & NA & intron (ENST00000550042.2, intron 4 of 8)   & NA &  -9022 & ⋯ &  &  &  &  &  &  &  & 0.000 & 0.333333 & -46(GTCTCCTC,-,0.00)\\\\\n",
       "\t6 & chr8\\_119193733\\_119194134\\_MAL2    & chr8  & 119193834 & 119194034 & + & 0 & NA & intron (ENST00000522112.6, intron 2 of 4)   & NA & -14015 & ⋯ &  &  &  &  &  &  &  & 0.005 & 0.412935 & 11(TGGCAGAC,+,0.00) \\\\\n",
       "\\end{tabular}\n"
      ],
      "text/markdown": [
       "\n",
       "A data.frame: 6 × 22\n",
       "\n",
       "| <!--/--> | ID &lt;chr&gt; | Chr &lt;chr&gt; | Start &lt;int&gt; | End &lt;int&gt; | Strand &lt;chr&gt; | Peak Score &lt;int&gt; | Focus Ratio/Region Size &lt;lgl&gt; | Annotation &lt;chr&gt; | Detailed Annotation &lt;lgl&gt; | Distance to TSS &lt;int&gt; | ⋯ ⋯ | Nearest Unigene &lt;chr&gt; | Nearest Refseq &lt;chr&gt; | Nearest Ensembl &lt;chr&gt; | Gene Name &lt;chr&gt; | Gene Alias &lt;chr&gt; | Gene Description &lt;chr&gt; | Gene Type &lt;chr&gt; | CpG% &lt;dbl&gt; | GC% &lt;dbl&gt; | hit &lt;chr&gt; |\n",
       "|---|---|---|---|---|---|---|---|---|---|---|---|---|---|---|---|---|---|---|---|---|---|\n",
       "| 1 | chr1_101376595_101376996_S1PR1   | chr1  | 101376696 | 101376896 | + | 0 | NA | intron (ENST00000444327.1, intron 1 of 1)   | NA |  26747 | ⋯ | <!----> | <!----> | <!----> | <!----> | <!----> | <!----> | <!----> | 0.010 | 0.383085 | 76(GTCTGGTC,-,0.00)  |\n",
       "| 2 | chr12_108668571_108668972_SELPLG | chr12 | 108668672 | 108668872 | + | 0 | NA | TTS (ENST00000459456.1)                     | NA |    324 | ⋯ | <!----> | <!----> | <!----> | <!----> | <!----> | <!----> | <!----> | 0.000 | 0.333333 | -69(TCCCAGAC,+,0.00) |\n",
       "| 3 | chr22_28714156_28714557_HSCB     | chr22 |  28714257 |  28714457 | + | 0 | NA | intron (ENST00000439346.5, intron 2 of 5)   | NA |  -1862 | ⋯ | <!----> | <!----> | <!----> | <!----> | <!----> | <!----> | <!----> | 0.005 | 0.407960 | 79(GTCGCCCA,-,0.00)  |\n",
       "| 4 | chr6_126015807_126016208_TRMT11  | chr6  | 126015908 | 126016108 | + | 0 | NA | intron (ENST00000648977.1, intron 13 of 22) | NA |   9166 | ⋯ | <!----> | <!----> | <!----> | <!----> | <!----> | <!----> | <!----> | 0.005 | 0.373134 | -19(GTCTGGTC,-,0.00) |\n",
       "| 5 | chr12_77957053_77957454_NAV3     | chr12 |  77957154 |  77957354 | + | 0 | NA | intron (ENST00000550042.2, intron 4 of 8)   | NA |  -9022 | ⋯ | <!----> | <!----> | <!----> | <!----> | <!----> | <!----> | <!----> | 0.000 | 0.333333 | -46(GTCTCCTC,-,0.00) |\n",
       "| 6 | chr8_119193733_119194134_MAL2    | chr8  | 119193834 | 119194034 | + | 0 | NA | intron (ENST00000522112.6, intron 2 of 4)   | NA | -14015 | ⋯ | <!----> | <!----> | <!----> | <!----> | <!----> | <!----> | <!----> | 0.005 | 0.412935 | 11(TGGCAGAC,+,0.00)  |\n",
       "\n"
      ],
      "text/plain": [
       "  ID                               Chr   Start     End       Strand Peak Score\n",
       "1 chr1_101376595_101376996_S1PR1   chr1  101376696 101376896 +      0         \n",
       "2 chr12_108668571_108668972_SELPLG chr12 108668672 108668872 +      0         \n",
       "3 chr22_28714156_28714557_HSCB     chr22  28714257  28714457 +      0         \n",
       "4 chr6_126015807_126016208_TRMT11  chr6  126015908 126016108 +      0         \n",
       "5 chr12_77957053_77957454_NAV3     chr12  77957154  77957354 +      0         \n",
       "6 chr8_119193733_119194134_MAL2    chr8  119193834 119194034 +      0         \n",
       "  Focus Ratio/Region Size Annotation                                 \n",
       "1 NA                      intron (ENST00000444327.1, intron 1 of 1)  \n",
       "2 NA                      TTS (ENST00000459456.1)                    \n",
       "3 NA                      intron (ENST00000439346.5, intron 2 of 5)  \n",
       "4 NA                      intron (ENST00000648977.1, intron 13 of 22)\n",
       "5 NA                      intron (ENST00000550042.2, intron 4 of 8)  \n",
       "6 NA                      intron (ENST00000522112.6, intron 2 of 4)  \n",
       "  Detailed Annotation Distance to TSS ⋯ Nearest Unigene Nearest Refseq\n",
       "1 NA                   26747          ⋯                               \n",
       "2 NA                     324          ⋯                               \n",
       "3 NA                   -1862          ⋯                               \n",
       "4 NA                    9166          ⋯                               \n",
       "5 NA                   -9022          ⋯                               \n",
       "6 NA                  -14015          ⋯                               \n",
       "  Nearest Ensembl Gene Name Gene Alias Gene Description Gene Type CpG% \n",
       "1                                                                 0.010\n",
       "2                                                                 0.000\n",
       "3                                                                 0.005\n",
       "4                                                                 0.005\n",
       "5                                                                 0.000\n",
       "6                                                                 0.005\n",
       "  GC%      hit                 \n",
       "1 0.383085 76(GTCTGGTC,-,0.00) \n",
       "2 0.333333 -69(TCCCAGAC,+,0.00)\n",
       "3 0.407960 79(GTCGCCCA,-,0.00) \n",
       "4 0.373134 -19(GTCTGGTC,-,0.00)\n",
       "5 0.333333 -46(GTCTCCTC,-,0.00)\n",
       "6 0.412935 11(TGGCAGAC,+,0.00) "
      ]
     },
     "metadata": {},
     "output_type": "display_data"
    }
   ],
   "source": [
    "# select the columns which actually has a hit\n",
    "CAGAmotif_instances_hits = CAGAmotif_instances[CAGAmotif_instances$hit!='',]\n",
    "rownames(CAGAmotif_instances_hits) <- 1:nrow(CAGAmotif_instances_hits)\n",
    "head(CAGAmotif_instances_hits)"
   ]
  },
  {
   "cell_type": "code",
   "execution_count": 17,
   "id": "250177f4-f850-4250-ad03-4657e941900b",
   "metadata": {
    "tags": []
   },
   "outputs": [
    {
     "data": {
      "text/plain": [
       "GRanges object with 113 ranges and 19 metadata columns:\n",
       "        seqnames              ranges strand |                     ID\n",
       "           <Rle>           <IRanges>  <Rle> |            <character>\n",
       "    [1]     chr1 101376696-101376896      * | chr1_101376595_10137..\n",
       "    [2]    chr12 108668672-108668872      * | chr12_108668571_1086..\n",
       "    [3]    chr22   28714257-28714457      * | chr22_28714156_28714..\n",
       "    [4]     chr6 126015908-126016108      * | chr6_126015807_12601..\n",
       "    [5]    chr12   77957154-77957354      * | chr12_77957053_77957..\n",
       "    ...      ...                 ...    ... .                    ...\n",
       "  [109]    chr18   49062248-49062448      * | chr18_49062147_49062..\n",
       "  [110]     chr8   56175202-56175402      * | chr8_56175101_561755..\n",
       "  [111]     chr5 108902318-108902518      * | chr5_108902217_10890..\n",
       "  [112]    chr15   66631055-66631255      * | chr15_66630954_66631..\n",
       "  [113]    chr18   27847533-27847733      * | chr18_27847432_27847..\n",
       "             Strand Peak Score Focus Ratio/Region Size             Annotation\n",
       "        <character>  <integer>               <logical>            <character>\n",
       "    [1]           +          0                    <NA> intron (ENST00000444..\n",
       "    [2]           +          0                    <NA> TTS (ENST00000459456..\n",
       "    [3]           +          0                    <NA> intron (ENST00000439..\n",
       "    [4]           +          0                    <NA> intron (ENST00000648..\n",
       "    [5]           +          0                    <NA> intron (ENST00000550..\n",
       "    ...         ...        ...                     ...                    ...\n",
       "  [109]           +          0                    <NA> intron (ENST00000442..\n",
       "  [110]           +          0                    <NA> intron (ENST00000429..\n",
       "  [111]           +          0                    <NA> intron (ENST00000504..\n",
       "  [112]           +          0                    <NA> intron (ENST00000558..\n",
       "  [113]           +          0                    <NA>             Intergenic\n",
       "        Detailed Annotation Distance to TSS Nearest PromoterID Entrez ID\n",
       "                  <logical>       <integer>        <character> <integer>\n",
       "    [1]                <NA>           26747  ENST00000444327.1      <NA>\n",
       "    [2]                <NA>             324  ENST00000459456.1      <NA>\n",
       "    [3]                <NA>           -1862  ENST00000648295.1      <NA>\n",
       "    [4]                <NA>            9166  ENST00000466316.1      <NA>\n",
       "    [5]                <NA>           -9022  ENST00000547725.1      <NA>\n",
       "    ...                 ...             ...                ...       ...\n",
       "  [109]                <NA>          -12580  ENST00000581563.1 100616420\n",
       "  [110]                <NA>           -3878  ENST00000522009.1      <NA>\n",
       "  [111]                <NA>            4770  ENST00000438717.6      <NA>\n",
       "  [112]                <NA>           48965  ENST00000558797.1 102723165\n",
       "  [113]                <NA>         -106886  ENST00000423367.1      <NA>\n",
       "        Nearest Unigene Nearest Refseq Nearest Ensembl   Gene Name  Gene Alias\n",
       "            <character>    <character>     <character> <character> <character>\n",
       "    [1]                                                                       \n",
       "    [2]                                                                       \n",
       "    [3]                                                                       \n",
       "    [4]                                                                       \n",
       "    [5]                                                                       \n",
       "    ...             ...            ...             ...         ...         ...\n",
       "  [109]                      NR_039898 ENSG00000263849     MIR4744           -\n",
       "  [110]                                                                       \n",
       "  [111]                                                                       \n",
       "  [112]       Hs.636703      NR_110372 ENSG00000259471   LINC01169           -\n",
       "  [113]                                                                       \n",
       "              Gene Description   Gene Type      CpG%       GC%\n",
       "                   <character> <character> <numeric> <numeric>\n",
       "    [1]                                        0.010  0.383085\n",
       "    [2]                                        0.000  0.333333\n",
       "    [3]                                        0.005  0.407960\n",
       "    [4]                                        0.005  0.373134\n",
       "    [5]                                        0.000  0.333333\n",
       "    ...                    ...         ...       ...       ...\n",
       "  [109]          microRNA 4744       ncRNA     0.010  0.477612\n",
       "  [110]                                        0.015  0.437811\n",
       "  [111]                                        0.000  0.373134\n",
       "  [112] long intergenic non-..       ncRNA     0.035  0.676617\n",
       "  [113]                                        0.010  0.388060\n",
       "                           hit\n",
       "                   <character>\n",
       "    [1]    76(GTCTGGTC,-,0.00)\n",
       "    [2]   -69(TCCCAGAC,+,0.00)\n",
       "    [3]    79(GTCGCCCA,-,0.00)\n",
       "    [4]   -19(GTCTGGTC,-,0.00)\n",
       "    [5]   -46(GTCTCCTC,-,0.00)\n",
       "    ...                    ...\n",
       "  [109]   -46(GGGCAGAC,+,0.00)\n",
       "  [110]    44(GACGAGAC,+,0.00)\n",
       "  [111]   -95(GGCTGGCA,-,0.00)\n",
       "  [112] -51(GGCTGGCC,-,0.00)..\n",
       "  [113]   -26(TCGCAGAC,+,0.00)\n",
       "  -------\n",
       "  seqinfo: 19 sequences from an unspecified genome; no seqlengths"
      ]
     },
     "metadata": {},
     "output_type": "display_data"
    }
   ],
   "source": [
    "CAGAmotif_instances_gr = makeGRangesFromDataFrame(CAGAmotif_instances_hits,                         \n",
    "                         keep.extra.columns=T,\n",
    "                        ignore.strand=T,\n",
    "                         seqinfo=NULL,\n",
    "                         seqnames.field=c(\"Chr\"),\n",
    "                         start.field=\"Start\",\n",
    "                         end.field=c(\"End\"),\n",
    "                         #strand.field=\"strand\",\n",
    "                         starts.in.df.are.0based=FALSE)\n",
    "CAGAmotif_instances_gr"
   ]
  },
  {
   "cell_type": "markdown",
   "id": "e7352d73-3e58-4087-86ca-e47eac738be7",
   "metadata": {},
   "source": [
    "### find the overlap between motif instances"
   ]
  },
  {
   "cell_type": "code",
   "execution_count": 18,
   "id": "d9dd53b4-8fee-4d24-aafd-f4a19636ddf3",
   "metadata": {},
   "outputs": [
    {
     "data": {
      "text/html": [
       "38"
      ],
      "text/latex": [
       "38"
      ],
      "text/markdown": [
       "38"
      ],
      "text/plain": [
       "[1] 38"
      ]
     },
     "metadata": {},
     "output_type": "display_data"
    }
   ],
   "source": [
    "length(intersect(GCmotif_instances_hits$ID, CAGAmotif_instances_hits$ID))"
   ]
  },
  {
   "cell_type": "code",
   "execution_count": 19,
   "id": "2f759056-ebb9-4723-8311-906e051e0027",
   "metadata": {},
   "outputs": [
    {
     "name": "stderr",
     "output_type": "stream",
     "text": [
      "Warning message in .Seqinfo.mergexy(x, y):\n",
      "“Each of the 2 combined objects has sequence levels not in the other:\n",
      "  - in 'x': chr19\n",
      "  - in 'y': chr16\n",
      "  Make sure to always combine/compare objects based on the same reference\n",
      "  genome (use suppressWarnings() to suppress this warning).”\n"
     ]
    }
   ],
   "source": [
    "common_regions = subsetByOverlaps(GCmotif_instances_gr, CAGAmotif_instances_gr)"
   ]
  },
  {
   "cell_type": "code",
   "execution_count": 20,
   "id": "55a9d5d3-e93c-4d10-b126-7e616dad1976",
   "metadata": {},
   "outputs": [
    {
     "data": {
      "text/html": [
       "<style>\n",
       ".list-inline {list-style: none; margin:0; padding: 0}\n",
       ".list-inline>li {display: inline-block}\n",
       ".list-inline>li:not(:last-child)::after {content: \"\\00b7\"; padding: 0 .5ex}\n",
       "</style>\n",
       "<ol class=list-inline><li>'chr22_28714156_28714557_HSCB'</li><li>'chr12_77957053_77957454_NAV3'</li><li>'chr8_119193733_119194134_MAL2'</li><li>'chr2_96146942_96147343_DUSP2'</li><li>'chr12_26640717_26641118_ITPR2'</li><li>'chr2_173249848_173250249_CDCA7'</li><li>'chr2_223122694_223123095_KCNE4'</li><li>'chr10_110144909_110145310_MXI1'</li><li>'chr12_71006945_71007346_PTPRR'</li><li>'chr4_133657880_133658281_PCDH10'</li><li>'chr11_86473998_86474399_CCDC81'</li><li>'chr4_80126786_80127187_ANTXR2'</li><li>'chr18_45156668_45157069_SLC14A2'</li><li>'chr7_10227505_10227906_NDUFA4'</li><li>'chr1_208836969_208837370_PLXNA2'</li><li>'chr3_63927668_63928069_ATXN7'</li><li>'chr7_80298235_80298636_CD36'</li><li>'chr5_131177159_131177560_HINT1'</li><li>'chr3_174094618_174095019_NAALADL2'</li><li>'chr10_78656730_78657131_ZMIZ1'</li><li>'chr11_124302723_124303124_OR8D1'</li><li>'chr11_103322842_103323243_DYNC2H1'</li><li>'chr3_64361418_64361819_PRICKLE2'</li><li>'chr18_49524387_49524788_RPL17'</li><li>'chr12_14834004_14834405_ART4'</li><li>'chr5_74625726_74626127_HEXB'</li><li>'chr18_40925253_40925654_PIK3C3'</li><li>'chr3_64352174_64352575_PRICKLE2'</li><li>'chr6_134512930_134513331_SGK1'</li><li>'chr7_66789651_66790052_RABGEF1'</li><li>'chr6_125667521_125667922_HEY2'</li><li>'chr5_56282287_56282688_ANKRD55'</li><li>'chr4_109820567_109820968_GAR1'</li><li>'chr15_66711490_66711891_SMAD6'</li><li>'chr15_36333975_36334376_CDIN1'</li><li>'chr8_56175101_56175502_PLAG1'</li><li>'chr15_66630954_66631355_LCTL'</li><li>'chr18_27847432_27847833_CDH2'</li></ol>\n"
      ],
      "text/latex": [
       "\\begin{enumerate*}\n",
       "\\item 'chr22\\_28714156\\_28714557\\_HSCB'\n",
       "\\item 'chr12\\_77957053\\_77957454\\_NAV3'\n",
       "\\item 'chr8\\_119193733\\_119194134\\_MAL2'\n",
       "\\item 'chr2\\_96146942\\_96147343\\_DUSP2'\n",
       "\\item 'chr12\\_26640717\\_26641118\\_ITPR2'\n",
       "\\item 'chr2\\_173249848\\_173250249\\_CDCA7'\n",
       "\\item 'chr2\\_223122694\\_223123095\\_KCNE4'\n",
       "\\item 'chr10\\_110144909\\_110145310\\_MXI1'\n",
       "\\item 'chr12\\_71006945\\_71007346\\_PTPRR'\n",
       "\\item 'chr4\\_133657880\\_133658281\\_PCDH10'\n",
       "\\item 'chr11\\_86473998\\_86474399\\_CCDC81'\n",
       "\\item 'chr4\\_80126786\\_80127187\\_ANTXR2'\n",
       "\\item 'chr18\\_45156668\\_45157069\\_SLC14A2'\n",
       "\\item 'chr7\\_10227505\\_10227906\\_NDUFA4'\n",
       "\\item 'chr1\\_208836969\\_208837370\\_PLXNA2'\n",
       "\\item 'chr3\\_63927668\\_63928069\\_ATXN7'\n",
       "\\item 'chr7\\_80298235\\_80298636\\_CD36'\n",
       "\\item 'chr5\\_131177159\\_131177560\\_HINT1'\n",
       "\\item 'chr3\\_174094618\\_174095019\\_NAALADL2'\n",
       "\\item 'chr10\\_78656730\\_78657131\\_ZMIZ1'\n",
       "\\item 'chr11\\_124302723\\_124303124\\_OR8D1'\n",
       "\\item 'chr11\\_103322842\\_103323243\\_DYNC2H1'\n",
       "\\item 'chr3\\_64361418\\_64361819\\_PRICKLE2'\n",
       "\\item 'chr18\\_49524387\\_49524788\\_RPL17'\n",
       "\\item 'chr12\\_14834004\\_14834405\\_ART4'\n",
       "\\item 'chr5\\_74625726\\_74626127\\_HEXB'\n",
       "\\item 'chr18\\_40925253\\_40925654\\_PIK3C3'\n",
       "\\item 'chr3\\_64352174\\_64352575\\_PRICKLE2'\n",
       "\\item 'chr6\\_134512930\\_134513331\\_SGK1'\n",
       "\\item 'chr7\\_66789651\\_66790052\\_RABGEF1'\n",
       "\\item 'chr6\\_125667521\\_125667922\\_HEY2'\n",
       "\\item 'chr5\\_56282287\\_56282688\\_ANKRD55'\n",
       "\\item 'chr4\\_109820567\\_109820968\\_GAR1'\n",
       "\\item 'chr15\\_66711490\\_66711891\\_SMAD6'\n",
       "\\item 'chr15\\_36333975\\_36334376\\_CDIN1'\n",
       "\\item 'chr8\\_56175101\\_56175502\\_PLAG1'\n",
       "\\item 'chr15\\_66630954\\_66631355\\_LCTL'\n",
       "\\item 'chr18\\_27847432\\_27847833\\_CDH2'\n",
       "\\end{enumerate*}\n"
      ],
      "text/markdown": [
       "1. 'chr22_28714156_28714557_HSCB'\n",
       "2. 'chr12_77957053_77957454_NAV3'\n",
       "3. 'chr8_119193733_119194134_MAL2'\n",
       "4. 'chr2_96146942_96147343_DUSP2'\n",
       "5. 'chr12_26640717_26641118_ITPR2'\n",
       "6. 'chr2_173249848_173250249_CDCA7'\n",
       "7. 'chr2_223122694_223123095_KCNE4'\n",
       "8. 'chr10_110144909_110145310_MXI1'\n",
       "9. 'chr12_71006945_71007346_PTPRR'\n",
       "10. 'chr4_133657880_133658281_PCDH10'\n",
       "11. 'chr11_86473998_86474399_CCDC81'\n",
       "12. 'chr4_80126786_80127187_ANTXR2'\n",
       "13. 'chr18_45156668_45157069_SLC14A2'\n",
       "14. 'chr7_10227505_10227906_NDUFA4'\n",
       "15. 'chr1_208836969_208837370_PLXNA2'\n",
       "16. 'chr3_63927668_63928069_ATXN7'\n",
       "17. 'chr7_80298235_80298636_CD36'\n",
       "18. 'chr5_131177159_131177560_HINT1'\n",
       "19. 'chr3_174094618_174095019_NAALADL2'\n",
       "20. 'chr10_78656730_78657131_ZMIZ1'\n",
       "21. 'chr11_124302723_124303124_OR8D1'\n",
       "22. 'chr11_103322842_103323243_DYNC2H1'\n",
       "23. 'chr3_64361418_64361819_PRICKLE2'\n",
       "24. 'chr18_49524387_49524788_RPL17'\n",
       "25. 'chr12_14834004_14834405_ART4'\n",
       "26. 'chr5_74625726_74626127_HEXB'\n",
       "27. 'chr18_40925253_40925654_PIK3C3'\n",
       "28. 'chr3_64352174_64352575_PRICKLE2'\n",
       "29. 'chr6_134512930_134513331_SGK1'\n",
       "30. 'chr7_66789651_66790052_RABGEF1'\n",
       "31. 'chr6_125667521_125667922_HEY2'\n",
       "32. 'chr5_56282287_56282688_ANKRD55'\n",
       "33. 'chr4_109820567_109820968_GAR1'\n",
       "34. 'chr15_66711490_66711891_SMAD6'\n",
       "35. 'chr15_36333975_36334376_CDIN1'\n",
       "36. 'chr8_56175101_56175502_PLAG1'\n",
       "37. 'chr15_66630954_66631355_LCTL'\n",
       "38. 'chr18_27847432_27847833_CDH2'\n",
       "\n",
       "\n"
      ],
      "text/plain": [
       " [1] \"chr22_28714156_28714557_HSCB\"      \"chr12_77957053_77957454_NAV3\"     \n",
       " [3] \"chr8_119193733_119194134_MAL2\"     \"chr2_96146942_96147343_DUSP2\"     \n",
       " [5] \"chr12_26640717_26641118_ITPR2\"     \"chr2_173249848_173250249_CDCA7\"   \n",
       " [7] \"chr2_223122694_223123095_KCNE4\"    \"chr10_110144909_110145310_MXI1\"   \n",
       " [9] \"chr12_71006945_71007346_PTPRR\"     \"chr4_133657880_133658281_PCDH10\"  \n",
       "[11] \"chr11_86473998_86474399_CCDC81\"    \"chr4_80126786_80127187_ANTXR2\"    \n",
       "[13] \"chr18_45156668_45157069_SLC14A2\"   \"chr7_10227505_10227906_NDUFA4\"    \n",
       "[15] \"chr1_208836969_208837370_PLXNA2\"   \"chr3_63927668_63928069_ATXN7\"     \n",
       "[17] \"chr7_80298235_80298636_CD36\"       \"chr5_131177159_131177560_HINT1\"   \n",
       "[19] \"chr3_174094618_174095019_NAALADL2\" \"chr10_78656730_78657131_ZMIZ1\"    \n",
       "[21] \"chr11_124302723_124303124_OR8D1\"   \"chr11_103322842_103323243_DYNC2H1\"\n",
       "[23] \"chr3_64361418_64361819_PRICKLE2\"   \"chr18_49524387_49524788_RPL17\"    \n",
       "[25] \"chr12_14834004_14834405_ART4\"      \"chr5_74625726_74626127_HEXB\"      \n",
       "[27] \"chr18_40925253_40925654_PIK3C3\"    \"chr3_64352174_64352575_PRICKLE2\"  \n",
       "[29] \"chr6_134512930_134513331_SGK1\"     \"chr7_66789651_66790052_RABGEF1\"   \n",
       "[31] \"chr6_125667521_125667922_HEY2\"     \"chr5_56282287_56282688_ANKRD55\"   \n",
       "[33] \"chr4_109820567_109820968_GAR1\"     \"chr15_66711490_66711891_SMAD6\"    \n",
       "[35] \"chr15_36333975_36334376_CDIN1\"     \"chr8_56175101_56175502_PLAG1\"     \n",
       "[37] \"chr15_66630954_66631355_LCTL\"      \"chr18_27847432_27847833_CDH2\"     "
      ]
     },
     "metadata": {},
     "output_type": "display_data"
    }
   ],
   "source": [
    "(common_regions$ID)"
   ]
  },
  {
   "cell_type": "markdown",
   "id": "afb104cf-ba16-4632-8b06-90c87ca75088",
   "metadata": {},
   "source": [
    "## create a bed file from the common regions"
   ]
  },
  {
   "cell_type": "code",
   "execution_count": 21,
   "id": "69a641cf-08c4-4746-8eb1-d2fd9a57e2d4",
   "metadata": {},
   "outputs": [
    {
     "data": {
      "text/plain": [
       "GRanges object with 38 ranges and 19 metadata columns:\n",
       "       seqnames              ranges strand |                     ID      Strand\n",
       "          <Rle>           <IRanges>  <Rle> |            <character> <character>\n",
       "   [1]    chr22   28714257-28714457      * | chr22_28714156_28714..           +\n",
       "   [2]    chr12   77957154-77957354      * | chr12_77957053_77957..           +\n",
       "   [3]     chr8 119193834-119194034      * | chr8_119193733_11919..           +\n",
       "   [4]     chr2   96147043-96147243      * | chr2_96146942_961473..           +\n",
       "   [5]    chr12   26640818-26641018      * | chr12_26640717_26641..           +\n",
       "   ...      ...                 ...    ... .                    ...         ...\n",
       "  [34]    chr15   66711591-66711791      * | chr15_66711490_66711..           +\n",
       "  [35]    chr15   36334076-36334276      * | chr15_36333975_36334..           +\n",
       "  [36]     chr8   56175202-56175402      * | chr8_56175101_561755..           +\n",
       "  [37]    chr15   66631055-66631255      * | chr15_66630954_66631..           +\n",
       "  [38]    chr18   27847533-27847733      * | chr18_27847432_27847..           +\n",
       "       Peak Score Focus Ratio/Region Size             Annotation\n",
       "        <integer>               <logical>            <character>\n",
       "   [1]          0                    <NA> intron (ENST00000439..\n",
       "   [2]          0                    <NA> intron (ENST00000550..\n",
       "   [3]          0                    <NA> intron (ENST00000522..\n",
       "   [4]          0                    <NA> promoter-TSS (ENST00..\n",
       "   [5]          0                    <NA> intron (ENST00000381..\n",
       "   ...        ...                     ...                    ...\n",
       "  [34]          0                    <NA> promoter-TSS (ENST00..\n",
       "  [35]          0                    <NA>             Intergenic\n",
       "  [36]          0                    <NA> intron (ENST00000429..\n",
       "  [37]          0                    <NA> intron (ENST00000558..\n",
       "  [38]          0                    <NA>             Intergenic\n",
       "       Detailed Annotation Distance to TSS Nearest PromoterID Entrez ID\n",
       "                 <logical>       <integer>        <character> <integer>\n",
       "   [1]                <NA>           -1862  ENST00000648295.1      <NA>\n",
       "   [2]                <NA>           -9022  ENST00000547725.1      <NA>\n",
       "   [3]                <NA>          -14015  ENST00000534619.5      <NA>\n",
       "   [4]                <NA>            -131  ENST00000449242.1      <NA>\n",
       "   [5]                <NA>          -10204  ENST00000545902.1      <NA>\n",
       "   ...                 ...             ...                ...       ...\n",
       "  [34]                <NA>              -6  ENST00000558937.1      <NA>\n",
       "  [35]                <NA>           -7563  ENST00000561236.1      <NA>\n",
       "  [36]                <NA>           -3878  ENST00000522009.1      <NA>\n",
       "  [37]                <NA>           48965  ENST00000558797.1 102723165\n",
       "  [38]                <NA>         -106886  ENST00000423367.1      <NA>\n",
       "       Nearest Unigene Nearest Refseq Nearest Ensembl   Gene Name  Gene Alias\n",
       "           <character>    <character>     <character> <character> <character>\n",
       "   [1]                                                                       \n",
       "   [2]                                                                       \n",
       "   [3]                                                                       \n",
       "   [4]                                                                       \n",
       "   [5]                                                                       \n",
       "   ...             ...            ...             ...         ...         ...\n",
       "  [34]                                                                       \n",
       "  [35]                                                                       \n",
       "  [36]                                                                       \n",
       "  [37]       Hs.636703      NR_110372 ENSG00000259471   LINC01169           -\n",
       "  [38]                                                                       \n",
       "             Gene Description   Gene Type      CpG%       GC%\n",
       "                  <character> <character> <numeric> <numeric>\n",
       "   [1]                                        0.005  0.407960\n",
       "   [2]                                        0.000  0.333333\n",
       "   [3]                                        0.005  0.412935\n",
       "   [4]                                        0.015  0.572139\n",
       "   [5]                                        0.010  0.402985\n",
       "   ...                    ...         ...       ...       ...\n",
       "  [34]                                        0.030  0.562189\n",
       "  [35]                                        0.005  0.457711\n",
       "  [36]                                        0.015  0.437811\n",
       "  [37] long intergenic non-..       ncRNA     0.035  0.676617\n",
       "  [38]                                        0.010  0.388060\n",
       "                          hit\n",
       "                  <character>\n",
       "   [1]    77(CTGTCGCC,+,0.00)\n",
       "   [2]   -48(CTGTCTCC,+,0.00)\n",
       "   [3] 21(TTGGCTCC,+,0.00),..\n",
       "   [4]  -100(GGCTCCAA,-,0.00)\n",
       "   [5]     4(GGAGACAG,-,0.00)\n",
       "   ...                    ...\n",
       "  [34] -41(CTGTCTCC,+,0.00)..\n",
       "  [35]    26(GGCTCCAA,-,0.00)\n",
       "  [36]   -36(CTGGCTCC,+,0.00)\n",
       "  [37] -82(GGAGACAG,-,0.00)..\n",
       "  [38]   -57(TTGGCTCC,+,0.00)\n",
       "  -------\n",
       "  seqinfo: 19 sequences from an unspecified genome; no seqlengths"
      ]
     },
     "metadata": {},
     "output_type": "display_data"
    }
   ],
   "source": [
    "common_regions"
   ]
  },
  {
   "cell_type": "code",
   "execution_count": 22,
   "id": "93c5ad1d-ebba-4690-86c0-f8bc7ce8d248",
   "metadata": {},
   "outputs": [],
   "source": [
    "\n",
    "write.table(GCmotif_instances_gr, file=\"/project/Mechanogenomics_data/ATACseq_analysis/MotifEnrichment/distancesBtwMotifs/stat_bmp9_VS_stat_cont_FC_biger_1.5_motif5_GCmotif_hits_200.bed\", quote=F, sep=\"\\t\", row.names=F, col.names=F)\n"
   ]
  },
  {
   "cell_type": "code",
   "execution_count": 23,
   "id": "b870cee0-f609-41b4-bf85-e2c82d85c7f1",
   "metadata": {},
   "outputs": [],
   "source": [
    "write.table(CAGAmotif_instances_gr, file=\"/project/Mechanogenomics_data/ATACseq_analysis/MotifEnrichment/distancesBtwMotifs/stat_bmp9_VS_stat_cont_FC_biger_1.5_motif6_caga_hits_200.bed\", quote=F, sep=\"\\t\", row.names=F, col.names=F)\n"
   ]
  },
  {
   "cell_type": "code",
   "execution_count": 24,
   "id": "fc3ec561-20dd-4e40-a587-98eaf62fd843",
   "metadata": {},
   "outputs": [],
   "source": [
    "write.table(common_regions, file=\"/project/Mechanogenomics_data/ATACseq_analysis/MotifEnrichment/distancesBtwMotifs/stat_bmp9_VS_stat_cont_FC_biger_1.5_motif5_6_hits_200.bed\", quote=F, sep=\"\\t\", row.names=F, col.names=F)\n"
   ]
  },
  {
   "cell_type": "code",
   "execution_count": null,
   "id": "7fb66c74-2e5b-4820-b22f-665b29c94a65",
   "metadata": {},
   "outputs": [],
   "source": []
  }
 ],
 "metadata": {
  "kernelspec": {
   "display_name": "R",
   "language": "R",
   "name": "ir"
  },
  "language_info": {
   "codemirror_mode": "r",
   "file_extension": ".r",
   "mimetype": "text/x-r-source",
   "name": "R",
   "pygments_lexer": "r",
   "version": "4.2.1"
  }
 },
 "nbformat": 4,
 "nbformat_minor": 5
}
