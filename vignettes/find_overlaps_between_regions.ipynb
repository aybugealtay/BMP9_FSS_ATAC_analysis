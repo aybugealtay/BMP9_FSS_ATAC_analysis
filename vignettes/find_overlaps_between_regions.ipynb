{
 "cells": [
  {
   "cell_type": "markdown",
   "id": "c19ed104-b0b2-40f2-aad2-e3b24832653d",
   "metadata": {},
   "source": [
    "1. stat-cont\n",
    "2. stat-bmp9\n",
    "3. flow-cont\n",
    "4. flow-bmp9\n",
    "\n",
    "- Q1: look at the 1vs2  VS 1vs3:\n",
    "   -  Which of the differential regions are common?: A\n",
    "   -  Which of the differential regions are annotated with the same gene BUT not exactly the same regions? : B\n",
    "|"
   ]
  },
  {
   "cell_type": "code",
   "execution_count": 7,
   "id": "a04f06e7-6766-43ff-9c98-6db9875888ac",
   "metadata": {},
   "outputs": [
    {
     "data": {
      "text/plain": [
       "               _                           \n",
       "platform       x86_64-pc-linux-gnu         \n",
       "arch           x86_64                      \n",
       "os             linux-gnu                   \n",
       "system         x86_64, linux-gnu           \n",
       "status                                     \n",
       "major          4                           \n",
       "minor          2.1                         \n",
       "year           2022                        \n",
       "month          06                          \n",
       "day            23                          \n",
       "svn rev        82513                       \n",
       "language       R                           \n",
       "version.string R version 4.2.1 (2022-06-23)\n",
       "nickname       Funny-Looking Kid           "
      ]
     },
     "metadata": {},
     "output_type": "display_data"
    }
   ],
   "source": [
    "R.version"
   ]
  },
  {
   "cell_type": "code",
   "execution_count": 8,
   "id": "e68872bb-7887-46cb-bf2e-0c82ec82d4fa",
   "metadata": {},
   "outputs": [
    {
     "data": {
      "text/plain": [
       "[1] ‘1.48.0’"
      ]
     },
     "metadata": {},
     "output_type": "display_data"
    }
   ],
   "source": [
    "packageVersion(\"GenomicRanges\")"
   ]
  },
  {
   "cell_type": "code",
   "execution_count": 9,
   "id": "de9ad9c3-defd-4ce5-a395-e8e4bab1849e",
   "metadata": {},
   "outputs": [
    {
     "name": "stderr",
     "output_type": "stream",
     "text": [
      "Loading required package: stats4\n",
      "\n",
      "Loading required package: BiocGenerics\n",
      "\n",
      "\n",
      "Attaching package: ‘BiocGenerics’\n",
      "\n",
      "\n",
      "The following objects are masked from ‘package:stats’:\n",
      "\n",
      "    IQR, mad, sd, var, xtabs\n",
      "\n",
      "\n",
      "The following objects are masked from ‘package:base’:\n",
      "\n",
      "    Filter, Find, Map, Position, Reduce, anyDuplicated, append,\n",
      "    as.data.frame, basename, cbind, colnames, dirname, do.call,\n",
      "    duplicated, eval, evalq, get, grep, grepl, intersect, is.unsorted,\n",
      "    lapply, mapply, match, mget, order, paste, pmax, pmax.int, pmin,\n",
      "    pmin.int, rank, rbind, rownames, sapply, setdiff, sort, table,\n",
      "    tapply, union, unique, unsplit, which.max, which.min\n",
      "\n",
      "\n",
      "Loading required package: S4Vectors\n",
      "\n",
      "\n",
      "Attaching package: ‘S4Vectors’\n",
      "\n",
      "\n",
      "The following objects are masked from ‘package:base’:\n",
      "\n",
      "    I, expand.grid, unname\n",
      "\n",
      "\n",
      "Loading required package: IRanges\n",
      "\n",
      "Loading required package: GenomeInfoDb\n",
      "\n"
     ]
    }
   ],
   "source": [
    "library(GenomicRanges)"
   ]
  },
  {
   "cell_type": "code",
   "execution_count": 10,
   "id": "f8a994cc-6cce-4da9-899b-a10ef8605f84",
   "metadata": {},
   "outputs": [
    {
     "data": {
      "text/html": [
       "<table class=\"dataframe\">\n",
       "<caption>A data.frame: 6 × 17</caption>\n",
       "<thead>\n",
       "\t<tr><th></th><th scope=col>V1</th><th scope=col>V2</th><th scope=col>V3</th><th scope=col>V4</th><th scope=col>V5</th><th scope=col>V6</th><th scope=col>V7</th><th scope=col>V8</th><th scope=col>V9</th><th scope=col>V10</th><th scope=col>V11</th><th scope=col>V12</th><th scope=col>V13</th><th scope=col>V14</th><th scope=col>V15</th><th scope=col>V16</th><th scope=col>V17</th></tr>\n",
       "\t<tr><th></th><th scope=col>&lt;chr&gt;</th><th scope=col>&lt;int&gt;</th><th scope=col>&lt;int&gt;</th><th scope=col>&lt;chr&gt;</th><th scope=col>&lt;dbl&gt;</th><th scope=col>&lt;dbl&gt;</th><th scope=col>&lt;dbl&gt;</th><th scope=col>&lt;dbl&gt;</th><th scope=col>&lt;dbl&gt;</th><th scope=col>&lt;dbl&gt;</th><th scope=col>&lt;chr&gt;</th><th scope=col>&lt;int&gt;</th><th scope=col>&lt;int&gt;</th><th scope=col>&lt;chr&gt;</th><th scope=col>&lt;int&gt;</th><th scope=col>&lt;chr&gt;</th><th scope=col>&lt;int&gt;</th></tr>\n",
       "</thead>\n",
       "<tbody>\n",
       "\t<tr><th scope=row>1</th><td>chr1</td><td> 923802</td><td> 924203</td><td>SAMD11 </td><td>-0.6917031</td><td>0.0029030722</td><td>0.022116163</td><td>7.257583</td><td>6.718923</td><td>7.648899</td><td>chr1</td><td> 923926</td><td> 923927</td><td>ENSG00000187634.11</td><td>0</td><td>+</td><td>    0</td></tr>\n",
       "\t<tr><th scope=row>2</th><td>chr1</td><td> 930611</td><td> 931012</td><td>SAMD11 </td><td> 0.8497081</td><td>0.0025110344</td><td>0.019965822</td><td>5.786526</td><td>6.259011</td><td>5.079313</td><td>chr1</td><td> 923926</td><td> 923927</td><td>ENSG00000187634.11</td><td>0</td><td>+</td><td> 6685</td></tr>\n",
       "\t<tr><th scope=row>3</th><td>chr1</td><td> 938076</td><td> 938477</td><td>SAMD11 </td><td>-0.6237558</td><td>0.0019482280</td><td>0.016588904</td><td>7.528921</td><td>7.096159</td><td>7.861380</td><td>chr1</td><td> 923926</td><td> 923927</td><td>ENSG00000187634.11</td><td>0</td><td>+</td><td>14150</td></tr>\n",
       "\t<tr><th scope=row>4</th><td>chr1</td><td> 973718</td><td> 974119</td><td>PLEKHN1</td><td> 0.8809586</td><td>0.0031662308</td><td>0.023530886</td><td>5.848033</td><td>6.395402</td><td>4.955272</td><td>chr1</td><td> 966495</td><td> 966496</td><td>ENSG00000187583.10</td><td>0</td><td>+</td><td> 7223</td></tr>\n",
       "\t<tr><th scope=row>5</th><td>chr1</td><td>1032933</td><td>1033334</td><td>AGRN   </td><td>-0.7445450</td><td>0.0003155041</td><td>0.004143038</td><td>8.212570</td><td>7.683965</td><td>8.598580</td><td>chr1</td><td>1020121</td><td>1020122</td><td>ENSG00000188157.14</td><td>0</td><td>+</td><td>12812</td></tr>\n",
       "\t<tr><th scope=row>6</th><td>chr1</td><td>1040639</td><td>1041040</td><td>AGRN   </td><td>-0.6362453</td><td>0.0046353932</td><td>0.030801001</td><td>8.702365</td><td>8.253828</td><td>9.044025</td><td>chr1</td><td>1020121</td><td>1020122</td><td>ENSG00000188157.14</td><td>0</td><td>+</td><td>20518</td></tr>\n",
       "</tbody>\n",
       "</table>\n"
      ],
      "text/latex": [
       "A data.frame: 6 × 17\n",
       "\\begin{tabular}{r|lllllllllllllllll}\n",
       "  & V1 & V2 & V3 & V4 & V5 & V6 & V7 & V8 & V9 & V10 & V11 & V12 & V13 & V14 & V15 & V16 & V17\\\\\n",
       "  & <chr> & <int> & <int> & <chr> & <dbl> & <dbl> & <dbl> & <dbl> & <dbl> & <dbl> & <chr> & <int> & <int> & <chr> & <int> & <chr> & <int>\\\\\n",
       "\\hline\n",
       "\t1 & chr1 &  923802 &  924203 & SAMD11  & -0.6917031 & 0.0029030722 & 0.022116163 & 7.257583 & 6.718923 & 7.648899 & chr1 &  923926 &  923927 & ENSG00000187634.11 & 0 & + &     0\\\\\n",
       "\t2 & chr1 &  930611 &  931012 & SAMD11  &  0.8497081 & 0.0025110344 & 0.019965822 & 5.786526 & 6.259011 & 5.079313 & chr1 &  923926 &  923927 & ENSG00000187634.11 & 0 & + &  6685\\\\\n",
       "\t3 & chr1 &  938076 &  938477 & SAMD11  & -0.6237558 & 0.0019482280 & 0.016588904 & 7.528921 & 7.096159 & 7.861380 & chr1 &  923926 &  923927 & ENSG00000187634.11 & 0 & + & 14150\\\\\n",
       "\t4 & chr1 &  973718 &  974119 & PLEKHN1 &  0.8809586 & 0.0031662308 & 0.023530886 & 5.848033 & 6.395402 & 4.955272 & chr1 &  966495 &  966496 & ENSG00000187583.10 & 0 & + &  7223\\\\\n",
       "\t5 & chr1 & 1032933 & 1033334 & AGRN    & -0.7445450 & 0.0003155041 & 0.004143038 & 8.212570 & 7.683965 & 8.598580 & chr1 & 1020121 & 1020122 & ENSG00000188157.14 & 0 & + & 12812\\\\\n",
       "\t6 & chr1 & 1040639 & 1041040 & AGRN    & -0.6362453 & 0.0046353932 & 0.030801001 & 8.702365 & 8.253828 & 9.044025 & chr1 & 1020121 & 1020122 & ENSG00000188157.14 & 0 & + & 20518\\\\\n",
       "\\end{tabular}\n"
      ],
      "text/markdown": [
       "\n",
       "A data.frame: 6 × 17\n",
       "\n",
       "| <!--/--> | V1 &lt;chr&gt; | V2 &lt;int&gt; | V3 &lt;int&gt; | V4 &lt;chr&gt; | V5 &lt;dbl&gt; | V6 &lt;dbl&gt; | V7 &lt;dbl&gt; | V8 &lt;dbl&gt; | V9 &lt;dbl&gt; | V10 &lt;dbl&gt; | V11 &lt;chr&gt; | V12 &lt;int&gt; | V13 &lt;int&gt; | V14 &lt;chr&gt; | V15 &lt;int&gt; | V16 &lt;chr&gt; | V17 &lt;int&gt; |\n",
       "|---|---|---|---|---|---|---|---|---|---|---|---|---|---|---|---|---|---|\n",
       "| 1 | chr1 |  923802 |  924203 | SAMD11  | -0.6917031 | 0.0029030722 | 0.022116163 | 7.257583 | 6.718923 | 7.648899 | chr1 |  923926 |  923927 | ENSG00000187634.11 | 0 | + |     0 |\n",
       "| 2 | chr1 |  930611 |  931012 | SAMD11  |  0.8497081 | 0.0025110344 | 0.019965822 | 5.786526 | 6.259011 | 5.079313 | chr1 |  923926 |  923927 | ENSG00000187634.11 | 0 | + |  6685 |\n",
       "| 3 | chr1 |  938076 |  938477 | SAMD11  | -0.6237558 | 0.0019482280 | 0.016588904 | 7.528921 | 7.096159 | 7.861380 | chr1 |  923926 |  923927 | ENSG00000187634.11 | 0 | + | 14150 |\n",
       "| 4 | chr1 |  973718 |  974119 | PLEKHN1 |  0.8809586 | 0.0031662308 | 0.023530886 | 5.848033 | 6.395402 | 4.955272 | chr1 |  966495 |  966496 | ENSG00000187583.10 | 0 | + |  7223 |\n",
       "| 5 | chr1 | 1032933 | 1033334 | AGRN    | -0.7445450 | 0.0003155041 | 0.004143038 | 8.212570 | 7.683965 | 8.598580 | chr1 | 1020121 | 1020122 | ENSG00000188157.14 | 0 | + | 12812 |\n",
       "| 6 | chr1 | 1040639 | 1041040 | AGRN    | -0.6362453 | 0.0046353932 | 0.030801001 | 8.702365 | 8.253828 | 9.044025 | chr1 | 1020121 | 1020122 | ENSG00000188157.14 | 0 | + | 20518 |\n",
       "\n"
      ],
      "text/plain": [
       "  V1   V2      V3      V4      V5         V6           V7          V8      \n",
       "1 chr1  923802  924203 SAMD11  -0.6917031 0.0029030722 0.022116163 7.257583\n",
       "2 chr1  930611  931012 SAMD11   0.8497081 0.0025110344 0.019965822 5.786526\n",
       "3 chr1  938076  938477 SAMD11  -0.6237558 0.0019482280 0.016588904 7.528921\n",
       "4 chr1  973718  974119 PLEKHN1  0.8809586 0.0031662308 0.023530886 5.848033\n",
       "5 chr1 1032933 1033334 AGRN    -0.7445450 0.0003155041 0.004143038 8.212570\n",
       "6 chr1 1040639 1041040 AGRN    -0.6362453 0.0046353932 0.030801001 8.702365\n",
       "  V9       V10      V11  V12     V13     V14                V15 V16 V17  \n",
       "1 6.718923 7.648899 chr1  923926  923927 ENSG00000187634.11 0   +       0\n",
       "2 6.259011 5.079313 chr1  923926  923927 ENSG00000187634.11 0   +    6685\n",
       "3 7.096159 7.861380 chr1  923926  923927 ENSG00000187634.11 0   +   14150\n",
       "4 6.395402 4.955272 chr1  966495  966496 ENSG00000187583.10 0   +    7223\n",
       "5 7.683965 8.598580 chr1 1020121 1020122 ENSG00000188157.14 0   +   12812\n",
       "6 8.253828 9.044025 chr1 1020121 1020122 ENSG00000188157.14 0   +   20518"
      ]
     },
     "metadata": {},
     "output_type": "display_data"
    }
   ],
   "source": [
    "flow_cont_VS_stat_cont = read.table(\"/project/Mechanogenomics_data/ATACseq_analysis/DiffAcc/results/TSS_annotated_bedFiles/TSS_geneSymbolAnnotated_bedFiles/flow_cont_VS_stat_cont_TSS_annotated_geneSymbol.bed\", sep = \"\\t\", header = F)\n",
    "head(flow_cont_VS_stat_cont)"
   ]
  },
  {
   "cell_type": "code",
   "execution_count": 11,
   "id": "8c59d17d-56dd-413b-9052-7f2f6c7fa635",
   "metadata": {},
   "outputs": [
    {
     "data": {
      "text/html": [
       "<table class=\"dataframe\">\n",
       "<caption>A data.frame: 20 × 17</caption>\n",
       "<thead>\n",
       "\t<tr><th></th><th scope=col>V1</th><th scope=col>V2</th><th scope=col>V3</th><th scope=col>V4</th><th scope=col>V5</th><th scope=col>V6</th><th scope=col>V7</th><th scope=col>V8</th><th scope=col>V9</th><th scope=col>V10</th><th scope=col>V11</th><th scope=col>V12</th><th scope=col>V13</th><th scope=col>V14</th><th scope=col>V15</th><th scope=col>V16</th><th scope=col>V17</th></tr>\n",
       "\t<tr><th></th><th scope=col>&lt;chr&gt;</th><th scope=col>&lt;int&gt;</th><th scope=col>&lt;int&gt;</th><th scope=col>&lt;chr&gt;</th><th scope=col>&lt;dbl&gt;</th><th scope=col>&lt;dbl&gt;</th><th scope=col>&lt;dbl&gt;</th><th scope=col>&lt;dbl&gt;</th><th scope=col>&lt;dbl&gt;</th><th scope=col>&lt;dbl&gt;</th><th scope=col>&lt;chr&gt;</th><th scope=col>&lt;int&gt;</th><th scope=col>&lt;int&gt;</th><th scope=col>&lt;chr&gt;</th><th scope=col>&lt;int&gt;</th><th scope=col>&lt;chr&gt;</th><th scope=col>&lt;int&gt;</th></tr>\n",
       "</thead>\n",
       "<tbody>\n",
       "\t<tr><th scope=row>1</th><td>chr1</td><td> 910190</td><td> 910591</td><td>SAMD11  </td><td>-0.8814186</td><td>6.861363e-04</td><td>1.278233e-02</td><td>5.327754</td><td>4.574066</td><td>5.820289</td><td>chr1</td><td> 923926</td><td> 923927</td><td>ENSG00000187634.11</td><td>0</td><td>+</td><td>13336</td></tr>\n",
       "\t<tr><th scope=row>2</th><td>chr1</td><td> 921022</td><td> 921423</td><td>SAMD11  </td><td>-1.2083906</td><td>1.881436e-08</td><td>3.694537e-06</td><td>6.952478</td><td>6.069092</td><td>7.496376</td><td>chr1</td><td> 923926</td><td> 923927</td><td>ENSG00000187634.11</td><td>0</td><td>+</td><td> 2504</td></tr>\n",
       "\t<tr><th scope=row>3</th><td>chr1</td><td> 923802</td><td> 924203</td><td>SAMD11  </td><td>-1.1629176</td><td>2.520596e-07</td><td>2.974507e-05</td><td>7.101950</td><td>6.210326</td><td>7.648899</td><td>chr1</td><td> 923926</td><td> 923927</td><td>ENSG00000187634.11</td><td>0</td><td>+</td><td>    0</td></tr>\n",
       "\t<tr><th scope=row>4</th><td>chr1</td><td> 925466</td><td> 925867</td><td>SAMD11  </td><td>-0.9208781</td><td>4.594627e-05</td><td>1.821763e-03</td><td>6.203300</td><td>5.521827</td><td>6.664275</td><td>chr1</td><td> 923926</td><td> 923927</td><td>ENSG00000187634.11</td><td>0</td><td>+</td><td> 1540</td></tr>\n",
       "\t<tr><th scope=row>5</th><td>chr1</td><td> 941593</td><td> 941994</td><td>NOC2L   </td><td>-0.6583104</td><td>1.240086e-03</td><td>1.926971e-02</td><td>6.970025</td><td>6.486176</td><td>7.331718</td><td>chr1</td><td> 959309</td><td> 959310</td><td>ENSG00000188976.10</td><td>0</td><td>-</td><td>17316</td></tr>\n",
       "\t<tr><th scope=row>6</th><td>chr1</td><td> 942434</td><td> 942835</td><td>NOC2L   </td><td>-0.8610278</td><td>4.864304e-05</td><td>1.897477e-03</td><td>6.774891</td><td>6.180369</td><td>7.194684</td><td>chr1</td><td> 959309</td><td> 959310</td><td>ENSG00000188976.10</td><td>0</td><td>-</td><td>16475</td></tr>\n",
       "\t<tr><th scope=row>7</th><td>chr1</td><td> 973718</td><td> 974119</td><td>PLEKHN1 </td><td>-0.8285726</td><td>2.046859e-03</td><td>2.684872e-02</td><td>4.399677</td><td>3.484354</td><td>4.955272</td><td>chr1</td><td> 966495</td><td> 966496</td><td>ENSG00000187583.10</td><td>0</td><td>+</td><td> 7223</td></tr>\n",
       "\t<tr><th scope=row>8</th><td>chr1</td><td>1021041</td><td>1021442</td><td>AGRN    </td><td>-0.8417360</td><td>2.281448e-05</td><td>1.057730e-03</td><td>7.382121</td><td>6.801775</td><td>7.794845</td><td>chr1</td><td>1020121</td><td>1020122</td><td>ENSG00000188157.14</td><td>0</td><td>+</td><td>  920</td></tr>\n",
       "\t<tr><th scope=row>9</th><td>chr1</td><td>1024633</td><td>1025034</td><td>AGRN    </td><td>-0.7330179</td><td>1.310156e-03</td><td>2.000868e-02</td><td>6.282382</td><td>5.735386</td><td>6.678055</td><td>chr1</td><td>1020121</td><td>1020122</td><td>ENSG00000188157.14</td><td>0</td><td>+</td><td> 4512</td></tr>\n",
       "\t<tr><th scope=row>10</th><td>chr1</td><td>1059451</td><td>1059852</td><td>RNF223  </td><td>-0.7055841</td><td>2.585572e-04</td><td>6.470360e-03</td><td>8.518745</td><td>8.027916</td><td>8.884307</td><td>chr1</td><td>1074307</td><td>1074308</td><td>ENSG00000237330.2 </td><td>0</td><td>-</td><td>14456</td></tr>\n",
       "\t<tr><th scope=row>11</th><td>chr1</td><td>1064036</td><td>1064437</td><td>RNF223  </td><td>-0.7972326</td><td>2.391788e-05</td><td>1.098145e-03</td><td>8.197109</td><td>7.663270</td><td>8.585889</td><td>chr1</td><td>1074307</td><td>1074308</td><td>ENSG00000237330.2 </td><td>0</td><td>-</td><td> 9871</td></tr>\n",
       "\t<tr><th scope=row>12</th><td>chr1</td><td>1069180</td><td>1069581</td><td>RNF223  </td><td>-0.6633539</td><td>5.162907e-04</td><td>1.052069e-02</td><td>7.509565</td><td>7.042321</td><td>7.861933</td><td>chr1</td><td>1074307</td><td>1074308</td><td>ENSG00000237330.2 </td><td>0</td><td>-</td><td> 4727</td></tr>\n",
       "\t<tr><th scope=row>13</th><td>chr1</td><td>1079385</td><td>1079786</td><td>RNF223  </td><td>-0.8755083</td><td>1.387927e-05</td><td>7.236323e-04</td><td>8.557989</td><td>7.947661</td><td>8.985544</td><td>chr1</td><td>1074307</td><td>1074308</td><td>ENSG00000237330.2 </td><td>0</td><td>-</td><td> 5078</td></tr>\n",
       "\t<tr><th scope=row>14</th><td>chr1</td><td>1133348</td><td>1133749</td><td>C1orf159</td><td>-0.6859246</td><td>2.059380e-03</td><td>2.695376e-02</td><td>6.123425</td><td>5.591064</td><td>6.511425</td><td>chr1</td><td>1116361</td><td>1116362</td><td>ENSG00000131591.17</td><td>0</td><td>-</td><td>16987</td></tr>\n",
       "\t<tr><th scope=row>15</th><td>chr1</td><td>1136349</td><td>1136750</td><td>C1orf159</td><td>-0.7549294</td><td>4.187388e-03</td><td>4.298967e-02</td><td>4.356633</td><td>3.530077</td><td>4.878816</td><td>chr1</td><td>1116361</td><td>1116362</td><td>ENSG00000131591.17</td><td>0</td><td>-</td><td>19988</td></tr>\n",
       "\t<tr><th scope=row>16</th><td>chr1</td><td>1141656</td><td>1142057</td><td>C1orf159</td><td>-0.8287219</td><td>1.851190e-03</td><td>2.509552e-02</td><td>4.539406</td><td>3.707446</td><td>5.063705</td><td>chr1</td><td>1116361</td><td>1116362</td><td>ENSG00000131591.17</td><td>0</td><td>-</td><td>25295</td></tr>\n",
       "\t<tr><th scope=row>17</th><td>chr1</td><td>1145710</td><td>1146111</td><td>TTLL10  </td><td>-1.2017227</td><td>3.040767e-05</td><td>1.326712e-03</td><td>4.701622</td><td>3.546772</td><td>5.334715</td><td>chr1</td><td>1173882</td><td>1173883</td><td>ENSG00000162571.13</td><td>0</td><td>+</td><td>27772</td></tr>\n",
       "\t<tr><th scope=row>18</th><td>chr1</td><td>1179347</td><td>1179748</td><td>TTLL10  </td><td>-0.9529298</td><td>6.042480e-04</td><td>1.175356e-02</td><td>4.336342</td><td>3.445011</td><td>4.883183</td><td>chr1</td><td>1173882</td><td>1173883</td><td>ENSG00000162571.13</td><td>0</td><td>+</td><td> 5465</td></tr>\n",
       "\t<tr><th scope=row>19</th><td>chr1</td><td>1206217</td><td>1206618</td><td>TNFRSF18</td><td>-1.0277751</td><td>3.658032e-05</td><td>1.527148e-03</td><td>5.725922</td><td>4.886774</td><td>6.253019</td><td>chr1</td><td>1206691</td><td>1206692</td><td>ENSG00000186891.13</td><td>0</td><td>-</td><td>   74</td></tr>\n",
       "\t<tr><th scope=row>20</th><td>chr1</td><td>1212809</td><td>1213210</td><td>TNFRSF4 </td><td>-0.6039477</td><td>5.082381e-04</td><td>1.041082e-02</td><td>7.774293</td><td>7.371895</td><td>8.088585</td><td>chr1</td><td>1214138</td><td>1214139</td><td>ENSG00000186827.10</td><td>0</td><td>-</td><td>  929</td></tr>\n",
       "</tbody>\n",
       "</table>\n"
      ],
      "text/latex": [
       "A data.frame: 20 × 17\n",
       "\\begin{tabular}{r|lllllllllllllllll}\n",
       "  & V1 & V2 & V3 & V4 & V5 & V6 & V7 & V8 & V9 & V10 & V11 & V12 & V13 & V14 & V15 & V16 & V17\\\\\n",
       "  & <chr> & <int> & <int> & <chr> & <dbl> & <dbl> & <dbl> & <dbl> & <dbl> & <dbl> & <chr> & <int> & <int> & <chr> & <int> & <chr> & <int>\\\\\n",
       "\\hline\n",
       "\t1 & chr1 &  910190 &  910591 & SAMD11   & -0.8814186 & 6.861363e-04 & 1.278233e-02 & 5.327754 & 4.574066 & 5.820289 & chr1 &  923926 &  923927 & ENSG00000187634.11 & 0 & + & 13336\\\\\n",
       "\t2 & chr1 &  921022 &  921423 & SAMD11   & -1.2083906 & 1.881436e-08 & 3.694537e-06 & 6.952478 & 6.069092 & 7.496376 & chr1 &  923926 &  923927 & ENSG00000187634.11 & 0 & + &  2504\\\\\n",
       "\t3 & chr1 &  923802 &  924203 & SAMD11   & -1.1629176 & 2.520596e-07 & 2.974507e-05 & 7.101950 & 6.210326 & 7.648899 & chr1 &  923926 &  923927 & ENSG00000187634.11 & 0 & + &     0\\\\\n",
       "\t4 & chr1 &  925466 &  925867 & SAMD11   & -0.9208781 & 4.594627e-05 & 1.821763e-03 & 6.203300 & 5.521827 & 6.664275 & chr1 &  923926 &  923927 & ENSG00000187634.11 & 0 & + &  1540\\\\\n",
       "\t5 & chr1 &  941593 &  941994 & NOC2L    & -0.6583104 & 1.240086e-03 & 1.926971e-02 & 6.970025 & 6.486176 & 7.331718 & chr1 &  959309 &  959310 & ENSG00000188976.10 & 0 & - & 17316\\\\\n",
       "\t6 & chr1 &  942434 &  942835 & NOC2L    & -0.8610278 & 4.864304e-05 & 1.897477e-03 & 6.774891 & 6.180369 & 7.194684 & chr1 &  959309 &  959310 & ENSG00000188976.10 & 0 & - & 16475\\\\\n",
       "\t7 & chr1 &  973718 &  974119 & PLEKHN1  & -0.8285726 & 2.046859e-03 & 2.684872e-02 & 4.399677 & 3.484354 & 4.955272 & chr1 &  966495 &  966496 & ENSG00000187583.10 & 0 & + &  7223\\\\\n",
       "\t8 & chr1 & 1021041 & 1021442 & AGRN     & -0.8417360 & 2.281448e-05 & 1.057730e-03 & 7.382121 & 6.801775 & 7.794845 & chr1 & 1020121 & 1020122 & ENSG00000188157.14 & 0 & + &   920\\\\\n",
       "\t9 & chr1 & 1024633 & 1025034 & AGRN     & -0.7330179 & 1.310156e-03 & 2.000868e-02 & 6.282382 & 5.735386 & 6.678055 & chr1 & 1020121 & 1020122 & ENSG00000188157.14 & 0 & + &  4512\\\\\n",
       "\t10 & chr1 & 1059451 & 1059852 & RNF223   & -0.7055841 & 2.585572e-04 & 6.470360e-03 & 8.518745 & 8.027916 & 8.884307 & chr1 & 1074307 & 1074308 & ENSG00000237330.2  & 0 & - & 14456\\\\\n",
       "\t11 & chr1 & 1064036 & 1064437 & RNF223   & -0.7972326 & 2.391788e-05 & 1.098145e-03 & 8.197109 & 7.663270 & 8.585889 & chr1 & 1074307 & 1074308 & ENSG00000237330.2  & 0 & - &  9871\\\\\n",
       "\t12 & chr1 & 1069180 & 1069581 & RNF223   & -0.6633539 & 5.162907e-04 & 1.052069e-02 & 7.509565 & 7.042321 & 7.861933 & chr1 & 1074307 & 1074308 & ENSG00000237330.2  & 0 & - &  4727\\\\\n",
       "\t13 & chr1 & 1079385 & 1079786 & RNF223   & -0.8755083 & 1.387927e-05 & 7.236323e-04 & 8.557989 & 7.947661 & 8.985544 & chr1 & 1074307 & 1074308 & ENSG00000237330.2  & 0 & - &  5078\\\\\n",
       "\t14 & chr1 & 1133348 & 1133749 & C1orf159 & -0.6859246 & 2.059380e-03 & 2.695376e-02 & 6.123425 & 5.591064 & 6.511425 & chr1 & 1116361 & 1116362 & ENSG00000131591.17 & 0 & - & 16987\\\\\n",
       "\t15 & chr1 & 1136349 & 1136750 & C1orf159 & -0.7549294 & 4.187388e-03 & 4.298967e-02 & 4.356633 & 3.530077 & 4.878816 & chr1 & 1116361 & 1116362 & ENSG00000131591.17 & 0 & - & 19988\\\\\n",
       "\t16 & chr1 & 1141656 & 1142057 & C1orf159 & -0.8287219 & 1.851190e-03 & 2.509552e-02 & 4.539406 & 3.707446 & 5.063705 & chr1 & 1116361 & 1116362 & ENSG00000131591.17 & 0 & - & 25295\\\\\n",
       "\t17 & chr1 & 1145710 & 1146111 & TTLL10   & -1.2017227 & 3.040767e-05 & 1.326712e-03 & 4.701622 & 3.546772 & 5.334715 & chr1 & 1173882 & 1173883 & ENSG00000162571.13 & 0 & + & 27772\\\\\n",
       "\t18 & chr1 & 1179347 & 1179748 & TTLL10   & -0.9529298 & 6.042480e-04 & 1.175356e-02 & 4.336342 & 3.445011 & 4.883183 & chr1 & 1173882 & 1173883 & ENSG00000162571.13 & 0 & + &  5465\\\\\n",
       "\t19 & chr1 & 1206217 & 1206618 & TNFRSF18 & -1.0277751 & 3.658032e-05 & 1.527148e-03 & 5.725922 & 4.886774 & 6.253019 & chr1 & 1206691 & 1206692 & ENSG00000186891.13 & 0 & - &    74\\\\\n",
       "\t20 & chr1 & 1212809 & 1213210 & TNFRSF4  & -0.6039477 & 5.082381e-04 & 1.041082e-02 & 7.774293 & 7.371895 & 8.088585 & chr1 & 1214138 & 1214139 & ENSG00000186827.10 & 0 & - &   929\\\\\n",
       "\\end{tabular}\n"
      ],
      "text/markdown": [
       "\n",
       "A data.frame: 20 × 17\n",
       "\n",
       "| <!--/--> | V1 &lt;chr&gt; | V2 &lt;int&gt; | V3 &lt;int&gt; | V4 &lt;chr&gt; | V5 &lt;dbl&gt; | V6 &lt;dbl&gt; | V7 &lt;dbl&gt; | V8 &lt;dbl&gt; | V9 &lt;dbl&gt; | V10 &lt;dbl&gt; | V11 &lt;chr&gt; | V12 &lt;int&gt; | V13 &lt;int&gt; | V14 &lt;chr&gt; | V15 &lt;int&gt; | V16 &lt;chr&gt; | V17 &lt;int&gt; |\n",
       "|---|---|---|---|---|---|---|---|---|---|---|---|---|---|---|---|---|---|\n",
       "| 1 | chr1 |  910190 |  910591 | SAMD11   | -0.8814186 | 6.861363e-04 | 1.278233e-02 | 5.327754 | 4.574066 | 5.820289 | chr1 |  923926 |  923927 | ENSG00000187634.11 | 0 | + | 13336 |\n",
       "| 2 | chr1 |  921022 |  921423 | SAMD11   | -1.2083906 | 1.881436e-08 | 3.694537e-06 | 6.952478 | 6.069092 | 7.496376 | chr1 |  923926 |  923927 | ENSG00000187634.11 | 0 | + |  2504 |\n",
       "| 3 | chr1 |  923802 |  924203 | SAMD11   | -1.1629176 | 2.520596e-07 | 2.974507e-05 | 7.101950 | 6.210326 | 7.648899 | chr1 |  923926 |  923927 | ENSG00000187634.11 | 0 | + |     0 |\n",
       "| 4 | chr1 |  925466 |  925867 | SAMD11   | -0.9208781 | 4.594627e-05 | 1.821763e-03 | 6.203300 | 5.521827 | 6.664275 | chr1 |  923926 |  923927 | ENSG00000187634.11 | 0 | + |  1540 |\n",
       "| 5 | chr1 |  941593 |  941994 | NOC2L    | -0.6583104 | 1.240086e-03 | 1.926971e-02 | 6.970025 | 6.486176 | 7.331718 | chr1 |  959309 |  959310 | ENSG00000188976.10 | 0 | - | 17316 |\n",
       "| 6 | chr1 |  942434 |  942835 | NOC2L    | -0.8610278 | 4.864304e-05 | 1.897477e-03 | 6.774891 | 6.180369 | 7.194684 | chr1 |  959309 |  959310 | ENSG00000188976.10 | 0 | - | 16475 |\n",
       "| 7 | chr1 |  973718 |  974119 | PLEKHN1  | -0.8285726 | 2.046859e-03 | 2.684872e-02 | 4.399677 | 3.484354 | 4.955272 | chr1 |  966495 |  966496 | ENSG00000187583.10 | 0 | + |  7223 |\n",
       "| 8 | chr1 | 1021041 | 1021442 | AGRN     | -0.8417360 | 2.281448e-05 | 1.057730e-03 | 7.382121 | 6.801775 | 7.794845 | chr1 | 1020121 | 1020122 | ENSG00000188157.14 | 0 | + |   920 |\n",
       "| 9 | chr1 | 1024633 | 1025034 | AGRN     | -0.7330179 | 1.310156e-03 | 2.000868e-02 | 6.282382 | 5.735386 | 6.678055 | chr1 | 1020121 | 1020122 | ENSG00000188157.14 | 0 | + |  4512 |\n",
       "| 10 | chr1 | 1059451 | 1059852 | RNF223   | -0.7055841 | 2.585572e-04 | 6.470360e-03 | 8.518745 | 8.027916 | 8.884307 | chr1 | 1074307 | 1074308 | ENSG00000237330.2  | 0 | - | 14456 |\n",
       "| 11 | chr1 | 1064036 | 1064437 | RNF223   | -0.7972326 | 2.391788e-05 | 1.098145e-03 | 8.197109 | 7.663270 | 8.585889 | chr1 | 1074307 | 1074308 | ENSG00000237330.2  | 0 | - |  9871 |\n",
       "| 12 | chr1 | 1069180 | 1069581 | RNF223   | -0.6633539 | 5.162907e-04 | 1.052069e-02 | 7.509565 | 7.042321 | 7.861933 | chr1 | 1074307 | 1074308 | ENSG00000237330.2  | 0 | - |  4727 |\n",
       "| 13 | chr1 | 1079385 | 1079786 | RNF223   | -0.8755083 | 1.387927e-05 | 7.236323e-04 | 8.557989 | 7.947661 | 8.985544 | chr1 | 1074307 | 1074308 | ENSG00000237330.2  | 0 | - |  5078 |\n",
       "| 14 | chr1 | 1133348 | 1133749 | C1orf159 | -0.6859246 | 2.059380e-03 | 2.695376e-02 | 6.123425 | 5.591064 | 6.511425 | chr1 | 1116361 | 1116362 | ENSG00000131591.17 | 0 | - | 16987 |\n",
       "| 15 | chr1 | 1136349 | 1136750 | C1orf159 | -0.7549294 | 4.187388e-03 | 4.298967e-02 | 4.356633 | 3.530077 | 4.878816 | chr1 | 1116361 | 1116362 | ENSG00000131591.17 | 0 | - | 19988 |\n",
       "| 16 | chr1 | 1141656 | 1142057 | C1orf159 | -0.8287219 | 1.851190e-03 | 2.509552e-02 | 4.539406 | 3.707446 | 5.063705 | chr1 | 1116361 | 1116362 | ENSG00000131591.17 | 0 | - | 25295 |\n",
       "| 17 | chr1 | 1145710 | 1146111 | TTLL10   | -1.2017227 | 3.040767e-05 | 1.326712e-03 | 4.701622 | 3.546772 | 5.334715 | chr1 | 1173882 | 1173883 | ENSG00000162571.13 | 0 | + | 27772 |\n",
       "| 18 | chr1 | 1179347 | 1179748 | TTLL10   | -0.9529298 | 6.042480e-04 | 1.175356e-02 | 4.336342 | 3.445011 | 4.883183 | chr1 | 1173882 | 1173883 | ENSG00000162571.13 | 0 | + |  5465 |\n",
       "| 19 | chr1 | 1206217 | 1206618 | TNFRSF18 | -1.0277751 | 3.658032e-05 | 1.527148e-03 | 5.725922 | 4.886774 | 6.253019 | chr1 | 1206691 | 1206692 | ENSG00000186891.13 | 0 | - |    74 |\n",
       "| 20 | chr1 | 1212809 | 1213210 | TNFRSF4  | -0.6039477 | 5.082381e-04 | 1.041082e-02 | 7.774293 | 7.371895 | 8.088585 | chr1 | 1214138 | 1214139 | ENSG00000186827.10 | 0 | - |   929 |\n",
       "\n"
      ],
      "text/plain": [
       "   V1   V2      V3      V4       V5         V6           V7           V8      \n",
       "1  chr1  910190  910591 SAMD11   -0.8814186 6.861363e-04 1.278233e-02 5.327754\n",
       "2  chr1  921022  921423 SAMD11   -1.2083906 1.881436e-08 3.694537e-06 6.952478\n",
       "3  chr1  923802  924203 SAMD11   -1.1629176 2.520596e-07 2.974507e-05 7.101950\n",
       "4  chr1  925466  925867 SAMD11   -0.9208781 4.594627e-05 1.821763e-03 6.203300\n",
       "5  chr1  941593  941994 NOC2L    -0.6583104 1.240086e-03 1.926971e-02 6.970025\n",
       "6  chr1  942434  942835 NOC2L    -0.8610278 4.864304e-05 1.897477e-03 6.774891\n",
       "7  chr1  973718  974119 PLEKHN1  -0.8285726 2.046859e-03 2.684872e-02 4.399677\n",
       "8  chr1 1021041 1021442 AGRN     -0.8417360 2.281448e-05 1.057730e-03 7.382121\n",
       "9  chr1 1024633 1025034 AGRN     -0.7330179 1.310156e-03 2.000868e-02 6.282382\n",
       "10 chr1 1059451 1059852 RNF223   -0.7055841 2.585572e-04 6.470360e-03 8.518745\n",
       "11 chr1 1064036 1064437 RNF223   -0.7972326 2.391788e-05 1.098145e-03 8.197109\n",
       "12 chr1 1069180 1069581 RNF223   -0.6633539 5.162907e-04 1.052069e-02 7.509565\n",
       "13 chr1 1079385 1079786 RNF223   -0.8755083 1.387927e-05 7.236323e-04 8.557989\n",
       "14 chr1 1133348 1133749 C1orf159 -0.6859246 2.059380e-03 2.695376e-02 6.123425\n",
       "15 chr1 1136349 1136750 C1orf159 -0.7549294 4.187388e-03 4.298967e-02 4.356633\n",
       "16 chr1 1141656 1142057 C1orf159 -0.8287219 1.851190e-03 2.509552e-02 4.539406\n",
       "17 chr1 1145710 1146111 TTLL10   -1.2017227 3.040767e-05 1.326712e-03 4.701622\n",
       "18 chr1 1179347 1179748 TTLL10   -0.9529298 6.042480e-04 1.175356e-02 4.336342\n",
       "19 chr1 1206217 1206618 TNFRSF18 -1.0277751 3.658032e-05 1.527148e-03 5.725922\n",
       "20 chr1 1212809 1213210 TNFRSF4  -0.6039477 5.082381e-04 1.041082e-02 7.774293\n",
       "   V9       V10      V11  V12     V13     V14                V15 V16 V17  \n",
       "1  4.574066 5.820289 chr1  923926  923927 ENSG00000187634.11 0   +   13336\n",
       "2  6.069092 7.496376 chr1  923926  923927 ENSG00000187634.11 0   +    2504\n",
       "3  6.210326 7.648899 chr1  923926  923927 ENSG00000187634.11 0   +       0\n",
       "4  5.521827 6.664275 chr1  923926  923927 ENSG00000187634.11 0   +    1540\n",
       "5  6.486176 7.331718 chr1  959309  959310 ENSG00000188976.10 0   -   17316\n",
       "6  6.180369 7.194684 chr1  959309  959310 ENSG00000188976.10 0   -   16475\n",
       "7  3.484354 4.955272 chr1  966495  966496 ENSG00000187583.10 0   +    7223\n",
       "8  6.801775 7.794845 chr1 1020121 1020122 ENSG00000188157.14 0   +     920\n",
       "9  5.735386 6.678055 chr1 1020121 1020122 ENSG00000188157.14 0   +    4512\n",
       "10 8.027916 8.884307 chr1 1074307 1074308 ENSG00000237330.2  0   -   14456\n",
       "11 7.663270 8.585889 chr1 1074307 1074308 ENSG00000237330.2  0   -    9871\n",
       "12 7.042321 7.861933 chr1 1074307 1074308 ENSG00000237330.2  0   -    4727\n",
       "13 7.947661 8.985544 chr1 1074307 1074308 ENSG00000237330.2  0   -    5078\n",
       "14 5.591064 6.511425 chr1 1116361 1116362 ENSG00000131591.17 0   -   16987\n",
       "15 3.530077 4.878816 chr1 1116361 1116362 ENSG00000131591.17 0   -   19988\n",
       "16 3.707446 5.063705 chr1 1116361 1116362 ENSG00000131591.17 0   -   25295\n",
       "17 3.546772 5.334715 chr1 1173882 1173883 ENSG00000162571.13 0   +   27772\n",
       "18 3.445011 4.883183 chr1 1173882 1173883 ENSG00000162571.13 0   +    5465\n",
       "19 4.886774 6.253019 chr1 1206691 1206692 ENSG00000186891.13 0   -      74\n",
       "20 7.371895 8.088585 chr1 1214138 1214139 ENSG00000186827.10 0   -     929"
      ]
     },
     "metadata": {},
     "output_type": "display_data"
    }
   ],
   "source": [
    "stat_bmp9_VS_stat_cont = read.table( \"/project/Mechanogenomics_data/ATACseq_analysis/DiffAcc/results/TSS_annotated_bedFiles/TSS_geneSymbolAnnotated_bedFiles/stat_bmp9_VS_stat_cont_TSS_annotated_geneSymbol.bed\", sep = \"\\t\", header = F)\n",
    "head(stat_bmp9_VS_stat_cont, 20)"
   ]
  },
  {
   "cell_type": "code",
   "execution_count": 12,
   "id": "7df6c0d9-7f93-4720-8ed8-05f8a9f8e9ce",
   "metadata": {},
   "outputs": [],
   "source": [
    "flow_cont_VS_stat_cont_gr = makeGRangesFromDataFrame(flow_cont_VS_stat_cont,                         \n",
    "                         keep.extra.columns=T,\n",
    "                        ignore.strand=T,\n",
    "                         seqinfo=NULL,\n",
    "                         seqnames.field=c(\"V1\"),\n",
    "                         start.field=\"V2\",\n",
    "                         end.field=c(\"V3\"),\n",
    "                         #strand.field=\"strand\",\n",
    "                         starts.in.df.are.0based=FALSE)"
   ]
  },
  {
   "cell_type": "code",
   "execution_count": 13,
   "id": "17b28f23-ca9f-49e5-bafe-74f63ed8f3ed",
   "metadata": {},
   "outputs": [],
   "source": [
    "stat_bmp9_VS_stat_cont_gr = makeGRangesFromDataFrame(stat_bmp9_VS_stat_cont,\n",
    "                          \n",
    "                         keep.extra.columns=T,\n",
    "                         ignore.strand=T,\n",
    "                         seqinfo=NULL,\n",
    "                         seqnames.field=c(\"V1\"),\n",
    "                         start.field=\"V2\",\n",
    "                         end.field=c(\"V3\"),\n",
    "                         #strand.field=\"strand\",\n",
    "                         starts.in.df.are.0based=FALSE)"
   ]
  },
  {
   "cell_type": "code",
   "execution_count": 14,
   "id": "fdb629e9-bc20-4b5c-88b2-25d5b63ab63a",
   "metadata": {},
   "outputs": [
    {
     "data": {
      "text/plain": [
       "GRanges object with 23267 ranges and 14 metadata columns:\n",
       "          seqnames              ranges strand |          V4        V5\n",
       "             <Rle>           <IRanges>  <Rle> | <character> <numeric>\n",
       "      [1]     chr1       910190-910591      * |      SAMD11 -0.881419\n",
       "      [2]     chr1       921022-921423      * |      SAMD11 -1.208391\n",
       "      [3]     chr1       923802-924203      * |      SAMD11 -1.162918\n",
       "      [4]     chr1       925466-925867      * |      SAMD11 -0.920878\n",
       "      [5]     chr1       941593-941994      * |       NOC2L -0.658310\n",
       "      ...      ...                 ...    ... .         ...       ...\n",
       "  [23263]     chrX 154449482-154449883      * |      FAM50A -0.953814\n",
       "  [23264]     chrX 154459070-154459471      * |      PLXNA3 -0.523028\n",
       "  [23265]     chrX 154486448-154486849      * |       UBL4A -1.151431\n",
       "  [23266]     chrX 155010122-155010523      * |      FUNDC2  0.974908\n",
       "  [23267]     chrX 155637639-155638040      * |       TMLHE  0.704521\n",
       "                   V6          V7        V8        V9       V10         V11\n",
       "            <numeric>   <numeric> <numeric> <numeric> <numeric> <character>\n",
       "      [1] 6.86136e-04 1.27823e-02   5.32775   4.57407   5.82029        chr1\n",
       "      [2] 1.88144e-08 3.69454e-06   6.95248   6.06909   7.49638        chr1\n",
       "      [3] 2.52060e-07 2.97451e-05   7.10195   6.21033   7.64890        chr1\n",
       "      [4] 4.59463e-05 1.82176e-03   6.20330   5.52183   6.66428        chr1\n",
       "      [5] 1.24009e-03 1.92697e-02   6.97003   6.48618   7.33172        chr1\n",
       "      ...         ...         ...       ...       ...       ...         ...\n",
       "  [23263] 6.63156e-04 1.25040e-02   3.80294   2.07599   4.56669        chrX\n",
       "  [23264] 5.00358e-03 4.81624e-02   6.67561   6.30306   6.97144        chrX\n",
       "  [23265] 5.60496e-08 8.83196e-06   7.34850   6.50825   7.87602        chrX\n",
       "  [23266] 3.56122e-04 8.13845e-03   6.13320   6.69297   5.20626        chrX\n",
       "  [23267] 8.19157e-04 1.44628e-02   6.97033   7.34059   6.47094        chrX\n",
       "                V12       V13                V14       V15         V16\n",
       "          <integer> <integer>        <character> <integer> <character>\n",
       "      [1]    923926    923927 ENSG00000187634.11         0           +\n",
       "      [2]    923926    923927 ENSG00000187634.11         0           +\n",
       "      [3]    923926    923927 ENSG00000187634.11         0           +\n",
       "      [4]    923926    923927 ENSG00000187634.11         0           +\n",
       "      [5]    959309    959310 ENSG00000188976.10         0           -\n",
       "      ...       ...       ...                ...       ...         ...\n",
       "  [23263] 154444124 154444125 ENSG00000071859.14         0           +\n",
       "  [23264] 154458279 154458280  ENSG00000130827.6         0           +\n",
       "  [23265] 154486670 154486671 ENSG00000102178.12         0           -\n",
       "  [23266] 155025978 155025979 ENSG00000165775.17         0           +\n",
       "  [23267] 155669944 155669945 ENSG00000185973.10         0           -\n",
       "                V17\n",
       "          <integer>\n",
       "      [1]     13336\n",
       "      [2]      2504\n",
       "      [3]         0\n",
       "      [4]      1540\n",
       "      [5]     17316\n",
       "      ...       ...\n",
       "  [23263]      5358\n",
       "  [23264]       791\n",
       "  [23265]         0\n",
       "  [23266]     15456\n",
       "  [23267]     31905\n",
       "  -------\n",
       "  seqinfo: 23 sequences from an unspecified genome; no seqlengths"
      ]
     },
     "metadata": {},
     "output_type": "display_data"
    }
   ],
   "source": [
    "stat_bmp9_VS_stat_cont_gr"
   ]
  },
  {
   "cell_type": "markdown",
   "id": "808060d3-6501-474f-8481-5b7afae12252",
   "metadata": {},
   "source": [
    "## Which of the differential regions are common?: A"
   ]
  },
  {
   "cell_type": "code",
   "execution_count": 15,
   "id": "40cfbc36-ec65-403f-828e-2a395f705f5d",
   "metadata": {},
   "outputs": [],
   "source": [
    "common_regions = subsetByOverlaps(stat_bmp9_VS_stat_cont_gr, flow_cont_VS_stat_cont_gr)"
   ]
  },
  {
   "cell_type": "code",
   "execution_count": 16,
   "id": "bbc0d902-f6ef-433c-8bfa-921d517d1471",
   "metadata": {},
   "outputs": [
    {
     "data": {
      "text/plain": [
       "GRanges object with 6271 ranges and 14 metadata columns:\n",
       "         seqnames              ranges strand |          V4        V5\n",
       "            <Rle>           <IRanges>  <Rle> | <character> <numeric>\n",
       "     [1]     chr1       923802-924203      * |      SAMD11 -1.162918\n",
       "     [2]     chr1       973718-974119      * |     PLEKHN1 -0.828573\n",
       "     [3]     chr1     1059451-1059852      * |      RNF223 -0.705584\n",
       "     [4]     chr1     1079385-1079786      * |      RNF223 -0.875508\n",
       "     [5]     chr1     1179347-1179748      * |      TTLL10 -0.952930\n",
       "     ...      ...                 ...    ... .         ...       ...\n",
       "  [6267]     chrX 139875814-139876215      * |      ATP11C  0.498579\n",
       "  [6268]     chrX 141673912-141674313      * |      SPANXD  0.906304\n",
       "  [6269]     chrX 150521881-150522282      * |        MTM1  0.870914\n",
       "  [6270]     chrX 153380568-153380969      * |      PNMA6E -0.730773\n",
       "  [6271]     chrX 154136604-154137005      * |       MECP2 -0.536563\n",
       "                  V6          V7        V8        V9       V10         V11\n",
       "           <numeric>   <numeric> <numeric> <numeric> <numeric> <character>\n",
       "     [1] 2.52060e-07 2.97451e-05   7.10195   6.21033   7.64890        chr1\n",
       "     [2] 2.04686e-03 2.68487e-02   4.39968   3.48435   4.95527        chr1\n",
       "     [3] 2.58557e-04 6.47036e-03   8.51874   8.02792   8.88431        chr1\n",
       "     [4] 1.38793e-05 7.23632e-04   8.55799   7.94766   8.98554        chr1\n",
       "     [5] 6.04248e-04 1.17536e-02   4.33634   3.44501   4.88318        chr1\n",
       "     ...         ...         ...       ...       ...       ...         ...\n",
       "  [6267] 2.61885e-03  0.03167157   8.18162   8.45018   7.85137        chrX\n",
       "  [6268] 3.45141e-05  0.00146458   6.99499   7.45424   6.31734        chrX\n",
       "  [6269] 1.70295e-04  0.00478162   6.08257   6.54470   5.39856        chrX\n",
       "  [6270] 7.15163e-04  0.01316763   6.82047   6.26068   7.22275        chrX\n",
       "  [6271] 2.79777e-03  0.03309807   7.47017   7.08986   7.77085        chrX\n",
       "               V12       V13                V14       V15         V16       V17\n",
       "         <integer> <integer>        <character> <integer> <character> <integer>\n",
       "     [1]    923926    923927 ENSG00000187634.11         0           +         0\n",
       "     [2]    966495    966496 ENSG00000187583.10         0           +      7223\n",
       "     [3]   1074307   1074308  ENSG00000237330.2         0           -     14456\n",
       "     [4]   1074307   1074308  ENSG00000237330.2         0           -      5078\n",
       "     [5]   1173882   1173883 ENSG00000162571.13         0           +      5465\n",
       "     ...       ...       ...                ...       ...         ...       ...\n",
       "  [6267] 139945276 139945277 ENSG00000101974.14         0           -     69062\n",
       "  [6268] 141698739 141698740  ENSG00000196406.4         0           -     24427\n",
       "  [6269] 150568617 150568618 ENSG00000171100.14         0           +     46336\n",
       "  [6270] 153401420 153401421  ENSG00000214897.4         0           -     20452\n",
       "  [6271] 154137103 154137104 ENSG00000169057.21         0           -        99\n",
       "  -------\n",
       "  seqinfo: 23 sequences from an unspecified genome; no seqlengths"
      ]
     },
     "metadata": {},
     "output_type": "display_data"
    }
   ],
   "source": [
    "common_regions"
   ]
  },
  {
   "cell_type": "code",
   "execution_count": 17,
   "id": "e476e253-6e8f-4315-a36d-19152d12e153",
   "metadata": {},
   "outputs": [],
   "source": [
    "common_regions_flow_cont_metadata =  subsetByOverlaps(flow_cont_VS_stat_cont_gr, common_regions)"
   ]
  },
  {
   "cell_type": "code",
   "execution_count": 18,
   "id": "48eedca1-299c-49be-ac06-bbb6bf103c77",
   "metadata": {},
   "outputs": [
    {
     "data": {
      "text/plain": [
       "GRanges object with 6 ranges and 14 metadata columns:\n",
       "      seqnames          ranges strand |          V4        V5          V6\n",
       "         <Rle>       <IRanges>  <Rle> | <character> <numeric>   <numeric>\n",
       "  [1]     chr1   923802-924203      * |      SAMD11 -0.691703 2.90307e-03\n",
       "  [2]     chr1   973718-974119      * |     PLEKHN1  0.880959 3.16623e-03\n",
       "  [3]     chr1 1059451-1059852      * |      RNF223 -0.938865 9.83130e-06\n",
       "  [4]     chr1 1079385-1079786      * |      RNF223 -0.715484 6.69339e-04\n",
       "  [5]     chr1 1179347-1179748      * |      TTLL10  1.055823 4.39724e-04\n",
       "  [6]     chr1 1243376-1243777      * |    C1QTNF12  0.802651 2.71702e-03\n",
       "               V7        V8        V9       V10         V11       V12       V13\n",
       "        <numeric> <numeric> <numeric> <numeric> <character> <integer> <integer>\n",
       "  [1] 0.022116163   7.25758   6.71892   7.64890        chr1    923926    923927\n",
       "  [2] 0.023530886   5.84803   6.39540   4.95527        chr1    966495    966496\n",
       "  [3] 0.000242786   8.43918   7.79210   8.88431        chr1   1074307   1074308\n",
       "  [4] 0.007448366   8.61238   8.10770   8.98554        chr1   1074307   1074308\n",
       "  [5] 0.005378972   5.84546   6.41763   4.88318        chr1   1173882   1173883\n",
       "  [6] 0.021100297   6.18044   6.64895   5.48220        chr1   1246722   1246723\n",
       "                     V14       V15         V16       V17\n",
       "             <character> <integer> <character> <integer>\n",
       "  [1] ENSG00000187634.11         0           +         0\n",
       "  [2] ENSG00000187583.10         0           +      7223\n",
       "  [3]  ENSG00000237330.2         0           -     14456\n",
       "  [4]  ENSG00000237330.2         0           -      5078\n",
       "  [5] ENSG00000162571.13         0           +      5465\n",
       "  [6]  ENSG00000184163.3         0           -      2946\n",
       "  -------\n",
       "  seqinfo: 23 sequences from an unspecified genome; no seqlengths"
      ]
     },
     "metadata": {},
     "output_type": "display_data"
    }
   ],
   "source": [
    "head(common_regions_flow_cont_metadata)"
   ]
  },
  {
   "cell_type": "code",
   "execution_count": 19,
   "id": "2ce43d25-7504-4295-b9a1-26d4a76e46fb",
   "metadata": {},
   "outputs": [
    {
     "data": {
      "text/html": [
       "<table class=\"dataframe\">\n",
       "<caption>A data.frame: 6 × 19</caption>\n",
       "<thead>\n",
       "\t<tr><th></th><th scope=col>seqnames</th><th scope=col>start</th><th scope=col>end</th><th scope=col>width</th><th scope=col>strand</th><th scope=col>gene_symbol</th><th scope=col>fold_change_stat_bmp9_VS_stat_cont</th><th scope=col>pvalue_stat_bmp9_VS_stat_cont</th><th scope=col>FDR_stat_bmp9_VS_stat_cont</th><th scope=col>Conc</th><th scope=col>Conc_stat_bmp9</th><th scope=col>Conc_stat_cont</th><th scope=col>TSS_seq</th><th scope=col>TSS_start</th><th scope=col>TSS_end</th><th scope=col>TSS_ENSEMBL</th><th scope=col>TSS_interval</th><th scope=col>TSS_strand</th><th scope=col>TSS_sth</th></tr>\n",
       "\t<tr><th></th><th scope=col>&lt;fct&gt;</th><th scope=col>&lt;int&gt;</th><th scope=col>&lt;int&gt;</th><th scope=col>&lt;int&gt;</th><th scope=col>&lt;fct&gt;</th><th scope=col>&lt;chr&gt;</th><th scope=col>&lt;dbl&gt;</th><th scope=col>&lt;dbl&gt;</th><th scope=col>&lt;dbl&gt;</th><th scope=col>&lt;dbl&gt;</th><th scope=col>&lt;dbl&gt;</th><th scope=col>&lt;dbl&gt;</th><th scope=col>&lt;chr&gt;</th><th scope=col>&lt;int&gt;</th><th scope=col>&lt;int&gt;</th><th scope=col>&lt;chr&gt;</th><th scope=col>&lt;int&gt;</th><th scope=col>&lt;chr&gt;</th><th scope=col>&lt;int&gt;</th></tr>\n",
       "</thead>\n",
       "<tbody>\n",
       "\t<tr><th scope=row>1</th><td>chr1</td><td> 923802</td><td> 924203</td><td>402</td><td>*</td><td>SAMD11  </td><td>-1.1629176</td><td>2.520596e-07</td><td>2.974507e-05</td><td>7.101950</td><td>6.210326</td><td>7.648899</td><td>chr1</td><td> 923926</td><td> 923927</td><td>ENSG00000187634.11</td><td>0</td><td>+</td><td>    0</td></tr>\n",
       "\t<tr><th scope=row>2</th><td>chr1</td><td> 973718</td><td> 974119</td><td>402</td><td>*</td><td>PLEKHN1 </td><td>-0.8285726</td><td>2.046859e-03</td><td>2.684872e-02</td><td>4.399677</td><td>3.484354</td><td>4.955272</td><td>chr1</td><td> 966495</td><td> 966496</td><td>ENSG00000187583.10</td><td>0</td><td>+</td><td> 7223</td></tr>\n",
       "\t<tr><th scope=row>3</th><td>chr1</td><td>1059451</td><td>1059852</td><td>402</td><td>*</td><td>RNF223  </td><td>-0.7055841</td><td>2.585572e-04</td><td>6.470360e-03</td><td>8.518745</td><td>8.027916</td><td>8.884307</td><td>chr1</td><td>1074307</td><td>1074308</td><td>ENSG00000237330.2 </td><td>0</td><td>-</td><td>14456</td></tr>\n",
       "\t<tr><th scope=row>4</th><td>chr1</td><td>1079385</td><td>1079786</td><td>402</td><td>*</td><td>RNF223  </td><td>-0.8755083</td><td>1.387927e-05</td><td>7.236323e-04</td><td>8.557989</td><td>7.947661</td><td>8.985544</td><td>chr1</td><td>1074307</td><td>1074308</td><td>ENSG00000237330.2 </td><td>0</td><td>-</td><td> 5078</td></tr>\n",
       "\t<tr><th scope=row>5</th><td>chr1</td><td>1179347</td><td>1179748</td><td>402</td><td>*</td><td>TTLL10  </td><td>-0.9529298</td><td>6.042480e-04</td><td>1.175356e-02</td><td>4.336342</td><td>3.445011</td><td>4.883183</td><td>chr1</td><td>1173882</td><td>1173883</td><td>ENSG00000162571.13</td><td>0</td><td>+</td><td> 5465</td></tr>\n",
       "\t<tr><th scope=row>6</th><td>chr1</td><td>1243376</td><td>1243777</td><td>402</td><td>*</td><td>C1QTNF12</td><td>-1.0235891</td><td>1.188662e-04</td><td>3.665983e-03</td><td>4.931899</td><td>4.031153</td><td>5.482199</td><td>chr1</td><td>1246722</td><td>1246723</td><td>ENSG00000184163.3 </td><td>0</td><td>-</td><td> 2946</td></tr>\n",
       "</tbody>\n",
       "</table>\n"
      ],
      "text/latex": [
       "A data.frame: 6 × 19\n",
       "\\begin{tabular}{r|lllllllllllllllllll}\n",
       "  & seqnames & start & end & width & strand & gene\\_symbol & fold\\_change\\_stat\\_bmp9\\_VS\\_stat\\_cont & pvalue\\_stat\\_bmp9\\_VS\\_stat\\_cont & FDR\\_stat\\_bmp9\\_VS\\_stat\\_cont & Conc & Conc\\_stat\\_bmp9 & Conc\\_stat\\_cont & TSS\\_seq & TSS\\_start & TSS\\_end & TSS\\_ENSEMBL & TSS\\_interval & TSS\\_strand & TSS\\_sth\\\\\n",
       "  & <fct> & <int> & <int> & <int> & <fct> & <chr> & <dbl> & <dbl> & <dbl> & <dbl> & <dbl> & <dbl> & <chr> & <int> & <int> & <chr> & <int> & <chr> & <int>\\\\\n",
       "\\hline\n",
       "\t1 & chr1 &  923802 &  924203 & 402 & * & SAMD11   & -1.1629176 & 2.520596e-07 & 2.974507e-05 & 7.101950 & 6.210326 & 7.648899 & chr1 &  923926 &  923927 & ENSG00000187634.11 & 0 & + &     0\\\\\n",
       "\t2 & chr1 &  973718 &  974119 & 402 & * & PLEKHN1  & -0.8285726 & 2.046859e-03 & 2.684872e-02 & 4.399677 & 3.484354 & 4.955272 & chr1 &  966495 &  966496 & ENSG00000187583.10 & 0 & + &  7223\\\\\n",
       "\t3 & chr1 & 1059451 & 1059852 & 402 & * & RNF223   & -0.7055841 & 2.585572e-04 & 6.470360e-03 & 8.518745 & 8.027916 & 8.884307 & chr1 & 1074307 & 1074308 & ENSG00000237330.2  & 0 & - & 14456\\\\\n",
       "\t4 & chr1 & 1079385 & 1079786 & 402 & * & RNF223   & -0.8755083 & 1.387927e-05 & 7.236323e-04 & 8.557989 & 7.947661 & 8.985544 & chr1 & 1074307 & 1074308 & ENSG00000237330.2  & 0 & - &  5078\\\\\n",
       "\t5 & chr1 & 1179347 & 1179748 & 402 & * & TTLL10   & -0.9529298 & 6.042480e-04 & 1.175356e-02 & 4.336342 & 3.445011 & 4.883183 & chr1 & 1173882 & 1173883 & ENSG00000162571.13 & 0 & + &  5465\\\\\n",
       "\t6 & chr1 & 1243376 & 1243777 & 402 & * & C1QTNF12 & -1.0235891 & 1.188662e-04 & 3.665983e-03 & 4.931899 & 4.031153 & 5.482199 & chr1 & 1246722 & 1246723 & ENSG00000184163.3  & 0 & - &  2946\\\\\n",
       "\\end{tabular}\n"
      ],
      "text/markdown": [
       "\n",
       "A data.frame: 6 × 19\n",
       "\n",
       "| <!--/--> | seqnames &lt;fct&gt; | start &lt;int&gt; | end &lt;int&gt; | width &lt;int&gt; | strand &lt;fct&gt; | gene_symbol &lt;chr&gt; | fold_change_stat_bmp9_VS_stat_cont &lt;dbl&gt; | pvalue_stat_bmp9_VS_stat_cont &lt;dbl&gt; | FDR_stat_bmp9_VS_stat_cont &lt;dbl&gt; | Conc &lt;dbl&gt; | Conc_stat_bmp9 &lt;dbl&gt; | Conc_stat_cont &lt;dbl&gt; | TSS_seq &lt;chr&gt; | TSS_start &lt;int&gt; | TSS_end &lt;int&gt; | TSS_ENSEMBL &lt;chr&gt; | TSS_interval &lt;int&gt; | TSS_strand &lt;chr&gt; | TSS_sth &lt;int&gt; |\n",
       "|---|---|---|---|---|---|---|---|---|---|---|---|---|---|---|---|---|---|---|---|\n",
       "| 1 | chr1 |  923802 |  924203 | 402 | * | SAMD11   | -1.1629176 | 2.520596e-07 | 2.974507e-05 | 7.101950 | 6.210326 | 7.648899 | chr1 |  923926 |  923927 | ENSG00000187634.11 | 0 | + |     0 |\n",
       "| 2 | chr1 |  973718 |  974119 | 402 | * | PLEKHN1  | -0.8285726 | 2.046859e-03 | 2.684872e-02 | 4.399677 | 3.484354 | 4.955272 | chr1 |  966495 |  966496 | ENSG00000187583.10 | 0 | + |  7223 |\n",
       "| 3 | chr1 | 1059451 | 1059852 | 402 | * | RNF223   | -0.7055841 | 2.585572e-04 | 6.470360e-03 | 8.518745 | 8.027916 | 8.884307 | chr1 | 1074307 | 1074308 | ENSG00000237330.2  | 0 | - | 14456 |\n",
       "| 4 | chr1 | 1079385 | 1079786 | 402 | * | RNF223   | -0.8755083 | 1.387927e-05 | 7.236323e-04 | 8.557989 | 7.947661 | 8.985544 | chr1 | 1074307 | 1074308 | ENSG00000237330.2  | 0 | - |  5078 |\n",
       "| 5 | chr1 | 1179347 | 1179748 | 402 | * | TTLL10   | -0.9529298 | 6.042480e-04 | 1.175356e-02 | 4.336342 | 3.445011 | 4.883183 | chr1 | 1173882 | 1173883 | ENSG00000162571.13 | 0 | + |  5465 |\n",
       "| 6 | chr1 | 1243376 | 1243777 | 402 | * | C1QTNF12 | -1.0235891 | 1.188662e-04 | 3.665983e-03 | 4.931899 | 4.031153 | 5.482199 | chr1 | 1246722 | 1246723 | ENSG00000184163.3  | 0 | - |  2946 |\n",
       "\n"
      ],
      "text/plain": [
       "  seqnames start   end     width strand gene_symbol\n",
       "1 chr1      923802  924203 402   *      SAMD11     \n",
       "2 chr1      973718  974119 402   *      PLEKHN1    \n",
       "3 chr1     1059451 1059852 402   *      RNF223     \n",
       "4 chr1     1079385 1079786 402   *      RNF223     \n",
       "5 chr1     1179347 1179748 402   *      TTLL10     \n",
       "6 chr1     1243376 1243777 402   *      C1QTNF12   \n",
       "  fold_change_stat_bmp9_VS_stat_cont pvalue_stat_bmp9_VS_stat_cont\n",
       "1 -1.1629176                         2.520596e-07                 \n",
       "2 -0.8285726                         2.046859e-03                 \n",
       "3 -0.7055841                         2.585572e-04                 \n",
       "4 -0.8755083                         1.387927e-05                 \n",
       "5 -0.9529298                         6.042480e-04                 \n",
       "6 -1.0235891                         1.188662e-04                 \n",
       "  FDR_stat_bmp9_VS_stat_cont Conc     Conc_stat_bmp9 Conc_stat_cont TSS_seq\n",
       "1 2.974507e-05               7.101950 6.210326       7.648899       chr1   \n",
       "2 2.684872e-02               4.399677 3.484354       4.955272       chr1   \n",
       "3 6.470360e-03               8.518745 8.027916       8.884307       chr1   \n",
       "4 7.236323e-04               8.557989 7.947661       8.985544       chr1   \n",
       "5 1.175356e-02               4.336342 3.445011       4.883183       chr1   \n",
       "6 3.665983e-03               4.931899 4.031153       5.482199       chr1   \n",
       "  TSS_start TSS_end TSS_ENSEMBL        TSS_interval TSS_strand TSS_sth\n",
       "1  923926    923927 ENSG00000187634.11 0            +              0  \n",
       "2  966495    966496 ENSG00000187583.10 0            +           7223  \n",
       "3 1074307   1074308 ENSG00000237330.2  0            -          14456  \n",
       "4 1074307   1074308 ENSG00000237330.2  0            -           5078  \n",
       "5 1173882   1173883 ENSG00000162571.13 0            +           5465  \n",
       "6 1246722   1246723 ENSG00000184163.3  0            -           2946  "
      ]
     },
     "metadata": {},
     "output_type": "display_data"
    }
   ],
   "source": [
    "common_regions_df = data.frame(common_regions)\n",
    "colnames(common_regions_df)= c(\"seqnames\",\"start\",\"end\",\"width\",\"strand\", \"gene_symbol\",\"fold_change_stat_bmp9_VS_stat_cont\",\"pvalue_stat_bmp9_VS_stat_cont\",\"FDR_stat_bmp9_VS_stat_cont\",\"Conc\",\"Conc_stat_bmp9\",\"Conc_stat_cont\", \"TSS_seq\", \"TSS_start\", \"TSS_end\", \"TSS_ENSEMBL\",\"TSS_interval\", \"TSS_strand\", \"TSS_sth\")\n",
    "\n",
    "head(common_regions_df)"
   ]
  },
  {
   "cell_type": "markdown",
   "id": "cf96eda0-1c96-4078-ada6-ae037268ac56",
   "metadata": {},
   "source": [
    "### here we generate new unique \"regions\" column because somettimes the same region is annotated with multiple gene symbols, hence the regions itself is not giving a unique identifies"
   ]
  },
  {
   "cell_type": "code",
   "execution_count": 20,
   "id": "ff8359a9-b1c1-4cb1-8da5-e20e1bcf4d25",
   "metadata": {},
   "outputs": [],
   "source": [
    "common_regions_df2=common_regions_df\n",
    "common_regions_df2[\"regions\"] = paste(common_regions_df$seqnames, common_regions_df$start, common_regions_df$end,common_regions_df$gene_symbol,sep=\"_\" )"
   ]
  },
  {
   "cell_type": "code",
   "execution_count": 21,
   "id": "70263a07-c435-464e-80b5-1e228de9bfb0",
   "metadata": {},
   "outputs": [
    {
     "data": {
      "text/html": [
       "<table class=\"dataframe\">\n",
       "<caption>A data.frame: 6 × 20</caption>\n",
       "<thead>\n",
       "\t<tr><th></th><th scope=col>seqnames</th><th scope=col>start</th><th scope=col>end</th><th scope=col>width</th><th scope=col>strand</th><th scope=col>gene_symbol</th><th scope=col>fold_change_stat_bmp9_VS_stat_cont</th><th scope=col>pvalue_stat_bmp9_VS_stat_cont</th><th scope=col>FDR_stat_bmp9_VS_stat_cont</th><th scope=col>Conc</th><th scope=col>Conc_stat_bmp9</th><th scope=col>Conc_stat_cont</th><th scope=col>TSS_seq</th><th scope=col>TSS_start</th><th scope=col>TSS_end</th><th scope=col>TSS_ENSEMBL</th><th scope=col>TSS_interval</th><th scope=col>TSS_strand</th><th scope=col>TSS_sth</th><th scope=col>regions</th></tr>\n",
       "\t<tr><th></th><th scope=col>&lt;fct&gt;</th><th scope=col>&lt;int&gt;</th><th scope=col>&lt;int&gt;</th><th scope=col>&lt;int&gt;</th><th scope=col>&lt;fct&gt;</th><th scope=col>&lt;chr&gt;</th><th scope=col>&lt;dbl&gt;</th><th scope=col>&lt;dbl&gt;</th><th scope=col>&lt;dbl&gt;</th><th scope=col>&lt;dbl&gt;</th><th scope=col>&lt;dbl&gt;</th><th scope=col>&lt;dbl&gt;</th><th scope=col>&lt;chr&gt;</th><th scope=col>&lt;int&gt;</th><th scope=col>&lt;int&gt;</th><th scope=col>&lt;chr&gt;</th><th scope=col>&lt;int&gt;</th><th scope=col>&lt;chr&gt;</th><th scope=col>&lt;int&gt;</th><th scope=col>&lt;chr&gt;</th></tr>\n",
       "</thead>\n",
       "<tbody>\n",
       "\t<tr><th scope=row>1</th><td>chr1</td><td> 923802</td><td> 924203</td><td>402</td><td>*</td><td>SAMD11  </td><td>-1.1629176</td><td>2.520596e-07</td><td>2.974507e-05</td><td>7.101950</td><td>6.210326</td><td>7.648899</td><td>chr1</td><td> 923926</td><td> 923927</td><td>ENSG00000187634.11</td><td>0</td><td>+</td><td>    0</td><td>chr1_923802_924203_SAMD11    </td></tr>\n",
       "\t<tr><th scope=row>2</th><td>chr1</td><td> 973718</td><td> 974119</td><td>402</td><td>*</td><td>PLEKHN1 </td><td>-0.8285726</td><td>2.046859e-03</td><td>2.684872e-02</td><td>4.399677</td><td>3.484354</td><td>4.955272</td><td>chr1</td><td> 966495</td><td> 966496</td><td>ENSG00000187583.10</td><td>0</td><td>+</td><td> 7223</td><td>chr1_973718_974119_PLEKHN1   </td></tr>\n",
       "\t<tr><th scope=row>3</th><td>chr1</td><td>1059451</td><td>1059852</td><td>402</td><td>*</td><td>RNF223  </td><td>-0.7055841</td><td>2.585572e-04</td><td>6.470360e-03</td><td>8.518745</td><td>8.027916</td><td>8.884307</td><td>chr1</td><td>1074307</td><td>1074308</td><td>ENSG00000237330.2 </td><td>0</td><td>-</td><td>14456</td><td>chr1_1059451_1059852_RNF223  </td></tr>\n",
       "\t<tr><th scope=row>4</th><td>chr1</td><td>1079385</td><td>1079786</td><td>402</td><td>*</td><td>RNF223  </td><td>-0.8755083</td><td>1.387927e-05</td><td>7.236323e-04</td><td>8.557989</td><td>7.947661</td><td>8.985544</td><td>chr1</td><td>1074307</td><td>1074308</td><td>ENSG00000237330.2 </td><td>0</td><td>-</td><td> 5078</td><td>chr1_1079385_1079786_RNF223  </td></tr>\n",
       "\t<tr><th scope=row>5</th><td>chr1</td><td>1179347</td><td>1179748</td><td>402</td><td>*</td><td>TTLL10  </td><td>-0.9529298</td><td>6.042480e-04</td><td>1.175356e-02</td><td>4.336342</td><td>3.445011</td><td>4.883183</td><td>chr1</td><td>1173882</td><td>1173883</td><td>ENSG00000162571.13</td><td>0</td><td>+</td><td> 5465</td><td>chr1_1179347_1179748_TTLL10  </td></tr>\n",
       "\t<tr><th scope=row>6</th><td>chr1</td><td>1243376</td><td>1243777</td><td>402</td><td>*</td><td>C1QTNF12</td><td>-1.0235891</td><td>1.188662e-04</td><td>3.665983e-03</td><td>4.931899</td><td>4.031153</td><td>5.482199</td><td>chr1</td><td>1246722</td><td>1246723</td><td>ENSG00000184163.3 </td><td>0</td><td>-</td><td> 2946</td><td>chr1_1243376_1243777_C1QTNF12</td></tr>\n",
       "</tbody>\n",
       "</table>\n"
      ],
      "text/latex": [
       "A data.frame: 6 × 20\n",
       "\\begin{tabular}{r|llllllllllllllllllll}\n",
       "  & seqnames & start & end & width & strand & gene\\_symbol & fold\\_change\\_stat\\_bmp9\\_VS\\_stat\\_cont & pvalue\\_stat\\_bmp9\\_VS\\_stat\\_cont & FDR\\_stat\\_bmp9\\_VS\\_stat\\_cont & Conc & Conc\\_stat\\_bmp9 & Conc\\_stat\\_cont & TSS\\_seq & TSS\\_start & TSS\\_end & TSS\\_ENSEMBL & TSS\\_interval & TSS\\_strand & TSS\\_sth & regions\\\\\n",
       "  & <fct> & <int> & <int> & <int> & <fct> & <chr> & <dbl> & <dbl> & <dbl> & <dbl> & <dbl> & <dbl> & <chr> & <int> & <int> & <chr> & <int> & <chr> & <int> & <chr>\\\\\n",
       "\\hline\n",
       "\t1 & chr1 &  923802 &  924203 & 402 & * & SAMD11   & -1.1629176 & 2.520596e-07 & 2.974507e-05 & 7.101950 & 6.210326 & 7.648899 & chr1 &  923926 &  923927 & ENSG00000187634.11 & 0 & + &     0 & chr1\\_923802\\_924203\\_SAMD11    \\\\\n",
       "\t2 & chr1 &  973718 &  974119 & 402 & * & PLEKHN1  & -0.8285726 & 2.046859e-03 & 2.684872e-02 & 4.399677 & 3.484354 & 4.955272 & chr1 &  966495 &  966496 & ENSG00000187583.10 & 0 & + &  7223 & chr1\\_973718\\_974119\\_PLEKHN1   \\\\\n",
       "\t3 & chr1 & 1059451 & 1059852 & 402 & * & RNF223   & -0.7055841 & 2.585572e-04 & 6.470360e-03 & 8.518745 & 8.027916 & 8.884307 & chr1 & 1074307 & 1074308 & ENSG00000237330.2  & 0 & - & 14456 & chr1\\_1059451\\_1059852\\_RNF223  \\\\\n",
       "\t4 & chr1 & 1079385 & 1079786 & 402 & * & RNF223   & -0.8755083 & 1.387927e-05 & 7.236323e-04 & 8.557989 & 7.947661 & 8.985544 & chr1 & 1074307 & 1074308 & ENSG00000237330.2  & 0 & - &  5078 & chr1\\_1079385\\_1079786\\_RNF223  \\\\\n",
       "\t5 & chr1 & 1179347 & 1179748 & 402 & * & TTLL10   & -0.9529298 & 6.042480e-04 & 1.175356e-02 & 4.336342 & 3.445011 & 4.883183 & chr1 & 1173882 & 1173883 & ENSG00000162571.13 & 0 & + &  5465 & chr1\\_1179347\\_1179748\\_TTLL10  \\\\\n",
       "\t6 & chr1 & 1243376 & 1243777 & 402 & * & C1QTNF12 & -1.0235891 & 1.188662e-04 & 3.665983e-03 & 4.931899 & 4.031153 & 5.482199 & chr1 & 1246722 & 1246723 & ENSG00000184163.3  & 0 & - &  2946 & chr1\\_1243376\\_1243777\\_C1QTNF12\\\\\n",
       "\\end{tabular}\n"
      ],
      "text/markdown": [
       "\n",
       "A data.frame: 6 × 20\n",
       "\n",
       "| <!--/--> | seqnames &lt;fct&gt; | start &lt;int&gt; | end &lt;int&gt; | width &lt;int&gt; | strand &lt;fct&gt; | gene_symbol &lt;chr&gt; | fold_change_stat_bmp9_VS_stat_cont &lt;dbl&gt; | pvalue_stat_bmp9_VS_stat_cont &lt;dbl&gt; | FDR_stat_bmp9_VS_stat_cont &lt;dbl&gt; | Conc &lt;dbl&gt; | Conc_stat_bmp9 &lt;dbl&gt; | Conc_stat_cont &lt;dbl&gt; | TSS_seq &lt;chr&gt; | TSS_start &lt;int&gt; | TSS_end &lt;int&gt; | TSS_ENSEMBL &lt;chr&gt; | TSS_interval &lt;int&gt; | TSS_strand &lt;chr&gt; | TSS_sth &lt;int&gt; | regions &lt;chr&gt; |\n",
       "|---|---|---|---|---|---|---|---|---|---|---|---|---|---|---|---|---|---|---|---|---|\n",
       "| 1 | chr1 |  923802 |  924203 | 402 | * | SAMD11   | -1.1629176 | 2.520596e-07 | 2.974507e-05 | 7.101950 | 6.210326 | 7.648899 | chr1 |  923926 |  923927 | ENSG00000187634.11 | 0 | + |     0 | chr1_923802_924203_SAMD11     |\n",
       "| 2 | chr1 |  973718 |  974119 | 402 | * | PLEKHN1  | -0.8285726 | 2.046859e-03 | 2.684872e-02 | 4.399677 | 3.484354 | 4.955272 | chr1 |  966495 |  966496 | ENSG00000187583.10 | 0 | + |  7223 | chr1_973718_974119_PLEKHN1    |\n",
       "| 3 | chr1 | 1059451 | 1059852 | 402 | * | RNF223   | -0.7055841 | 2.585572e-04 | 6.470360e-03 | 8.518745 | 8.027916 | 8.884307 | chr1 | 1074307 | 1074308 | ENSG00000237330.2  | 0 | - | 14456 | chr1_1059451_1059852_RNF223   |\n",
       "| 4 | chr1 | 1079385 | 1079786 | 402 | * | RNF223   | -0.8755083 | 1.387927e-05 | 7.236323e-04 | 8.557989 | 7.947661 | 8.985544 | chr1 | 1074307 | 1074308 | ENSG00000237330.2  | 0 | - |  5078 | chr1_1079385_1079786_RNF223   |\n",
       "| 5 | chr1 | 1179347 | 1179748 | 402 | * | TTLL10   | -0.9529298 | 6.042480e-04 | 1.175356e-02 | 4.336342 | 3.445011 | 4.883183 | chr1 | 1173882 | 1173883 | ENSG00000162571.13 | 0 | + |  5465 | chr1_1179347_1179748_TTLL10   |\n",
       "| 6 | chr1 | 1243376 | 1243777 | 402 | * | C1QTNF12 | -1.0235891 | 1.188662e-04 | 3.665983e-03 | 4.931899 | 4.031153 | 5.482199 | chr1 | 1246722 | 1246723 | ENSG00000184163.3  | 0 | - |  2946 | chr1_1243376_1243777_C1QTNF12 |\n",
       "\n"
      ],
      "text/plain": [
       "  seqnames start   end     width strand gene_symbol\n",
       "1 chr1      923802  924203 402   *      SAMD11     \n",
       "2 chr1      973718  974119 402   *      PLEKHN1    \n",
       "3 chr1     1059451 1059852 402   *      RNF223     \n",
       "4 chr1     1079385 1079786 402   *      RNF223     \n",
       "5 chr1     1179347 1179748 402   *      TTLL10     \n",
       "6 chr1     1243376 1243777 402   *      C1QTNF12   \n",
       "  fold_change_stat_bmp9_VS_stat_cont pvalue_stat_bmp9_VS_stat_cont\n",
       "1 -1.1629176                         2.520596e-07                 \n",
       "2 -0.8285726                         2.046859e-03                 \n",
       "3 -0.7055841                         2.585572e-04                 \n",
       "4 -0.8755083                         1.387927e-05                 \n",
       "5 -0.9529298                         6.042480e-04                 \n",
       "6 -1.0235891                         1.188662e-04                 \n",
       "  FDR_stat_bmp9_VS_stat_cont Conc     Conc_stat_bmp9 Conc_stat_cont TSS_seq\n",
       "1 2.974507e-05               7.101950 6.210326       7.648899       chr1   \n",
       "2 2.684872e-02               4.399677 3.484354       4.955272       chr1   \n",
       "3 6.470360e-03               8.518745 8.027916       8.884307       chr1   \n",
       "4 7.236323e-04               8.557989 7.947661       8.985544       chr1   \n",
       "5 1.175356e-02               4.336342 3.445011       4.883183       chr1   \n",
       "6 3.665983e-03               4.931899 4.031153       5.482199       chr1   \n",
       "  TSS_start TSS_end TSS_ENSEMBL        TSS_interval TSS_strand TSS_sth\n",
       "1  923926    923927 ENSG00000187634.11 0            +              0  \n",
       "2  966495    966496 ENSG00000187583.10 0            +           7223  \n",
       "3 1074307   1074308 ENSG00000237330.2  0            -          14456  \n",
       "4 1074307   1074308 ENSG00000237330.2  0            -           5078  \n",
       "5 1173882   1173883 ENSG00000162571.13 0            +           5465  \n",
       "6 1246722   1246723 ENSG00000184163.3  0            -           2946  \n",
       "  regions                      \n",
       "1 chr1_923802_924203_SAMD11    \n",
       "2 chr1_973718_974119_PLEKHN1   \n",
       "3 chr1_1059451_1059852_RNF223  \n",
       "4 chr1_1079385_1079786_RNF223  \n",
       "5 chr1_1179347_1179748_TTLL10  \n",
       "6 chr1_1243376_1243777_C1QTNF12"
      ]
     },
     "metadata": {},
     "output_type": "display_data"
    }
   ],
   "source": [
    "head(common_regions_df2)"
   ]
  },
  {
   "cell_type": "code",
   "execution_count": 22,
   "id": "a8c0eab2-de53-4ae3-8432-fb873a3902ed",
   "metadata": {},
   "outputs": [],
   "source": [
    "flow_cont_VS_stat_cont_df = data.frame(flow_cont_VS_stat_cont)\n",
    "colnames(flow_cont_VS_stat_cont_df) = c(\"seqnames\",\"start\",\"end\", \"gene_symbol\",\"fold_change_flow_cont_VS_stat_cont\",\"pvalue_flow_cont_VS_stat_cont\",\"FDR_flow_cont_VS_stat_cont\",\"Conc\",\"Conc_flow_cont\",\"Conc_stat_cont\", \"TSS_seq\", \"TSS_start\", \"TSS_end\", \"TSS_ENSEMBL\",\"TSS_interval\", \"TSS_strand\", \"TSS_sth\")\n",
    "\n",
    "flow_cont_VS_stat_cont_df[\"regions\"] =  paste(flow_cont_VS_stat_cont_df$seqnames, flow_cont_VS_stat_cont_df$start, flow_cont_VS_stat_cont_df$end,sep=\"_\" )"
   ]
  },
  {
   "cell_type": "code",
   "execution_count": 23,
   "id": "440171a6-4558-4d8f-a1a4-43c053a7d610",
   "metadata": {},
   "outputs": [
    {
     "data": {
      "text/html": [
       "<table class=\"dataframe\">\n",
       "<caption>A data.frame: 6 × 18</caption>\n",
       "<thead>\n",
       "\t<tr><th></th><th scope=col>seqnames</th><th scope=col>start</th><th scope=col>end</th><th scope=col>gene_symbol</th><th scope=col>fold_change_flow_cont_VS_stat_cont</th><th scope=col>pvalue_flow_cont_VS_stat_cont</th><th scope=col>FDR_flow_cont_VS_stat_cont</th><th scope=col>Conc</th><th scope=col>Conc_flow_cont</th><th scope=col>Conc_stat_cont</th><th scope=col>TSS_seq</th><th scope=col>TSS_start</th><th scope=col>TSS_end</th><th scope=col>TSS_ENSEMBL</th><th scope=col>TSS_interval</th><th scope=col>TSS_strand</th><th scope=col>TSS_sth</th><th scope=col>regions</th></tr>\n",
       "\t<tr><th></th><th scope=col>&lt;chr&gt;</th><th scope=col>&lt;int&gt;</th><th scope=col>&lt;int&gt;</th><th scope=col>&lt;chr&gt;</th><th scope=col>&lt;dbl&gt;</th><th scope=col>&lt;dbl&gt;</th><th scope=col>&lt;dbl&gt;</th><th scope=col>&lt;dbl&gt;</th><th scope=col>&lt;dbl&gt;</th><th scope=col>&lt;dbl&gt;</th><th scope=col>&lt;chr&gt;</th><th scope=col>&lt;int&gt;</th><th scope=col>&lt;int&gt;</th><th scope=col>&lt;chr&gt;</th><th scope=col>&lt;int&gt;</th><th scope=col>&lt;chr&gt;</th><th scope=col>&lt;int&gt;</th><th scope=col>&lt;chr&gt;</th></tr>\n",
       "</thead>\n",
       "<tbody>\n",
       "\t<tr><th scope=row>1</th><td>chr1</td><td> 923802</td><td> 924203</td><td>SAMD11 </td><td>-0.6917031</td><td>0.0029030722</td><td>0.022116163</td><td>7.257583</td><td>6.718923</td><td>7.648899</td><td>chr1</td><td> 923926</td><td> 923927</td><td>ENSG00000187634.11</td><td>0</td><td>+</td><td>    0</td><td>chr1_923802_924203  </td></tr>\n",
       "\t<tr><th scope=row>2</th><td>chr1</td><td> 930611</td><td> 931012</td><td>SAMD11 </td><td> 0.8497081</td><td>0.0025110344</td><td>0.019965822</td><td>5.786526</td><td>6.259011</td><td>5.079313</td><td>chr1</td><td> 923926</td><td> 923927</td><td>ENSG00000187634.11</td><td>0</td><td>+</td><td> 6685</td><td>chr1_930611_931012  </td></tr>\n",
       "\t<tr><th scope=row>3</th><td>chr1</td><td> 938076</td><td> 938477</td><td>SAMD11 </td><td>-0.6237558</td><td>0.0019482280</td><td>0.016588904</td><td>7.528921</td><td>7.096159</td><td>7.861380</td><td>chr1</td><td> 923926</td><td> 923927</td><td>ENSG00000187634.11</td><td>0</td><td>+</td><td>14150</td><td>chr1_938076_938477  </td></tr>\n",
       "\t<tr><th scope=row>4</th><td>chr1</td><td> 973718</td><td> 974119</td><td>PLEKHN1</td><td> 0.8809586</td><td>0.0031662308</td><td>0.023530886</td><td>5.848033</td><td>6.395402</td><td>4.955272</td><td>chr1</td><td> 966495</td><td> 966496</td><td>ENSG00000187583.10</td><td>0</td><td>+</td><td> 7223</td><td>chr1_973718_974119  </td></tr>\n",
       "\t<tr><th scope=row>5</th><td>chr1</td><td>1032933</td><td>1033334</td><td>AGRN   </td><td>-0.7445450</td><td>0.0003155041</td><td>0.004143038</td><td>8.212570</td><td>7.683965</td><td>8.598580</td><td>chr1</td><td>1020121</td><td>1020122</td><td>ENSG00000188157.14</td><td>0</td><td>+</td><td>12812</td><td>chr1_1032933_1033334</td></tr>\n",
       "\t<tr><th scope=row>6</th><td>chr1</td><td>1040639</td><td>1041040</td><td>AGRN   </td><td>-0.6362453</td><td>0.0046353932</td><td>0.030801001</td><td>8.702365</td><td>8.253828</td><td>9.044025</td><td>chr1</td><td>1020121</td><td>1020122</td><td>ENSG00000188157.14</td><td>0</td><td>+</td><td>20518</td><td>chr1_1040639_1041040</td></tr>\n",
       "</tbody>\n",
       "</table>\n"
      ],
      "text/latex": [
       "A data.frame: 6 × 18\n",
       "\\begin{tabular}{r|llllllllllllllllll}\n",
       "  & seqnames & start & end & gene\\_symbol & fold\\_change\\_flow\\_cont\\_VS\\_stat\\_cont & pvalue\\_flow\\_cont\\_VS\\_stat\\_cont & FDR\\_flow\\_cont\\_VS\\_stat\\_cont & Conc & Conc\\_flow\\_cont & Conc\\_stat\\_cont & TSS\\_seq & TSS\\_start & TSS\\_end & TSS\\_ENSEMBL & TSS\\_interval & TSS\\_strand & TSS\\_sth & regions\\\\\n",
       "  & <chr> & <int> & <int> & <chr> & <dbl> & <dbl> & <dbl> & <dbl> & <dbl> & <dbl> & <chr> & <int> & <int> & <chr> & <int> & <chr> & <int> & <chr>\\\\\n",
       "\\hline\n",
       "\t1 & chr1 &  923802 &  924203 & SAMD11  & -0.6917031 & 0.0029030722 & 0.022116163 & 7.257583 & 6.718923 & 7.648899 & chr1 &  923926 &  923927 & ENSG00000187634.11 & 0 & + &     0 & chr1\\_923802\\_924203  \\\\\n",
       "\t2 & chr1 &  930611 &  931012 & SAMD11  &  0.8497081 & 0.0025110344 & 0.019965822 & 5.786526 & 6.259011 & 5.079313 & chr1 &  923926 &  923927 & ENSG00000187634.11 & 0 & + &  6685 & chr1\\_930611\\_931012  \\\\\n",
       "\t3 & chr1 &  938076 &  938477 & SAMD11  & -0.6237558 & 0.0019482280 & 0.016588904 & 7.528921 & 7.096159 & 7.861380 & chr1 &  923926 &  923927 & ENSG00000187634.11 & 0 & + & 14150 & chr1\\_938076\\_938477  \\\\\n",
       "\t4 & chr1 &  973718 &  974119 & PLEKHN1 &  0.8809586 & 0.0031662308 & 0.023530886 & 5.848033 & 6.395402 & 4.955272 & chr1 &  966495 &  966496 & ENSG00000187583.10 & 0 & + &  7223 & chr1\\_973718\\_974119  \\\\\n",
       "\t5 & chr1 & 1032933 & 1033334 & AGRN    & -0.7445450 & 0.0003155041 & 0.004143038 & 8.212570 & 7.683965 & 8.598580 & chr1 & 1020121 & 1020122 & ENSG00000188157.14 & 0 & + & 12812 & chr1\\_1032933\\_1033334\\\\\n",
       "\t6 & chr1 & 1040639 & 1041040 & AGRN    & -0.6362453 & 0.0046353932 & 0.030801001 & 8.702365 & 8.253828 & 9.044025 & chr1 & 1020121 & 1020122 & ENSG00000188157.14 & 0 & + & 20518 & chr1\\_1040639\\_1041040\\\\\n",
       "\\end{tabular}\n"
      ],
      "text/markdown": [
       "\n",
       "A data.frame: 6 × 18\n",
       "\n",
       "| <!--/--> | seqnames &lt;chr&gt; | start &lt;int&gt; | end &lt;int&gt; | gene_symbol &lt;chr&gt; | fold_change_flow_cont_VS_stat_cont &lt;dbl&gt; | pvalue_flow_cont_VS_stat_cont &lt;dbl&gt; | FDR_flow_cont_VS_stat_cont &lt;dbl&gt; | Conc &lt;dbl&gt; | Conc_flow_cont &lt;dbl&gt; | Conc_stat_cont &lt;dbl&gt; | TSS_seq &lt;chr&gt; | TSS_start &lt;int&gt; | TSS_end &lt;int&gt; | TSS_ENSEMBL &lt;chr&gt; | TSS_interval &lt;int&gt; | TSS_strand &lt;chr&gt; | TSS_sth &lt;int&gt; | regions &lt;chr&gt; |\n",
       "|---|---|---|---|---|---|---|---|---|---|---|---|---|---|---|---|---|---|---|\n",
       "| 1 | chr1 |  923802 |  924203 | SAMD11  | -0.6917031 | 0.0029030722 | 0.022116163 | 7.257583 | 6.718923 | 7.648899 | chr1 |  923926 |  923927 | ENSG00000187634.11 | 0 | + |     0 | chr1_923802_924203   |\n",
       "| 2 | chr1 |  930611 |  931012 | SAMD11  |  0.8497081 | 0.0025110344 | 0.019965822 | 5.786526 | 6.259011 | 5.079313 | chr1 |  923926 |  923927 | ENSG00000187634.11 | 0 | + |  6685 | chr1_930611_931012   |\n",
       "| 3 | chr1 |  938076 |  938477 | SAMD11  | -0.6237558 | 0.0019482280 | 0.016588904 | 7.528921 | 7.096159 | 7.861380 | chr1 |  923926 |  923927 | ENSG00000187634.11 | 0 | + | 14150 | chr1_938076_938477   |\n",
       "| 4 | chr1 |  973718 |  974119 | PLEKHN1 |  0.8809586 | 0.0031662308 | 0.023530886 | 5.848033 | 6.395402 | 4.955272 | chr1 |  966495 |  966496 | ENSG00000187583.10 | 0 | + |  7223 | chr1_973718_974119   |\n",
       "| 5 | chr1 | 1032933 | 1033334 | AGRN    | -0.7445450 | 0.0003155041 | 0.004143038 | 8.212570 | 7.683965 | 8.598580 | chr1 | 1020121 | 1020122 | ENSG00000188157.14 | 0 | + | 12812 | chr1_1032933_1033334 |\n",
       "| 6 | chr1 | 1040639 | 1041040 | AGRN    | -0.6362453 | 0.0046353932 | 0.030801001 | 8.702365 | 8.253828 | 9.044025 | chr1 | 1020121 | 1020122 | ENSG00000188157.14 | 0 | + | 20518 | chr1_1040639_1041040 |\n",
       "\n"
      ],
      "text/plain": [
       "  seqnames start   end     gene_symbol fold_change_flow_cont_VS_stat_cont\n",
       "1 chr1      923802  924203 SAMD11      -0.6917031                        \n",
       "2 chr1      930611  931012 SAMD11       0.8497081                        \n",
       "3 chr1      938076  938477 SAMD11      -0.6237558                        \n",
       "4 chr1      973718  974119 PLEKHN1      0.8809586                        \n",
       "5 chr1     1032933 1033334 AGRN        -0.7445450                        \n",
       "6 chr1     1040639 1041040 AGRN        -0.6362453                        \n",
       "  pvalue_flow_cont_VS_stat_cont FDR_flow_cont_VS_stat_cont Conc    \n",
       "1 0.0029030722                  0.022116163                7.257583\n",
       "2 0.0025110344                  0.019965822                5.786526\n",
       "3 0.0019482280                  0.016588904                7.528921\n",
       "4 0.0031662308                  0.023530886                5.848033\n",
       "5 0.0003155041                  0.004143038                8.212570\n",
       "6 0.0046353932                  0.030801001                8.702365\n",
       "  Conc_flow_cont Conc_stat_cont TSS_seq TSS_start TSS_end TSS_ENSEMBL       \n",
       "1 6.718923       7.648899       chr1     923926    923927 ENSG00000187634.11\n",
       "2 6.259011       5.079313       chr1     923926    923927 ENSG00000187634.11\n",
       "3 7.096159       7.861380       chr1     923926    923927 ENSG00000187634.11\n",
       "4 6.395402       4.955272       chr1     966495    966496 ENSG00000187583.10\n",
       "5 7.683965       8.598580       chr1    1020121   1020122 ENSG00000188157.14\n",
       "6 8.253828       9.044025       chr1    1020121   1020122 ENSG00000188157.14\n",
       "  TSS_interval TSS_strand TSS_sth regions             \n",
       "1 0            +              0   chr1_923802_924203  \n",
       "2 0            +           6685   chr1_930611_931012  \n",
       "3 0            +          14150   chr1_938076_938477  \n",
       "4 0            +           7223   chr1_973718_974119  \n",
       "5 0            +          12812   chr1_1032933_1033334\n",
       "6 0            +          20518   chr1_1040639_1041040"
      ]
     },
     "metadata": {},
     "output_type": "display_data"
    }
   ],
   "source": [
    "head(flow_cont_VS_stat_cont_df)"
   ]
  },
  {
   "cell_type": "code",
   "execution_count": 24,
   "id": "44ebe014-3e48-4e49-a9dd-e10f77d58e40",
   "metadata": {},
   "outputs": [],
   "source": [
    "stat_bmp9_VS_stat_cont_df = data.frame(stat_bmp9_VS_stat_cont)\n",
    "colnames(stat_bmp9_VS_stat_cont_df) = c(\"seqnames\",\"start\",\"end\", \"gene_symbol\",\"fold_change_stat_bmp9_VS_stat_cont\",\"pvalue_stat_bmp9_VS_stat_cont\",\"FDR_stat_bmp9_VS_stat_cont\",\"Conc\",\"Conc_stat_bmp9\",\"Conc_stat_cont\", \"TSS_seq\", \"TSS_start\", \"TSS_end\", \"TSS_ENSEMBL\",\"TSS_interval\", \"TSS_strand\", \"TSS_sth\")\n",
    "\n",
    "stat_bmp9_VS_stat_cont_df[\"regions\"] =  paste(stat_bmp9_VS_stat_cont_df$seqnames, stat_bmp9_VS_stat_cont_df$start, stat_bmp9_VS_stat_cont_df$end,stat_bmp9_VS_stat_cont_df$gene_symbol,sep=\"_\" )"
   ]
  },
  {
   "cell_type": "code",
   "execution_count": 25,
   "id": "d63307a2-e5f9-4f1b-ab83-448953f7456b",
   "metadata": {},
   "outputs": [],
   "source": [
    "common_regions_flow_cont_metadata_df = data.frame(common_regions_flow_cont_metadata)\n",
    "colnames(common_regions_flow_cont_metadata_df)= c(\"seqnames\",\"start\",\"end\",\"width\",\"strand\", \"gene_symbol\",\"fold_change_flow_cont_VS_stat_cont\",\"pvalue_flow_cont_VS_stat_cont\",\"FDR_flow_cont_VS_stat_cont\",\"Conc\",\"Conc_flow_cont\",\"Conc_stat_cont\", \"TSS_seq\", \"TSS_start\", \"TSS_end\", \"TSS_ENSEMBL\",\"TSS_interval\", \"TSS_strand\", \"TSS_sth\")\n",
    "common_regions_flow_cont_metadata_df[\"regions\"] = paste(common_regions_flow_cont_metadata_df$seqnames, common_regions_flow_cont_metadata_df$start, common_regions_flow_cont_metadata_df$end,common_regions_flow_cont_metadata_df$gene_symbol,sep=\"_\" )\n"
   ]
  },
  {
   "cell_type": "code",
   "execution_count": 26,
   "id": "869dcfc3-5e57-490e-8988-6eb31daac437",
   "metadata": {},
   "outputs": [
    {
     "data": {
      "text/html": [
       "<table class=\"dataframe\">\n",
       "<caption>A data.frame: 6 × 20</caption>\n",
       "<thead>\n",
       "\t<tr><th></th><th scope=col>seqnames</th><th scope=col>start</th><th scope=col>end</th><th scope=col>width</th><th scope=col>strand</th><th scope=col>gene_symbol</th><th scope=col>fold_change_flow_cont_VS_stat_cont</th><th scope=col>pvalue_flow_cont_VS_stat_cont</th><th scope=col>FDR_flow_cont_VS_stat_cont</th><th scope=col>Conc</th><th scope=col>Conc_flow_cont</th><th scope=col>Conc_stat_cont</th><th scope=col>TSS_seq</th><th scope=col>TSS_start</th><th scope=col>TSS_end</th><th scope=col>TSS_ENSEMBL</th><th scope=col>TSS_interval</th><th scope=col>TSS_strand</th><th scope=col>TSS_sth</th><th scope=col>regions</th></tr>\n",
       "\t<tr><th></th><th scope=col>&lt;fct&gt;</th><th scope=col>&lt;int&gt;</th><th scope=col>&lt;int&gt;</th><th scope=col>&lt;int&gt;</th><th scope=col>&lt;fct&gt;</th><th scope=col>&lt;chr&gt;</th><th scope=col>&lt;dbl&gt;</th><th scope=col>&lt;dbl&gt;</th><th scope=col>&lt;dbl&gt;</th><th scope=col>&lt;dbl&gt;</th><th scope=col>&lt;dbl&gt;</th><th scope=col>&lt;dbl&gt;</th><th scope=col>&lt;chr&gt;</th><th scope=col>&lt;int&gt;</th><th scope=col>&lt;int&gt;</th><th scope=col>&lt;chr&gt;</th><th scope=col>&lt;int&gt;</th><th scope=col>&lt;chr&gt;</th><th scope=col>&lt;int&gt;</th><th scope=col>&lt;chr&gt;</th></tr>\n",
       "</thead>\n",
       "<tbody>\n",
       "\t<tr><th scope=row>1</th><td>chr1</td><td> 923802</td><td> 924203</td><td>402</td><td>*</td><td>SAMD11  </td><td>-0.6917031</td><td>2.903072e-03</td><td>0.0221161629</td><td>7.257583</td><td>6.718923</td><td>7.648899</td><td>chr1</td><td> 923926</td><td> 923927</td><td>ENSG00000187634.11</td><td>0</td><td>+</td><td>    0</td><td>chr1_923802_924203_SAMD11    </td></tr>\n",
       "\t<tr><th scope=row>2</th><td>chr1</td><td> 973718</td><td> 974119</td><td>402</td><td>*</td><td>PLEKHN1 </td><td> 0.8809586</td><td>3.166231e-03</td><td>0.0235308860</td><td>5.848033</td><td>6.395402</td><td>4.955272</td><td>chr1</td><td> 966495</td><td> 966496</td><td>ENSG00000187583.10</td><td>0</td><td>+</td><td> 7223</td><td>chr1_973718_974119_PLEKHN1   </td></tr>\n",
       "\t<tr><th scope=row>3</th><td>chr1</td><td>1059451</td><td>1059852</td><td>402</td><td>*</td><td>RNF223  </td><td>-0.9388653</td><td>9.831304e-06</td><td>0.0002427863</td><td>8.439183</td><td>7.792097</td><td>8.884307</td><td>chr1</td><td>1074307</td><td>1074308</td><td>ENSG00000237330.2 </td><td>0</td><td>-</td><td>14456</td><td>chr1_1059451_1059852_RNF223  </td></tr>\n",
       "\t<tr><th scope=row>4</th><td>chr1</td><td>1079385</td><td>1079786</td><td>402</td><td>*</td><td>RNF223  </td><td>-0.7154843</td><td>6.693386e-04</td><td>0.0074483662</td><td>8.612384</td><td>8.107696</td><td>8.985544</td><td>chr1</td><td>1074307</td><td>1074308</td><td>ENSG00000237330.2 </td><td>0</td><td>-</td><td> 5078</td><td>chr1_1079385_1079786_RNF223  </td></tr>\n",
       "\t<tr><th scope=row>5</th><td>chr1</td><td>1179347</td><td>1179748</td><td>402</td><td>*</td><td>TTLL10  </td><td> 1.0558229</td><td>4.397239e-04</td><td>0.0053789723</td><td>5.845463</td><td>6.417630</td><td>4.883183</td><td>chr1</td><td>1173882</td><td>1173883</td><td>ENSG00000162571.13</td><td>0</td><td>+</td><td> 5465</td><td>chr1_1179347_1179748_TTLL10  </td></tr>\n",
       "\t<tr><th scope=row>6</th><td>chr1</td><td>1243376</td><td>1243777</td><td>402</td><td>*</td><td>C1QTNF12</td><td> 0.8026506</td><td>2.717024e-03</td><td>0.0211002975</td><td>6.180439</td><td>6.648946</td><td>5.482199</td><td>chr1</td><td>1246722</td><td>1246723</td><td>ENSG00000184163.3 </td><td>0</td><td>-</td><td> 2946</td><td>chr1_1243376_1243777_C1QTNF12</td></tr>\n",
       "</tbody>\n",
       "</table>\n"
      ],
      "text/latex": [
       "A data.frame: 6 × 20\n",
       "\\begin{tabular}{r|llllllllllllllllllll}\n",
       "  & seqnames & start & end & width & strand & gene\\_symbol & fold\\_change\\_flow\\_cont\\_VS\\_stat\\_cont & pvalue\\_flow\\_cont\\_VS\\_stat\\_cont & FDR\\_flow\\_cont\\_VS\\_stat\\_cont & Conc & Conc\\_flow\\_cont & Conc\\_stat\\_cont & TSS\\_seq & TSS\\_start & TSS\\_end & TSS\\_ENSEMBL & TSS\\_interval & TSS\\_strand & TSS\\_sth & regions\\\\\n",
       "  & <fct> & <int> & <int> & <int> & <fct> & <chr> & <dbl> & <dbl> & <dbl> & <dbl> & <dbl> & <dbl> & <chr> & <int> & <int> & <chr> & <int> & <chr> & <int> & <chr>\\\\\n",
       "\\hline\n",
       "\t1 & chr1 &  923802 &  924203 & 402 & * & SAMD11   & -0.6917031 & 2.903072e-03 & 0.0221161629 & 7.257583 & 6.718923 & 7.648899 & chr1 &  923926 &  923927 & ENSG00000187634.11 & 0 & + &     0 & chr1\\_923802\\_924203\\_SAMD11    \\\\\n",
       "\t2 & chr1 &  973718 &  974119 & 402 & * & PLEKHN1  &  0.8809586 & 3.166231e-03 & 0.0235308860 & 5.848033 & 6.395402 & 4.955272 & chr1 &  966495 &  966496 & ENSG00000187583.10 & 0 & + &  7223 & chr1\\_973718\\_974119\\_PLEKHN1   \\\\\n",
       "\t3 & chr1 & 1059451 & 1059852 & 402 & * & RNF223   & -0.9388653 & 9.831304e-06 & 0.0002427863 & 8.439183 & 7.792097 & 8.884307 & chr1 & 1074307 & 1074308 & ENSG00000237330.2  & 0 & - & 14456 & chr1\\_1059451\\_1059852\\_RNF223  \\\\\n",
       "\t4 & chr1 & 1079385 & 1079786 & 402 & * & RNF223   & -0.7154843 & 6.693386e-04 & 0.0074483662 & 8.612384 & 8.107696 & 8.985544 & chr1 & 1074307 & 1074308 & ENSG00000237330.2  & 0 & - &  5078 & chr1\\_1079385\\_1079786\\_RNF223  \\\\\n",
       "\t5 & chr1 & 1179347 & 1179748 & 402 & * & TTLL10   &  1.0558229 & 4.397239e-04 & 0.0053789723 & 5.845463 & 6.417630 & 4.883183 & chr1 & 1173882 & 1173883 & ENSG00000162571.13 & 0 & + &  5465 & chr1\\_1179347\\_1179748\\_TTLL10  \\\\\n",
       "\t6 & chr1 & 1243376 & 1243777 & 402 & * & C1QTNF12 &  0.8026506 & 2.717024e-03 & 0.0211002975 & 6.180439 & 6.648946 & 5.482199 & chr1 & 1246722 & 1246723 & ENSG00000184163.3  & 0 & - &  2946 & chr1\\_1243376\\_1243777\\_C1QTNF12\\\\\n",
       "\\end{tabular}\n"
      ],
      "text/markdown": [
       "\n",
       "A data.frame: 6 × 20\n",
       "\n",
       "| <!--/--> | seqnames &lt;fct&gt; | start &lt;int&gt; | end &lt;int&gt; | width &lt;int&gt; | strand &lt;fct&gt; | gene_symbol &lt;chr&gt; | fold_change_flow_cont_VS_stat_cont &lt;dbl&gt; | pvalue_flow_cont_VS_stat_cont &lt;dbl&gt; | FDR_flow_cont_VS_stat_cont &lt;dbl&gt; | Conc &lt;dbl&gt; | Conc_flow_cont &lt;dbl&gt; | Conc_stat_cont &lt;dbl&gt; | TSS_seq &lt;chr&gt; | TSS_start &lt;int&gt; | TSS_end &lt;int&gt; | TSS_ENSEMBL &lt;chr&gt; | TSS_interval &lt;int&gt; | TSS_strand &lt;chr&gt; | TSS_sth &lt;int&gt; | regions &lt;chr&gt; |\n",
       "|---|---|---|---|---|---|---|---|---|---|---|---|---|---|---|---|---|---|---|---|---|\n",
       "| 1 | chr1 |  923802 |  924203 | 402 | * | SAMD11   | -0.6917031 | 2.903072e-03 | 0.0221161629 | 7.257583 | 6.718923 | 7.648899 | chr1 |  923926 |  923927 | ENSG00000187634.11 | 0 | + |     0 | chr1_923802_924203_SAMD11     |\n",
       "| 2 | chr1 |  973718 |  974119 | 402 | * | PLEKHN1  |  0.8809586 | 3.166231e-03 | 0.0235308860 | 5.848033 | 6.395402 | 4.955272 | chr1 |  966495 |  966496 | ENSG00000187583.10 | 0 | + |  7223 | chr1_973718_974119_PLEKHN1    |\n",
       "| 3 | chr1 | 1059451 | 1059852 | 402 | * | RNF223   | -0.9388653 | 9.831304e-06 | 0.0002427863 | 8.439183 | 7.792097 | 8.884307 | chr1 | 1074307 | 1074308 | ENSG00000237330.2  | 0 | - | 14456 | chr1_1059451_1059852_RNF223   |\n",
       "| 4 | chr1 | 1079385 | 1079786 | 402 | * | RNF223   | -0.7154843 | 6.693386e-04 | 0.0074483662 | 8.612384 | 8.107696 | 8.985544 | chr1 | 1074307 | 1074308 | ENSG00000237330.2  | 0 | - |  5078 | chr1_1079385_1079786_RNF223   |\n",
       "| 5 | chr1 | 1179347 | 1179748 | 402 | * | TTLL10   |  1.0558229 | 4.397239e-04 | 0.0053789723 | 5.845463 | 6.417630 | 4.883183 | chr1 | 1173882 | 1173883 | ENSG00000162571.13 | 0 | + |  5465 | chr1_1179347_1179748_TTLL10   |\n",
       "| 6 | chr1 | 1243376 | 1243777 | 402 | * | C1QTNF12 |  0.8026506 | 2.717024e-03 | 0.0211002975 | 6.180439 | 6.648946 | 5.482199 | chr1 | 1246722 | 1246723 | ENSG00000184163.3  | 0 | - |  2946 | chr1_1243376_1243777_C1QTNF12 |\n",
       "\n"
      ],
      "text/plain": [
       "  seqnames start   end     width strand gene_symbol\n",
       "1 chr1      923802  924203 402   *      SAMD11     \n",
       "2 chr1      973718  974119 402   *      PLEKHN1    \n",
       "3 chr1     1059451 1059852 402   *      RNF223     \n",
       "4 chr1     1079385 1079786 402   *      RNF223     \n",
       "5 chr1     1179347 1179748 402   *      TTLL10     \n",
       "6 chr1     1243376 1243777 402   *      C1QTNF12   \n",
       "  fold_change_flow_cont_VS_stat_cont pvalue_flow_cont_VS_stat_cont\n",
       "1 -0.6917031                         2.903072e-03                 \n",
       "2  0.8809586                         3.166231e-03                 \n",
       "3 -0.9388653                         9.831304e-06                 \n",
       "4 -0.7154843                         6.693386e-04                 \n",
       "5  1.0558229                         4.397239e-04                 \n",
       "6  0.8026506                         2.717024e-03                 \n",
       "  FDR_flow_cont_VS_stat_cont Conc     Conc_flow_cont Conc_stat_cont TSS_seq\n",
       "1 0.0221161629               7.257583 6.718923       7.648899       chr1   \n",
       "2 0.0235308860               5.848033 6.395402       4.955272       chr1   \n",
       "3 0.0002427863               8.439183 7.792097       8.884307       chr1   \n",
       "4 0.0074483662               8.612384 8.107696       8.985544       chr1   \n",
       "5 0.0053789723               5.845463 6.417630       4.883183       chr1   \n",
       "6 0.0211002975               6.180439 6.648946       5.482199       chr1   \n",
       "  TSS_start TSS_end TSS_ENSEMBL        TSS_interval TSS_strand TSS_sth\n",
       "1  923926    923927 ENSG00000187634.11 0            +              0  \n",
       "2  966495    966496 ENSG00000187583.10 0            +           7223  \n",
       "3 1074307   1074308 ENSG00000237330.2  0            -          14456  \n",
       "4 1074307   1074308 ENSG00000237330.2  0            -           5078  \n",
       "5 1173882   1173883 ENSG00000162571.13 0            +           5465  \n",
       "6 1246722   1246723 ENSG00000184163.3  0            -           2946  \n",
       "  regions                      \n",
       "1 chr1_923802_924203_SAMD11    \n",
       "2 chr1_973718_974119_PLEKHN1   \n",
       "3 chr1_1059451_1059852_RNF223  \n",
       "4 chr1_1079385_1079786_RNF223  \n",
       "5 chr1_1179347_1179748_TTLL10  \n",
       "6 chr1_1243376_1243777_C1QTNF12"
      ]
     },
     "metadata": {},
     "output_type": "display_data"
    }
   ],
   "source": [
    "head(common_regions_flow_cont_metadata_df)"
   ]
  },
  {
   "cell_type": "markdown",
   "id": "d07533ff-2cd2-4012-b08b-c117f1af8cc1",
   "metadata": {},
   "source": [
    "## now add the annotations to the merged data"
   ]
  },
  {
   "cell_type": "code",
   "execution_count": 27,
   "id": "91288de2-b98a-4697-860f-87b9ad7c5e56",
   "metadata": {},
   "outputs": [],
   "source": [
    "common_regions_df_annotated = merge(common_regions_df2,common_regions_flow_cont_metadata_df, by=\"regions\",)"
   ]
  },
  {
   "cell_type": "code",
   "execution_count": 28,
   "id": "3d205c5f-2bd2-4af9-a554-a049439b220b",
   "metadata": {},
   "outputs": [
    {
     "data": {
      "text/html": [
       "<table class=\"dataframe\">\n",
       "<caption>A data.frame: 6 × 39</caption>\n",
       "<thead>\n",
       "\t<tr><th></th><th scope=col>regions</th><th scope=col>seqnames.x</th><th scope=col>start.x</th><th scope=col>end.x</th><th scope=col>width.x</th><th scope=col>strand.x</th><th scope=col>gene_symbol.x</th><th scope=col>fold_change_stat_bmp9_VS_stat_cont</th><th scope=col>pvalue_stat_bmp9_VS_stat_cont</th><th scope=col>FDR_stat_bmp9_VS_stat_cont</th><th scope=col>⋯</th><th scope=col>Conc.y</th><th scope=col>Conc_flow_cont</th><th scope=col>Conc_stat_cont.y</th><th scope=col>TSS_seq.y</th><th scope=col>TSS_start.y</th><th scope=col>TSS_end.y</th><th scope=col>TSS_ENSEMBL.y</th><th scope=col>TSS_interval.y</th><th scope=col>TSS_strand.y</th><th scope=col>TSS_sth.y</th></tr>\n",
       "\t<tr><th></th><th scope=col>&lt;chr&gt;</th><th scope=col>&lt;fct&gt;</th><th scope=col>&lt;int&gt;</th><th scope=col>&lt;int&gt;</th><th scope=col>&lt;int&gt;</th><th scope=col>&lt;fct&gt;</th><th scope=col>&lt;chr&gt;</th><th scope=col>&lt;dbl&gt;</th><th scope=col>&lt;dbl&gt;</th><th scope=col>&lt;dbl&gt;</th><th scope=col>⋯</th><th scope=col>&lt;dbl&gt;</th><th scope=col>&lt;dbl&gt;</th><th scope=col>&lt;dbl&gt;</th><th scope=col>&lt;chr&gt;</th><th scope=col>&lt;int&gt;</th><th scope=col>&lt;int&gt;</th><th scope=col>&lt;chr&gt;</th><th scope=col>&lt;int&gt;</th><th scope=col>&lt;chr&gt;</th><th scope=col>&lt;int&gt;</th></tr>\n",
       "</thead>\n",
       "<tbody>\n",
       "\t<tr><th scope=row>1</th><td>chr10_101165700_101166101_TLX1   </td><td>chr10</td><td>101165700</td><td>101166101</td><td>402</td><td>*</td><td>TLX1   </td><td> 0.7180449</td><td>2.417245e-04</td><td>6.157302e-03</td><td>⋯</td><td>7.167508</td><td>7.487111</td><td>6.756337</td><td>chr10</td><td>101130503</td><td>101130504</td><td>ENSG00000107807.12</td><td>0</td><td>+</td><td>35197</td></tr>\n",
       "\t<tr><th scope=row>2</th><td>chr10_101489391_101489792_DPCD   </td><td>chr10</td><td>101489391</td><td>101489792</td><td>402</td><td>*</td><td>DPCD   </td><td> 0.6568429</td><td>3.768591e-03</td><td>4.010159e-02</td><td>⋯</td><td>5.625297</td><td>4.792880</td><td>6.149775</td><td>chr10</td><td>101570558</td><td>101570559</td><td>ENSG00000166171.12</td><td>0</td><td>+</td><td>80767</td></tr>\n",
       "\t<tr><th scope=row>3</th><td>chr10_102661063_102661464_TRIM8  </td><td>chr10</td><td>102661063</td><td>102661464</td><td>402</td><td>*</td><td>TRIM8  </td><td>-0.5197182</td><td>3.922810e-03</td><td>4.115763e-02</td><td>⋯</td><td>7.929954</td><td>7.493480</td><td>8.264593</td><td>chr10</td><td>102642308</td><td>102642309</td><td>ENSG00000171206.14</td><td>0</td><td>+</td><td>18755</td></tr>\n",
       "\t<tr><th scope=row>4</th><td>chr10_102800623_102801024_CYP17A1</td><td>chr10</td><td>102800623</td><td>102801024</td><td>402</td><td>*</td><td>CYP17A1</td><td>-0.4952015</td><td>4.992009e-03</td><td>4.809005e-02</td><td>⋯</td><td>7.325724</td><td>7.007771</td><td>7.586103</td><td>chr10</td><td>102837533</td><td>102837534</td><td>ENSG00000148795.6 </td><td>0</td><td>-</td><td>36510</td></tr>\n",
       "\t<tr><th scope=row>5</th><td>chr10_103104618_103105019_NT5C2  </td><td>chr10</td><td>103104618</td><td>103105019</td><td>402</td><td>*</td><td>NT5C2  </td><td> 1.3187677</td><td>1.011527e-07</td><td>1.412294e-05</td><td>⋯</td><td>5.691036</td><td>6.106857</td><td>5.104506</td><td>chr10</td><td>103193306</td><td>103193307</td><td>ENSG00000076685.18</td><td>0</td><td>-</td><td>88288</td></tr>\n",
       "\t<tr><th scope=row>6</th><td>chr10_103479084_103479485_CALHM3 </td><td>chr10</td><td>103479084</td><td>103479485</td><td>402</td><td>*</td><td>CALHM3 </td><td>-0.8311945</td><td>1.293910e-03</td><td>1.983716e-02</td><td>⋯</td><td>6.103336</td><td>6.662028</td><td>5.179394</td><td>chr10</td><td>103479240</td><td>103479241</td><td>ENSG00000183128.7 </td><td>0</td><td>-</td><td>    0</td></tr>\n",
       "</tbody>\n",
       "</table>\n"
      ],
      "text/latex": [
       "A data.frame: 6 × 39\n",
       "\\begin{tabular}{r|lllllllllllllllllllll}\n",
       "  & regions & seqnames.x & start.x & end.x & width.x & strand.x & gene\\_symbol.x & fold\\_change\\_stat\\_bmp9\\_VS\\_stat\\_cont & pvalue\\_stat\\_bmp9\\_VS\\_stat\\_cont & FDR\\_stat\\_bmp9\\_VS\\_stat\\_cont & ⋯ & Conc.y & Conc\\_flow\\_cont & Conc\\_stat\\_cont.y & TSS\\_seq.y & TSS\\_start.y & TSS\\_end.y & TSS\\_ENSEMBL.y & TSS\\_interval.y & TSS\\_strand.y & TSS\\_sth.y\\\\\n",
       "  & <chr> & <fct> & <int> & <int> & <int> & <fct> & <chr> & <dbl> & <dbl> & <dbl> & ⋯ & <dbl> & <dbl> & <dbl> & <chr> & <int> & <int> & <chr> & <int> & <chr> & <int>\\\\\n",
       "\\hline\n",
       "\t1 & chr10\\_101165700\\_101166101\\_TLX1    & chr10 & 101165700 & 101166101 & 402 & * & TLX1    &  0.7180449 & 2.417245e-04 & 6.157302e-03 & ⋯ & 7.167508 & 7.487111 & 6.756337 & chr10 & 101130503 & 101130504 & ENSG00000107807.12 & 0 & + & 35197\\\\\n",
       "\t2 & chr10\\_101489391\\_101489792\\_DPCD    & chr10 & 101489391 & 101489792 & 402 & * & DPCD    &  0.6568429 & 3.768591e-03 & 4.010159e-02 & ⋯ & 5.625297 & 4.792880 & 6.149775 & chr10 & 101570558 & 101570559 & ENSG00000166171.12 & 0 & + & 80767\\\\\n",
       "\t3 & chr10\\_102661063\\_102661464\\_TRIM8   & chr10 & 102661063 & 102661464 & 402 & * & TRIM8   & -0.5197182 & 3.922810e-03 & 4.115763e-02 & ⋯ & 7.929954 & 7.493480 & 8.264593 & chr10 & 102642308 & 102642309 & ENSG00000171206.14 & 0 & + & 18755\\\\\n",
       "\t4 & chr10\\_102800623\\_102801024\\_CYP17A1 & chr10 & 102800623 & 102801024 & 402 & * & CYP17A1 & -0.4952015 & 4.992009e-03 & 4.809005e-02 & ⋯ & 7.325724 & 7.007771 & 7.586103 & chr10 & 102837533 & 102837534 & ENSG00000148795.6  & 0 & - & 36510\\\\\n",
       "\t5 & chr10\\_103104618\\_103105019\\_NT5C2   & chr10 & 103104618 & 103105019 & 402 & * & NT5C2   &  1.3187677 & 1.011527e-07 & 1.412294e-05 & ⋯ & 5.691036 & 6.106857 & 5.104506 & chr10 & 103193306 & 103193307 & ENSG00000076685.18 & 0 & - & 88288\\\\\n",
       "\t6 & chr10\\_103479084\\_103479485\\_CALHM3  & chr10 & 103479084 & 103479485 & 402 & * & CALHM3  & -0.8311945 & 1.293910e-03 & 1.983716e-02 & ⋯ & 6.103336 & 6.662028 & 5.179394 & chr10 & 103479240 & 103479241 & ENSG00000183128.7  & 0 & - &     0\\\\\n",
       "\\end{tabular}\n"
      ],
      "text/markdown": [
       "\n",
       "A data.frame: 6 × 39\n",
       "\n",
       "| <!--/--> | regions &lt;chr&gt; | seqnames.x &lt;fct&gt; | start.x &lt;int&gt; | end.x &lt;int&gt; | width.x &lt;int&gt; | strand.x &lt;fct&gt; | gene_symbol.x &lt;chr&gt; | fold_change_stat_bmp9_VS_stat_cont &lt;dbl&gt; | pvalue_stat_bmp9_VS_stat_cont &lt;dbl&gt; | FDR_stat_bmp9_VS_stat_cont &lt;dbl&gt; | ⋯ ⋯ | Conc.y &lt;dbl&gt; | Conc_flow_cont &lt;dbl&gt; | Conc_stat_cont.y &lt;dbl&gt; | TSS_seq.y &lt;chr&gt; | TSS_start.y &lt;int&gt; | TSS_end.y &lt;int&gt; | TSS_ENSEMBL.y &lt;chr&gt; | TSS_interval.y &lt;int&gt; | TSS_strand.y &lt;chr&gt; | TSS_sth.y &lt;int&gt; |\n",
       "|---|---|---|---|---|---|---|---|---|---|---|---|---|---|---|---|---|---|---|---|---|---|\n",
       "| 1 | chr10_101165700_101166101_TLX1    | chr10 | 101165700 | 101166101 | 402 | * | TLX1    |  0.7180449 | 2.417245e-04 | 6.157302e-03 | ⋯ | 7.167508 | 7.487111 | 6.756337 | chr10 | 101130503 | 101130504 | ENSG00000107807.12 | 0 | + | 35197 |\n",
       "| 2 | chr10_101489391_101489792_DPCD    | chr10 | 101489391 | 101489792 | 402 | * | DPCD    |  0.6568429 | 3.768591e-03 | 4.010159e-02 | ⋯ | 5.625297 | 4.792880 | 6.149775 | chr10 | 101570558 | 101570559 | ENSG00000166171.12 | 0 | + | 80767 |\n",
       "| 3 | chr10_102661063_102661464_TRIM8   | chr10 | 102661063 | 102661464 | 402 | * | TRIM8   | -0.5197182 | 3.922810e-03 | 4.115763e-02 | ⋯ | 7.929954 | 7.493480 | 8.264593 | chr10 | 102642308 | 102642309 | ENSG00000171206.14 | 0 | + | 18755 |\n",
       "| 4 | chr10_102800623_102801024_CYP17A1 | chr10 | 102800623 | 102801024 | 402 | * | CYP17A1 | -0.4952015 | 4.992009e-03 | 4.809005e-02 | ⋯ | 7.325724 | 7.007771 | 7.586103 | chr10 | 102837533 | 102837534 | ENSG00000148795.6  | 0 | - | 36510 |\n",
       "| 5 | chr10_103104618_103105019_NT5C2   | chr10 | 103104618 | 103105019 | 402 | * | NT5C2   |  1.3187677 | 1.011527e-07 | 1.412294e-05 | ⋯ | 5.691036 | 6.106857 | 5.104506 | chr10 | 103193306 | 103193307 | ENSG00000076685.18 | 0 | - | 88288 |\n",
       "| 6 | chr10_103479084_103479485_CALHM3  | chr10 | 103479084 | 103479485 | 402 | * | CALHM3  | -0.8311945 | 1.293910e-03 | 1.983716e-02 | ⋯ | 6.103336 | 6.662028 | 5.179394 | chr10 | 103479240 | 103479241 | ENSG00000183128.7  | 0 | - |     0 |\n",
       "\n"
      ],
      "text/plain": [
       "  regions                           seqnames.x start.x   end.x     width.x\n",
       "1 chr10_101165700_101166101_TLX1    chr10      101165700 101166101 402    \n",
       "2 chr10_101489391_101489792_DPCD    chr10      101489391 101489792 402    \n",
       "3 chr10_102661063_102661464_TRIM8   chr10      102661063 102661464 402    \n",
       "4 chr10_102800623_102801024_CYP17A1 chr10      102800623 102801024 402    \n",
       "5 chr10_103104618_103105019_NT5C2   chr10      103104618 103105019 402    \n",
       "6 chr10_103479084_103479485_CALHM3  chr10      103479084 103479485 402    \n",
       "  strand.x gene_symbol.x fold_change_stat_bmp9_VS_stat_cont\n",
       "1 *        TLX1           0.7180449                        \n",
       "2 *        DPCD           0.6568429                        \n",
       "3 *        TRIM8         -0.5197182                        \n",
       "4 *        CYP17A1       -0.4952015                        \n",
       "5 *        NT5C2          1.3187677                        \n",
       "6 *        CALHM3        -0.8311945                        \n",
       "  pvalue_stat_bmp9_VS_stat_cont FDR_stat_bmp9_VS_stat_cont ⋯ Conc.y  \n",
       "1 2.417245e-04                  6.157302e-03               ⋯ 7.167508\n",
       "2 3.768591e-03                  4.010159e-02               ⋯ 5.625297\n",
       "3 3.922810e-03                  4.115763e-02               ⋯ 7.929954\n",
       "4 4.992009e-03                  4.809005e-02               ⋯ 7.325724\n",
       "5 1.011527e-07                  1.412294e-05               ⋯ 5.691036\n",
       "6 1.293910e-03                  1.983716e-02               ⋯ 6.103336\n",
       "  Conc_flow_cont Conc_stat_cont.y TSS_seq.y TSS_start.y TSS_end.y\n",
       "1 7.487111       6.756337         chr10     101130503   101130504\n",
       "2 4.792880       6.149775         chr10     101570558   101570559\n",
       "3 7.493480       8.264593         chr10     102642308   102642309\n",
       "4 7.007771       7.586103         chr10     102837533   102837534\n",
       "5 6.106857       5.104506         chr10     103193306   103193307\n",
       "6 6.662028       5.179394         chr10     103479240   103479241\n",
       "  TSS_ENSEMBL.y      TSS_interval.y TSS_strand.y TSS_sth.y\n",
       "1 ENSG00000107807.12 0              +            35197    \n",
       "2 ENSG00000166171.12 0              +            80767    \n",
       "3 ENSG00000171206.14 0              +            18755    \n",
       "4 ENSG00000148795.6  0              -            36510    \n",
       "5 ENSG00000076685.18 0              -            88288    \n",
       "6 ENSG00000183128.7  0              -                0    "
      ]
     },
     "metadata": {},
     "output_type": "display_data"
    }
   ],
   "source": [
    "head(common_regions_df_annotated)"
   ]
  },
  {
   "cell_type": "code",
   "execution_count": 29,
   "id": "48b7b929-2cb7-4850-812d-1d63ee813b67",
   "metadata": {},
   "outputs": [
    {
     "data": {
      "text/html": [
       "<style>\n",
       ".list-inline {list-style: none; margin:0; padding: 0}\n",
       ".list-inline>li {display: inline-block}\n",
       ".list-inline>li:not(:last-child)::after {content: \"\\00b7\"; padding: 0 .5ex}\n",
       "</style>\n",
       "<ol class=list-inline><li>'regions'</li><li>'seqnames.x'</li><li>'start.x'</li><li>'end.x'</li><li>'width.x'</li><li>'strand.x'</li><li>'gene_symbol.x'</li><li>'fold_change_stat_bmp9_VS_stat_cont'</li><li>'pvalue_stat_bmp9_VS_stat_cont'</li><li>'FDR_stat_bmp9_VS_stat_cont'</li><li>'Conc.x'</li><li>'Conc_stat_bmp9'</li><li>'Conc_stat_cont.x'</li><li>'TSS_seq.x'</li><li>'TSS_start.x'</li><li>'TSS_end.x'</li><li>'TSS_ENSEMBL.x'</li><li>'TSS_interval.x'</li><li>'TSS_strand.x'</li><li>'TSS_sth.x'</li><li>'seqnames.y'</li><li>'start.y'</li><li>'end.y'</li><li>'width.y'</li><li>'strand.y'</li><li>'gene_symbol.y'</li><li>'fold_change_flow_cont_VS_stat_cont'</li><li>'pvalue_flow_cont_VS_stat_cont'</li><li>'FDR_flow_cont_VS_stat_cont'</li><li>'Conc.y'</li><li>'Conc_flow_cont'</li><li>'Conc_stat_cont.y'</li><li>'TSS_seq.y'</li><li>'TSS_start.y'</li><li>'TSS_end.y'</li><li>'TSS_ENSEMBL.y'</li><li>'TSS_interval.y'</li><li>'TSS_strand.y'</li><li>'TSS_sth.y'</li></ol>\n"
      ],
      "text/latex": [
       "\\begin{enumerate*}\n",
       "\\item 'regions'\n",
       "\\item 'seqnames.x'\n",
       "\\item 'start.x'\n",
       "\\item 'end.x'\n",
       "\\item 'width.x'\n",
       "\\item 'strand.x'\n",
       "\\item 'gene\\_symbol.x'\n",
       "\\item 'fold\\_change\\_stat\\_bmp9\\_VS\\_stat\\_cont'\n",
       "\\item 'pvalue\\_stat\\_bmp9\\_VS\\_stat\\_cont'\n",
       "\\item 'FDR\\_stat\\_bmp9\\_VS\\_stat\\_cont'\n",
       "\\item 'Conc.x'\n",
       "\\item 'Conc\\_stat\\_bmp9'\n",
       "\\item 'Conc\\_stat\\_cont.x'\n",
       "\\item 'TSS\\_seq.x'\n",
       "\\item 'TSS\\_start.x'\n",
       "\\item 'TSS\\_end.x'\n",
       "\\item 'TSS\\_ENSEMBL.x'\n",
       "\\item 'TSS\\_interval.x'\n",
       "\\item 'TSS\\_strand.x'\n",
       "\\item 'TSS\\_sth.x'\n",
       "\\item 'seqnames.y'\n",
       "\\item 'start.y'\n",
       "\\item 'end.y'\n",
       "\\item 'width.y'\n",
       "\\item 'strand.y'\n",
       "\\item 'gene\\_symbol.y'\n",
       "\\item 'fold\\_change\\_flow\\_cont\\_VS\\_stat\\_cont'\n",
       "\\item 'pvalue\\_flow\\_cont\\_VS\\_stat\\_cont'\n",
       "\\item 'FDR\\_flow\\_cont\\_VS\\_stat\\_cont'\n",
       "\\item 'Conc.y'\n",
       "\\item 'Conc\\_flow\\_cont'\n",
       "\\item 'Conc\\_stat\\_cont.y'\n",
       "\\item 'TSS\\_seq.y'\n",
       "\\item 'TSS\\_start.y'\n",
       "\\item 'TSS\\_end.y'\n",
       "\\item 'TSS\\_ENSEMBL.y'\n",
       "\\item 'TSS\\_interval.y'\n",
       "\\item 'TSS\\_strand.y'\n",
       "\\item 'TSS\\_sth.y'\n",
       "\\end{enumerate*}\n"
      ],
      "text/markdown": [
       "1. 'regions'\n",
       "2. 'seqnames.x'\n",
       "3. 'start.x'\n",
       "4. 'end.x'\n",
       "5. 'width.x'\n",
       "6. 'strand.x'\n",
       "7. 'gene_symbol.x'\n",
       "8. 'fold_change_stat_bmp9_VS_stat_cont'\n",
       "9. 'pvalue_stat_bmp9_VS_stat_cont'\n",
       "10. 'FDR_stat_bmp9_VS_stat_cont'\n",
       "11. 'Conc.x'\n",
       "12. 'Conc_stat_bmp9'\n",
       "13. 'Conc_stat_cont.x'\n",
       "14. 'TSS_seq.x'\n",
       "15. 'TSS_start.x'\n",
       "16. 'TSS_end.x'\n",
       "17. 'TSS_ENSEMBL.x'\n",
       "18. 'TSS_interval.x'\n",
       "19. 'TSS_strand.x'\n",
       "20. 'TSS_sth.x'\n",
       "21. 'seqnames.y'\n",
       "22. 'start.y'\n",
       "23. 'end.y'\n",
       "24. 'width.y'\n",
       "25. 'strand.y'\n",
       "26. 'gene_symbol.y'\n",
       "27. 'fold_change_flow_cont_VS_stat_cont'\n",
       "28. 'pvalue_flow_cont_VS_stat_cont'\n",
       "29. 'FDR_flow_cont_VS_stat_cont'\n",
       "30. 'Conc.y'\n",
       "31. 'Conc_flow_cont'\n",
       "32. 'Conc_stat_cont.y'\n",
       "33. 'TSS_seq.y'\n",
       "34. 'TSS_start.y'\n",
       "35. 'TSS_end.y'\n",
       "36. 'TSS_ENSEMBL.y'\n",
       "37. 'TSS_interval.y'\n",
       "38. 'TSS_strand.y'\n",
       "39. 'TSS_sth.y'\n",
       "\n",
       "\n"
      ],
      "text/plain": [
       " [1] \"regions\"                            \"seqnames.x\"                        \n",
       " [3] \"start.x\"                            \"end.x\"                             \n",
       " [5] \"width.x\"                            \"strand.x\"                          \n",
       " [7] \"gene_symbol.x\"                      \"fold_change_stat_bmp9_VS_stat_cont\"\n",
       " [9] \"pvalue_stat_bmp9_VS_stat_cont\"      \"FDR_stat_bmp9_VS_stat_cont\"        \n",
       "[11] \"Conc.x\"                             \"Conc_stat_bmp9\"                    \n",
       "[13] \"Conc_stat_cont.x\"                   \"TSS_seq.x\"                         \n",
       "[15] \"TSS_start.x\"                        \"TSS_end.x\"                         \n",
       "[17] \"TSS_ENSEMBL.x\"                      \"TSS_interval.x\"                    \n",
       "[19] \"TSS_strand.x\"                       \"TSS_sth.x\"                         \n",
       "[21] \"seqnames.y\"                         \"start.y\"                           \n",
       "[23] \"end.y\"                              \"width.y\"                           \n",
       "[25] \"strand.y\"                           \"gene_symbol.y\"                     \n",
       "[27] \"fold_change_flow_cont_VS_stat_cont\" \"pvalue_flow_cont_VS_stat_cont\"     \n",
       "[29] \"FDR_flow_cont_VS_stat_cont\"         \"Conc.y\"                            \n",
       "[31] \"Conc_flow_cont\"                     \"Conc_stat_cont.y\"                  \n",
       "[33] \"TSS_seq.y\"                          \"TSS_start.y\"                       \n",
       "[35] \"TSS_end.y\"                          \"TSS_ENSEMBL.y\"                     \n",
       "[37] \"TSS_interval.y\"                     \"TSS_strand.y\"                      \n",
       "[39] \"TSS_sth.y\"                         "
      ]
     },
     "metadata": {},
     "output_type": "display_data"
    }
   ],
   "source": [
    "colnames(common_regions_df_annotated)"
   ]
  },
  {
   "cell_type": "code",
   "execution_count": 30,
   "id": "dbac6369-3430-40b7-af77-c952c4665d40",
   "metadata": {},
   "outputs": [
    {
     "data": {
      "text/html": [
       "<table class=\"dataframe\">\n",
       "<caption>A data.frame: 6 × 16</caption>\n",
       "<thead>\n",
       "\t<tr><th></th><th scope=col>seqnames.x</th><th scope=col>start.x</th><th scope=col>end.x</th><th scope=col>fold_change_stat_bmp9_VS_stat_cont</th><th scope=col>pvalue_stat_bmp9_VS_stat_cont</th><th scope=col>FDR_stat_bmp9_VS_stat_cont</th><th scope=col>fold_change_flow_cont_VS_stat_cont</th><th scope=col>pvalue_flow_cont_VS_stat_cont</th><th scope=col>FDR_flow_cont_VS_stat_cont</th><th scope=col>gene_symbol.x</th><th scope=col>TSS_seq.y</th><th scope=col>TSS_start.y</th><th scope=col>TSS_end.y</th><th scope=col>TSS_ENSEMBL.y</th><th scope=col>TSS_interval.y</th><th scope=col>TSS_strand.y</th></tr>\n",
       "\t<tr><th></th><th scope=col>&lt;fct&gt;</th><th scope=col>&lt;int&gt;</th><th scope=col>&lt;int&gt;</th><th scope=col>&lt;dbl&gt;</th><th scope=col>&lt;dbl&gt;</th><th scope=col>&lt;dbl&gt;</th><th scope=col>&lt;dbl&gt;</th><th scope=col>&lt;dbl&gt;</th><th scope=col>&lt;dbl&gt;</th><th scope=col>&lt;chr&gt;</th><th scope=col>&lt;chr&gt;</th><th scope=col>&lt;int&gt;</th><th scope=col>&lt;int&gt;</th><th scope=col>&lt;chr&gt;</th><th scope=col>&lt;int&gt;</th><th scope=col>&lt;chr&gt;</th></tr>\n",
       "</thead>\n",
       "<tbody>\n",
       "\t<tr><th scope=row>1</th><td>chr10</td><td>101165700</td><td>101166101</td><td> 0.7180449</td><td>2.417245e-04</td><td>6.157302e-03</td><td> 0.6015538</td><td>0.0044890293</td><td>0.030111742</td><td>TLX1   </td><td>chr10</td><td>101130503</td><td>101130504</td><td>ENSG00000107807.12</td><td>0</td><td>+</td></tr>\n",
       "\t<tr><th scope=row>2</th><td>chr10</td><td>101489391</td><td>101489792</td><td> 0.6568429</td><td>3.768591e-03</td><td>4.010159e-02</td><td>-0.9283922</td><td>0.0010074046</td><td>0.010154740</td><td>DPCD   </td><td>chr10</td><td>101570558</td><td>101570559</td><td>ENSG00000166171.12</td><td>0</td><td>+</td></tr>\n",
       "\t<tr><th scope=row>3</th><td>chr10</td><td>102661063</td><td>102661464</td><td>-0.5197182</td><td>3.922810e-03</td><td>4.115763e-02</td><td>-0.6978627</td><td>0.0008208342</td><td>0.008684364</td><td>TRIM8  </td><td>chr10</td><td>102642308</td><td>102642309</td><td>ENSG00000171206.14</td><td>0</td><td>+</td></tr>\n",
       "\t<tr><th scope=row>4</th><td>chr10</td><td>102800623</td><td>102801024</td><td>-0.4952015</td><td>4.992009e-03</td><td>4.809005e-02</td><td>-0.5355253</td><td>0.0093651393</td><td>0.049766405</td><td>CYP17A1</td><td>chr10</td><td>102837533</td><td>102837534</td><td>ENSG00000148795.6 </td><td>0</td><td>-</td></tr>\n",
       "\t<tr><th scope=row>5</th><td>chr10</td><td>103104618</td><td>103105019</td><td> 1.3187677</td><td>1.011527e-07</td><td>1.412294e-05</td><td> 0.7370003</td><td>0.0044938891</td><td>0.030132768</td><td>NT5C2  </td><td>chr10</td><td>103193306</td><td>103193307</td><td>ENSG00000076685.18</td><td>0</td><td>-</td></tr>\n",
       "\t<tr><th scope=row>6</th><td>chr10</td><td>103479084</td><td>103479485</td><td>-0.8311945</td><td>1.293910e-03</td><td>1.983716e-02</td><td> 1.0415286</td><td>0.0001907928</td><td>0.002788450</td><td>CALHM3 </td><td>chr10</td><td>103479240</td><td>103479241</td><td>ENSG00000183128.7 </td><td>0</td><td>-</td></tr>\n",
       "</tbody>\n",
       "</table>\n"
      ],
      "text/latex": [
       "A data.frame: 6 × 16\n",
       "\\begin{tabular}{r|llllllllllllllll}\n",
       "  & seqnames.x & start.x & end.x & fold\\_change\\_stat\\_bmp9\\_VS\\_stat\\_cont & pvalue\\_stat\\_bmp9\\_VS\\_stat\\_cont & FDR\\_stat\\_bmp9\\_VS\\_stat\\_cont & fold\\_change\\_flow\\_cont\\_VS\\_stat\\_cont & pvalue\\_flow\\_cont\\_VS\\_stat\\_cont & FDR\\_flow\\_cont\\_VS\\_stat\\_cont & gene\\_symbol.x & TSS\\_seq.y & TSS\\_start.y & TSS\\_end.y & TSS\\_ENSEMBL.y & TSS\\_interval.y & TSS\\_strand.y\\\\\n",
       "  & <fct> & <int> & <int> & <dbl> & <dbl> & <dbl> & <dbl> & <dbl> & <dbl> & <chr> & <chr> & <int> & <int> & <chr> & <int> & <chr>\\\\\n",
       "\\hline\n",
       "\t1 & chr10 & 101165700 & 101166101 &  0.7180449 & 2.417245e-04 & 6.157302e-03 &  0.6015538 & 0.0044890293 & 0.030111742 & TLX1    & chr10 & 101130503 & 101130504 & ENSG00000107807.12 & 0 & +\\\\\n",
       "\t2 & chr10 & 101489391 & 101489792 &  0.6568429 & 3.768591e-03 & 4.010159e-02 & -0.9283922 & 0.0010074046 & 0.010154740 & DPCD    & chr10 & 101570558 & 101570559 & ENSG00000166171.12 & 0 & +\\\\\n",
       "\t3 & chr10 & 102661063 & 102661464 & -0.5197182 & 3.922810e-03 & 4.115763e-02 & -0.6978627 & 0.0008208342 & 0.008684364 & TRIM8   & chr10 & 102642308 & 102642309 & ENSG00000171206.14 & 0 & +\\\\\n",
       "\t4 & chr10 & 102800623 & 102801024 & -0.4952015 & 4.992009e-03 & 4.809005e-02 & -0.5355253 & 0.0093651393 & 0.049766405 & CYP17A1 & chr10 & 102837533 & 102837534 & ENSG00000148795.6  & 0 & -\\\\\n",
       "\t5 & chr10 & 103104618 & 103105019 &  1.3187677 & 1.011527e-07 & 1.412294e-05 &  0.7370003 & 0.0044938891 & 0.030132768 & NT5C2   & chr10 & 103193306 & 103193307 & ENSG00000076685.18 & 0 & -\\\\\n",
       "\t6 & chr10 & 103479084 & 103479485 & -0.8311945 & 1.293910e-03 & 1.983716e-02 &  1.0415286 & 0.0001907928 & 0.002788450 & CALHM3  & chr10 & 103479240 & 103479241 & ENSG00000183128.7  & 0 & -\\\\\n",
       "\\end{tabular}\n"
      ],
      "text/markdown": [
       "\n",
       "A data.frame: 6 × 16\n",
       "\n",
       "| <!--/--> | seqnames.x &lt;fct&gt; | start.x &lt;int&gt; | end.x &lt;int&gt; | fold_change_stat_bmp9_VS_stat_cont &lt;dbl&gt; | pvalue_stat_bmp9_VS_stat_cont &lt;dbl&gt; | FDR_stat_bmp9_VS_stat_cont &lt;dbl&gt; | fold_change_flow_cont_VS_stat_cont &lt;dbl&gt; | pvalue_flow_cont_VS_stat_cont &lt;dbl&gt; | FDR_flow_cont_VS_stat_cont &lt;dbl&gt; | gene_symbol.x &lt;chr&gt; | TSS_seq.y &lt;chr&gt; | TSS_start.y &lt;int&gt; | TSS_end.y &lt;int&gt; | TSS_ENSEMBL.y &lt;chr&gt; | TSS_interval.y &lt;int&gt; | TSS_strand.y &lt;chr&gt; |\n",
       "|---|---|---|---|---|---|---|---|---|---|---|---|---|---|---|---|---|\n",
       "| 1 | chr10 | 101165700 | 101166101 |  0.7180449 | 2.417245e-04 | 6.157302e-03 |  0.6015538 | 0.0044890293 | 0.030111742 | TLX1    | chr10 | 101130503 | 101130504 | ENSG00000107807.12 | 0 | + |\n",
       "| 2 | chr10 | 101489391 | 101489792 |  0.6568429 | 3.768591e-03 | 4.010159e-02 | -0.9283922 | 0.0010074046 | 0.010154740 | DPCD    | chr10 | 101570558 | 101570559 | ENSG00000166171.12 | 0 | + |\n",
       "| 3 | chr10 | 102661063 | 102661464 | -0.5197182 | 3.922810e-03 | 4.115763e-02 | -0.6978627 | 0.0008208342 | 0.008684364 | TRIM8   | chr10 | 102642308 | 102642309 | ENSG00000171206.14 | 0 | + |\n",
       "| 4 | chr10 | 102800623 | 102801024 | -0.4952015 | 4.992009e-03 | 4.809005e-02 | -0.5355253 | 0.0093651393 | 0.049766405 | CYP17A1 | chr10 | 102837533 | 102837534 | ENSG00000148795.6  | 0 | - |\n",
       "| 5 | chr10 | 103104618 | 103105019 |  1.3187677 | 1.011527e-07 | 1.412294e-05 |  0.7370003 | 0.0044938891 | 0.030132768 | NT5C2   | chr10 | 103193306 | 103193307 | ENSG00000076685.18 | 0 | - |\n",
       "| 6 | chr10 | 103479084 | 103479485 | -0.8311945 | 1.293910e-03 | 1.983716e-02 |  1.0415286 | 0.0001907928 | 0.002788450 | CALHM3  | chr10 | 103479240 | 103479241 | ENSG00000183128.7  | 0 | - |\n",
       "\n"
      ],
      "text/plain": [
       "  seqnames.x start.x   end.x     fold_change_stat_bmp9_VS_stat_cont\n",
       "1 chr10      101165700 101166101  0.7180449                        \n",
       "2 chr10      101489391 101489792  0.6568429                        \n",
       "3 chr10      102661063 102661464 -0.5197182                        \n",
       "4 chr10      102800623 102801024 -0.4952015                        \n",
       "5 chr10      103104618 103105019  1.3187677                        \n",
       "6 chr10      103479084 103479485 -0.8311945                        \n",
       "  pvalue_stat_bmp9_VS_stat_cont FDR_stat_bmp9_VS_stat_cont\n",
       "1 2.417245e-04                  6.157302e-03              \n",
       "2 3.768591e-03                  4.010159e-02              \n",
       "3 3.922810e-03                  4.115763e-02              \n",
       "4 4.992009e-03                  4.809005e-02              \n",
       "5 1.011527e-07                  1.412294e-05              \n",
       "6 1.293910e-03                  1.983716e-02              \n",
       "  fold_change_flow_cont_VS_stat_cont pvalue_flow_cont_VS_stat_cont\n",
       "1  0.6015538                         0.0044890293                 \n",
       "2 -0.9283922                         0.0010074046                 \n",
       "3 -0.6978627                         0.0008208342                 \n",
       "4 -0.5355253                         0.0093651393                 \n",
       "5  0.7370003                         0.0044938891                 \n",
       "6  1.0415286                         0.0001907928                 \n",
       "  FDR_flow_cont_VS_stat_cont gene_symbol.x TSS_seq.y TSS_start.y TSS_end.y\n",
       "1 0.030111742                TLX1          chr10     101130503   101130504\n",
       "2 0.010154740                DPCD          chr10     101570558   101570559\n",
       "3 0.008684364                TRIM8         chr10     102642308   102642309\n",
       "4 0.049766405                CYP17A1       chr10     102837533   102837534\n",
       "5 0.030132768                NT5C2         chr10     103193306   103193307\n",
       "6 0.002788450                CALHM3        chr10     103479240   103479241\n",
       "  TSS_ENSEMBL.y      TSS_interval.y TSS_strand.y\n",
       "1 ENSG00000107807.12 0              +           \n",
       "2 ENSG00000166171.12 0              +           \n",
       "3 ENSG00000171206.14 0              +           \n",
       "4 ENSG00000148795.6  0              -           \n",
       "5 ENSG00000076685.18 0              -           \n",
       "6 ENSG00000183128.7  0              -           "
      ]
     },
     "metadata": {},
     "output_type": "display_data"
    }
   ],
   "source": [
    "keep_cols = c('seqnames.x','start.x','end.x','fold_change_stat_bmp9_VS_stat_cont','pvalue_stat_bmp9_VS_stat_cont','FDR_stat_bmp9_VS_stat_cont','fold_change_flow_cont_VS_stat_cont','pvalue_flow_cont_VS_stat_cont','FDR_flow_cont_VS_stat_cont','gene_symbol.x','TSS_seq.y','TSS_start.y','TSS_end.y','TSS_ENSEMBL.y','TSS_interval.y','TSS_strand.y')\n",
    "common_regions_df_annotated_out = common_regions_df_annotated[keep_cols]\n",
    "head(common_regions_df_annotated_out)"
   ]
  },
  {
   "cell_type": "code",
   "execution_count": 31,
   "id": "5ceb087e-85c8-48ab-8edb-5c28bf294118",
   "metadata": {},
   "outputs": [
    {
     "data": {
      "text/html": [
       "<table class=\"dataframe\">\n",
       "<caption>A data.frame: 6 × 16</caption>\n",
       "<thead>\n",
       "\t<tr><th></th><th scope=col>seqnames</th><th scope=col>start</th><th scope=col>end</th><th scope=col>fold_change_stat_bmp9_VS_stat_cont</th><th scope=col>pvalue_stat_bmp9_VS_stat_cont</th><th scope=col>FDR_stat_bmp9_VS_stat_cont</th><th scope=col>fold_change_flow_cont_VS_stat_cont</th><th scope=col>pvalue_flow_cont_VS_stat_cont</th><th scope=col>FDR_flow_cont_VS_stat_cont</th><th scope=col>gene_symbol</th><th scope=col>TSS_seq</th><th scope=col>TSS_start</th><th scope=col>TSS_end</th><th scope=col>TSS_ENSEMBL</th><th scope=col>TSS_interval</th><th scope=col>TSS_strand</th></tr>\n",
       "\t<tr><th></th><th scope=col>&lt;fct&gt;</th><th scope=col>&lt;int&gt;</th><th scope=col>&lt;int&gt;</th><th scope=col>&lt;dbl&gt;</th><th scope=col>&lt;dbl&gt;</th><th scope=col>&lt;dbl&gt;</th><th scope=col>&lt;dbl&gt;</th><th scope=col>&lt;dbl&gt;</th><th scope=col>&lt;dbl&gt;</th><th scope=col>&lt;chr&gt;</th><th scope=col>&lt;chr&gt;</th><th scope=col>&lt;int&gt;</th><th scope=col>&lt;int&gt;</th><th scope=col>&lt;chr&gt;</th><th scope=col>&lt;int&gt;</th><th scope=col>&lt;chr&gt;</th></tr>\n",
       "</thead>\n",
       "<tbody>\n",
       "\t<tr><th scope=row>1</th><td>chr10</td><td>101165700</td><td>101166101</td><td> 0.7180449</td><td>2.417245e-04</td><td>6.157302e-03</td><td> 0.6015538</td><td>0.0044890293</td><td>0.030111742</td><td>TLX1   </td><td>chr10</td><td>101130503</td><td>101130504</td><td>ENSG00000107807.12</td><td>0</td><td>+</td></tr>\n",
       "\t<tr><th scope=row>2</th><td>chr10</td><td>101489391</td><td>101489792</td><td> 0.6568429</td><td>3.768591e-03</td><td>4.010159e-02</td><td>-0.9283922</td><td>0.0010074046</td><td>0.010154740</td><td>DPCD   </td><td>chr10</td><td>101570558</td><td>101570559</td><td>ENSG00000166171.12</td><td>0</td><td>+</td></tr>\n",
       "\t<tr><th scope=row>3</th><td>chr10</td><td>102661063</td><td>102661464</td><td>-0.5197182</td><td>3.922810e-03</td><td>4.115763e-02</td><td>-0.6978627</td><td>0.0008208342</td><td>0.008684364</td><td>TRIM8  </td><td>chr10</td><td>102642308</td><td>102642309</td><td>ENSG00000171206.14</td><td>0</td><td>+</td></tr>\n",
       "\t<tr><th scope=row>4</th><td>chr10</td><td>102800623</td><td>102801024</td><td>-0.4952015</td><td>4.992009e-03</td><td>4.809005e-02</td><td>-0.5355253</td><td>0.0093651393</td><td>0.049766405</td><td>CYP17A1</td><td>chr10</td><td>102837533</td><td>102837534</td><td>ENSG00000148795.6 </td><td>0</td><td>-</td></tr>\n",
       "\t<tr><th scope=row>5</th><td>chr10</td><td>103104618</td><td>103105019</td><td> 1.3187677</td><td>1.011527e-07</td><td>1.412294e-05</td><td> 0.7370003</td><td>0.0044938891</td><td>0.030132768</td><td>NT5C2  </td><td>chr10</td><td>103193306</td><td>103193307</td><td>ENSG00000076685.18</td><td>0</td><td>-</td></tr>\n",
       "\t<tr><th scope=row>6</th><td>chr10</td><td>103479084</td><td>103479485</td><td>-0.8311945</td><td>1.293910e-03</td><td>1.983716e-02</td><td> 1.0415286</td><td>0.0001907928</td><td>0.002788450</td><td>CALHM3 </td><td>chr10</td><td>103479240</td><td>103479241</td><td>ENSG00000183128.7 </td><td>0</td><td>-</td></tr>\n",
       "</tbody>\n",
       "</table>\n"
      ],
      "text/latex": [
       "A data.frame: 6 × 16\n",
       "\\begin{tabular}{r|llllllllllllllll}\n",
       "  & seqnames & start & end & fold\\_change\\_stat\\_bmp9\\_VS\\_stat\\_cont & pvalue\\_stat\\_bmp9\\_VS\\_stat\\_cont & FDR\\_stat\\_bmp9\\_VS\\_stat\\_cont & fold\\_change\\_flow\\_cont\\_VS\\_stat\\_cont & pvalue\\_flow\\_cont\\_VS\\_stat\\_cont & FDR\\_flow\\_cont\\_VS\\_stat\\_cont & gene\\_symbol & TSS\\_seq & TSS\\_start & TSS\\_end & TSS\\_ENSEMBL & TSS\\_interval & TSS\\_strand\\\\\n",
       "  & <fct> & <int> & <int> & <dbl> & <dbl> & <dbl> & <dbl> & <dbl> & <dbl> & <chr> & <chr> & <int> & <int> & <chr> & <int> & <chr>\\\\\n",
       "\\hline\n",
       "\t1 & chr10 & 101165700 & 101166101 &  0.7180449 & 2.417245e-04 & 6.157302e-03 &  0.6015538 & 0.0044890293 & 0.030111742 & TLX1    & chr10 & 101130503 & 101130504 & ENSG00000107807.12 & 0 & +\\\\\n",
       "\t2 & chr10 & 101489391 & 101489792 &  0.6568429 & 3.768591e-03 & 4.010159e-02 & -0.9283922 & 0.0010074046 & 0.010154740 & DPCD    & chr10 & 101570558 & 101570559 & ENSG00000166171.12 & 0 & +\\\\\n",
       "\t3 & chr10 & 102661063 & 102661464 & -0.5197182 & 3.922810e-03 & 4.115763e-02 & -0.6978627 & 0.0008208342 & 0.008684364 & TRIM8   & chr10 & 102642308 & 102642309 & ENSG00000171206.14 & 0 & +\\\\\n",
       "\t4 & chr10 & 102800623 & 102801024 & -0.4952015 & 4.992009e-03 & 4.809005e-02 & -0.5355253 & 0.0093651393 & 0.049766405 & CYP17A1 & chr10 & 102837533 & 102837534 & ENSG00000148795.6  & 0 & -\\\\\n",
       "\t5 & chr10 & 103104618 & 103105019 &  1.3187677 & 1.011527e-07 & 1.412294e-05 &  0.7370003 & 0.0044938891 & 0.030132768 & NT5C2   & chr10 & 103193306 & 103193307 & ENSG00000076685.18 & 0 & -\\\\\n",
       "\t6 & chr10 & 103479084 & 103479485 & -0.8311945 & 1.293910e-03 & 1.983716e-02 &  1.0415286 & 0.0001907928 & 0.002788450 & CALHM3  & chr10 & 103479240 & 103479241 & ENSG00000183128.7  & 0 & -\\\\\n",
       "\\end{tabular}\n"
      ],
      "text/markdown": [
       "\n",
       "A data.frame: 6 × 16\n",
       "\n",
       "| <!--/--> | seqnames &lt;fct&gt; | start &lt;int&gt; | end &lt;int&gt; | fold_change_stat_bmp9_VS_stat_cont &lt;dbl&gt; | pvalue_stat_bmp9_VS_stat_cont &lt;dbl&gt; | FDR_stat_bmp9_VS_stat_cont &lt;dbl&gt; | fold_change_flow_cont_VS_stat_cont &lt;dbl&gt; | pvalue_flow_cont_VS_stat_cont &lt;dbl&gt; | FDR_flow_cont_VS_stat_cont &lt;dbl&gt; | gene_symbol &lt;chr&gt; | TSS_seq &lt;chr&gt; | TSS_start &lt;int&gt; | TSS_end &lt;int&gt; | TSS_ENSEMBL &lt;chr&gt; | TSS_interval &lt;int&gt; | TSS_strand &lt;chr&gt; |\n",
       "|---|---|---|---|---|---|---|---|---|---|---|---|---|---|---|---|---|\n",
       "| 1 | chr10 | 101165700 | 101166101 |  0.7180449 | 2.417245e-04 | 6.157302e-03 |  0.6015538 | 0.0044890293 | 0.030111742 | TLX1    | chr10 | 101130503 | 101130504 | ENSG00000107807.12 | 0 | + |\n",
       "| 2 | chr10 | 101489391 | 101489792 |  0.6568429 | 3.768591e-03 | 4.010159e-02 | -0.9283922 | 0.0010074046 | 0.010154740 | DPCD    | chr10 | 101570558 | 101570559 | ENSG00000166171.12 | 0 | + |\n",
       "| 3 | chr10 | 102661063 | 102661464 | -0.5197182 | 3.922810e-03 | 4.115763e-02 | -0.6978627 | 0.0008208342 | 0.008684364 | TRIM8   | chr10 | 102642308 | 102642309 | ENSG00000171206.14 | 0 | + |\n",
       "| 4 | chr10 | 102800623 | 102801024 | -0.4952015 | 4.992009e-03 | 4.809005e-02 | -0.5355253 | 0.0093651393 | 0.049766405 | CYP17A1 | chr10 | 102837533 | 102837534 | ENSG00000148795.6  | 0 | - |\n",
       "| 5 | chr10 | 103104618 | 103105019 |  1.3187677 | 1.011527e-07 | 1.412294e-05 |  0.7370003 | 0.0044938891 | 0.030132768 | NT5C2   | chr10 | 103193306 | 103193307 | ENSG00000076685.18 | 0 | - |\n",
       "| 6 | chr10 | 103479084 | 103479485 | -0.8311945 | 1.293910e-03 | 1.983716e-02 |  1.0415286 | 0.0001907928 | 0.002788450 | CALHM3  | chr10 | 103479240 | 103479241 | ENSG00000183128.7  | 0 | - |\n",
       "\n"
      ],
      "text/plain": [
       "  seqnames start     end       fold_change_stat_bmp9_VS_stat_cont\n",
       "1 chr10    101165700 101166101  0.7180449                        \n",
       "2 chr10    101489391 101489792  0.6568429                        \n",
       "3 chr10    102661063 102661464 -0.5197182                        \n",
       "4 chr10    102800623 102801024 -0.4952015                        \n",
       "5 chr10    103104618 103105019  1.3187677                        \n",
       "6 chr10    103479084 103479485 -0.8311945                        \n",
       "  pvalue_stat_bmp9_VS_stat_cont FDR_stat_bmp9_VS_stat_cont\n",
       "1 2.417245e-04                  6.157302e-03              \n",
       "2 3.768591e-03                  4.010159e-02              \n",
       "3 3.922810e-03                  4.115763e-02              \n",
       "4 4.992009e-03                  4.809005e-02              \n",
       "5 1.011527e-07                  1.412294e-05              \n",
       "6 1.293910e-03                  1.983716e-02              \n",
       "  fold_change_flow_cont_VS_stat_cont pvalue_flow_cont_VS_stat_cont\n",
       "1  0.6015538                         0.0044890293                 \n",
       "2 -0.9283922                         0.0010074046                 \n",
       "3 -0.6978627                         0.0008208342                 \n",
       "4 -0.5355253                         0.0093651393                 \n",
       "5  0.7370003                         0.0044938891                 \n",
       "6  1.0415286                         0.0001907928                 \n",
       "  FDR_flow_cont_VS_stat_cont gene_symbol TSS_seq TSS_start TSS_end  \n",
       "1 0.030111742                TLX1        chr10   101130503 101130504\n",
       "2 0.010154740                DPCD        chr10   101570558 101570559\n",
       "3 0.008684364                TRIM8       chr10   102642308 102642309\n",
       "4 0.049766405                CYP17A1     chr10   102837533 102837534\n",
       "5 0.030132768                NT5C2       chr10   103193306 103193307\n",
       "6 0.002788450                CALHM3      chr10   103479240 103479241\n",
       "  TSS_ENSEMBL        TSS_interval TSS_strand\n",
       "1 ENSG00000107807.12 0            +         \n",
       "2 ENSG00000166171.12 0            +         \n",
       "3 ENSG00000171206.14 0            +         \n",
       "4 ENSG00000148795.6  0            -         \n",
       "5 ENSG00000076685.18 0            -         \n",
       "6 ENSG00000183128.7  0            -         "
      ]
     },
     "metadata": {},
     "output_type": "display_data"
    }
   ],
   "source": [
    "colnames(common_regions_df_annotated_out) =c('seqnames','start','end','fold_change_stat_bmp9_VS_stat_cont','pvalue_stat_bmp9_VS_stat_cont','FDR_stat_bmp9_VS_stat_cont','fold_change_flow_cont_VS_stat_cont','pvalue_flow_cont_VS_stat_cont','FDR_flow_cont_VS_stat_cont','gene_symbol','TSS_seq','TSS_start','TSS_end','TSS_ENSEMBL','TSS_interval','TSS_strand')\n",
    "head(common_regions_df_annotated_out)"
   ]
  },
  {
   "cell_type": "code",
   "execution_count": 32,
   "id": "01bf65e1-0a12-417e-91db-887b222b8293",
   "metadata": {},
   "outputs": [
    {
     "data": {
      "text/html": [
       "<style>\n",
       ".list-inline {list-style: none; margin:0; padding: 0}\n",
       ".list-inline>li {display: inline-block}\n",
       ".list-inline>li:not(:last-child)::after {content: \"\\00b7\"; padding: 0 .5ex}\n",
       "</style>\n",
       "<ol class=list-inline><li>6271</li><li>16</li></ol>\n"
      ],
      "text/latex": [
       "\\begin{enumerate*}\n",
       "\\item 6271\n",
       "\\item 16\n",
       "\\end{enumerate*}\n"
      ],
      "text/markdown": [
       "1. 6271\n",
       "2. 16\n",
       "\n",
       "\n"
      ],
      "text/plain": [
       "[1] 6271   16"
      ]
     },
     "metadata": {},
     "output_type": "display_data"
    }
   ],
   "source": [
    "dim(common_regions_df_annotated_out)"
   ]
  },
  {
   "cell_type": "code",
   "execution_count": 27,
   "id": "e7bb6fb4-10f6-4ae3-851f-c55e2ca9bc10",
   "metadata": {},
   "outputs": [],
   "source": [
    "write.table( x = common_regions_df_annotated_out,file = \"/project/Mechanogenomics_data/ATACseq_analysis/DiffAcc/results/Q1/corrected/BMP9_FSS_exact_matching_regions_annotated.csv\", sep=\",\", col.names=TRUE, row.names=FALSE, quote=FALSE )\n"
   ]
  },
  {
   "cell_type": "code",
   "execution_count": 28,
   "id": "e4ead783-b7bb-43f7-ba9c-c7f0249b1ee8",
   "metadata": {},
   "outputs": [],
   "source": [
    "write.table(common_regions_df_annotated_out, file=\"/project/Mechanogenomics_data/ATACseq_analysis/DiffAcc/results/Q1/corrected/bed/BMP9_FSS_exact_matching_regions_annotated.bed\", quote=F, sep=\"\\t\", row.names=F, col.names=F)\n",
    "\n",
    "## Which of the differential regions are annotated with the same gene BUT not exactly the same regions? : B\n"
   ]
  },
  {
   "cell_type": "markdown",
   "id": "09e2ad40-7827-4a82-aa75-1d4b5dd9a607",
   "metadata": {},
   "source": [
    "#### Flow only"
   ]
  },
  {
   "cell_type": "code",
   "execution_count": 33,
   "id": "e6826f27-09a6-4deb-bc46-5ae0a6ce77ab",
   "metadata": {},
   "outputs": [],
   "source": [
    "only_stat_bmp9_VS_stat_cont_gr = subsetByOverlaps(stat_bmp9_VS_stat_cont_gr, flow_cont_VS_stat_cont_gr,invert=T)\n",
    "only_flow_cont_VS_stat_cont_gr = subsetByOverlaps(flow_cont_VS_stat_cont_gr,stat_bmp9_VS_stat_cont_gr,invert=T)"
   ]
  },
  {
   "cell_type": "code",
   "execution_count": 34,
   "id": "3f5a7136-1dd5-4ee0-b5b7-a0b9acc64074",
   "metadata": {},
   "outputs": [],
   "source": [
    "flow_only_genes = unique(elementMetadata(only_flow_cont_VS_stat_cont_gr)$V4)"
   ]
  },
  {
   "cell_type": "code",
   "execution_count": 35,
   "id": "c6809436-f33c-4233-9aaa-be189b361408",
   "metadata": {},
   "outputs": [],
   "source": [
    "bmp9_only_genes = unique(elementMetadata(only_stat_bmp9_VS_stat_cont_gr)$V4)\n"
   ]
  },
  {
   "cell_type": "code",
   "execution_count": 36,
   "id": "9746d174-be18-4c8a-a13f-1e1f0d4095d6",
   "metadata": {},
   "outputs": [],
   "source": [
    "common_genes = intersect(flow_only_genes,bmp9_only_genes)"
   ]
  },
  {
   "cell_type": "code",
   "execution_count": 37,
   "id": "807f2df3-8067-4998-b022-267e9928eea7",
   "metadata": {},
   "outputs": [
    {
     "data": {
      "text/html": [
       "<style>\n",
       ".list-inline {list-style: none; margin:0; padding: 0}\n",
       ".list-inline>li {display: inline-block}\n",
       ".list-inline>li:not(:last-child)::after {content: \"\\00b7\"; padding: 0 .5ex}\n",
       "</style>\n",
       "<ol class=list-inline><li>'SAMD11'</li><li>'AGRN'</li><li>'RNF223'</li><li>'TTLL10'</li><li>'TNFRSF18'</li><li>'C1QTNF12'</li></ol>\n"
      ],
      "text/latex": [
       "\\begin{enumerate*}\n",
       "\\item 'SAMD11'\n",
       "\\item 'AGRN'\n",
       "\\item 'RNF223'\n",
       "\\item 'TTLL10'\n",
       "\\item 'TNFRSF18'\n",
       "\\item 'C1QTNF12'\n",
       "\\end{enumerate*}\n"
      ],
      "text/markdown": [
       "1. 'SAMD11'\n",
       "2. 'AGRN'\n",
       "3. 'RNF223'\n",
       "4. 'TTLL10'\n",
       "5. 'TNFRSF18'\n",
       "6. 'C1QTNF12'\n",
       "\n",
       "\n"
      ],
      "text/plain": [
       "[1] \"SAMD11\"   \"AGRN\"     \"RNF223\"   \"TTLL10\"   \"TNFRSF18\" \"C1QTNF12\""
      ]
     },
     "metadata": {},
     "output_type": "display_data"
    }
   ],
   "source": [
    "head(common_genes)"
   ]
  },
  {
   "cell_type": "code",
   "execution_count": 38,
   "id": "96e03a3f-c802-402a-bccb-15c1f47bd057",
   "metadata": {},
   "outputs": [],
   "source": [
    "flow_only_common_gene_annotated_regions = only_flow_cont_VS_stat_cont_gr[elementMetadata(only_flow_cont_VS_stat_cont_gr)$V4 %in% common_genes]"
   ]
  },
  {
   "cell_type": "code",
   "execution_count": 39,
   "id": "df20238b-663e-4924-a1c0-6f9f5462ebbb",
   "metadata": {},
   "outputs": [],
   "source": [
    "bmp9_only_common_gene_annotated_regions = only_stat_bmp9_VS_stat_cont_gr[elementMetadata(only_stat_bmp9_VS_stat_cont_gr)$V4 %in% common_genes]\n"
   ]
  },
  {
   "cell_type": "code",
   "execution_count": 40,
   "id": "1f409225-cc77-489c-8166-130d780cfe0e",
   "metadata": {},
   "outputs": [
    {
     "data": {
      "text/plain": [
       "GRanges object with 14698 ranges and 14 metadata columns:\n",
       "          seqnames              ranges strand |          V4        V5\n",
       "             <Rle>           <IRanges>  <Rle> | <character> <numeric>\n",
       "      [1]     chr1       910190-910591      * |      SAMD11 -0.881419\n",
       "      [2]     chr1       921022-921423      * |      SAMD11 -1.208391\n",
       "      [3]     chr1       925466-925867      * |      SAMD11 -0.920878\n",
       "      [4]     chr1     1021041-1021442      * |        AGRN -0.841736\n",
       "      [5]     chr1     1024633-1025034      * |        AGRN -0.733018\n",
       "      ...      ...                 ...    ... .         ...       ...\n",
       "  [14694]     chrX 153566074-153566475      * |        CCNQ -0.765252\n",
       "  [14695]     chrX 154057099-154057500      * |       IRAK1  0.552220\n",
       "  [14696]     chrX 154063249-154063650      * |       IRAK1  1.014139\n",
       "  [14697]     chrX 154449482-154449883      * |      FAM50A -0.953814\n",
       "  [14698]     chrX 154486448-154486849      * |       UBL4A -1.151431\n",
       "                   V6          V7        V8        V9       V10         V11\n",
       "            <numeric>   <numeric> <numeric> <numeric> <numeric> <character>\n",
       "      [1] 6.86136e-04 1.27823e-02   5.32775   4.57407   5.82029        chr1\n",
       "      [2] 1.88144e-08 3.69454e-06   6.95248   6.06909   7.49638        chr1\n",
       "      [3] 4.59463e-05 1.82176e-03   6.20330   5.52183   6.66428        chr1\n",
       "      [4] 2.28145e-05 1.05773e-03   7.38212   6.80177   7.79484        chr1\n",
       "      [5] 1.31016e-03 2.00087e-02   6.28238   5.73539   6.67806        chr1\n",
       "      ...         ...         ...       ...       ...       ...         ...\n",
       "  [14694] 2.45328e-03 3.03485e-02   4.87209   4.19092   5.33293        chrX\n",
       "  [14695] 2.07147e-03 2.70655e-02   7.61558   7.91338   7.23987        chrX\n",
       "  [14696] 6.17860e-05 2.25421e-03   5.83772   6.36781   4.99082        chrX\n",
       "  [14697] 6.63156e-04 1.25040e-02   3.80294   2.07599   4.56669        chrX\n",
       "  [14698] 5.60496e-08 8.83196e-06   7.34850   6.50825   7.87602        chrX\n",
       "                V12       V13                V14       V15         V16\n",
       "          <integer> <integer>        <character> <integer> <character>\n",
       "      [1]    923926    923927 ENSG00000187634.11         0           +\n",
       "      [2]    923926    923927 ENSG00000187634.11         0           +\n",
       "      [3]    923926    923927 ENSG00000187634.11         0           +\n",
       "      [4]   1020121   1020122 ENSG00000188157.14         0           +\n",
       "      [5]   1020121   1020122 ENSG00000188157.14         0           +\n",
       "      ...       ...       ...                ...       ...         ...\n",
       "  [14694] 153600045 153600046  ENSG00000262919.7         0           -\n",
       "  [14695] 154019980 154019981 ENSG00000184216.13         0           -\n",
       "  [14696] 154019980 154019981 ENSG00000184216.13         0           -\n",
       "  [14697] 154444124 154444125 ENSG00000071859.14         0           +\n",
       "  [14698] 154486670 154486671 ENSG00000102178.12         0           -\n",
       "                V17\n",
       "          <integer>\n",
       "      [1]     13336\n",
       "      [2]      2504\n",
       "      [3]      1540\n",
       "      [4]       920\n",
       "      [5]      4512\n",
       "      ...       ...\n",
       "  [14694]     33571\n",
       "  [14695]     37119\n",
       "  [14696]     43269\n",
       "  [14697]      5358\n",
       "  [14698]         0\n",
       "  -------\n",
       "  seqinfo: 23 sequences from an unspecified genome; no seqlengths"
      ]
     },
     "metadata": {},
     "output_type": "display_data"
    }
   ],
   "source": [
    "bmp9_only_common_gene_annotated_regions"
   ]
  },
  {
   "cell_type": "code",
   "execution_count": 41,
   "id": "b1fd6d56-81c6-4e28-9348-5d1ddd43d38a",
   "metadata": {},
   "outputs": [],
   "source": [
    "flow_only_common_gene_annotated_regions_df = data.frame(flow_only_common_gene_annotated_regions)\n",
    "colnames(flow_only_common_gene_annotated_regions_df)= c(\"seqnames\",\"start\",\"end\",\"width\",\"strand\", \"gene_symbol\",\"fold_change_flow_cont_VS_stat_cont\",\"pvalue_flow_cont_VS_stat_cont\",\"FDR_flow_cont_VS_stat_cont\",\"Conc\",\"Conc_stat_flow\",\"Conc_stat_cont\", \"TSS_seq\", \"TSS_start\", \"TSS_end\", \"TSS_ENSEMBL\",\"TSS_interval\", \"TSS_strand\", \"TSS_sth\")"
   ]
  },
  {
   "cell_type": "code",
   "execution_count": 42,
   "id": "905a7d31-db71-480b-93c0-560a9bb1db48",
   "metadata": {},
   "outputs": [
    {
     "data": {
      "text/html": [
       "<table class=\"dataframe\">\n",
       "<caption>A data.frame: 6 × 19</caption>\n",
       "<thead>\n",
       "\t<tr><th></th><th scope=col>seqnames</th><th scope=col>start</th><th scope=col>end</th><th scope=col>width</th><th scope=col>strand</th><th scope=col>gene_symbol</th><th scope=col>fold_change_flow_cont_VS_stat_cont</th><th scope=col>pvalue_flow_cont_VS_stat_cont</th><th scope=col>FDR_flow_cont_VS_stat_cont</th><th scope=col>Conc</th><th scope=col>Conc_stat_flow</th><th scope=col>Conc_stat_cont</th><th scope=col>TSS_seq</th><th scope=col>TSS_start</th><th scope=col>TSS_end</th><th scope=col>TSS_ENSEMBL</th><th scope=col>TSS_interval</th><th scope=col>TSS_strand</th><th scope=col>TSS_sth</th></tr>\n",
       "\t<tr><th></th><th scope=col>&lt;fct&gt;</th><th scope=col>&lt;int&gt;</th><th scope=col>&lt;int&gt;</th><th scope=col>&lt;int&gt;</th><th scope=col>&lt;fct&gt;</th><th scope=col>&lt;chr&gt;</th><th scope=col>&lt;dbl&gt;</th><th scope=col>&lt;dbl&gt;</th><th scope=col>&lt;dbl&gt;</th><th scope=col>&lt;dbl&gt;</th><th scope=col>&lt;dbl&gt;</th><th scope=col>&lt;dbl&gt;</th><th scope=col>&lt;chr&gt;</th><th scope=col>&lt;int&gt;</th><th scope=col>&lt;int&gt;</th><th scope=col>&lt;chr&gt;</th><th scope=col>&lt;int&gt;</th><th scope=col>&lt;chr&gt;</th><th scope=col>&lt;int&gt;</th></tr>\n",
       "</thead>\n",
       "<tbody>\n",
       "\t<tr><th scope=row>1</th><td>chr1</td><td> 930611</td><td> 931012</td><td>402</td><td>*</td><td>SAMD11</td><td> 0.8497081</td><td>0.0025110344</td><td>0.019965822</td><td>5.786526</td><td>6.259011</td><td>5.079313</td><td>chr1</td><td> 923926</td><td> 923927</td><td>ENSG00000187634.11</td><td>0</td><td>+</td><td> 6685</td></tr>\n",
       "\t<tr><th scope=row>2</th><td>chr1</td><td> 938076</td><td> 938477</td><td>402</td><td>*</td><td>SAMD11</td><td>-0.6237558</td><td>0.0019482280</td><td>0.016588904</td><td>7.528921</td><td>7.096159</td><td>7.861380</td><td>chr1</td><td> 923926</td><td> 923927</td><td>ENSG00000187634.11</td><td>0</td><td>+</td><td>14150</td></tr>\n",
       "\t<tr><th scope=row>3</th><td>chr1</td><td>1032933</td><td>1033334</td><td>402</td><td>*</td><td>AGRN  </td><td>-0.7445450</td><td>0.0003155041</td><td>0.004143038</td><td>8.212570</td><td>7.683965</td><td>8.598580</td><td>chr1</td><td>1020121</td><td>1020122</td><td>ENSG00000188157.14</td><td>0</td><td>+</td><td>12812</td></tr>\n",
       "\t<tr><th scope=row>4</th><td>chr1</td><td>1040639</td><td>1041040</td><td>402</td><td>*</td><td>AGRN  </td><td>-0.6362453</td><td>0.0046353932</td><td>0.030801001</td><td>8.702365</td><td>8.253828</td><td>9.044025</td><td>chr1</td><td>1020121</td><td>1020122</td><td>ENSG00000188157.14</td><td>0</td><td>+</td><td>20518</td></tr>\n",
       "\t<tr><th scope=row>5</th><td>chr1</td><td>1072137</td><td>1072538</td><td>402</td><td>*</td><td>RNF223</td><td> 1.0103270</td><td>0.0002987183</td><td>0.003973665</td><td>6.403444</td><td>6.962202</td><td>5.479318</td><td>chr1</td><td>1074307</td><td>1074308</td><td>ENSG00000237330.2 </td><td>0</td><td>-</td><td> 1770</td></tr>\n",
       "\t<tr><th scope=row>6</th><td>chr1</td><td>1149971</td><td>1150372</td><td>402</td><td>*</td><td>TTLL10</td><td> 0.9560005</td><td>0.0015449578</td><td>0.013989254</td><td>5.700280</td><td>6.285354</td><td>4.699944</td><td>chr1</td><td>1173882</td><td>1173883</td><td>ENSG00000162571.13</td><td>0</td><td>+</td><td>23511</td></tr>\n",
       "</tbody>\n",
       "</table>\n"
      ],
      "text/latex": [
       "A data.frame: 6 × 19\n",
       "\\begin{tabular}{r|lllllllllllllllllll}\n",
       "  & seqnames & start & end & width & strand & gene\\_symbol & fold\\_change\\_flow\\_cont\\_VS\\_stat\\_cont & pvalue\\_flow\\_cont\\_VS\\_stat\\_cont & FDR\\_flow\\_cont\\_VS\\_stat\\_cont & Conc & Conc\\_stat\\_flow & Conc\\_stat\\_cont & TSS\\_seq & TSS\\_start & TSS\\_end & TSS\\_ENSEMBL & TSS\\_interval & TSS\\_strand & TSS\\_sth\\\\\n",
       "  & <fct> & <int> & <int> & <int> & <fct> & <chr> & <dbl> & <dbl> & <dbl> & <dbl> & <dbl> & <dbl> & <chr> & <int> & <int> & <chr> & <int> & <chr> & <int>\\\\\n",
       "\\hline\n",
       "\t1 & chr1 &  930611 &  931012 & 402 & * & SAMD11 &  0.8497081 & 0.0025110344 & 0.019965822 & 5.786526 & 6.259011 & 5.079313 & chr1 &  923926 &  923927 & ENSG00000187634.11 & 0 & + &  6685\\\\\n",
       "\t2 & chr1 &  938076 &  938477 & 402 & * & SAMD11 & -0.6237558 & 0.0019482280 & 0.016588904 & 7.528921 & 7.096159 & 7.861380 & chr1 &  923926 &  923927 & ENSG00000187634.11 & 0 & + & 14150\\\\\n",
       "\t3 & chr1 & 1032933 & 1033334 & 402 & * & AGRN   & -0.7445450 & 0.0003155041 & 0.004143038 & 8.212570 & 7.683965 & 8.598580 & chr1 & 1020121 & 1020122 & ENSG00000188157.14 & 0 & + & 12812\\\\\n",
       "\t4 & chr1 & 1040639 & 1041040 & 402 & * & AGRN   & -0.6362453 & 0.0046353932 & 0.030801001 & 8.702365 & 8.253828 & 9.044025 & chr1 & 1020121 & 1020122 & ENSG00000188157.14 & 0 & + & 20518\\\\\n",
       "\t5 & chr1 & 1072137 & 1072538 & 402 & * & RNF223 &  1.0103270 & 0.0002987183 & 0.003973665 & 6.403444 & 6.962202 & 5.479318 & chr1 & 1074307 & 1074308 & ENSG00000237330.2  & 0 & - &  1770\\\\\n",
       "\t6 & chr1 & 1149971 & 1150372 & 402 & * & TTLL10 &  0.9560005 & 0.0015449578 & 0.013989254 & 5.700280 & 6.285354 & 4.699944 & chr1 & 1173882 & 1173883 & ENSG00000162571.13 & 0 & + & 23511\\\\\n",
       "\\end{tabular}\n"
      ],
      "text/markdown": [
       "\n",
       "A data.frame: 6 × 19\n",
       "\n",
       "| <!--/--> | seqnames &lt;fct&gt; | start &lt;int&gt; | end &lt;int&gt; | width &lt;int&gt; | strand &lt;fct&gt; | gene_symbol &lt;chr&gt; | fold_change_flow_cont_VS_stat_cont &lt;dbl&gt; | pvalue_flow_cont_VS_stat_cont &lt;dbl&gt; | FDR_flow_cont_VS_stat_cont &lt;dbl&gt; | Conc &lt;dbl&gt; | Conc_stat_flow &lt;dbl&gt; | Conc_stat_cont &lt;dbl&gt; | TSS_seq &lt;chr&gt; | TSS_start &lt;int&gt; | TSS_end &lt;int&gt; | TSS_ENSEMBL &lt;chr&gt; | TSS_interval &lt;int&gt; | TSS_strand &lt;chr&gt; | TSS_sth &lt;int&gt; |\n",
       "|---|---|---|---|---|---|---|---|---|---|---|---|---|---|---|---|---|---|---|---|\n",
       "| 1 | chr1 |  930611 |  931012 | 402 | * | SAMD11 |  0.8497081 | 0.0025110344 | 0.019965822 | 5.786526 | 6.259011 | 5.079313 | chr1 |  923926 |  923927 | ENSG00000187634.11 | 0 | + |  6685 |\n",
       "| 2 | chr1 |  938076 |  938477 | 402 | * | SAMD11 | -0.6237558 | 0.0019482280 | 0.016588904 | 7.528921 | 7.096159 | 7.861380 | chr1 |  923926 |  923927 | ENSG00000187634.11 | 0 | + | 14150 |\n",
       "| 3 | chr1 | 1032933 | 1033334 | 402 | * | AGRN   | -0.7445450 | 0.0003155041 | 0.004143038 | 8.212570 | 7.683965 | 8.598580 | chr1 | 1020121 | 1020122 | ENSG00000188157.14 | 0 | + | 12812 |\n",
       "| 4 | chr1 | 1040639 | 1041040 | 402 | * | AGRN   | -0.6362453 | 0.0046353932 | 0.030801001 | 8.702365 | 8.253828 | 9.044025 | chr1 | 1020121 | 1020122 | ENSG00000188157.14 | 0 | + | 20518 |\n",
       "| 5 | chr1 | 1072137 | 1072538 | 402 | * | RNF223 |  1.0103270 | 0.0002987183 | 0.003973665 | 6.403444 | 6.962202 | 5.479318 | chr1 | 1074307 | 1074308 | ENSG00000237330.2  | 0 | - |  1770 |\n",
       "| 6 | chr1 | 1149971 | 1150372 | 402 | * | TTLL10 |  0.9560005 | 0.0015449578 | 0.013989254 | 5.700280 | 6.285354 | 4.699944 | chr1 | 1173882 | 1173883 | ENSG00000162571.13 | 0 | + | 23511 |\n",
       "\n"
      ],
      "text/plain": [
       "  seqnames start   end     width strand gene_symbol\n",
       "1 chr1      930611  931012 402   *      SAMD11     \n",
       "2 chr1      938076  938477 402   *      SAMD11     \n",
       "3 chr1     1032933 1033334 402   *      AGRN       \n",
       "4 chr1     1040639 1041040 402   *      AGRN       \n",
       "5 chr1     1072137 1072538 402   *      RNF223     \n",
       "6 chr1     1149971 1150372 402   *      TTLL10     \n",
       "  fold_change_flow_cont_VS_stat_cont pvalue_flow_cont_VS_stat_cont\n",
       "1  0.8497081                         0.0025110344                 \n",
       "2 -0.6237558                         0.0019482280                 \n",
       "3 -0.7445450                         0.0003155041                 \n",
       "4 -0.6362453                         0.0046353932                 \n",
       "5  1.0103270                         0.0002987183                 \n",
       "6  0.9560005                         0.0015449578                 \n",
       "  FDR_flow_cont_VS_stat_cont Conc     Conc_stat_flow Conc_stat_cont TSS_seq\n",
       "1 0.019965822                5.786526 6.259011       5.079313       chr1   \n",
       "2 0.016588904                7.528921 7.096159       7.861380       chr1   \n",
       "3 0.004143038                8.212570 7.683965       8.598580       chr1   \n",
       "4 0.030801001                8.702365 8.253828       9.044025       chr1   \n",
       "5 0.003973665                6.403444 6.962202       5.479318       chr1   \n",
       "6 0.013989254                5.700280 6.285354       4.699944       chr1   \n",
       "  TSS_start TSS_end TSS_ENSEMBL        TSS_interval TSS_strand TSS_sth\n",
       "1  923926    923927 ENSG00000187634.11 0            +           6685  \n",
       "2  923926    923927 ENSG00000187634.11 0            +          14150  \n",
       "3 1020121   1020122 ENSG00000188157.14 0            +          12812  \n",
       "4 1020121   1020122 ENSG00000188157.14 0            +          20518  \n",
       "5 1074307   1074308 ENSG00000237330.2  0            -           1770  \n",
       "6 1173882   1173883 ENSG00000162571.13 0            +          23511  "
      ]
     },
     "metadata": {},
     "output_type": "display_data"
    }
   ],
   "source": [
    "head(flow_only_common_gene_annotated_regions_df)"
   ]
  },
  {
   "cell_type": "code",
   "execution_count": 43,
   "id": "3a570fdc-8ce7-4592-9282-b48d20e62235",
   "metadata": {},
   "outputs": [],
   "source": [
    "flow_only_common_gene_annotated_regions_df_out = flow_only_common_gene_annotated_regions_df[c(\"seqnames\",\"start\",\"end\",\"gene_symbol\",\"fold_change_flow_cont_VS_stat_cont\",\"pvalue_flow_cont_VS_stat_cont\",\"FDR_flow_cont_VS_stat_cont\",\"TSS_seq\", \"TSS_start\", \"TSS_end\", \"TSS_ENSEMBL\",\"TSS_interval\", \"TSS_strand\")]\n"
   ]
  },
  {
   "cell_type": "code",
   "execution_count": 40,
   "id": "b7913b04-ae0d-4ce9-a51e-2d4a31afc539",
   "metadata": {},
   "outputs": [],
   "source": [
    "write.table( x = flow_only_common_gene_annotated_regions_df_out,file = \"/project/Mechanogenomics_data/ATACseq_analysis/DiffAcc/results/Q1/corrected/fss_only_regions_annated_w_fss_bmp9_common_genes.csv\", sep=\",\", col.names=TRUE, row.names=FALSE, quote=FALSE )\n"
   ]
  },
  {
   "cell_type": "code",
   "execution_count": 41,
   "id": "b81ecaa2-a657-402f-8011-b532add17f6e",
   "metadata": {},
   "outputs": [],
   "source": [
    "write.table(flow_only_common_gene_annotated_regions_df_out, file=\"/project/Mechanogenomics_data/ATACseq_analysis/DiffAcc/results/Q1/corrected/bed/fss_only_regions_annated_w_fss_bmp9_common_genes.bed\", quote=F, sep=\"\\t\", row.names=F, col.names=F)"
   ]
  },
  {
   "cell_type": "markdown",
   "id": "0dd06db2-c15a-411d-a13b-f40ce8ff3019",
   "metadata": {},
   "source": [
    "### BMP9 only"
   ]
  },
  {
   "cell_type": "code",
   "execution_count": 44,
   "id": "60ab2f63-6e1c-4701-913e-3d8db292fded",
   "metadata": {},
   "outputs": [],
   "source": [
    "bmp9_only_common_gene_annotated_regions = only_stat_bmp9_VS_stat_cont_gr[elementMetadata(only_stat_bmp9_VS_stat_cont_gr)$V4 %in% common_genes]\n"
   ]
  },
  {
   "cell_type": "code",
   "execution_count": 45,
   "id": "a949ee45-fefd-4135-8958-755303006215",
   "metadata": {},
   "outputs": [],
   "source": [
    "bmp9_only_common_gene_annotated_regions_df = data.frame(bmp9_only_common_gene_annotated_regions)\n",
    "colnames(bmp9_only_common_gene_annotated_regions_df)= c(\"seqnames\",\"start\",\"end\",\"width\",\"strand\", \"gene_symbol\",\"fold_change_stat_bmp9_VS_stat_cont\",\"pvalue_stat_bmp9_VS_stat_cont\",\"FDR_stat_bmp9_VS_stat_cont\",\"Conc\",\"Conc_stat_bmp9\",\"Conc_stat_cont\", \"TSS_seq\", \"TSS_start\", \"TSS_end\", \"TSS_ENSEMBL\",\"TSS_interval\", \"TSS_strand\", \"TSS_sth\")"
   ]
  },
  {
   "cell_type": "code",
   "execution_count": 46,
   "id": "ae7c12ed-06ff-434b-8ae8-3407155bb8c7",
   "metadata": {},
   "outputs": [
    {
     "data": {
      "text/html": [
       "<table class=\"dataframe\">\n",
       "<caption>A data.frame: 6 × 19</caption>\n",
       "<thead>\n",
       "\t<tr><th></th><th scope=col>seqnames</th><th scope=col>start</th><th scope=col>end</th><th scope=col>width</th><th scope=col>strand</th><th scope=col>gene_symbol</th><th scope=col>fold_change_stat_bmp9_VS_stat_cont</th><th scope=col>pvalue_stat_bmp9_VS_stat_cont</th><th scope=col>FDR_stat_bmp9_VS_stat_cont</th><th scope=col>Conc</th><th scope=col>Conc_stat_bmp9</th><th scope=col>Conc_stat_cont</th><th scope=col>TSS_seq</th><th scope=col>TSS_start</th><th scope=col>TSS_end</th><th scope=col>TSS_ENSEMBL</th><th scope=col>TSS_interval</th><th scope=col>TSS_strand</th><th scope=col>TSS_sth</th></tr>\n",
       "\t<tr><th></th><th scope=col>&lt;fct&gt;</th><th scope=col>&lt;int&gt;</th><th scope=col>&lt;int&gt;</th><th scope=col>&lt;int&gt;</th><th scope=col>&lt;fct&gt;</th><th scope=col>&lt;chr&gt;</th><th scope=col>&lt;dbl&gt;</th><th scope=col>&lt;dbl&gt;</th><th scope=col>&lt;dbl&gt;</th><th scope=col>&lt;dbl&gt;</th><th scope=col>&lt;dbl&gt;</th><th scope=col>&lt;dbl&gt;</th><th scope=col>&lt;chr&gt;</th><th scope=col>&lt;int&gt;</th><th scope=col>&lt;int&gt;</th><th scope=col>&lt;chr&gt;</th><th scope=col>&lt;int&gt;</th><th scope=col>&lt;chr&gt;</th><th scope=col>&lt;int&gt;</th></tr>\n",
       "</thead>\n",
       "<tbody>\n",
       "\t<tr><th scope=row>1</th><td>chr1</td><td> 910190</td><td> 910591</td><td>402</td><td>*</td><td>SAMD11</td><td>-0.8814186</td><td>6.861363e-04</td><td>1.278233e-02</td><td>5.327754</td><td>4.574066</td><td>5.820289</td><td>chr1</td><td> 923926</td><td> 923927</td><td>ENSG00000187634.11</td><td>0</td><td>+</td><td>13336</td></tr>\n",
       "\t<tr><th scope=row>2</th><td>chr1</td><td> 921022</td><td> 921423</td><td>402</td><td>*</td><td>SAMD11</td><td>-1.2083906</td><td>1.881436e-08</td><td>3.694537e-06</td><td>6.952478</td><td>6.069092</td><td>7.496376</td><td>chr1</td><td> 923926</td><td> 923927</td><td>ENSG00000187634.11</td><td>0</td><td>+</td><td> 2504</td></tr>\n",
       "\t<tr><th scope=row>3</th><td>chr1</td><td> 925466</td><td> 925867</td><td>402</td><td>*</td><td>SAMD11</td><td>-0.9208781</td><td>4.594627e-05</td><td>1.821763e-03</td><td>6.203300</td><td>5.521827</td><td>6.664275</td><td>chr1</td><td> 923926</td><td> 923927</td><td>ENSG00000187634.11</td><td>0</td><td>+</td><td> 1540</td></tr>\n",
       "\t<tr><th scope=row>4</th><td>chr1</td><td>1021041</td><td>1021442</td><td>402</td><td>*</td><td>AGRN  </td><td>-0.8417360</td><td>2.281448e-05</td><td>1.057730e-03</td><td>7.382121</td><td>6.801775</td><td>7.794845</td><td>chr1</td><td>1020121</td><td>1020122</td><td>ENSG00000188157.14</td><td>0</td><td>+</td><td>  920</td></tr>\n",
       "\t<tr><th scope=row>5</th><td>chr1</td><td>1024633</td><td>1025034</td><td>402</td><td>*</td><td>AGRN  </td><td>-0.7330179</td><td>1.310156e-03</td><td>2.000868e-02</td><td>6.282382</td><td>5.735386</td><td>6.678055</td><td>chr1</td><td>1020121</td><td>1020122</td><td>ENSG00000188157.14</td><td>0</td><td>+</td><td> 4512</td></tr>\n",
       "\t<tr><th scope=row>6</th><td>chr1</td><td>1064036</td><td>1064437</td><td>402</td><td>*</td><td>RNF223</td><td>-0.7972326</td><td>2.391788e-05</td><td>1.098145e-03</td><td>8.197109</td><td>7.663270</td><td>8.585889</td><td>chr1</td><td>1074307</td><td>1074308</td><td>ENSG00000237330.2 </td><td>0</td><td>-</td><td> 9871</td></tr>\n",
       "</tbody>\n",
       "</table>\n"
      ],
      "text/latex": [
       "A data.frame: 6 × 19\n",
       "\\begin{tabular}{r|lllllllllllllllllll}\n",
       "  & seqnames & start & end & width & strand & gene\\_symbol & fold\\_change\\_stat\\_bmp9\\_VS\\_stat\\_cont & pvalue\\_stat\\_bmp9\\_VS\\_stat\\_cont & FDR\\_stat\\_bmp9\\_VS\\_stat\\_cont & Conc & Conc\\_stat\\_bmp9 & Conc\\_stat\\_cont & TSS\\_seq & TSS\\_start & TSS\\_end & TSS\\_ENSEMBL & TSS\\_interval & TSS\\_strand & TSS\\_sth\\\\\n",
       "  & <fct> & <int> & <int> & <int> & <fct> & <chr> & <dbl> & <dbl> & <dbl> & <dbl> & <dbl> & <dbl> & <chr> & <int> & <int> & <chr> & <int> & <chr> & <int>\\\\\n",
       "\\hline\n",
       "\t1 & chr1 &  910190 &  910591 & 402 & * & SAMD11 & -0.8814186 & 6.861363e-04 & 1.278233e-02 & 5.327754 & 4.574066 & 5.820289 & chr1 &  923926 &  923927 & ENSG00000187634.11 & 0 & + & 13336\\\\\n",
       "\t2 & chr1 &  921022 &  921423 & 402 & * & SAMD11 & -1.2083906 & 1.881436e-08 & 3.694537e-06 & 6.952478 & 6.069092 & 7.496376 & chr1 &  923926 &  923927 & ENSG00000187634.11 & 0 & + &  2504\\\\\n",
       "\t3 & chr1 &  925466 &  925867 & 402 & * & SAMD11 & -0.9208781 & 4.594627e-05 & 1.821763e-03 & 6.203300 & 5.521827 & 6.664275 & chr1 &  923926 &  923927 & ENSG00000187634.11 & 0 & + &  1540\\\\\n",
       "\t4 & chr1 & 1021041 & 1021442 & 402 & * & AGRN   & -0.8417360 & 2.281448e-05 & 1.057730e-03 & 7.382121 & 6.801775 & 7.794845 & chr1 & 1020121 & 1020122 & ENSG00000188157.14 & 0 & + &   920\\\\\n",
       "\t5 & chr1 & 1024633 & 1025034 & 402 & * & AGRN   & -0.7330179 & 1.310156e-03 & 2.000868e-02 & 6.282382 & 5.735386 & 6.678055 & chr1 & 1020121 & 1020122 & ENSG00000188157.14 & 0 & + &  4512\\\\\n",
       "\t6 & chr1 & 1064036 & 1064437 & 402 & * & RNF223 & -0.7972326 & 2.391788e-05 & 1.098145e-03 & 8.197109 & 7.663270 & 8.585889 & chr1 & 1074307 & 1074308 & ENSG00000237330.2  & 0 & - &  9871\\\\\n",
       "\\end{tabular}\n"
      ],
      "text/markdown": [
       "\n",
       "A data.frame: 6 × 19\n",
       "\n",
       "| <!--/--> | seqnames &lt;fct&gt; | start &lt;int&gt; | end &lt;int&gt; | width &lt;int&gt; | strand &lt;fct&gt; | gene_symbol &lt;chr&gt; | fold_change_stat_bmp9_VS_stat_cont &lt;dbl&gt; | pvalue_stat_bmp9_VS_stat_cont &lt;dbl&gt; | FDR_stat_bmp9_VS_stat_cont &lt;dbl&gt; | Conc &lt;dbl&gt; | Conc_stat_bmp9 &lt;dbl&gt; | Conc_stat_cont &lt;dbl&gt; | TSS_seq &lt;chr&gt; | TSS_start &lt;int&gt; | TSS_end &lt;int&gt; | TSS_ENSEMBL &lt;chr&gt; | TSS_interval &lt;int&gt; | TSS_strand &lt;chr&gt; | TSS_sth &lt;int&gt; |\n",
       "|---|---|---|---|---|---|---|---|---|---|---|---|---|---|---|---|---|---|---|---|\n",
       "| 1 | chr1 |  910190 |  910591 | 402 | * | SAMD11 | -0.8814186 | 6.861363e-04 | 1.278233e-02 | 5.327754 | 4.574066 | 5.820289 | chr1 |  923926 |  923927 | ENSG00000187634.11 | 0 | + | 13336 |\n",
       "| 2 | chr1 |  921022 |  921423 | 402 | * | SAMD11 | -1.2083906 | 1.881436e-08 | 3.694537e-06 | 6.952478 | 6.069092 | 7.496376 | chr1 |  923926 |  923927 | ENSG00000187634.11 | 0 | + |  2504 |\n",
       "| 3 | chr1 |  925466 |  925867 | 402 | * | SAMD11 | -0.9208781 | 4.594627e-05 | 1.821763e-03 | 6.203300 | 5.521827 | 6.664275 | chr1 |  923926 |  923927 | ENSG00000187634.11 | 0 | + |  1540 |\n",
       "| 4 | chr1 | 1021041 | 1021442 | 402 | * | AGRN   | -0.8417360 | 2.281448e-05 | 1.057730e-03 | 7.382121 | 6.801775 | 7.794845 | chr1 | 1020121 | 1020122 | ENSG00000188157.14 | 0 | + |   920 |\n",
       "| 5 | chr1 | 1024633 | 1025034 | 402 | * | AGRN   | -0.7330179 | 1.310156e-03 | 2.000868e-02 | 6.282382 | 5.735386 | 6.678055 | chr1 | 1020121 | 1020122 | ENSG00000188157.14 | 0 | + |  4512 |\n",
       "| 6 | chr1 | 1064036 | 1064437 | 402 | * | RNF223 | -0.7972326 | 2.391788e-05 | 1.098145e-03 | 8.197109 | 7.663270 | 8.585889 | chr1 | 1074307 | 1074308 | ENSG00000237330.2  | 0 | - |  9871 |\n",
       "\n"
      ],
      "text/plain": [
       "  seqnames start   end     width strand gene_symbol\n",
       "1 chr1      910190  910591 402   *      SAMD11     \n",
       "2 chr1      921022  921423 402   *      SAMD11     \n",
       "3 chr1      925466  925867 402   *      SAMD11     \n",
       "4 chr1     1021041 1021442 402   *      AGRN       \n",
       "5 chr1     1024633 1025034 402   *      AGRN       \n",
       "6 chr1     1064036 1064437 402   *      RNF223     \n",
       "  fold_change_stat_bmp9_VS_stat_cont pvalue_stat_bmp9_VS_stat_cont\n",
       "1 -0.8814186                         6.861363e-04                 \n",
       "2 -1.2083906                         1.881436e-08                 \n",
       "3 -0.9208781                         4.594627e-05                 \n",
       "4 -0.8417360                         2.281448e-05                 \n",
       "5 -0.7330179                         1.310156e-03                 \n",
       "6 -0.7972326                         2.391788e-05                 \n",
       "  FDR_stat_bmp9_VS_stat_cont Conc     Conc_stat_bmp9 Conc_stat_cont TSS_seq\n",
       "1 1.278233e-02               5.327754 4.574066       5.820289       chr1   \n",
       "2 3.694537e-06               6.952478 6.069092       7.496376       chr1   \n",
       "3 1.821763e-03               6.203300 5.521827       6.664275       chr1   \n",
       "4 1.057730e-03               7.382121 6.801775       7.794845       chr1   \n",
       "5 2.000868e-02               6.282382 5.735386       6.678055       chr1   \n",
       "6 1.098145e-03               8.197109 7.663270       8.585889       chr1   \n",
       "  TSS_start TSS_end TSS_ENSEMBL        TSS_interval TSS_strand TSS_sth\n",
       "1  923926    923927 ENSG00000187634.11 0            +          13336  \n",
       "2  923926    923927 ENSG00000187634.11 0            +           2504  \n",
       "3  923926    923927 ENSG00000187634.11 0            +           1540  \n",
       "4 1020121   1020122 ENSG00000188157.14 0            +            920  \n",
       "5 1020121   1020122 ENSG00000188157.14 0            +           4512  \n",
       "6 1074307   1074308 ENSG00000237330.2  0            -           9871  "
      ]
     },
     "metadata": {},
     "output_type": "display_data"
    }
   ],
   "source": [
    "head(bmp9_only_common_gene_annotated_regions_df)"
   ]
  },
  {
   "cell_type": "code",
   "execution_count": 47,
   "id": "589ac44d-ed2b-46ca-9c69-03e8f638aa41",
   "metadata": {},
   "outputs": [],
   "source": [
    "bmp9_only_common_gene_annotated_regions_df_out = bmp9_only_common_gene_annotated_regions_df[c(\"seqnames\",\"start\",\"end\",\"gene_symbol\",\"fold_change_stat_bmp9_VS_stat_cont\",\"pvalue_stat_bmp9_VS_stat_cont\",\"FDR_stat_bmp9_VS_stat_cont\",\"TSS_seq\", \"TSS_start\", \"TSS_end\", \"TSS_ENSEMBL\",\"TSS_interval\", \"TSS_strand\")]\n"
   ]
  },
  {
   "cell_type": "code",
   "execution_count": 47,
   "id": "709a9c4d-e8df-4fa7-bf4e-4e19048c349b",
   "metadata": {},
   "outputs": [],
   "source": [
    "write.table( x = bmp9_only_common_gene_annotated_regions_df_out,file = \"/project/Mechanogenomics_data/ATACseq_analysis/DiffAcc/results/Q1/corrected/bmp9_only_regions_annated_w_fss_bmp9_common_genes.csv\", sep=\",\", col.names=TRUE, row.names=FALSE, quote=FALSE )\n"
   ]
  },
  {
   "cell_type": "code",
   "execution_count": 48,
   "id": "5ddabcb2-328f-4847-9003-cf82ce3589c2",
   "metadata": {},
   "outputs": [],
   "source": [
    "write.table(bmp9_only_common_gene_annotated_regions_df_out, file=\"/project/Mechanogenomics_data/ATACseq_analysis/DiffAcc/results/Q1/corrected/bed/bmp9_only_regions_annated_w_fss_bmp9_common_genes.bed\", quote=F, sep=\"\\t\", row.names=F, col.names=F)"
   ]
  },
  {
   "cell_type": "markdown",
   "id": "3fd76e68-4ff3-42fe-aea2-ec4c2c371a5e",
   "metadata": {},
   "source": [
    "# Q2"
   ]
  },
  {
   "cell_type": "markdown",
   "id": "9e2d0bbd-e9cc-4bad-971a-7f6fe5d20e86",
   "metadata": {},
   "source": [
    "Look at only at A above - meaning that only at the regions where see the common differential regions between 1vs2 VS 1vs3 (common_regions) and compare those regions to 1vs4. Are there overlapping regions? Export with the fold cahnge information"
   ]
  },
  {
   "cell_type": "code",
   "execution_count": 48,
   "id": "a9f852d4-87ce-4ff2-8002-e5c8011d1beb",
   "metadata": {},
   "outputs": [
    {
     "data": {
      "text/html": [
       "<table class=\"dataframe\">\n",
       "<caption>A data.frame: 6 × 17</caption>\n",
       "<thead>\n",
       "\t<tr><th></th><th scope=col>V1</th><th scope=col>V2</th><th scope=col>V3</th><th scope=col>V4</th><th scope=col>V5</th><th scope=col>V6</th><th scope=col>V7</th><th scope=col>V8</th><th scope=col>V9</th><th scope=col>V10</th><th scope=col>V11</th><th scope=col>V12</th><th scope=col>V13</th><th scope=col>V14</th><th scope=col>V15</th><th scope=col>V16</th><th scope=col>V17</th></tr>\n",
       "\t<tr><th></th><th scope=col>&lt;chr&gt;</th><th scope=col>&lt;int&gt;</th><th scope=col>&lt;int&gt;</th><th scope=col>&lt;chr&gt;</th><th scope=col>&lt;dbl&gt;</th><th scope=col>&lt;dbl&gt;</th><th scope=col>&lt;dbl&gt;</th><th scope=col>&lt;dbl&gt;</th><th scope=col>&lt;dbl&gt;</th><th scope=col>&lt;dbl&gt;</th><th scope=col>&lt;chr&gt;</th><th scope=col>&lt;int&gt;</th><th scope=col>&lt;int&gt;</th><th scope=col>&lt;chr&gt;</th><th scope=col>&lt;int&gt;</th><th scope=col>&lt;chr&gt;</th><th scope=col>&lt;int&gt;</th></tr>\n",
       "</thead>\n",
       "<tbody>\n",
       "\t<tr><th scope=row>1</th><td>chr1</td><td> 932837</td><td> 933238</td><td>SAMD11</td><td> 0.8475958</td><td>0.0031288310</td><td>0.023063050</td><td>5.772332</td><td>6.286556</td><td>4.965847</td><td>chr1</td><td> 923926</td><td> 923927</td><td>ENSG00000187634.11</td><td>0</td><td>+</td><td> 8911</td></tr>\n",
       "\t<tr><th scope=row>2</th><td>chr1</td><td> 938076</td><td> 938477</td><td>SAMD11</td><td>-0.5586823</td><td>0.0032798886</td><td>0.023923271</td><td>7.557516</td><td>7.172091</td><td>7.861380</td><td>chr1</td><td> 923926</td><td> 923927</td><td>ENSG00000187634.11</td><td>0</td><td>+</td><td>14150</td></tr>\n",
       "\t<tr><th scope=row>3</th><td>chr1</td><td>1005209</td><td>1005610</td><td>ISG15 </td><td>-0.5403652</td><td>0.0068509922</td><td>0.041843265</td><td>7.760584</td><td>7.367286</td><td>8.069310</td><td>chr1</td><td>1001136</td><td>1001137</td><td>ENSG00000187608.9 </td><td>0</td><td>+</td><td> 4073</td></tr>\n",
       "\t<tr><th scope=row>4</th><td>chr1</td><td>1040639</td><td>1041040</td><td>AGRN  </td><td>-0.7960359</td><td>0.0003339975</td><td>0.003938498</td><td>8.627618</td><td>8.039911</td><td>9.044025</td><td>chr1</td><td>1020121</td><td>1020122</td><td>ENSG00000188157.14</td><td>0</td><td>+</td><td>20518</td></tr>\n",
       "\t<tr><th scope=row>5</th><td>chr1</td><td>1059451</td><td>1059852</td><td>RNF223</td><td>-0.7505437</td><td>0.0002121204</td><td>0.002716595</td><td>8.495040</td><td>7.960277</td><td>8.884307</td><td>chr1</td><td>1074307</td><td>1074308</td><td>ENSG00000237330.2 </td><td>0</td><td>-</td><td>14456</td></tr>\n",
       "\t<tr><th scope=row>6</th><td>chr1</td><td>1072137</td><td>1072538</td><td>RNF223</td><td> 0.7389463</td><td>0.0049684433</td><td>0.032877171</td><td>6.131999</td><td>6.579740</td><td>5.479318</td><td>chr1</td><td>1074307</td><td>1074308</td><td>ENSG00000237330.2 </td><td>0</td><td>-</td><td> 1770</td></tr>\n",
       "</tbody>\n",
       "</table>\n"
      ],
      "text/latex": [
       "A data.frame: 6 × 17\n",
       "\\begin{tabular}{r|lllllllllllllllll}\n",
       "  & V1 & V2 & V3 & V4 & V5 & V6 & V7 & V8 & V9 & V10 & V11 & V12 & V13 & V14 & V15 & V16 & V17\\\\\n",
       "  & <chr> & <int> & <int> & <chr> & <dbl> & <dbl> & <dbl> & <dbl> & <dbl> & <dbl> & <chr> & <int> & <int> & <chr> & <int> & <chr> & <int>\\\\\n",
       "\\hline\n",
       "\t1 & chr1 &  932837 &  933238 & SAMD11 &  0.8475958 & 0.0031288310 & 0.023063050 & 5.772332 & 6.286556 & 4.965847 & chr1 &  923926 &  923927 & ENSG00000187634.11 & 0 & + &  8911\\\\\n",
       "\t2 & chr1 &  938076 &  938477 & SAMD11 & -0.5586823 & 0.0032798886 & 0.023923271 & 7.557516 & 7.172091 & 7.861380 & chr1 &  923926 &  923927 & ENSG00000187634.11 & 0 & + & 14150\\\\\n",
       "\t3 & chr1 & 1005209 & 1005610 & ISG15  & -0.5403652 & 0.0068509922 & 0.041843265 & 7.760584 & 7.367286 & 8.069310 & chr1 & 1001136 & 1001137 & ENSG00000187608.9  & 0 & + &  4073\\\\\n",
       "\t4 & chr1 & 1040639 & 1041040 & AGRN   & -0.7960359 & 0.0003339975 & 0.003938498 & 8.627618 & 8.039911 & 9.044025 & chr1 & 1020121 & 1020122 & ENSG00000188157.14 & 0 & + & 20518\\\\\n",
       "\t5 & chr1 & 1059451 & 1059852 & RNF223 & -0.7505437 & 0.0002121204 & 0.002716595 & 8.495040 & 7.960277 & 8.884307 & chr1 & 1074307 & 1074308 & ENSG00000237330.2  & 0 & - & 14456\\\\\n",
       "\t6 & chr1 & 1072137 & 1072538 & RNF223 &  0.7389463 & 0.0049684433 & 0.032877171 & 6.131999 & 6.579740 & 5.479318 & chr1 & 1074307 & 1074308 & ENSG00000237330.2  & 0 & - &  1770\\\\\n",
       "\\end{tabular}\n"
      ],
      "text/markdown": [
       "\n",
       "A data.frame: 6 × 17\n",
       "\n",
       "| <!--/--> | V1 &lt;chr&gt; | V2 &lt;int&gt; | V3 &lt;int&gt; | V4 &lt;chr&gt; | V5 &lt;dbl&gt; | V6 &lt;dbl&gt; | V7 &lt;dbl&gt; | V8 &lt;dbl&gt; | V9 &lt;dbl&gt; | V10 &lt;dbl&gt; | V11 &lt;chr&gt; | V12 &lt;int&gt; | V13 &lt;int&gt; | V14 &lt;chr&gt; | V15 &lt;int&gt; | V16 &lt;chr&gt; | V17 &lt;int&gt; |\n",
       "|---|---|---|---|---|---|---|---|---|---|---|---|---|---|---|---|---|---|\n",
       "| 1 | chr1 |  932837 |  933238 | SAMD11 |  0.8475958 | 0.0031288310 | 0.023063050 | 5.772332 | 6.286556 | 4.965847 | chr1 |  923926 |  923927 | ENSG00000187634.11 | 0 | + |  8911 |\n",
       "| 2 | chr1 |  938076 |  938477 | SAMD11 | -0.5586823 | 0.0032798886 | 0.023923271 | 7.557516 | 7.172091 | 7.861380 | chr1 |  923926 |  923927 | ENSG00000187634.11 | 0 | + | 14150 |\n",
       "| 3 | chr1 | 1005209 | 1005610 | ISG15  | -0.5403652 | 0.0068509922 | 0.041843265 | 7.760584 | 7.367286 | 8.069310 | chr1 | 1001136 | 1001137 | ENSG00000187608.9  | 0 | + |  4073 |\n",
       "| 4 | chr1 | 1040639 | 1041040 | AGRN   | -0.7960359 | 0.0003339975 | 0.003938498 | 8.627618 | 8.039911 | 9.044025 | chr1 | 1020121 | 1020122 | ENSG00000188157.14 | 0 | + | 20518 |\n",
       "| 5 | chr1 | 1059451 | 1059852 | RNF223 | -0.7505437 | 0.0002121204 | 0.002716595 | 8.495040 | 7.960277 | 8.884307 | chr1 | 1074307 | 1074308 | ENSG00000237330.2  | 0 | - | 14456 |\n",
       "| 6 | chr1 | 1072137 | 1072538 | RNF223 |  0.7389463 | 0.0049684433 | 0.032877171 | 6.131999 | 6.579740 | 5.479318 | chr1 | 1074307 | 1074308 | ENSG00000237330.2  | 0 | - |  1770 |\n",
       "\n"
      ],
      "text/plain": [
       "  V1   V2      V3      V4     V5         V6           V7          V8      \n",
       "1 chr1  932837  933238 SAMD11  0.8475958 0.0031288310 0.023063050 5.772332\n",
       "2 chr1  938076  938477 SAMD11 -0.5586823 0.0032798886 0.023923271 7.557516\n",
       "3 chr1 1005209 1005610 ISG15  -0.5403652 0.0068509922 0.041843265 7.760584\n",
       "4 chr1 1040639 1041040 AGRN   -0.7960359 0.0003339975 0.003938498 8.627618\n",
       "5 chr1 1059451 1059852 RNF223 -0.7505437 0.0002121204 0.002716595 8.495040\n",
       "6 chr1 1072137 1072538 RNF223  0.7389463 0.0049684433 0.032877171 6.131999\n",
       "  V9       V10      V11  V12     V13     V14                V15 V16 V17  \n",
       "1 6.286556 4.965847 chr1  923926  923927 ENSG00000187634.11 0   +    8911\n",
       "2 7.172091 7.861380 chr1  923926  923927 ENSG00000187634.11 0   +   14150\n",
       "3 7.367286 8.069310 chr1 1001136 1001137 ENSG00000187608.9  0   +    4073\n",
       "4 8.039911 9.044025 chr1 1020121 1020122 ENSG00000188157.14 0   +   20518\n",
       "5 7.960277 8.884307 chr1 1074307 1074308 ENSG00000237330.2  0   -   14456\n",
       "6 6.579740 5.479318 chr1 1074307 1074308 ENSG00000237330.2  0   -    1770"
      ]
     },
     "metadata": {},
     "output_type": "display_data"
    }
   ],
   "source": [
    "flow_bmp9_VS_stat_cont = read.table(\"/project/Mechanogenomics_data/ATACseq_analysis/DiffAcc/results/TSS_annotated_bedFiles/TSS_geneSymbolAnnotated_bedFiles/flow_bmp9_VS_stat_cont_TSS_annotated_geneSymbol.bed\", sep = \"\\t\", header = F)\n",
    "head(flow_bmp9_VS_stat_cont)"
   ]
  },
  {
   "cell_type": "code",
   "execution_count": 49,
   "id": "022fbd4e-5391-4797-a5d8-7d4be1fce918",
   "metadata": {},
   "outputs": [],
   "source": [
    "flow_bmp9_VS_stat_cont_gr = makeGRangesFromDataFrame(flow_bmp9_VS_stat_cont,\n",
    "                          \n",
    "                         keep.extra.columns=T,\n",
    "                         ignore.strand=T,\n",
    "                         seqinfo=NULL,\n",
    "                         seqnames.field=c(\"V1\"),\n",
    "                         start.field=\"V2\",\n",
    "                         end.field=c(\"V3\"),\n",
    "                         #strand.field=\"strand\",\n",
    "                         starts.in.df.are.0based=FALSE)"
   ]
  },
  {
   "cell_type": "code",
   "execution_count": 50,
   "id": "9bb59c57-703d-403e-a85d-a06bde83678e",
   "metadata": {},
   "outputs": [],
   "source": [
    "flow_bmp9_VS_stat_cont_within_above_common_regions = subsetByOverlaps(flow_bmp9_VS_stat_cont_gr,common_regions)"
   ]
  },
  {
   "cell_type": "code",
   "execution_count": 51,
   "id": "e59c18db-8212-4363-82dd-63f31fe7b7e7",
   "metadata": {},
   "outputs": [
    {
     "data": {
      "text/html": [
       "19"
      ],
      "text/latex": [
       "19"
      ],
      "text/markdown": [
       "19"
      ],
      "text/plain": [
       "[1] 19"
      ]
     },
     "metadata": {},
     "output_type": "display_data"
    }
   ],
   "source": [
    "length(c(\"seqnames\",\"start\",\"end\",\"width\",\"strand\", \"gene_symbol\",\"fold_change_flow_bmp9_VS_stat_cont\",\"pvalue\",\"FDR\",\"Conc\",\"Conc_stat_bmp9\",\"Conc_stat_cont\", \"TSS_seq\", \"TSS_start\", \"TSS_end\", \"TSS_ENSEMBL\",\"TSS_interval\", \"TSS_strand\", \"TSS_sth\"))"
   ]
  },
  {
   "cell_type": "code",
   "execution_count": 52,
   "id": "c7d11400-e420-4141-9aab-11a203cc8f64",
   "metadata": {},
   "outputs": [
    {
     "data": {
      "text/html": [
       "<table class=\"dataframe\">\n",
       "<caption>A data.frame: 6 × 19</caption>\n",
       "<thead>\n",
       "\t<tr><th></th><th scope=col>seqnames</th><th scope=col>start</th><th scope=col>end</th><th scope=col>width</th><th scope=col>strand</th><th scope=col>gene_symbol</th><th scope=col>fold_change_flow_bmp9_VS_stat_cont</th><th scope=col>pvalue_flow_bmp9_VS_stat_cont</th><th scope=col>FDR_flow_bmp9_VS_stat_cont</th><th scope=col>Conc</th><th scope=col>Conc_flow_bmp9</th><th scope=col>Conc_stat_cont</th><th scope=col>TSS_seq</th><th scope=col>TSS_start</th><th scope=col>TSS_end</th><th scope=col>TSS_ENSEMBL</th><th scope=col>TSS_interval</th><th scope=col>TSS_strand</th><th scope=col>TSS_sth</th></tr>\n",
       "\t<tr><th></th><th scope=col>&lt;fct&gt;</th><th scope=col>&lt;int&gt;</th><th scope=col>&lt;int&gt;</th><th scope=col>&lt;int&gt;</th><th scope=col>&lt;fct&gt;</th><th scope=col>&lt;chr&gt;</th><th scope=col>&lt;dbl&gt;</th><th scope=col>&lt;dbl&gt;</th><th scope=col>&lt;dbl&gt;</th><th scope=col>&lt;dbl&gt;</th><th scope=col>&lt;dbl&gt;</th><th scope=col>&lt;dbl&gt;</th><th scope=col>&lt;chr&gt;</th><th scope=col>&lt;int&gt;</th><th scope=col>&lt;int&gt;</th><th scope=col>&lt;chr&gt;</th><th scope=col>&lt;int&gt;</th><th scope=col>&lt;chr&gt;</th><th scope=col>&lt;int&gt;</th></tr>\n",
       "</thead>\n",
       "<tbody>\n",
       "\t<tr><th scope=row>1</th><td>chr1</td><td>1059451</td><td>1059852</td><td>402</td><td>*</td><td>RNF223  </td><td>-0.7505437</td><td>2.121204e-04</td><td>2.716595e-03</td><td>8.495040</td><td>7.960277</td><td>8.884307</td><td>chr1</td><td>1074307</td><td>1074308</td><td>ENSG00000237330.2 </td><td>0</td><td>-</td><td>14456</td></tr>\n",
       "\t<tr><th scope=row>2</th><td>chr1</td><td>1079385</td><td>1079786</td><td>402</td><td>*</td><td>RNF223  </td><td>-0.6755431</td><td>8.305223e-04</td><td>8.164265e-03</td><td>8.626380</td><td>8.147063</td><td>8.985544</td><td>chr1</td><td>1074307</td><td>1074308</td><td>ENSG00000237330.2 </td><td>0</td><td>-</td><td> 5078</td></tr>\n",
       "\t<tr><th scope=row>3</th><td>chr1</td><td>1179347</td><td>1179748</td><td>402</td><td>*</td><td>TTLL10  </td><td> 0.8311498</td><td>3.668512e-03</td><td>2.607630e-02</td><td>5.695191</td><td>6.211622</td><td>4.883183</td><td>chr1</td><td>1173882</td><td>1173883</td><td>ENSG00000162571.13</td><td>0</td><td>+</td><td> 5465</td></tr>\n",
       "\t<tr><th scope=row>4</th><td>chr1</td><td>1243376</td><td>1243777</td><td>402</td><td>*</td><td>C1QTNF12</td><td> 0.8227122</td><td>1.599717e-03</td><td>1.370758e-02</td><td>6.181795</td><td>6.650906</td><td>5.482199</td><td>chr1</td><td>1246722</td><td>1246723</td><td>ENSG00000184163.3 </td><td>0</td><td>-</td><td> 2946</td></tr>\n",
       "\t<tr><th scope=row>5</th><td>chr1</td><td>1928460</td><td>1928861</td><td>402</td><td>*</td><td>TMEM52  </td><td> 0.7520382</td><td>4.093146e-03</td><td>2.837018e-02</td><td>5.898792</td><td>6.346970</td><td>5.245173</td><td>chr1</td><td>1919273</td><td>1919274</td><td>ENSG00000178821.12</td><td>0</td><td>-</td><td> 9187</td></tr>\n",
       "\t<tr><th scope=row>6</th><td>chr1</td><td>3155363</td><td>3155764</td><td>402</td><td>*</td><td>PRDM16  </td><td>-1.6217642</td><td>2.929213e-12</td><td>3.966064e-10</td><td>8.260809</td><td>7.095020</td><td>8.897055</td><td>chr1</td><td>3069166</td><td>3069167</td><td>ENSG00000142611.16</td><td>0</td><td>+</td><td>86197</td></tr>\n",
       "</tbody>\n",
       "</table>\n"
      ],
      "text/latex": [
       "A data.frame: 6 × 19\n",
       "\\begin{tabular}{r|lllllllllllllllllll}\n",
       "  & seqnames & start & end & width & strand & gene\\_symbol & fold\\_change\\_flow\\_bmp9\\_VS\\_stat\\_cont & pvalue\\_flow\\_bmp9\\_VS\\_stat\\_cont & FDR\\_flow\\_bmp9\\_VS\\_stat\\_cont & Conc & Conc\\_flow\\_bmp9 & Conc\\_stat\\_cont & TSS\\_seq & TSS\\_start & TSS\\_end & TSS\\_ENSEMBL & TSS\\_interval & TSS\\_strand & TSS\\_sth\\\\\n",
       "  & <fct> & <int> & <int> & <int> & <fct> & <chr> & <dbl> & <dbl> & <dbl> & <dbl> & <dbl> & <dbl> & <chr> & <int> & <int> & <chr> & <int> & <chr> & <int>\\\\\n",
       "\\hline\n",
       "\t1 & chr1 & 1059451 & 1059852 & 402 & * & RNF223   & -0.7505437 & 2.121204e-04 & 2.716595e-03 & 8.495040 & 7.960277 & 8.884307 & chr1 & 1074307 & 1074308 & ENSG00000237330.2  & 0 & - & 14456\\\\\n",
       "\t2 & chr1 & 1079385 & 1079786 & 402 & * & RNF223   & -0.6755431 & 8.305223e-04 & 8.164265e-03 & 8.626380 & 8.147063 & 8.985544 & chr1 & 1074307 & 1074308 & ENSG00000237330.2  & 0 & - &  5078\\\\\n",
       "\t3 & chr1 & 1179347 & 1179748 & 402 & * & TTLL10   &  0.8311498 & 3.668512e-03 & 2.607630e-02 & 5.695191 & 6.211622 & 4.883183 & chr1 & 1173882 & 1173883 & ENSG00000162571.13 & 0 & + &  5465\\\\\n",
       "\t4 & chr1 & 1243376 & 1243777 & 402 & * & C1QTNF12 &  0.8227122 & 1.599717e-03 & 1.370758e-02 & 6.181795 & 6.650906 & 5.482199 & chr1 & 1246722 & 1246723 & ENSG00000184163.3  & 0 & - &  2946\\\\\n",
       "\t5 & chr1 & 1928460 & 1928861 & 402 & * & TMEM52   &  0.7520382 & 4.093146e-03 & 2.837018e-02 & 5.898792 & 6.346970 & 5.245173 & chr1 & 1919273 & 1919274 & ENSG00000178821.12 & 0 & - &  9187\\\\\n",
       "\t6 & chr1 & 3155363 & 3155764 & 402 & * & PRDM16   & -1.6217642 & 2.929213e-12 & 3.966064e-10 & 8.260809 & 7.095020 & 8.897055 & chr1 & 3069166 & 3069167 & ENSG00000142611.16 & 0 & + & 86197\\\\\n",
       "\\end{tabular}\n"
      ],
      "text/markdown": [
       "\n",
       "A data.frame: 6 × 19\n",
       "\n",
       "| <!--/--> | seqnames &lt;fct&gt; | start &lt;int&gt; | end &lt;int&gt; | width &lt;int&gt; | strand &lt;fct&gt; | gene_symbol &lt;chr&gt; | fold_change_flow_bmp9_VS_stat_cont &lt;dbl&gt; | pvalue_flow_bmp9_VS_stat_cont &lt;dbl&gt; | FDR_flow_bmp9_VS_stat_cont &lt;dbl&gt; | Conc &lt;dbl&gt; | Conc_flow_bmp9 &lt;dbl&gt; | Conc_stat_cont &lt;dbl&gt; | TSS_seq &lt;chr&gt; | TSS_start &lt;int&gt; | TSS_end &lt;int&gt; | TSS_ENSEMBL &lt;chr&gt; | TSS_interval &lt;int&gt; | TSS_strand &lt;chr&gt; | TSS_sth &lt;int&gt; |\n",
       "|---|---|---|---|---|---|---|---|---|---|---|---|---|---|---|---|---|---|---|---|\n",
       "| 1 | chr1 | 1059451 | 1059852 | 402 | * | RNF223   | -0.7505437 | 2.121204e-04 | 2.716595e-03 | 8.495040 | 7.960277 | 8.884307 | chr1 | 1074307 | 1074308 | ENSG00000237330.2  | 0 | - | 14456 |\n",
       "| 2 | chr1 | 1079385 | 1079786 | 402 | * | RNF223   | -0.6755431 | 8.305223e-04 | 8.164265e-03 | 8.626380 | 8.147063 | 8.985544 | chr1 | 1074307 | 1074308 | ENSG00000237330.2  | 0 | - |  5078 |\n",
       "| 3 | chr1 | 1179347 | 1179748 | 402 | * | TTLL10   |  0.8311498 | 3.668512e-03 | 2.607630e-02 | 5.695191 | 6.211622 | 4.883183 | chr1 | 1173882 | 1173883 | ENSG00000162571.13 | 0 | + |  5465 |\n",
       "| 4 | chr1 | 1243376 | 1243777 | 402 | * | C1QTNF12 |  0.8227122 | 1.599717e-03 | 1.370758e-02 | 6.181795 | 6.650906 | 5.482199 | chr1 | 1246722 | 1246723 | ENSG00000184163.3  | 0 | - |  2946 |\n",
       "| 5 | chr1 | 1928460 | 1928861 | 402 | * | TMEM52   |  0.7520382 | 4.093146e-03 | 2.837018e-02 | 5.898792 | 6.346970 | 5.245173 | chr1 | 1919273 | 1919274 | ENSG00000178821.12 | 0 | - |  9187 |\n",
       "| 6 | chr1 | 3155363 | 3155764 | 402 | * | PRDM16   | -1.6217642 | 2.929213e-12 | 3.966064e-10 | 8.260809 | 7.095020 | 8.897055 | chr1 | 3069166 | 3069167 | ENSG00000142611.16 | 0 | + | 86197 |\n",
       "\n"
      ],
      "text/plain": [
       "  seqnames start   end     width strand gene_symbol\n",
       "1 chr1     1059451 1059852 402   *      RNF223     \n",
       "2 chr1     1079385 1079786 402   *      RNF223     \n",
       "3 chr1     1179347 1179748 402   *      TTLL10     \n",
       "4 chr1     1243376 1243777 402   *      C1QTNF12   \n",
       "5 chr1     1928460 1928861 402   *      TMEM52     \n",
       "6 chr1     3155363 3155764 402   *      PRDM16     \n",
       "  fold_change_flow_bmp9_VS_stat_cont pvalue_flow_bmp9_VS_stat_cont\n",
       "1 -0.7505437                         2.121204e-04                 \n",
       "2 -0.6755431                         8.305223e-04                 \n",
       "3  0.8311498                         3.668512e-03                 \n",
       "4  0.8227122                         1.599717e-03                 \n",
       "5  0.7520382                         4.093146e-03                 \n",
       "6 -1.6217642                         2.929213e-12                 \n",
       "  FDR_flow_bmp9_VS_stat_cont Conc     Conc_flow_bmp9 Conc_stat_cont TSS_seq\n",
       "1 2.716595e-03               8.495040 7.960277       8.884307       chr1   \n",
       "2 8.164265e-03               8.626380 8.147063       8.985544       chr1   \n",
       "3 2.607630e-02               5.695191 6.211622       4.883183       chr1   \n",
       "4 1.370758e-02               6.181795 6.650906       5.482199       chr1   \n",
       "5 2.837018e-02               5.898792 6.346970       5.245173       chr1   \n",
       "6 3.966064e-10               8.260809 7.095020       8.897055       chr1   \n",
       "  TSS_start TSS_end TSS_ENSEMBL        TSS_interval TSS_strand TSS_sth\n",
       "1 1074307   1074308 ENSG00000237330.2  0            -          14456  \n",
       "2 1074307   1074308 ENSG00000237330.2  0            -           5078  \n",
       "3 1173882   1173883 ENSG00000162571.13 0            +           5465  \n",
       "4 1246722   1246723 ENSG00000184163.3  0            -           2946  \n",
       "5 1919273   1919274 ENSG00000178821.12 0            -           9187  \n",
       "6 3069166   3069167 ENSG00000142611.16 0            +          86197  "
      ]
     },
     "metadata": {},
     "output_type": "display_data"
    }
   ],
   "source": [
    "flow_bmp9_VS_stat_cont_within_above_common_regions_df = data.frame(flow_bmp9_VS_stat_cont_within_above_common_regions)\n",
    "colnames(flow_bmp9_VS_stat_cont_within_above_common_regions_df)= c(\"seqnames\",\"start\",\"end\",\"width\",\"strand\", \"gene_symbol\",\"fold_change_flow_bmp9_VS_stat_cont\",\"pvalue_flow_bmp9_VS_stat_cont\",\"FDR_flow_bmp9_VS_stat_cont\",\"Conc\",\"Conc_flow_bmp9\",\"Conc_stat_cont\", \"TSS_seq\", \"TSS_start\", \"TSS_end\", \"TSS_ENSEMBL\",\"TSS_interval\", \"TSS_strand\", \"TSS_sth\")\n",
    "head(flow_bmp9_VS_stat_cont_within_above_common_regions_df)"
   ]
  },
  {
   "cell_type": "markdown",
   "id": "483d0f83-d5f9-4feb-8345-9bdc9e26a0ab",
   "metadata": {},
   "source": [
    "### make a unique idenitfier by mergin region with the gene name"
   ]
  },
  {
   "cell_type": "code",
   "execution_count": 53,
   "id": "2558ba2c-4712-480f-ae4e-273822fc68e5",
   "metadata": {},
   "outputs": [],
   "source": [
    "flow_bmp9_VS_stat_cont_within_above_common_regions_df2 = flow_bmp9_VS_stat_cont_within_above_common_regions_df\n",
    "flow_bmp9_VS_stat_cont_within_above_common_regions_df2[\"regions\"] = paste(flow_bmp9_VS_stat_cont_within_above_common_regions_df$seqnames, flow_bmp9_VS_stat_cont_within_above_common_regions_df$start, flow_bmp9_VS_stat_cont_within_above_common_regions_df$end,flow_bmp9_VS_stat_cont_within_above_common_regions_df$gene_symbol,sep=\"_\" )\n"
   ]
  },
  {
   "cell_type": "code",
   "execution_count": 54,
   "id": "c79d1d61-85ff-4746-9396-16586f3568d9",
   "metadata": {},
   "outputs": [
    {
     "data": {
      "text/html": [
       "<style>\n",
       ".list-inline {list-style: none; margin:0; padding: 0}\n",
       ".list-inline>li {display: inline-block}\n",
       ".list-inline>li:not(:last-child)::after {content: \"\\00b7\"; padding: 0 .5ex}\n",
       "</style>\n",
       "<ol class=list-inline><li>'seqnames'</li><li>'start'</li><li>'end'</li><li>'width'</li><li>'strand'</li><li>'gene_symbol'</li><li>'fold_change_flow_bmp9_VS_stat_cont'</li><li>'pvalue_flow_bmp9_VS_stat_cont'</li><li>'FDR_flow_bmp9_VS_stat_cont'</li><li>'Conc'</li><li>'Conc_flow_bmp9'</li><li>'Conc_stat_cont'</li><li>'TSS_seq'</li><li>'TSS_start'</li><li>'TSS_end'</li><li>'TSS_ENSEMBL'</li><li>'TSS_interval'</li><li>'TSS_strand'</li><li>'TSS_sth'</li><li>'regions'</li></ol>\n"
      ],
      "text/latex": [
       "\\begin{enumerate*}\n",
       "\\item 'seqnames'\n",
       "\\item 'start'\n",
       "\\item 'end'\n",
       "\\item 'width'\n",
       "\\item 'strand'\n",
       "\\item 'gene\\_symbol'\n",
       "\\item 'fold\\_change\\_flow\\_bmp9\\_VS\\_stat\\_cont'\n",
       "\\item 'pvalue\\_flow\\_bmp9\\_VS\\_stat\\_cont'\n",
       "\\item 'FDR\\_flow\\_bmp9\\_VS\\_stat\\_cont'\n",
       "\\item 'Conc'\n",
       "\\item 'Conc\\_flow\\_bmp9'\n",
       "\\item 'Conc\\_stat\\_cont'\n",
       "\\item 'TSS\\_seq'\n",
       "\\item 'TSS\\_start'\n",
       "\\item 'TSS\\_end'\n",
       "\\item 'TSS\\_ENSEMBL'\n",
       "\\item 'TSS\\_interval'\n",
       "\\item 'TSS\\_strand'\n",
       "\\item 'TSS\\_sth'\n",
       "\\item 'regions'\n",
       "\\end{enumerate*}\n"
      ],
      "text/markdown": [
       "1. 'seqnames'\n",
       "2. 'start'\n",
       "3. 'end'\n",
       "4. 'width'\n",
       "5. 'strand'\n",
       "6. 'gene_symbol'\n",
       "7. 'fold_change_flow_bmp9_VS_stat_cont'\n",
       "8. 'pvalue_flow_bmp9_VS_stat_cont'\n",
       "9. 'FDR_flow_bmp9_VS_stat_cont'\n",
       "10. 'Conc'\n",
       "11. 'Conc_flow_bmp9'\n",
       "12. 'Conc_stat_cont'\n",
       "13. 'TSS_seq'\n",
       "14. 'TSS_start'\n",
       "15. 'TSS_end'\n",
       "16. 'TSS_ENSEMBL'\n",
       "17. 'TSS_interval'\n",
       "18. 'TSS_strand'\n",
       "19. 'TSS_sth'\n",
       "20. 'regions'\n",
       "\n",
       "\n"
      ],
      "text/plain": [
       " [1] \"seqnames\"                           \"start\"                             \n",
       " [3] \"end\"                                \"width\"                             \n",
       " [5] \"strand\"                             \"gene_symbol\"                       \n",
       " [7] \"fold_change_flow_bmp9_VS_stat_cont\" \"pvalue_flow_bmp9_VS_stat_cont\"     \n",
       " [9] \"FDR_flow_bmp9_VS_stat_cont\"         \"Conc\"                              \n",
       "[11] \"Conc_flow_bmp9\"                     \"Conc_stat_cont\"                    \n",
       "[13] \"TSS_seq\"                            \"TSS_start\"                         \n",
       "[15] \"TSS_end\"                            \"TSS_ENSEMBL\"                       \n",
       "[17] \"TSS_interval\"                       \"TSS_strand\"                        \n",
       "[19] \"TSS_sth\"                            \"regions\"                           "
      ]
     },
     "metadata": {},
     "output_type": "display_data"
    }
   ],
   "source": [
    "colnames(flow_bmp9_VS_stat_cont_within_above_common_regions_df2)"
   ]
  },
  {
   "cell_type": "code",
   "execution_count": 55,
   "id": "121243c0-825f-48de-b72a-1def8fa0dbe5",
   "metadata": {},
   "outputs": [
    {
     "data": {
      "text/html": [
       "<table class=\"dataframe\">\n",
       "<caption>A data.frame: 6 × 20</caption>\n",
       "<thead>\n",
       "\t<tr><th></th><th scope=col>seqnames</th><th scope=col>start</th><th scope=col>end</th><th scope=col>width</th><th scope=col>strand</th><th scope=col>gene_symbol</th><th scope=col>fold_change_flow_bmp9_VS_stat_cont</th><th scope=col>pvalue_flow_bmp9_VS_stat_cont</th><th scope=col>FDR_flow_bmp9_VS_stat_cont</th><th scope=col>Conc</th><th scope=col>Conc_flow_bmp9</th><th scope=col>Conc_stat_cont</th><th scope=col>TSS_seq</th><th scope=col>TSS_start</th><th scope=col>TSS_end</th><th scope=col>TSS_ENSEMBL</th><th scope=col>TSS_interval</th><th scope=col>TSS_strand</th><th scope=col>TSS_sth</th><th scope=col>regions</th></tr>\n",
       "\t<tr><th></th><th scope=col>&lt;fct&gt;</th><th scope=col>&lt;int&gt;</th><th scope=col>&lt;int&gt;</th><th scope=col>&lt;int&gt;</th><th scope=col>&lt;fct&gt;</th><th scope=col>&lt;chr&gt;</th><th scope=col>&lt;dbl&gt;</th><th scope=col>&lt;dbl&gt;</th><th scope=col>&lt;dbl&gt;</th><th scope=col>&lt;dbl&gt;</th><th scope=col>&lt;dbl&gt;</th><th scope=col>&lt;dbl&gt;</th><th scope=col>&lt;chr&gt;</th><th scope=col>&lt;int&gt;</th><th scope=col>&lt;int&gt;</th><th scope=col>&lt;chr&gt;</th><th scope=col>&lt;int&gt;</th><th scope=col>&lt;chr&gt;</th><th scope=col>&lt;int&gt;</th><th scope=col>&lt;chr&gt;</th></tr>\n",
       "</thead>\n",
       "<tbody>\n",
       "\t<tr><th scope=row>1</th><td>chr1</td><td>1059451</td><td>1059852</td><td>402</td><td>*</td><td>RNF223  </td><td>-0.7505437</td><td>2.121204e-04</td><td>2.716595e-03</td><td>8.495040</td><td>7.960277</td><td>8.884307</td><td>chr1</td><td>1074307</td><td>1074308</td><td>ENSG00000237330.2 </td><td>0</td><td>-</td><td>14456</td><td>chr1_1059451_1059852_RNF223  </td></tr>\n",
       "\t<tr><th scope=row>2</th><td>chr1</td><td>1079385</td><td>1079786</td><td>402</td><td>*</td><td>RNF223  </td><td>-0.6755431</td><td>8.305223e-04</td><td>8.164265e-03</td><td>8.626380</td><td>8.147063</td><td>8.985544</td><td>chr1</td><td>1074307</td><td>1074308</td><td>ENSG00000237330.2 </td><td>0</td><td>-</td><td> 5078</td><td>chr1_1079385_1079786_RNF223  </td></tr>\n",
       "\t<tr><th scope=row>3</th><td>chr1</td><td>1179347</td><td>1179748</td><td>402</td><td>*</td><td>TTLL10  </td><td> 0.8311498</td><td>3.668512e-03</td><td>2.607630e-02</td><td>5.695191</td><td>6.211622</td><td>4.883183</td><td>chr1</td><td>1173882</td><td>1173883</td><td>ENSG00000162571.13</td><td>0</td><td>+</td><td> 5465</td><td>chr1_1179347_1179748_TTLL10  </td></tr>\n",
       "\t<tr><th scope=row>4</th><td>chr1</td><td>1243376</td><td>1243777</td><td>402</td><td>*</td><td>C1QTNF12</td><td> 0.8227122</td><td>1.599717e-03</td><td>1.370758e-02</td><td>6.181795</td><td>6.650906</td><td>5.482199</td><td>chr1</td><td>1246722</td><td>1246723</td><td>ENSG00000184163.3 </td><td>0</td><td>-</td><td> 2946</td><td>chr1_1243376_1243777_C1QTNF12</td></tr>\n",
       "\t<tr><th scope=row>5</th><td>chr1</td><td>1928460</td><td>1928861</td><td>402</td><td>*</td><td>TMEM52  </td><td> 0.7520382</td><td>4.093146e-03</td><td>2.837018e-02</td><td>5.898792</td><td>6.346970</td><td>5.245173</td><td>chr1</td><td>1919273</td><td>1919274</td><td>ENSG00000178821.12</td><td>0</td><td>-</td><td> 9187</td><td>chr1_1928460_1928861_TMEM52  </td></tr>\n",
       "\t<tr><th scope=row>6</th><td>chr1</td><td>3155363</td><td>3155764</td><td>402</td><td>*</td><td>PRDM16  </td><td>-1.6217642</td><td>2.929213e-12</td><td>3.966064e-10</td><td>8.260809</td><td>7.095020</td><td>8.897055</td><td>chr1</td><td>3069166</td><td>3069167</td><td>ENSG00000142611.16</td><td>0</td><td>+</td><td>86197</td><td>chr1_3155363_3155764_PRDM16  </td></tr>\n",
       "</tbody>\n",
       "</table>\n"
      ],
      "text/latex": [
       "A data.frame: 6 × 20\n",
       "\\begin{tabular}{r|llllllllllllllllllll}\n",
       "  & seqnames & start & end & width & strand & gene\\_symbol & fold\\_change\\_flow\\_bmp9\\_VS\\_stat\\_cont & pvalue\\_flow\\_bmp9\\_VS\\_stat\\_cont & FDR\\_flow\\_bmp9\\_VS\\_stat\\_cont & Conc & Conc\\_flow\\_bmp9 & Conc\\_stat\\_cont & TSS\\_seq & TSS\\_start & TSS\\_end & TSS\\_ENSEMBL & TSS\\_interval & TSS\\_strand & TSS\\_sth & regions\\\\\n",
       "  & <fct> & <int> & <int> & <int> & <fct> & <chr> & <dbl> & <dbl> & <dbl> & <dbl> & <dbl> & <dbl> & <chr> & <int> & <int> & <chr> & <int> & <chr> & <int> & <chr>\\\\\n",
       "\\hline\n",
       "\t1 & chr1 & 1059451 & 1059852 & 402 & * & RNF223   & -0.7505437 & 2.121204e-04 & 2.716595e-03 & 8.495040 & 7.960277 & 8.884307 & chr1 & 1074307 & 1074308 & ENSG00000237330.2  & 0 & - & 14456 & chr1\\_1059451\\_1059852\\_RNF223  \\\\\n",
       "\t2 & chr1 & 1079385 & 1079786 & 402 & * & RNF223   & -0.6755431 & 8.305223e-04 & 8.164265e-03 & 8.626380 & 8.147063 & 8.985544 & chr1 & 1074307 & 1074308 & ENSG00000237330.2  & 0 & - &  5078 & chr1\\_1079385\\_1079786\\_RNF223  \\\\\n",
       "\t3 & chr1 & 1179347 & 1179748 & 402 & * & TTLL10   &  0.8311498 & 3.668512e-03 & 2.607630e-02 & 5.695191 & 6.211622 & 4.883183 & chr1 & 1173882 & 1173883 & ENSG00000162571.13 & 0 & + &  5465 & chr1\\_1179347\\_1179748\\_TTLL10  \\\\\n",
       "\t4 & chr1 & 1243376 & 1243777 & 402 & * & C1QTNF12 &  0.8227122 & 1.599717e-03 & 1.370758e-02 & 6.181795 & 6.650906 & 5.482199 & chr1 & 1246722 & 1246723 & ENSG00000184163.3  & 0 & - &  2946 & chr1\\_1243376\\_1243777\\_C1QTNF12\\\\\n",
       "\t5 & chr1 & 1928460 & 1928861 & 402 & * & TMEM52   &  0.7520382 & 4.093146e-03 & 2.837018e-02 & 5.898792 & 6.346970 & 5.245173 & chr1 & 1919273 & 1919274 & ENSG00000178821.12 & 0 & - &  9187 & chr1\\_1928460\\_1928861\\_TMEM52  \\\\\n",
       "\t6 & chr1 & 3155363 & 3155764 & 402 & * & PRDM16   & -1.6217642 & 2.929213e-12 & 3.966064e-10 & 8.260809 & 7.095020 & 8.897055 & chr1 & 3069166 & 3069167 & ENSG00000142611.16 & 0 & + & 86197 & chr1\\_3155363\\_3155764\\_PRDM16  \\\\\n",
       "\\end{tabular}\n"
      ],
      "text/markdown": [
       "\n",
       "A data.frame: 6 × 20\n",
       "\n",
       "| <!--/--> | seqnames &lt;fct&gt; | start &lt;int&gt; | end &lt;int&gt; | width &lt;int&gt; | strand &lt;fct&gt; | gene_symbol &lt;chr&gt; | fold_change_flow_bmp9_VS_stat_cont &lt;dbl&gt; | pvalue_flow_bmp9_VS_stat_cont &lt;dbl&gt; | FDR_flow_bmp9_VS_stat_cont &lt;dbl&gt; | Conc &lt;dbl&gt; | Conc_flow_bmp9 &lt;dbl&gt; | Conc_stat_cont &lt;dbl&gt; | TSS_seq &lt;chr&gt; | TSS_start &lt;int&gt; | TSS_end &lt;int&gt; | TSS_ENSEMBL &lt;chr&gt; | TSS_interval &lt;int&gt; | TSS_strand &lt;chr&gt; | TSS_sth &lt;int&gt; | regions &lt;chr&gt; |\n",
       "|---|---|---|---|---|---|---|---|---|---|---|---|---|---|---|---|---|---|---|---|---|\n",
       "| 1 | chr1 | 1059451 | 1059852 | 402 | * | RNF223   | -0.7505437 | 2.121204e-04 | 2.716595e-03 | 8.495040 | 7.960277 | 8.884307 | chr1 | 1074307 | 1074308 | ENSG00000237330.2  | 0 | - | 14456 | chr1_1059451_1059852_RNF223   |\n",
       "| 2 | chr1 | 1079385 | 1079786 | 402 | * | RNF223   | -0.6755431 | 8.305223e-04 | 8.164265e-03 | 8.626380 | 8.147063 | 8.985544 | chr1 | 1074307 | 1074308 | ENSG00000237330.2  | 0 | - |  5078 | chr1_1079385_1079786_RNF223   |\n",
       "| 3 | chr1 | 1179347 | 1179748 | 402 | * | TTLL10   |  0.8311498 | 3.668512e-03 | 2.607630e-02 | 5.695191 | 6.211622 | 4.883183 | chr1 | 1173882 | 1173883 | ENSG00000162571.13 | 0 | + |  5465 | chr1_1179347_1179748_TTLL10   |\n",
       "| 4 | chr1 | 1243376 | 1243777 | 402 | * | C1QTNF12 |  0.8227122 | 1.599717e-03 | 1.370758e-02 | 6.181795 | 6.650906 | 5.482199 | chr1 | 1246722 | 1246723 | ENSG00000184163.3  | 0 | - |  2946 | chr1_1243376_1243777_C1QTNF12 |\n",
       "| 5 | chr1 | 1928460 | 1928861 | 402 | * | TMEM52   |  0.7520382 | 4.093146e-03 | 2.837018e-02 | 5.898792 | 6.346970 | 5.245173 | chr1 | 1919273 | 1919274 | ENSG00000178821.12 | 0 | - |  9187 | chr1_1928460_1928861_TMEM52   |\n",
       "| 6 | chr1 | 3155363 | 3155764 | 402 | * | PRDM16   | -1.6217642 | 2.929213e-12 | 3.966064e-10 | 8.260809 | 7.095020 | 8.897055 | chr1 | 3069166 | 3069167 | ENSG00000142611.16 | 0 | + | 86197 | chr1_3155363_3155764_PRDM16   |\n",
       "\n"
      ],
      "text/plain": [
       "  seqnames start   end     width strand gene_symbol\n",
       "1 chr1     1059451 1059852 402   *      RNF223     \n",
       "2 chr1     1079385 1079786 402   *      RNF223     \n",
       "3 chr1     1179347 1179748 402   *      TTLL10     \n",
       "4 chr1     1243376 1243777 402   *      C1QTNF12   \n",
       "5 chr1     1928460 1928861 402   *      TMEM52     \n",
       "6 chr1     3155363 3155764 402   *      PRDM16     \n",
       "  fold_change_flow_bmp9_VS_stat_cont pvalue_flow_bmp9_VS_stat_cont\n",
       "1 -0.7505437                         2.121204e-04                 \n",
       "2 -0.6755431                         8.305223e-04                 \n",
       "3  0.8311498                         3.668512e-03                 \n",
       "4  0.8227122                         1.599717e-03                 \n",
       "5  0.7520382                         4.093146e-03                 \n",
       "6 -1.6217642                         2.929213e-12                 \n",
       "  FDR_flow_bmp9_VS_stat_cont Conc     Conc_flow_bmp9 Conc_stat_cont TSS_seq\n",
       "1 2.716595e-03               8.495040 7.960277       8.884307       chr1   \n",
       "2 8.164265e-03               8.626380 8.147063       8.985544       chr1   \n",
       "3 2.607630e-02               5.695191 6.211622       4.883183       chr1   \n",
       "4 1.370758e-02               6.181795 6.650906       5.482199       chr1   \n",
       "5 2.837018e-02               5.898792 6.346970       5.245173       chr1   \n",
       "6 3.966064e-10               8.260809 7.095020       8.897055       chr1   \n",
       "  TSS_start TSS_end TSS_ENSEMBL        TSS_interval TSS_strand TSS_sth\n",
       "1 1074307   1074308 ENSG00000237330.2  0            -          14456  \n",
       "2 1074307   1074308 ENSG00000237330.2  0            -           5078  \n",
       "3 1173882   1173883 ENSG00000162571.13 0            +           5465  \n",
       "4 1246722   1246723 ENSG00000184163.3  0            -           2946  \n",
       "5 1919273   1919274 ENSG00000178821.12 0            -           9187  \n",
       "6 3069166   3069167 ENSG00000142611.16 0            +          86197  \n",
       "  regions                      \n",
       "1 chr1_1059451_1059852_RNF223  \n",
       "2 chr1_1079385_1079786_RNF223  \n",
       "3 chr1_1179347_1179748_TTLL10  \n",
       "4 chr1_1243376_1243777_C1QTNF12\n",
       "5 chr1_1928460_1928861_TMEM52  \n",
       "6 chr1_3155363_3155764_PRDM16  "
      ]
     },
     "metadata": {},
     "output_type": "display_data"
    }
   ],
   "source": [
    "head(flow_bmp9_VS_stat_cont_within_above_common_regions_df2)"
   ]
  },
  {
   "cell_type": "markdown",
   "id": "f2d2c4da-bd71-48aa-925e-8d168ba6accb",
   "metadata": {},
   "source": [
    "## now add the annotations to the merged data"
   ]
  },
  {
   "cell_type": "code",
   "execution_count": 56,
   "id": "4ca0b91c-65f6-4ce0-9b30-987707a5c674",
   "metadata": {},
   "outputs": [],
   "source": [
    "flow_bmp9_VS_stat_cont_within_above_common_regions_df2_sub = flow_bmp9_VS_stat_cont_within_above_common_regions_df2[c('seqnames','start','end','width','strand','gene_symbol','fold_change_flow_bmp9_VS_stat_cont','pvalue_flow_bmp9_VS_stat_cont','FDR_flow_bmp9_VS_stat_cont','regions')]"
   ]
  },
  {
   "cell_type": "code",
   "execution_count": 57,
   "id": "d78c54c2-fc31-450b-8e31-ed6464747037",
   "metadata": {},
   "outputs": [
    {
     "data": {
      "text/html": [
       "<style>\n",
       ".list-inline {list-style: none; margin:0; padding: 0}\n",
       ".list-inline>li {display: inline-block}\n",
       ".list-inline>li:not(:last-child)::after {content: \"\\00b7\"; padding: 0 .5ex}\n",
       "</style>\n",
       "<ol class=list-inline><li>'regions'</li><li>'seqnames.x'</li><li>'start.x'</li><li>'end.x'</li><li>'width.x'</li><li>'strand.x'</li><li>'gene_symbol.x'</li><li>'fold_change_stat_bmp9_VS_stat_cont'</li><li>'pvalue_stat_bmp9_VS_stat_cont'</li><li>'FDR_stat_bmp9_VS_stat_cont'</li><li>'Conc.x'</li><li>'Conc_stat_bmp9'</li><li>'Conc_stat_cont.x'</li><li>'TSS_seq.x'</li><li>'TSS_start.x'</li><li>'TSS_end.x'</li><li>'TSS_ENSEMBL.x'</li><li>'TSS_interval.x'</li><li>'TSS_strand.x'</li><li>'TSS_sth.x'</li><li>'seqnames.y'</li><li>'start.y'</li><li>'end.y'</li><li>'width.y'</li><li>'strand.y'</li><li>'gene_symbol.y'</li><li>'fold_change_flow_cont_VS_stat_cont'</li><li>'pvalue_flow_cont_VS_stat_cont'</li><li>'FDR_flow_cont_VS_stat_cont'</li><li>'Conc.y'</li><li>'Conc_flow_cont'</li><li>'Conc_stat_cont.y'</li><li>'TSS_seq.y'</li><li>'TSS_start.y'</li><li>'TSS_end.y'</li><li>'TSS_ENSEMBL.y'</li><li>'TSS_interval.y'</li><li>'TSS_strand.y'</li><li>'TSS_sth.y'</li></ol>\n"
      ],
      "text/latex": [
       "\\begin{enumerate*}\n",
       "\\item 'regions'\n",
       "\\item 'seqnames.x'\n",
       "\\item 'start.x'\n",
       "\\item 'end.x'\n",
       "\\item 'width.x'\n",
       "\\item 'strand.x'\n",
       "\\item 'gene\\_symbol.x'\n",
       "\\item 'fold\\_change\\_stat\\_bmp9\\_VS\\_stat\\_cont'\n",
       "\\item 'pvalue\\_stat\\_bmp9\\_VS\\_stat\\_cont'\n",
       "\\item 'FDR\\_stat\\_bmp9\\_VS\\_stat\\_cont'\n",
       "\\item 'Conc.x'\n",
       "\\item 'Conc\\_stat\\_bmp9'\n",
       "\\item 'Conc\\_stat\\_cont.x'\n",
       "\\item 'TSS\\_seq.x'\n",
       "\\item 'TSS\\_start.x'\n",
       "\\item 'TSS\\_end.x'\n",
       "\\item 'TSS\\_ENSEMBL.x'\n",
       "\\item 'TSS\\_interval.x'\n",
       "\\item 'TSS\\_strand.x'\n",
       "\\item 'TSS\\_sth.x'\n",
       "\\item 'seqnames.y'\n",
       "\\item 'start.y'\n",
       "\\item 'end.y'\n",
       "\\item 'width.y'\n",
       "\\item 'strand.y'\n",
       "\\item 'gene\\_symbol.y'\n",
       "\\item 'fold\\_change\\_flow\\_cont\\_VS\\_stat\\_cont'\n",
       "\\item 'pvalue\\_flow\\_cont\\_VS\\_stat\\_cont'\n",
       "\\item 'FDR\\_flow\\_cont\\_VS\\_stat\\_cont'\n",
       "\\item 'Conc.y'\n",
       "\\item 'Conc\\_flow\\_cont'\n",
       "\\item 'Conc\\_stat\\_cont.y'\n",
       "\\item 'TSS\\_seq.y'\n",
       "\\item 'TSS\\_start.y'\n",
       "\\item 'TSS\\_end.y'\n",
       "\\item 'TSS\\_ENSEMBL.y'\n",
       "\\item 'TSS\\_interval.y'\n",
       "\\item 'TSS\\_strand.y'\n",
       "\\item 'TSS\\_sth.y'\n",
       "\\end{enumerate*}\n"
      ],
      "text/markdown": [
       "1. 'regions'\n",
       "2. 'seqnames.x'\n",
       "3. 'start.x'\n",
       "4. 'end.x'\n",
       "5. 'width.x'\n",
       "6. 'strand.x'\n",
       "7. 'gene_symbol.x'\n",
       "8. 'fold_change_stat_bmp9_VS_stat_cont'\n",
       "9. 'pvalue_stat_bmp9_VS_stat_cont'\n",
       "10. 'FDR_stat_bmp9_VS_stat_cont'\n",
       "11. 'Conc.x'\n",
       "12. 'Conc_stat_bmp9'\n",
       "13. 'Conc_stat_cont.x'\n",
       "14. 'TSS_seq.x'\n",
       "15. 'TSS_start.x'\n",
       "16. 'TSS_end.x'\n",
       "17. 'TSS_ENSEMBL.x'\n",
       "18. 'TSS_interval.x'\n",
       "19. 'TSS_strand.x'\n",
       "20. 'TSS_sth.x'\n",
       "21. 'seqnames.y'\n",
       "22. 'start.y'\n",
       "23. 'end.y'\n",
       "24. 'width.y'\n",
       "25. 'strand.y'\n",
       "26. 'gene_symbol.y'\n",
       "27. 'fold_change_flow_cont_VS_stat_cont'\n",
       "28. 'pvalue_flow_cont_VS_stat_cont'\n",
       "29. 'FDR_flow_cont_VS_stat_cont'\n",
       "30. 'Conc.y'\n",
       "31. 'Conc_flow_cont'\n",
       "32. 'Conc_stat_cont.y'\n",
       "33. 'TSS_seq.y'\n",
       "34. 'TSS_start.y'\n",
       "35. 'TSS_end.y'\n",
       "36. 'TSS_ENSEMBL.y'\n",
       "37. 'TSS_interval.y'\n",
       "38. 'TSS_strand.y'\n",
       "39. 'TSS_sth.y'\n",
       "\n",
       "\n"
      ],
      "text/plain": [
       " [1] \"regions\"                            \"seqnames.x\"                        \n",
       " [3] \"start.x\"                            \"end.x\"                             \n",
       " [5] \"width.x\"                            \"strand.x\"                          \n",
       " [7] \"gene_symbol.x\"                      \"fold_change_stat_bmp9_VS_stat_cont\"\n",
       " [9] \"pvalue_stat_bmp9_VS_stat_cont\"      \"FDR_stat_bmp9_VS_stat_cont\"        \n",
       "[11] \"Conc.x\"                             \"Conc_stat_bmp9\"                    \n",
       "[13] \"Conc_stat_cont.x\"                   \"TSS_seq.x\"                         \n",
       "[15] \"TSS_start.x\"                        \"TSS_end.x\"                         \n",
       "[17] \"TSS_ENSEMBL.x\"                      \"TSS_interval.x\"                    \n",
       "[19] \"TSS_strand.x\"                       \"TSS_sth.x\"                         \n",
       "[21] \"seqnames.y\"                         \"start.y\"                           \n",
       "[23] \"end.y\"                              \"width.y\"                           \n",
       "[25] \"strand.y\"                           \"gene_symbol.y\"                     \n",
       "[27] \"fold_change_flow_cont_VS_stat_cont\" \"pvalue_flow_cont_VS_stat_cont\"     \n",
       "[29] \"FDR_flow_cont_VS_stat_cont\"         \"Conc.y\"                            \n",
       "[31] \"Conc_flow_cont\"                     \"Conc_stat_cont.y\"                  \n",
       "[33] \"TSS_seq.y\"                          \"TSS_start.y\"                       \n",
       "[35] \"TSS_end.y\"                          \"TSS_ENSEMBL.y\"                     \n",
       "[37] \"TSS_interval.y\"                     \"TSS_strand.y\"                      \n",
       "[39] \"TSS_sth.y\"                         "
      ]
     },
     "metadata": {},
     "output_type": "display_data"
    }
   ],
   "source": [
    "colnames(common_regions_df_annotated)"
   ]
  },
  {
   "cell_type": "code",
   "execution_count": 58,
   "id": "f0b5b32a-6615-479b-ac10-0706c18ea8af",
   "metadata": {},
   "outputs": [],
   "source": [
    "flow_bmp9_VS_stat_cont_within_above_common_regions_df_annotated = merge(flow_bmp9_VS_stat_cont_within_above_common_regions_df2,common_regions_df_annotated, by=\"regions\")"
   ]
  },
  {
   "cell_type": "code",
   "execution_count": 59,
   "id": "9ff470bc-bbe6-4f5d-b6d6-6b23d157dba6",
   "metadata": {},
   "outputs": [
    {
     "data": {
      "text/html": [
       "<table class=\"dataframe\">\n",
       "<caption>A data.frame: 6 × 58</caption>\n",
       "<thead>\n",
       "\t<tr><th></th><th scope=col>regions</th><th scope=col>seqnames</th><th scope=col>start</th><th scope=col>end</th><th scope=col>width</th><th scope=col>strand</th><th scope=col>gene_symbol</th><th scope=col>fold_change_flow_bmp9_VS_stat_cont</th><th scope=col>pvalue_flow_bmp9_VS_stat_cont</th><th scope=col>FDR_flow_bmp9_VS_stat_cont</th><th scope=col>⋯</th><th scope=col>Conc.y</th><th scope=col>Conc_flow_cont</th><th scope=col>Conc_stat_cont.y</th><th scope=col>TSS_seq.y</th><th scope=col>TSS_start.y</th><th scope=col>TSS_end.y</th><th scope=col>TSS_ENSEMBL.y</th><th scope=col>TSS_interval.y</th><th scope=col>TSS_strand.y</th><th scope=col>TSS_sth.y</th></tr>\n",
       "\t<tr><th></th><th scope=col>&lt;chr&gt;</th><th scope=col>&lt;fct&gt;</th><th scope=col>&lt;int&gt;</th><th scope=col>&lt;int&gt;</th><th scope=col>&lt;int&gt;</th><th scope=col>&lt;fct&gt;</th><th scope=col>&lt;chr&gt;</th><th scope=col>&lt;dbl&gt;</th><th scope=col>&lt;dbl&gt;</th><th scope=col>&lt;dbl&gt;</th><th scope=col>⋯</th><th scope=col>&lt;dbl&gt;</th><th scope=col>&lt;dbl&gt;</th><th scope=col>&lt;dbl&gt;</th><th scope=col>&lt;chr&gt;</th><th scope=col>&lt;int&gt;</th><th scope=col>&lt;int&gt;</th><th scope=col>&lt;chr&gt;</th><th scope=col>&lt;int&gt;</th><th scope=col>&lt;chr&gt;</th><th scope=col>&lt;int&gt;</th></tr>\n",
       "</thead>\n",
       "<tbody>\n",
       "\t<tr><th scope=row>1</th><td>chr10_101165700_101166101_TLX1   </td><td>chr10</td><td>101165700</td><td>101166101</td><td>402</td><td>*</td><td>TLX1   </td><td> 0.6767495</td><td>8.848151e-04</td><td>8.591324e-03</td><td>⋯</td><td>7.167508</td><td>7.487111</td><td>6.756337</td><td>chr10</td><td>101130503</td><td>101130504</td><td>ENSG00000107807.12</td><td>0</td><td>+</td><td>35197</td></tr>\n",
       "\t<tr><th scope=row>2</th><td>chr10_102661063_102661464_TRIM8  </td><td>chr10</td><td>102661063</td><td>102661464</td><td>402</td><td>*</td><td>TRIM8  </td><td>-0.6416361</td><td>1.243928e-03</td><td>1.125463e-02</td><td>⋯</td><td>7.929954</td><td>7.493480</td><td>8.264593</td><td>chr10</td><td>102642308</td><td>102642309</td><td>ENSG00000171206.14</td><td>0</td><td>+</td><td>18755</td></tr>\n",
       "\t<tr><th scope=row>3</th><td>chr10_103104618_103105019_NT5C2  </td><td>chr10</td><td>103104618</td><td>103105019</td><td>402</td><td>*</td><td>NT5C2  </td><td> 1.1274411</td><td>2.063920e-05</td><td>3.915807e-04</td><td>⋯</td><td>5.691036</td><td>6.106857</td><td>5.104506</td><td>chr10</td><td>103193306</td><td>103193307</td><td>ENSG00000076685.18</td><td>0</td><td>-</td><td>88288</td></tr>\n",
       "\t<tr><th scope=row>4</th><td>chr10_103479084_103479485_CALHM3 </td><td>chr10</td><td>103479084</td><td>103479485</td><td>402</td><td>*</td><td>CALHM3 </td><td> 1.0074396</td><td>2.689366e-04</td><td>3.303061e-03</td><td>⋯</td><td>6.103336</td><td>6.662028</td><td>5.179394</td><td>chr10</td><td>103479240</td><td>103479241</td><td>ENSG00000183128.7 </td><td>0</td><td>-</td><td>    0</td></tr>\n",
       "\t<tr><th scope=row>5</th><td>chr10_104036359_104036760_COL17A1</td><td>chr10</td><td>104036359</td><td>104036760</td><td>402</td><td>*</td><td>COL17A1</td><td> 0.6484259</td><td>7.312892e-03</td><td>4.390783e-02</td><td>⋯</td><td>6.326497</td><td>6.813391</td><td>5.586103</td><td>chr10</td><td>104085957</td><td>104085958</td><td>ENSG00000065618.19</td><td>0</td><td>-</td><td>49198</td></tr>\n",
       "\t<tr><th scope=row>6</th><td>chr10_104109874_104110275_SFR1   </td><td>chr10</td><td>104109874</td><td>104110275</td><td>402</td><td>*</td><td>SFR1   </td><td> 1.1111229</td><td>6.025896e-09</td><td>3.459142e-07</td><td>⋯</td><td>7.968549</td><td>8.380032</td><td>7.390671</td><td>chr10</td><td>104122056</td><td>104122057</td><td>ENSG00000156384.14</td><td>0</td><td>+</td><td>11782</td></tr>\n",
       "</tbody>\n",
       "</table>\n"
      ],
      "text/latex": [
       "A data.frame: 6 × 58\n",
       "\\begin{tabular}{r|lllllllllllllllllllll}\n",
       "  & regions & seqnames & start & end & width & strand & gene\\_symbol & fold\\_change\\_flow\\_bmp9\\_VS\\_stat\\_cont & pvalue\\_flow\\_bmp9\\_VS\\_stat\\_cont & FDR\\_flow\\_bmp9\\_VS\\_stat\\_cont & ⋯ & Conc.y & Conc\\_flow\\_cont & Conc\\_stat\\_cont.y & TSS\\_seq.y & TSS\\_start.y & TSS\\_end.y & TSS\\_ENSEMBL.y & TSS\\_interval.y & TSS\\_strand.y & TSS\\_sth.y\\\\\n",
       "  & <chr> & <fct> & <int> & <int> & <int> & <fct> & <chr> & <dbl> & <dbl> & <dbl> & ⋯ & <dbl> & <dbl> & <dbl> & <chr> & <int> & <int> & <chr> & <int> & <chr> & <int>\\\\\n",
       "\\hline\n",
       "\t1 & chr10\\_101165700\\_101166101\\_TLX1    & chr10 & 101165700 & 101166101 & 402 & * & TLX1    &  0.6767495 & 8.848151e-04 & 8.591324e-03 & ⋯ & 7.167508 & 7.487111 & 6.756337 & chr10 & 101130503 & 101130504 & ENSG00000107807.12 & 0 & + & 35197\\\\\n",
       "\t2 & chr10\\_102661063\\_102661464\\_TRIM8   & chr10 & 102661063 & 102661464 & 402 & * & TRIM8   & -0.6416361 & 1.243928e-03 & 1.125463e-02 & ⋯ & 7.929954 & 7.493480 & 8.264593 & chr10 & 102642308 & 102642309 & ENSG00000171206.14 & 0 & + & 18755\\\\\n",
       "\t3 & chr10\\_103104618\\_103105019\\_NT5C2   & chr10 & 103104618 & 103105019 & 402 & * & NT5C2   &  1.1274411 & 2.063920e-05 & 3.915807e-04 & ⋯ & 5.691036 & 6.106857 & 5.104506 & chr10 & 103193306 & 103193307 & ENSG00000076685.18 & 0 & - & 88288\\\\\n",
       "\t4 & chr10\\_103479084\\_103479485\\_CALHM3  & chr10 & 103479084 & 103479485 & 402 & * & CALHM3  &  1.0074396 & 2.689366e-04 & 3.303061e-03 & ⋯ & 6.103336 & 6.662028 & 5.179394 & chr10 & 103479240 & 103479241 & ENSG00000183128.7  & 0 & - &     0\\\\\n",
       "\t5 & chr10\\_104036359\\_104036760\\_COL17A1 & chr10 & 104036359 & 104036760 & 402 & * & COL17A1 &  0.6484259 & 7.312892e-03 & 4.390783e-02 & ⋯ & 6.326497 & 6.813391 & 5.586103 & chr10 & 104085957 & 104085958 & ENSG00000065618.19 & 0 & - & 49198\\\\\n",
       "\t6 & chr10\\_104109874\\_104110275\\_SFR1    & chr10 & 104109874 & 104110275 & 402 & * & SFR1    &  1.1111229 & 6.025896e-09 & 3.459142e-07 & ⋯ & 7.968549 & 8.380032 & 7.390671 & chr10 & 104122056 & 104122057 & ENSG00000156384.14 & 0 & + & 11782\\\\\n",
       "\\end{tabular}\n"
      ],
      "text/markdown": [
       "\n",
       "A data.frame: 6 × 58\n",
       "\n",
       "| <!--/--> | regions &lt;chr&gt; | seqnames &lt;fct&gt; | start &lt;int&gt; | end &lt;int&gt; | width &lt;int&gt; | strand &lt;fct&gt; | gene_symbol &lt;chr&gt; | fold_change_flow_bmp9_VS_stat_cont &lt;dbl&gt; | pvalue_flow_bmp9_VS_stat_cont &lt;dbl&gt; | FDR_flow_bmp9_VS_stat_cont &lt;dbl&gt; | ⋯ ⋯ | Conc.y &lt;dbl&gt; | Conc_flow_cont &lt;dbl&gt; | Conc_stat_cont.y &lt;dbl&gt; | TSS_seq.y &lt;chr&gt; | TSS_start.y &lt;int&gt; | TSS_end.y &lt;int&gt; | TSS_ENSEMBL.y &lt;chr&gt; | TSS_interval.y &lt;int&gt; | TSS_strand.y &lt;chr&gt; | TSS_sth.y &lt;int&gt; |\n",
       "|---|---|---|---|---|---|---|---|---|---|---|---|---|---|---|---|---|---|---|---|---|---|\n",
       "| 1 | chr10_101165700_101166101_TLX1    | chr10 | 101165700 | 101166101 | 402 | * | TLX1    |  0.6767495 | 8.848151e-04 | 8.591324e-03 | ⋯ | 7.167508 | 7.487111 | 6.756337 | chr10 | 101130503 | 101130504 | ENSG00000107807.12 | 0 | + | 35197 |\n",
       "| 2 | chr10_102661063_102661464_TRIM8   | chr10 | 102661063 | 102661464 | 402 | * | TRIM8   | -0.6416361 | 1.243928e-03 | 1.125463e-02 | ⋯ | 7.929954 | 7.493480 | 8.264593 | chr10 | 102642308 | 102642309 | ENSG00000171206.14 | 0 | + | 18755 |\n",
       "| 3 | chr10_103104618_103105019_NT5C2   | chr10 | 103104618 | 103105019 | 402 | * | NT5C2   |  1.1274411 | 2.063920e-05 | 3.915807e-04 | ⋯ | 5.691036 | 6.106857 | 5.104506 | chr10 | 103193306 | 103193307 | ENSG00000076685.18 | 0 | - | 88288 |\n",
       "| 4 | chr10_103479084_103479485_CALHM3  | chr10 | 103479084 | 103479485 | 402 | * | CALHM3  |  1.0074396 | 2.689366e-04 | 3.303061e-03 | ⋯ | 6.103336 | 6.662028 | 5.179394 | chr10 | 103479240 | 103479241 | ENSG00000183128.7  | 0 | - |     0 |\n",
       "| 5 | chr10_104036359_104036760_COL17A1 | chr10 | 104036359 | 104036760 | 402 | * | COL17A1 |  0.6484259 | 7.312892e-03 | 4.390783e-02 | ⋯ | 6.326497 | 6.813391 | 5.586103 | chr10 | 104085957 | 104085958 | ENSG00000065618.19 | 0 | - | 49198 |\n",
       "| 6 | chr10_104109874_104110275_SFR1    | chr10 | 104109874 | 104110275 | 402 | * | SFR1    |  1.1111229 | 6.025896e-09 | 3.459142e-07 | ⋯ | 7.968549 | 8.380032 | 7.390671 | chr10 | 104122056 | 104122057 | ENSG00000156384.14 | 0 | + | 11782 |\n",
       "\n"
      ],
      "text/plain": [
       "  regions                           seqnames start     end       width strand\n",
       "1 chr10_101165700_101166101_TLX1    chr10    101165700 101166101 402   *     \n",
       "2 chr10_102661063_102661464_TRIM8   chr10    102661063 102661464 402   *     \n",
       "3 chr10_103104618_103105019_NT5C2   chr10    103104618 103105019 402   *     \n",
       "4 chr10_103479084_103479485_CALHM3  chr10    103479084 103479485 402   *     \n",
       "5 chr10_104036359_104036760_COL17A1 chr10    104036359 104036760 402   *     \n",
       "6 chr10_104109874_104110275_SFR1    chr10    104109874 104110275 402   *     \n",
       "  gene_symbol fold_change_flow_bmp9_VS_stat_cont pvalue_flow_bmp9_VS_stat_cont\n",
       "1 TLX1         0.6767495                         8.848151e-04                 \n",
       "2 TRIM8       -0.6416361                         1.243928e-03                 \n",
       "3 NT5C2        1.1274411                         2.063920e-05                 \n",
       "4 CALHM3       1.0074396                         2.689366e-04                 \n",
       "5 COL17A1      0.6484259                         7.312892e-03                 \n",
       "6 SFR1         1.1111229                         6.025896e-09                 \n",
       "  FDR_flow_bmp9_VS_stat_cont ⋯ Conc.y   Conc_flow_cont Conc_stat_cont.y\n",
       "1 8.591324e-03               ⋯ 7.167508 7.487111       6.756337        \n",
       "2 1.125463e-02               ⋯ 7.929954 7.493480       8.264593        \n",
       "3 3.915807e-04               ⋯ 5.691036 6.106857       5.104506        \n",
       "4 3.303061e-03               ⋯ 6.103336 6.662028       5.179394        \n",
       "5 4.390783e-02               ⋯ 6.326497 6.813391       5.586103        \n",
       "6 3.459142e-07               ⋯ 7.968549 8.380032       7.390671        \n",
       "  TSS_seq.y TSS_start.y TSS_end.y TSS_ENSEMBL.y      TSS_interval.y\n",
       "1 chr10     101130503   101130504 ENSG00000107807.12 0             \n",
       "2 chr10     102642308   102642309 ENSG00000171206.14 0             \n",
       "3 chr10     103193306   103193307 ENSG00000076685.18 0             \n",
       "4 chr10     103479240   103479241 ENSG00000183128.7  0             \n",
       "5 chr10     104085957   104085958 ENSG00000065618.19 0             \n",
       "6 chr10     104122056   104122057 ENSG00000156384.14 0             \n",
       "  TSS_strand.y TSS_sth.y\n",
       "1 +            35197    \n",
       "2 +            18755    \n",
       "3 -            88288    \n",
       "4 -                0    \n",
       "5 -            49198    \n",
       "6 +            11782    "
      ]
     },
     "metadata": {},
     "output_type": "display_data"
    }
   ],
   "source": [
    "head(flow_bmp9_VS_stat_cont_within_above_common_regions_df_annotated)"
   ]
  },
  {
   "cell_type": "code",
   "execution_count": 60,
   "id": "f197feec-f781-4afa-936d-1f89b25e0b7e",
   "metadata": {},
   "outputs": [
    {
     "data": {
      "text/html": [
       "<style>\n",
       ".list-inline {list-style: none; margin:0; padding: 0}\n",
       ".list-inline>li {display: inline-block}\n",
       ".list-inline>li:not(:last-child)::after {content: \"\\00b7\"; padding: 0 .5ex}\n",
       "</style>\n",
       "<ol class=list-inline><li>'regions'</li><li>'seqnames'</li><li>'start'</li><li>'end'</li><li>'width'</li><li>'strand'</li><li>'gene_symbol'</li><li>'fold_change_flow_bmp9_VS_stat_cont'</li><li>'pvalue_flow_bmp9_VS_stat_cont'</li><li>'FDR_flow_bmp9_VS_stat_cont'</li><li>'Conc'</li><li>'Conc_flow_bmp9'</li><li>'Conc_stat_cont'</li><li>'TSS_seq'</li><li>'TSS_start'</li><li>'TSS_end'</li><li>'TSS_ENSEMBL'</li><li>'TSS_interval'</li><li>'TSS_strand'</li><li>'TSS_sth'</li><li>'seqnames.x'</li><li>'start.x'</li><li>'end.x'</li><li>'width.x'</li><li>'strand.x'</li><li>'gene_symbol.x'</li><li>'fold_change_stat_bmp9_VS_stat_cont'</li><li>'pvalue_stat_bmp9_VS_stat_cont'</li><li>'FDR_stat_bmp9_VS_stat_cont'</li><li>'Conc.x'</li><li>'Conc_stat_bmp9'</li><li>'Conc_stat_cont.x'</li><li>'TSS_seq.x'</li><li>'TSS_start.x'</li><li>'TSS_end.x'</li><li>'TSS_ENSEMBL.x'</li><li>'TSS_interval.x'</li><li>'TSS_strand.x'</li><li>'TSS_sth.x'</li><li>'seqnames.y'</li><li>'start.y'</li><li>'end.y'</li><li>'width.y'</li><li>'strand.y'</li><li>'gene_symbol.y'</li><li>'fold_change_flow_cont_VS_stat_cont'</li><li>'pvalue_flow_cont_VS_stat_cont'</li><li>'FDR_flow_cont_VS_stat_cont'</li><li>'Conc.y'</li><li>'Conc_flow_cont'</li><li>'Conc_stat_cont.y'</li><li>'TSS_seq.y'</li><li>'TSS_start.y'</li><li>'TSS_end.y'</li><li>'TSS_ENSEMBL.y'</li><li>'TSS_interval.y'</li><li>'TSS_strand.y'</li><li>'TSS_sth.y'</li></ol>\n"
      ],
      "text/latex": [
       "\\begin{enumerate*}\n",
       "\\item 'regions'\n",
       "\\item 'seqnames'\n",
       "\\item 'start'\n",
       "\\item 'end'\n",
       "\\item 'width'\n",
       "\\item 'strand'\n",
       "\\item 'gene\\_symbol'\n",
       "\\item 'fold\\_change\\_flow\\_bmp9\\_VS\\_stat\\_cont'\n",
       "\\item 'pvalue\\_flow\\_bmp9\\_VS\\_stat\\_cont'\n",
       "\\item 'FDR\\_flow\\_bmp9\\_VS\\_stat\\_cont'\n",
       "\\item 'Conc'\n",
       "\\item 'Conc\\_flow\\_bmp9'\n",
       "\\item 'Conc\\_stat\\_cont'\n",
       "\\item 'TSS\\_seq'\n",
       "\\item 'TSS\\_start'\n",
       "\\item 'TSS\\_end'\n",
       "\\item 'TSS\\_ENSEMBL'\n",
       "\\item 'TSS\\_interval'\n",
       "\\item 'TSS\\_strand'\n",
       "\\item 'TSS\\_sth'\n",
       "\\item 'seqnames.x'\n",
       "\\item 'start.x'\n",
       "\\item 'end.x'\n",
       "\\item 'width.x'\n",
       "\\item 'strand.x'\n",
       "\\item 'gene\\_symbol.x'\n",
       "\\item 'fold\\_change\\_stat\\_bmp9\\_VS\\_stat\\_cont'\n",
       "\\item 'pvalue\\_stat\\_bmp9\\_VS\\_stat\\_cont'\n",
       "\\item 'FDR\\_stat\\_bmp9\\_VS\\_stat\\_cont'\n",
       "\\item 'Conc.x'\n",
       "\\item 'Conc\\_stat\\_bmp9'\n",
       "\\item 'Conc\\_stat\\_cont.x'\n",
       "\\item 'TSS\\_seq.x'\n",
       "\\item 'TSS\\_start.x'\n",
       "\\item 'TSS\\_end.x'\n",
       "\\item 'TSS\\_ENSEMBL.x'\n",
       "\\item 'TSS\\_interval.x'\n",
       "\\item 'TSS\\_strand.x'\n",
       "\\item 'TSS\\_sth.x'\n",
       "\\item 'seqnames.y'\n",
       "\\item 'start.y'\n",
       "\\item 'end.y'\n",
       "\\item 'width.y'\n",
       "\\item 'strand.y'\n",
       "\\item 'gene\\_symbol.y'\n",
       "\\item 'fold\\_change\\_flow\\_cont\\_VS\\_stat\\_cont'\n",
       "\\item 'pvalue\\_flow\\_cont\\_VS\\_stat\\_cont'\n",
       "\\item 'FDR\\_flow\\_cont\\_VS\\_stat\\_cont'\n",
       "\\item 'Conc.y'\n",
       "\\item 'Conc\\_flow\\_cont'\n",
       "\\item 'Conc\\_stat\\_cont.y'\n",
       "\\item 'TSS\\_seq.y'\n",
       "\\item 'TSS\\_start.y'\n",
       "\\item 'TSS\\_end.y'\n",
       "\\item 'TSS\\_ENSEMBL.y'\n",
       "\\item 'TSS\\_interval.y'\n",
       "\\item 'TSS\\_strand.y'\n",
       "\\item 'TSS\\_sth.y'\n",
       "\\end{enumerate*}\n"
      ],
      "text/markdown": [
       "1. 'regions'\n",
       "2. 'seqnames'\n",
       "3. 'start'\n",
       "4. 'end'\n",
       "5. 'width'\n",
       "6. 'strand'\n",
       "7. 'gene_symbol'\n",
       "8. 'fold_change_flow_bmp9_VS_stat_cont'\n",
       "9. 'pvalue_flow_bmp9_VS_stat_cont'\n",
       "10. 'FDR_flow_bmp9_VS_stat_cont'\n",
       "11. 'Conc'\n",
       "12. 'Conc_flow_bmp9'\n",
       "13. 'Conc_stat_cont'\n",
       "14. 'TSS_seq'\n",
       "15. 'TSS_start'\n",
       "16. 'TSS_end'\n",
       "17. 'TSS_ENSEMBL'\n",
       "18. 'TSS_interval'\n",
       "19. 'TSS_strand'\n",
       "20. 'TSS_sth'\n",
       "21. 'seqnames.x'\n",
       "22. 'start.x'\n",
       "23. 'end.x'\n",
       "24. 'width.x'\n",
       "25. 'strand.x'\n",
       "26. 'gene_symbol.x'\n",
       "27. 'fold_change_stat_bmp9_VS_stat_cont'\n",
       "28. 'pvalue_stat_bmp9_VS_stat_cont'\n",
       "29. 'FDR_stat_bmp9_VS_stat_cont'\n",
       "30. 'Conc.x'\n",
       "31. 'Conc_stat_bmp9'\n",
       "32. 'Conc_stat_cont.x'\n",
       "33. 'TSS_seq.x'\n",
       "34. 'TSS_start.x'\n",
       "35. 'TSS_end.x'\n",
       "36. 'TSS_ENSEMBL.x'\n",
       "37. 'TSS_interval.x'\n",
       "38. 'TSS_strand.x'\n",
       "39. 'TSS_sth.x'\n",
       "40. 'seqnames.y'\n",
       "41. 'start.y'\n",
       "42. 'end.y'\n",
       "43. 'width.y'\n",
       "44. 'strand.y'\n",
       "45. 'gene_symbol.y'\n",
       "46. 'fold_change_flow_cont_VS_stat_cont'\n",
       "47. 'pvalue_flow_cont_VS_stat_cont'\n",
       "48. 'FDR_flow_cont_VS_stat_cont'\n",
       "49. 'Conc.y'\n",
       "50. 'Conc_flow_cont'\n",
       "51. 'Conc_stat_cont.y'\n",
       "52. 'TSS_seq.y'\n",
       "53. 'TSS_start.y'\n",
       "54. 'TSS_end.y'\n",
       "55. 'TSS_ENSEMBL.y'\n",
       "56. 'TSS_interval.y'\n",
       "57. 'TSS_strand.y'\n",
       "58. 'TSS_sth.y'\n",
       "\n",
       "\n"
      ],
      "text/plain": [
       " [1] \"regions\"                            \"seqnames\"                          \n",
       " [3] \"start\"                              \"end\"                               \n",
       " [5] \"width\"                              \"strand\"                            \n",
       " [7] \"gene_symbol\"                        \"fold_change_flow_bmp9_VS_stat_cont\"\n",
       " [9] \"pvalue_flow_bmp9_VS_stat_cont\"      \"FDR_flow_bmp9_VS_stat_cont\"        \n",
       "[11] \"Conc\"                               \"Conc_flow_bmp9\"                    \n",
       "[13] \"Conc_stat_cont\"                     \"TSS_seq\"                           \n",
       "[15] \"TSS_start\"                          \"TSS_end\"                           \n",
       "[17] \"TSS_ENSEMBL\"                        \"TSS_interval\"                      \n",
       "[19] \"TSS_strand\"                         \"TSS_sth\"                           \n",
       "[21] \"seqnames.x\"                         \"start.x\"                           \n",
       "[23] \"end.x\"                              \"width.x\"                           \n",
       "[25] \"strand.x\"                           \"gene_symbol.x\"                     \n",
       "[27] \"fold_change_stat_bmp9_VS_stat_cont\" \"pvalue_stat_bmp9_VS_stat_cont\"     \n",
       "[29] \"FDR_stat_bmp9_VS_stat_cont\"         \"Conc.x\"                            \n",
       "[31] \"Conc_stat_bmp9\"                     \"Conc_stat_cont.x\"                  \n",
       "[33] \"TSS_seq.x\"                          \"TSS_start.x\"                       \n",
       "[35] \"TSS_end.x\"                          \"TSS_ENSEMBL.x\"                     \n",
       "[37] \"TSS_interval.x\"                     \"TSS_strand.x\"                      \n",
       "[39] \"TSS_sth.x\"                          \"seqnames.y\"                        \n",
       "[41] \"start.y\"                            \"end.y\"                             \n",
       "[43] \"width.y\"                            \"strand.y\"                          \n",
       "[45] \"gene_symbol.y\"                      \"fold_change_flow_cont_VS_stat_cont\"\n",
       "[47] \"pvalue_flow_cont_VS_stat_cont\"      \"FDR_flow_cont_VS_stat_cont\"        \n",
       "[49] \"Conc.y\"                             \"Conc_flow_cont\"                    \n",
       "[51] \"Conc_stat_cont.y\"                   \"TSS_seq.y\"                         \n",
       "[53] \"TSS_start.y\"                        \"TSS_end.y\"                         \n",
       "[55] \"TSS_ENSEMBL.y\"                      \"TSS_interval.y\"                    \n",
       "[57] \"TSS_strand.y\"                       \"TSS_sth.y\"                         "
      ]
     },
     "metadata": {},
     "output_type": "display_data"
    }
   ],
   "source": [
    "colnames(flow_bmp9_VS_stat_cont_within_above_common_regions_df_annotated)"
   ]
  },
  {
   "cell_type": "code",
   "execution_count": 61,
   "id": "6e2a5be4-95b1-4087-aa09-bb73e4e81574",
   "metadata": {},
   "outputs": [
    {
     "data": {
      "text/html": [
       "<table class=\"dataframe\">\n",
       "<caption>A data.frame: 6 × 19</caption>\n",
       "<thead>\n",
       "\t<tr><th></th><th scope=col>seqnames</th><th scope=col>start</th><th scope=col>end</th><th scope=col>fold_change_flow_bmp9_VS_stat_cont</th><th scope=col>pvalue_flow_bmp9_VS_stat_cont</th><th scope=col>FDR_flow_bmp9_VS_stat_cont</th><th scope=col>fold_change_stat_bmp9_VS_stat_cont</th><th scope=col>pvalue_stat_bmp9_VS_stat_cont</th><th scope=col>FDR_stat_bmp9_VS_stat_cont</th><th scope=col>fold_change_flow_cont_VS_stat_cont</th><th scope=col>pvalue_flow_cont_VS_stat_cont</th><th scope=col>FDR_flow_cont_VS_stat_cont</th><th scope=col>gene_symbol</th><th scope=col>TSS_seq</th><th scope=col>TSS_start</th><th scope=col>TSS_end</th><th scope=col>TSS_ENSEMBL</th><th scope=col>TSS_interval</th><th scope=col>TSS_strand</th></tr>\n",
       "\t<tr><th></th><th scope=col>&lt;fct&gt;</th><th scope=col>&lt;int&gt;</th><th scope=col>&lt;int&gt;</th><th scope=col>&lt;dbl&gt;</th><th scope=col>&lt;dbl&gt;</th><th scope=col>&lt;dbl&gt;</th><th scope=col>&lt;dbl&gt;</th><th scope=col>&lt;dbl&gt;</th><th scope=col>&lt;dbl&gt;</th><th scope=col>&lt;dbl&gt;</th><th scope=col>&lt;dbl&gt;</th><th scope=col>&lt;dbl&gt;</th><th scope=col>&lt;chr&gt;</th><th scope=col>&lt;chr&gt;</th><th scope=col>&lt;int&gt;</th><th scope=col>&lt;int&gt;</th><th scope=col>&lt;chr&gt;</th><th scope=col>&lt;int&gt;</th><th scope=col>&lt;chr&gt;</th></tr>\n",
       "</thead>\n",
       "<tbody>\n",
       "\t<tr><th scope=row>1</th><td>chr10</td><td>101165700</td><td>101166101</td><td> 0.6767495</td><td>8.848151e-04</td><td>8.591324e-03</td><td> 0.7180449</td><td>2.417245e-04</td><td>6.157302e-03</td><td> 0.6015538</td><td>4.489029e-03</td><td>0.0301117416</td><td>TLX1   </td><td>chr10</td><td>101130503</td><td>101130504</td><td>ENSG00000107807.12</td><td>0</td><td>+</td></tr>\n",
       "\t<tr><th scope=row>2</th><td>chr10</td><td>102661063</td><td>102661464</td><td>-0.6416361</td><td>1.243928e-03</td><td>1.125463e-02</td><td>-0.5197182</td><td>3.922810e-03</td><td>4.115763e-02</td><td>-0.6978627</td><td>8.208342e-04</td><td>0.0086843637</td><td>TRIM8  </td><td>chr10</td><td>102642308</td><td>102642309</td><td>ENSG00000171206.14</td><td>0</td><td>+</td></tr>\n",
       "\t<tr><th scope=row>3</th><td>chr10</td><td>103104618</td><td>103105019</td><td> 1.1274411</td><td>2.063920e-05</td><td>3.915807e-04</td><td> 1.3187677</td><td>1.011527e-07</td><td>1.412294e-05</td><td> 0.7370003</td><td>4.493889e-03</td><td>0.0301327685</td><td>NT5C2  </td><td>chr10</td><td>103193306</td><td>103193307</td><td>ENSG00000076685.18</td><td>0</td><td>-</td></tr>\n",
       "\t<tr><th scope=row>4</th><td>chr10</td><td>103479084</td><td>103479485</td><td> 1.0074396</td><td>2.689366e-04</td><td>3.303061e-03</td><td>-0.8311945</td><td>1.293910e-03</td><td>1.983716e-02</td><td> 1.0415286</td><td>1.907928e-04</td><td>0.0027884499</td><td>CALHM3 </td><td>chr10</td><td>103479240</td><td>103479241</td><td>ENSG00000183128.7 </td><td>0</td><td>-</td></tr>\n",
       "\t<tr><th scope=row>5</th><td>chr10</td><td>104036359</td><td>104036760</td><td> 0.6484259</td><td>7.312892e-03</td><td>4.390783e-02</td><td>-0.6853510</td><td>3.477032e-03</td><td>3.808467e-02</td><td> 0.9262665</td><td>3.320471e-04</td><td>0.0043144490</td><td>COL17A1</td><td>chr10</td><td>104085957</td><td>104085958</td><td>ENSG00000065618.19</td><td>0</td><td>-</td></tr>\n",
       "\t<tr><th scope=row>6</th><td>chr10</td><td>104109874</td><td>104110275</td><td> 1.1111229</td><td>6.025896e-09</td><td>3.459142e-07</td><td> 0.8699810</td><td>1.748163e-06</td><td>1.431308e-04</td><td> 0.8761181</td><td>4.747858e-06</td><td>0.0001320915</td><td>SFR1   </td><td>chr10</td><td>104122056</td><td>104122057</td><td>ENSG00000156384.14</td><td>0</td><td>+</td></tr>\n",
       "</tbody>\n",
       "</table>\n"
      ],
      "text/latex": [
       "A data.frame: 6 × 19\n",
       "\\begin{tabular}{r|lllllllllllllllllll}\n",
       "  & seqnames & start & end & fold\\_change\\_flow\\_bmp9\\_VS\\_stat\\_cont & pvalue\\_flow\\_bmp9\\_VS\\_stat\\_cont & FDR\\_flow\\_bmp9\\_VS\\_stat\\_cont & fold\\_change\\_stat\\_bmp9\\_VS\\_stat\\_cont & pvalue\\_stat\\_bmp9\\_VS\\_stat\\_cont & FDR\\_stat\\_bmp9\\_VS\\_stat\\_cont & fold\\_change\\_flow\\_cont\\_VS\\_stat\\_cont & pvalue\\_flow\\_cont\\_VS\\_stat\\_cont & FDR\\_flow\\_cont\\_VS\\_stat\\_cont & gene\\_symbol & TSS\\_seq & TSS\\_start & TSS\\_end & TSS\\_ENSEMBL & TSS\\_interval & TSS\\_strand\\\\\n",
       "  & <fct> & <int> & <int> & <dbl> & <dbl> & <dbl> & <dbl> & <dbl> & <dbl> & <dbl> & <dbl> & <dbl> & <chr> & <chr> & <int> & <int> & <chr> & <int> & <chr>\\\\\n",
       "\\hline\n",
       "\t1 & chr10 & 101165700 & 101166101 &  0.6767495 & 8.848151e-04 & 8.591324e-03 &  0.7180449 & 2.417245e-04 & 6.157302e-03 &  0.6015538 & 4.489029e-03 & 0.0301117416 & TLX1    & chr10 & 101130503 & 101130504 & ENSG00000107807.12 & 0 & +\\\\\n",
       "\t2 & chr10 & 102661063 & 102661464 & -0.6416361 & 1.243928e-03 & 1.125463e-02 & -0.5197182 & 3.922810e-03 & 4.115763e-02 & -0.6978627 & 8.208342e-04 & 0.0086843637 & TRIM8   & chr10 & 102642308 & 102642309 & ENSG00000171206.14 & 0 & +\\\\\n",
       "\t3 & chr10 & 103104618 & 103105019 &  1.1274411 & 2.063920e-05 & 3.915807e-04 &  1.3187677 & 1.011527e-07 & 1.412294e-05 &  0.7370003 & 4.493889e-03 & 0.0301327685 & NT5C2   & chr10 & 103193306 & 103193307 & ENSG00000076685.18 & 0 & -\\\\\n",
       "\t4 & chr10 & 103479084 & 103479485 &  1.0074396 & 2.689366e-04 & 3.303061e-03 & -0.8311945 & 1.293910e-03 & 1.983716e-02 &  1.0415286 & 1.907928e-04 & 0.0027884499 & CALHM3  & chr10 & 103479240 & 103479241 & ENSG00000183128.7  & 0 & -\\\\\n",
       "\t5 & chr10 & 104036359 & 104036760 &  0.6484259 & 7.312892e-03 & 4.390783e-02 & -0.6853510 & 3.477032e-03 & 3.808467e-02 &  0.9262665 & 3.320471e-04 & 0.0043144490 & COL17A1 & chr10 & 104085957 & 104085958 & ENSG00000065618.19 & 0 & -\\\\\n",
       "\t6 & chr10 & 104109874 & 104110275 &  1.1111229 & 6.025896e-09 & 3.459142e-07 &  0.8699810 & 1.748163e-06 & 1.431308e-04 &  0.8761181 & 4.747858e-06 & 0.0001320915 & SFR1    & chr10 & 104122056 & 104122057 & ENSG00000156384.14 & 0 & +\\\\\n",
       "\\end{tabular}\n"
      ],
      "text/markdown": [
       "\n",
       "A data.frame: 6 × 19\n",
       "\n",
       "| <!--/--> | seqnames &lt;fct&gt; | start &lt;int&gt; | end &lt;int&gt; | fold_change_flow_bmp9_VS_stat_cont &lt;dbl&gt; | pvalue_flow_bmp9_VS_stat_cont &lt;dbl&gt; | FDR_flow_bmp9_VS_stat_cont &lt;dbl&gt; | fold_change_stat_bmp9_VS_stat_cont &lt;dbl&gt; | pvalue_stat_bmp9_VS_stat_cont &lt;dbl&gt; | FDR_stat_bmp9_VS_stat_cont &lt;dbl&gt; | fold_change_flow_cont_VS_stat_cont &lt;dbl&gt; | pvalue_flow_cont_VS_stat_cont &lt;dbl&gt; | FDR_flow_cont_VS_stat_cont &lt;dbl&gt; | gene_symbol &lt;chr&gt; | TSS_seq &lt;chr&gt; | TSS_start &lt;int&gt; | TSS_end &lt;int&gt; | TSS_ENSEMBL &lt;chr&gt; | TSS_interval &lt;int&gt; | TSS_strand &lt;chr&gt; |\n",
       "|---|---|---|---|---|---|---|---|---|---|---|---|---|---|---|---|---|---|---|---|\n",
       "| 1 | chr10 | 101165700 | 101166101 |  0.6767495 | 8.848151e-04 | 8.591324e-03 |  0.7180449 | 2.417245e-04 | 6.157302e-03 |  0.6015538 | 4.489029e-03 | 0.0301117416 | TLX1    | chr10 | 101130503 | 101130504 | ENSG00000107807.12 | 0 | + |\n",
       "| 2 | chr10 | 102661063 | 102661464 | -0.6416361 | 1.243928e-03 | 1.125463e-02 | -0.5197182 | 3.922810e-03 | 4.115763e-02 | -0.6978627 | 8.208342e-04 | 0.0086843637 | TRIM8   | chr10 | 102642308 | 102642309 | ENSG00000171206.14 | 0 | + |\n",
       "| 3 | chr10 | 103104618 | 103105019 |  1.1274411 | 2.063920e-05 | 3.915807e-04 |  1.3187677 | 1.011527e-07 | 1.412294e-05 |  0.7370003 | 4.493889e-03 | 0.0301327685 | NT5C2   | chr10 | 103193306 | 103193307 | ENSG00000076685.18 | 0 | - |\n",
       "| 4 | chr10 | 103479084 | 103479485 |  1.0074396 | 2.689366e-04 | 3.303061e-03 | -0.8311945 | 1.293910e-03 | 1.983716e-02 |  1.0415286 | 1.907928e-04 | 0.0027884499 | CALHM3  | chr10 | 103479240 | 103479241 | ENSG00000183128.7  | 0 | - |\n",
       "| 5 | chr10 | 104036359 | 104036760 |  0.6484259 | 7.312892e-03 | 4.390783e-02 | -0.6853510 | 3.477032e-03 | 3.808467e-02 |  0.9262665 | 3.320471e-04 | 0.0043144490 | COL17A1 | chr10 | 104085957 | 104085958 | ENSG00000065618.19 | 0 | - |\n",
       "| 6 | chr10 | 104109874 | 104110275 |  1.1111229 | 6.025896e-09 | 3.459142e-07 |  0.8699810 | 1.748163e-06 | 1.431308e-04 |  0.8761181 | 4.747858e-06 | 0.0001320915 | SFR1    | chr10 | 104122056 | 104122057 | ENSG00000156384.14 | 0 | + |\n",
       "\n"
      ],
      "text/plain": [
       "  seqnames start     end       fold_change_flow_bmp9_VS_stat_cont\n",
       "1 chr10    101165700 101166101  0.6767495                        \n",
       "2 chr10    102661063 102661464 -0.6416361                        \n",
       "3 chr10    103104618 103105019  1.1274411                        \n",
       "4 chr10    103479084 103479485  1.0074396                        \n",
       "5 chr10    104036359 104036760  0.6484259                        \n",
       "6 chr10    104109874 104110275  1.1111229                        \n",
       "  pvalue_flow_bmp9_VS_stat_cont FDR_flow_bmp9_VS_stat_cont\n",
       "1 8.848151e-04                  8.591324e-03              \n",
       "2 1.243928e-03                  1.125463e-02              \n",
       "3 2.063920e-05                  3.915807e-04              \n",
       "4 2.689366e-04                  3.303061e-03              \n",
       "5 7.312892e-03                  4.390783e-02              \n",
       "6 6.025896e-09                  3.459142e-07              \n",
       "  fold_change_stat_bmp9_VS_stat_cont pvalue_stat_bmp9_VS_stat_cont\n",
       "1  0.7180449                         2.417245e-04                 \n",
       "2 -0.5197182                         3.922810e-03                 \n",
       "3  1.3187677                         1.011527e-07                 \n",
       "4 -0.8311945                         1.293910e-03                 \n",
       "5 -0.6853510                         3.477032e-03                 \n",
       "6  0.8699810                         1.748163e-06                 \n",
       "  FDR_stat_bmp9_VS_stat_cont fold_change_flow_cont_VS_stat_cont\n",
       "1 6.157302e-03                0.6015538                        \n",
       "2 4.115763e-02               -0.6978627                        \n",
       "3 1.412294e-05                0.7370003                        \n",
       "4 1.983716e-02                1.0415286                        \n",
       "5 3.808467e-02                0.9262665                        \n",
       "6 1.431308e-04                0.8761181                        \n",
       "  pvalue_flow_cont_VS_stat_cont FDR_flow_cont_VS_stat_cont gene_symbol TSS_seq\n",
       "1 4.489029e-03                  0.0301117416               TLX1        chr10  \n",
       "2 8.208342e-04                  0.0086843637               TRIM8       chr10  \n",
       "3 4.493889e-03                  0.0301327685               NT5C2       chr10  \n",
       "4 1.907928e-04                  0.0027884499               CALHM3      chr10  \n",
       "5 3.320471e-04                  0.0043144490               COL17A1     chr10  \n",
       "6 4.747858e-06                  0.0001320915               SFR1        chr10  \n",
       "  TSS_start TSS_end   TSS_ENSEMBL        TSS_interval TSS_strand\n",
       "1 101130503 101130504 ENSG00000107807.12 0            +         \n",
       "2 102642308 102642309 ENSG00000171206.14 0            +         \n",
       "3 103193306 103193307 ENSG00000076685.18 0            -         \n",
       "4 103479240 103479241 ENSG00000183128.7  0            -         \n",
       "5 104085957 104085958 ENSG00000065618.19 0            -         \n",
       "6 104122056 104122057 ENSG00000156384.14 0            +         "
      ]
     },
     "metadata": {},
     "output_type": "display_data"
    }
   ],
   "source": [
    "flow_bmp9_VS_stat_cont_within_above_common_regions_df_annotated_out = flow_bmp9_VS_stat_cont_within_above_common_regions_df_annotated[c('seqnames','start','end','fold_change_flow_bmp9_VS_stat_cont','pvalue_flow_bmp9_VS_stat_cont','FDR_flow_bmp9_VS_stat_cont','fold_change_stat_bmp9_VS_stat_cont','pvalue_stat_bmp9_VS_stat_cont','FDR_stat_bmp9_VS_stat_cont','fold_change_flow_cont_VS_stat_cont','pvalue_flow_cont_VS_stat_cont','FDR_flow_cont_VS_stat_cont','gene_symbol','TSS_seq','TSS_start','TSS_end','TSS_ENSEMBL','TSS_interval','TSS_strand')]\n",
    "head(flow_bmp9_VS_stat_cont_within_above_common_regions_df_annotated_out)"
   ]
  },
  {
   "cell_type": "code",
   "execution_count": 61,
   "id": "a781c4c8-56ff-4e53-ae99-3ec8f08a487d",
   "metadata": {},
   "outputs": [],
   "source": [
    "write.table( x = flow_bmp9_VS_stat_cont_within_above_common_regions_df_annotated_out, file = \"/project/Mechanogenomics_data/ATACseq_analysis/DiffAcc/results/Q2/FSS_bmp9_VS_stat_cont_within_bmp9_FSS_exact_matching_regions_annotated.csv\", sep=\",\", col.names=TRUE, row.names=FALSE, quote=FALSE )\n"
   ]
  },
  {
   "cell_type": "code",
   "execution_count": 62,
   "id": "51f9a628-a386-469e-8fbe-6941aee1b75e",
   "metadata": {},
   "outputs": [],
   "source": [
    "write.table(flow_bmp9_VS_stat_cont_within_above_common_regions_df_annotated_out, file=\"/project/Mechanogenomics_data/ATACseq_analysis/DiffAcc/results/Q2/bed/FSS_bmp9_VS_stat_cont_within_bmp9_FSS_exact_matching_regions_annotated.bed\", quote=F, sep=\"\\t\", row.names=F, col.names=F)\n"
   ]
  },
  {
   "cell_type": "markdown",
   "id": "839714f0-f4fc-4d5b-9996-7e8976a7e6c1",
   "metadata": {},
   "source": [
    "### regions specific to double flow+bmp9 condition"
   ]
  },
  {
   "cell_type": "code",
   "execution_count": 62,
   "id": "9b68d7cf-4e63-4d45-8615-958410ad961e",
   "metadata": {},
   "outputs": [
    {
     "data": {
      "text/html": [
       "<table class=\"dataframe\">\n",
       "<caption>A data.frame: 20 × 17</caption>\n",
       "<thead>\n",
       "\t<tr><th></th><th scope=col>V1</th><th scope=col>V2</th><th scope=col>V3</th><th scope=col>V4</th><th scope=col>V5</th><th scope=col>V6</th><th scope=col>V7</th><th scope=col>V8</th><th scope=col>V9</th><th scope=col>V10</th><th scope=col>V11</th><th scope=col>V12</th><th scope=col>V13</th><th scope=col>V14</th><th scope=col>V15</th><th scope=col>V16</th><th scope=col>V17</th></tr>\n",
       "\t<tr><th></th><th scope=col>&lt;chr&gt;</th><th scope=col>&lt;int&gt;</th><th scope=col>&lt;int&gt;</th><th scope=col>&lt;chr&gt;</th><th scope=col>&lt;dbl&gt;</th><th scope=col>&lt;dbl&gt;</th><th scope=col>&lt;dbl&gt;</th><th scope=col>&lt;dbl&gt;</th><th scope=col>&lt;dbl&gt;</th><th scope=col>&lt;dbl&gt;</th><th scope=col>&lt;chr&gt;</th><th scope=col>&lt;int&gt;</th><th scope=col>&lt;int&gt;</th><th scope=col>&lt;chr&gt;</th><th scope=col>&lt;int&gt;</th><th scope=col>&lt;chr&gt;</th><th scope=col>&lt;int&gt;</th></tr>\n",
       "</thead>\n",
       "<tbody>\n",
       "\t<tr><th scope=row>1</th><td>chr1</td><td> 932837</td><td> 933238</td><td>SAMD11  </td><td> 0.8475958</td><td>0.0031288310</td><td>0.023063050</td><td> 5.772332</td><td>6.286556</td><td> 4.965847</td><td>chr1</td><td> 923926</td><td> 923927</td><td>ENSG00000187634.11</td><td>0</td><td>+</td><td> 8911</td></tr>\n",
       "\t<tr><th scope=row>2</th><td>chr1</td><td> 938076</td><td> 938477</td><td>SAMD11  </td><td>-0.5586823</td><td>0.0032798886</td><td>0.023923271</td><td> 7.557516</td><td>7.172091</td><td> 7.861380</td><td>chr1</td><td> 923926</td><td> 923927</td><td>ENSG00000187634.11</td><td>0</td><td>+</td><td>14150</td></tr>\n",
       "\t<tr><th scope=row>3</th><td>chr1</td><td>1005209</td><td>1005610</td><td>ISG15   </td><td>-0.5403652</td><td>0.0068509922</td><td>0.041843265</td><td> 7.760584</td><td>7.367286</td><td> 8.069310</td><td>chr1</td><td>1001136</td><td>1001137</td><td>ENSG00000187608.9 </td><td>0</td><td>+</td><td> 4073</td></tr>\n",
       "\t<tr><th scope=row>4</th><td>chr1</td><td>1040639</td><td>1041040</td><td>AGRN    </td><td>-0.7960359</td><td>0.0003339975</td><td>0.003938498</td><td> 8.627618</td><td>8.039911</td><td> 9.044025</td><td>chr1</td><td>1020121</td><td>1020122</td><td>ENSG00000188157.14</td><td>0</td><td>+</td><td>20518</td></tr>\n",
       "\t<tr><th scope=row>5</th><td>chr1</td><td>1059451</td><td>1059852</td><td>RNF223  </td><td>-0.7505437</td><td>0.0002121204</td><td>0.002716595</td><td> 8.495040</td><td>7.960277</td><td> 8.884307</td><td>chr1</td><td>1074307</td><td>1074308</td><td>ENSG00000237330.2 </td><td>0</td><td>-</td><td>14456</td></tr>\n",
       "\t<tr><th scope=row>6</th><td>chr1</td><td>1072137</td><td>1072538</td><td>RNF223  </td><td> 0.7389463</td><td>0.0049684433</td><td>0.032877171</td><td> 6.131999</td><td>6.579740</td><td> 5.479318</td><td>chr1</td><td>1074307</td><td>1074308</td><td>ENSG00000237330.2 </td><td>0</td><td>-</td><td> 1770</td></tr>\n",
       "\t<tr><th scope=row>7</th><td>chr1</td><td>1079385</td><td>1079786</td><td>RNF223  </td><td>-0.6755431</td><td>0.0008305223</td><td>0.008164265</td><td> 8.626380</td><td>8.147063</td><td> 8.985544</td><td>chr1</td><td>1074307</td><td>1074308</td><td>ENSG00000237330.2 </td><td>0</td><td>-</td><td> 5078</td></tr>\n",
       "\t<tr><th scope=row>8</th><td>chr1</td><td>1149971</td><td>1150372</td><td>TTLL10  </td><td> 0.9884808</td><td>0.0010490113</td><td>0.009834205</td><td> 5.687819</td><td>6.268717</td><td> 4.699944</td><td>chr1</td><td>1173882</td><td>1173883</td><td>ENSG00000162571.13</td><td>0</td><td>+</td><td>23511</td></tr>\n",
       "\t<tr><th scope=row>9</th><td>chr1</td><td>1179347</td><td>1179748</td><td>TTLL10  </td><td> 0.8311498</td><td>0.0036685120</td><td>0.026076299</td><td> 5.695191</td><td>6.211622</td><td> 4.883183</td><td>chr1</td><td>1173882</td><td>1173883</td><td>ENSG00000162571.13</td><td>0</td><td>+</td><td> 5465</td></tr>\n",
       "\t<tr><th scope=row>10</th><td>chr1</td><td>1198179</td><td>1198580</td><td>TNFRSF18</td><td> 0.8917788</td><td>0.0014828885</td><td>0.012921548</td><td> 5.543359</td><td>6.038451</td><td> 4.783586</td><td>chr1</td><td>1206691</td><td>1206692</td><td>ENSG00000186891.13</td><td>0</td><td>-</td><td> 8112</td></tr>\n",
       "\t<tr><th scope=row>11</th><td>chr1</td><td>1212809</td><td>1213210</td><td>TNFRSF4 </td><td>-0.4941372</td><td>0.0064241465</td><td>0.039889358</td><td> 7.816148</td><td>7.480000</td><td> 8.088585</td><td>chr1</td><td>1214138</td><td>1214139</td><td>ENSG00000186827.10</td><td>0</td><td>-</td><td>  929</td></tr>\n",
       "\t<tr><th scope=row>12</th><td>chr1</td><td>1243376</td><td>1243777</td><td>C1QTNF12</td><td> 0.8227122</td><td>0.0015997166</td><td>0.013707580</td><td> 6.181795</td><td>6.650906</td><td> 5.482199</td><td>chr1</td><td>1246722</td><td>1246723</td><td>ENSG00000184163.3 </td><td>0</td><td>-</td><td> 2946</td></tr>\n",
       "\t<tr><th scope=row>13</th><td>chr1</td><td>1282891</td><td>1283292</td><td>SCNN1D  </td><td> 0.7619232</td><td>0.0013531276</td><td>0.012025406</td><td> 6.309141</td><td>6.725680</td><td> 5.721169</td><td>chr1</td><td>1280434</td><td>1280435</td><td>ENSG00000162572.20</td><td>0</td><td>+</td><td> 2457</td></tr>\n",
       "\t<tr><th scope=row>14</th><td>chr1</td><td>1333540</td><td>1333941</td><td>TAS1R3  </td><td> 0.7620799</td><td>0.0032435786</td><td>0.023725490</td><td> 6.300671</td><td>6.760582</td><td> 5.621542</td><td>chr1</td><td>1331312</td><td>1331313</td><td>ENSG00000169962.4 </td><td>0</td><td>+</td><td> 2228</td></tr>\n",
       "\t<tr><th scope=row>15</th><td>chr1</td><td>1614193</td><td>1614594</td><td>MIB2    </td><td>-0.5963609</td><td>0.0044285211</td><td>0.030117989</td><td> 7.373250</td><td>6.912927</td><td> 7.721683</td><td>chr1</td><td>1615413</td><td>1615414</td><td>ENSG00000197530.12</td><td>0</td><td>+</td><td>  820</td></tr>\n",
       "\t<tr><th scope=row>16</th><td>chr1</td><td>1919258</td><td>1919659</td><td>TMEM52  </td><td>-0.7308363</td><td>0.0065099384</td><td>0.040281805</td><td>10.243009</td><td>9.617282</td><td>10.678004</td><td>chr1</td><td>1919273</td><td>1919274</td><td>ENSG00000178821.12</td><td>0</td><td>-</td><td>    0</td></tr>\n",
       "\t<tr><th scope=row>17</th><td>chr1</td><td>1925619</td><td>1926020</td><td>TMEM52  </td><td> 0.6935497</td><td>0.0080734129</td><td>0.047271739</td><td> 6.411599</td><td>6.850501</td><td> 5.777688</td><td>chr1</td><td>1919273</td><td>1919274</td><td>ENSG00000178821.12</td><td>0</td><td>-</td><td> 6346</td></tr>\n",
       "\t<tr><th scope=row>18</th><td>chr1</td><td>1927751</td><td>1928152</td><td>TMEM52  </td><td> 0.8119941</td><td>0.0055768849</td><td>0.035856834</td><td> 5.565707</td><td>6.077852</td><td> 4.764403</td><td>chr1</td><td>1919273</td><td>1919274</td><td>ENSG00000178821.12</td><td>0</td><td>-</td><td> 8478</td></tr>\n",
       "\t<tr><th scope=row>19</th><td>chr1</td><td>1928460</td><td>1928861</td><td>TMEM52  </td><td> 0.7520382</td><td>0.0040931456</td><td>0.028370184</td><td> 5.898792</td><td>6.346970</td><td> 5.245173</td><td>chr1</td><td>1919273</td><td>1919274</td><td>ENSG00000178821.12</td><td>0</td><td>-</td><td> 9187</td></tr>\n",
       "\t<tr><th scope=row>20</th><td>chr1</td><td>1975587</td><td>1975988</td><td>CFAP74  </td><td> 1.1618161</td><td>0.0005994301</td><td>0.006305126</td><td> 5.177670</td><td>5.858454</td><td> 3.844843</td><td>chr1</td><td>2003837</td><td>2003838</td><td>ENSG00000142609.18</td><td>0</td><td>-</td><td>27850</td></tr>\n",
       "</tbody>\n",
       "</table>\n"
      ],
      "text/latex": [
       "A data.frame: 20 × 17\n",
       "\\begin{tabular}{r|lllllllllllllllll}\n",
       "  & V1 & V2 & V3 & V4 & V5 & V6 & V7 & V8 & V9 & V10 & V11 & V12 & V13 & V14 & V15 & V16 & V17\\\\\n",
       "  & <chr> & <int> & <int> & <chr> & <dbl> & <dbl> & <dbl> & <dbl> & <dbl> & <dbl> & <chr> & <int> & <int> & <chr> & <int> & <chr> & <int>\\\\\n",
       "\\hline\n",
       "\t1 & chr1 &  932837 &  933238 & SAMD11   &  0.8475958 & 0.0031288310 & 0.023063050 &  5.772332 & 6.286556 &  4.965847 & chr1 &  923926 &  923927 & ENSG00000187634.11 & 0 & + &  8911\\\\\n",
       "\t2 & chr1 &  938076 &  938477 & SAMD11   & -0.5586823 & 0.0032798886 & 0.023923271 &  7.557516 & 7.172091 &  7.861380 & chr1 &  923926 &  923927 & ENSG00000187634.11 & 0 & + & 14150\\\\\n",
       "\t3 & chr1 & 1005209 & 1005610 & ISG15    & -0.5403652 & 0.0068509922 & 0.041843265 &  7.760584 & 7.367286 &  8.069310 & chr1 & 1001136 & 1001137 & ENSG00000187608.9  & 0 & + &  4073\\\\\n",
       "\t4 & chr1 & 1040639 & 1041040 & AGRN     & -0.7960359 & 0.0003339975 & 0.003938498 &  8.627618 & 8.039911 &  9.044025 & chr1 & 1020121 & 1020122 & ENSG00000188157.14 & 0 & + & 20518\\\\\n",
       "\t5 & chr1 & 1059451 & 1059852 & RNF223   & -0.7505437 & 0.0002121204 & 0.002716595 &  8.495040 & 7.960277 &  8.884307 & chr1 & 1074307 & 1074308 & ENSG00000237330.2  & 0 & - & 14456\\\\\n",
       "\t6 & chr1 & 1072137 & 1072538 & RNF223   &  0.7389463 & 0.0049684433 & 0.032877171 &  6.131999 & 6.579740 &  5.479318 & chr1 & 1074307 & 1074308 & ENSG00000237330.2  & 0 & - &  1770\\\\\n",
       "\t7 & chr1 & 1079385 & 1079786 & RNF223   & -0.6755431 & 0.0008305223 & 0.008164265 &  8.626380 & 8.147063 &  8.985544 & chr1 & 1074307 & 1074308 & ENSG00000237330.2  & 0 & - &  5078\\\\\n",
       "\t8 & chr1 & 1149971 & 1150372 & TTLL10   &  0.9884808 & 0.0010490113 & 0.009834205 &  5.687819 & 6.268717 &  4.699944 & chr1 & 1173882 & 1173883 & ENSG00000162571.13 & 0 & + & 23511\\\\\n",
       "\t9 & chr1 & 1179347 & 1179748 & TTLL10   &  0.8311498 & 0.0036685120 & 0.026076299 &  5.695191 & 6.211622 &  4.883183 & chr1 & 1173882 & 1173883 & ENSG00000162571.13 & 0 & + &  5465\\\\\n",
       "\t10 & chr1 & 1198179 & 1198580 & TNFRSF18 &  0.8917788 & 0.0014828885 & 0.012921548 &  5.543359 & 6.038451 &  4.783586 & chr1 & 1206691 & 1206692 & ENSG00000186891.13 & 0 & - &  8112\\\\\n",
       "\t11 & chr1 & 1212809 & 1213210 & TNFRSF4  & -0.4941372 & 0.0064241465 & 0.039889358 &  7.816148 & 7.480000 &  8.088585 & chr1 & 1214138 & 1214139 & ENSG00000186827.10 & 0 & - &   929\\\\\n",
       "\t12 & chr1 & 1243376 & 1243777 & C1QTNF12 &  0.8227122 & 0.0015997166 & 0.013707580 &  6.181795 & 6.650906 &  5.482199 & chr1 & 1246722 & 1246723 & ENSG00000184163.3  & 0 & - &  2946\\\\\n",
       "\t13 & chr1 & 1282891 & 1283292 & SCNN1D   &  0.7619232 & 0.0013531276 & 0.012025406 &  6.309141 & 6.725680 &  5.721169 & chr1 & 1280434 & 1280435 & ENSG00000162572.20 & 0 & + &  2457\\\\\n",
       "\t14 & chr1 & 1333540 & 1333941 & TAS1R3   &  0.7620799 & 0.0032435786 & 0.023725490 &  6.300671 & 6.760582 &  5.621542 & chr1 & 1331312 & 1331313 & ENSG00000169962.4  & 0 & + &  2228\\\\\n",
       "\t15 & chr1 & 1614193 & 1614594 & MIB2     & -0.5963609 & 0.0044285211 & 0.030117989 &  7.373250 & 6.912927 &  7.721683 & chr1 & 1615413 & 1615414 & ENSG00000197530.12 & 0 & + &   820\\\\\n",
       "\t16 & chr1 & 1919258 & 1919659 & TMEM52   & -0.7308363 & 0.0065099384 & 0.040281805 & 10.243009 & 9.617282 & 10.678004 & chr1 & 1919273 & 1919274 & ENSG00000178821.12 & 0 & - &     0\\\\\n",
       "\t17 & chr1 & 1925619 & 1926020 & TMEM52   &  0.6935497 & 0.0080734129 & 0.047271739 &  6.411599 & 6.850501 &  5.777688 & chr1 & 1919273 & 1919274 & ENSG00000178821.12 & 0 & - &  6346\\\\\n",
       "\t18 & chr1 & 1927751 & 1928152 & TMEM52   &  0.8119941 & 0.0055768849 & 0.035856834 &  5.565707 & 6.077852 &  4.764403 & chr1 & 1919273 & 1919274 & ENSG00000178821.12 & 0 & - &  8478\\\\\n",
       "\t19 & chr1 & 1928460 & 1928861 & TMEM52   &  0.7520382 & 0.0040931456 & 0.028370184 &  5.898792 & 6.346970 &  5.245173 & chr1 & 1919273 & 1919274 & ENSG00000178821.12 & 0 & - &  9187\\\\\n",
       "\t20 & chr1 & 1975587 & 1975988 & CFAP74   &  1.1618161 & 0.0005994301 & 0.006305126 &  5.177670 & 5.858454 &  3.844843 & chr1 & 2003837 & 2003838 & ENSG00000142609.18 & 0 & - & 27850\\\\\n",
       "\\end{tabular}\n"
      ],
      "text/markdown": [
       "\n",
       "A data.frame: 20 × 17\n",
       "\n",
       "| <!--/--> | V1 &lt;chr&gt; | V2 &lt;int&gt; | V3 &lt;int&gt; | V4 &lt;chr&gt; | V5 &lt;dbl&gt; | V6 &lt;dbl&gt; | V7 &lt;dbl&gt; | V8 &lt;dbl&gt; | V9 &lt;dbl&gt; | V10 &lt;dbl&gt; | V11 &lt;chr&gt; | V12 &lt;int&gt; | V13 &lt;int&gt; | V14 &lt;chr&gt; | V15 &lt;int&gt; | V16 &lt;chr&gt; | V17 &lt;int&gt; |\n",
       "|---|---|---|---|---|---|---|---|---|---|---|---|---|---|---|---|---|---|\n",
       "| 1 | chr1 |  932837 |  933238 | SAMD11   |  0.8475958 | 0.0031288310 | 0.023063050 |  5.772332 | 6.286556 |  4.965847 | chr1 |  923926 |  923927 | ENSG00000187634.11 | 0 | + |  8911 |\n",
       "| 2 | chr1 |  938076 |  938477 | SAMD11   | -0.5586823 | 0.0032798886 | 0.023923271 |  7.557516 | 7.172091 |  7.861380 | chr1 |  923926 |  923927 | ENSG00000187634.11 | 0 | + | 14150 |\n",
       "| 3 | chr1 | 1005209 | 1005610 | ISG15    | -0.5403652 | 0.0068509922 | 0.041843265 |  7.760584 | 7.367286 |  8.069310 | chr1 | 1001136 | 1001137 | ENSG00000187608.9  | 0 | + |  4073 |\n",
       "| 4 | chr1 | 1040639 | 1041040 | AGRN     | -0.7960359 | 0.0003339975 | 0.003938498 |  8.627618 | 8.039911 |  9.044025 | chr1 | 1020121 | 1020122 | ENSG00000188157.14 | 0 | + | 20518 |\n",
       "| 5 | chr1 | 1059451 | 1059852 | RNF223   | -0.7505437 | 0.0002121204 | 0.002716595 |  8.495040 | 7.960277 |  8.884307 | chr1 | 1074307 | 1074308 | ENSG00000237330.2  | 0 | - | 14456 |\n",
       "| 6 | chr1 | 1072137 | 1072538 | RNF223   |  0.7389463 | 0.0049684433 | 0.032877171 |  6.131999 | 6.579740 |  5.479318 | chr1 | 1074307 | 1074308 | ENSG00000237330.2  | 0 | - |  1770 |\n",
       "| 7 | chr1 | 1079385 | 1079786 | RNF223   | -0.6755431 | 0.0008305223 | 0.008164265 |  8.626380 | 8.147063 |  8.985544 | chr1 | 1074307 | 1074308 | ENSG00000237330.2  | 0 | - |  5078 |\n",
       "| 8 | chr1 | 1149971 | 1150372 | TTLL10   |  0.9884808 | 0.0010490113 | 0.009834205 |  5.687819 | 6.268717 |  4.699944 | chr1 | 1173882 | 1173883 | ENSG00000162571.13 | 0 | + | 23511 |\n",
       "| 9 | chr1 | 1179347 | 1179748 | TTLL10   |  0.8311498 | 0.0036685120 | 0.026076299 |  5.695191 | 6.211622 |  4.883183 | chr1 | 1173882 | 1173883 | ENSG00000162571.13 | 0 | + |  5465 |\n",
       "| 10 | chr1 | 1198179 | 1198580 | TNFRSF18 |  0.8917788 | 0.0014828885 | 0.012921548 |  5.543359 | 6.038451 |  4.783586 | chr1 | 1206691 | 1206692 | ENSG00000186891.13 | 0 | - |  8112 |\n",
       "| 11 | chr1 | 1212809 | 1213210 | TNFRSF4  | -0.4941372 | 0.0064241465 | 0.039889358 |  7.816148 | 7.480000 |  8.088585 | chr1 | 1214138 | 1214139 | ENSG00000186827.10 | 0 | - |   929 |\n",
       "| 12 | chr1 | 1243376 | 1243777 | C1QTNF12 |  0.8227122 | 0.0015997166 | 0.013707580 |  6.181795 | 6.650906 |  5.482199 | chr1 | 1246722 | 1246723 | ENSG00000184163.3  | 0 | - |  2946 |\n",
       "| 13 | chr1 | 1282891 | 1283292 | SCNN1D   |  0.7619232 | 0.0013531276 | 0.012025406 |  6.309141 | 6.725680 |  5.721169 | chr1 | 1280434 | 1280435 | ENSG00000162572.20 | 0 | + |  2457 |\n",
       "| 14 | chr1 | 1333540 | 1333941 | TAS1R3   |  0.7620799 | 0.0032435786 | 0.023725490 |  6.300671 | 6.760582 |  5.621542 | chr1 | 1331312 | 1331313 | ENSG00000169962.4  | 0 | + |  2228 |\n",
       "| 15 | chr1 | 1614193 | 1614594 | MIB2     | -0.5963609 | 0.0044285211 | 0.030117989 |  7.373250 | 6.912927 |  7.721683 | chr1 | 1615413 | 1615414 | ENSG00000197530.12 | 0 | + |   820 |\n",
       "| 16 | chr1 | 1919258 | 1919659 | TMEM52   | -0.7308363 | 0.0065099384 | 0.040281805 | 10.243009 | 9.617282 | 10.678004 | chr1 | 1919273 | 1919274 | ENSG00000178821.12 | 0 | - |     0 |\n",
       "| 17 | chr1 | 1925619 | 1926020 | TMEM52   |  0.6935497 | 0.0080734129 | 0.047271739 |  6.411599 | 6.850501 |  5.777688 | chr1 | 1919273 | 1919274 | ENSG00000178821.12 | 0 | - |  6346 |\n",
       "| 18 | chr1 | 1927751 | 1928152 | TMEM52   |  0.8119941 | 0.0055768849 | 0.035856834 |  5.565707 | 6.077852 |  4.764403 | chr1 | 1919273 | 1919274 | ENSG00000178821.12 | 0 | - |  8478 |\n",
       "| 19 | chr1 | 1928460 | 1928861 | TMEM52   |  0.7520382 | 0.0040931456 | 0.028370184 |  5.898792 | 6.346970 |  5.245173 | chr1 | 1919273 | 1919274 | ENSG00000178821.12 | 0 | - |  9187 |\n",
       "| 20 | chr1 | 1975587 | 1975988 | CFAP74   |  1.1618161 | 0.0005994301 | 0.006305126 |  5.177670 | 5.858454 |  3.844843 | chr1 | 2003837 | 2003838 | ENSG00000142609.18 | 0 | - | 27850 |\n",
       "\n"
      ],
      "text/plain": [
       "   V1   V2      V3      V4       V5         V6           V7          V8       \n",
       "1  chr1  932837  933238 SAMD11    0.8475958 0.0031288310 0.023063050  5.772332\n",
       "2  chr1  938076  938477 SAMD11   -0.5586823 0.0032798886 0.023923271  7.557516\n",
       "3  chr1 1005209 1005610 ISG15    -0.5403652 0.0068509922 0.041843265  7.760584\n",
       "4  chr1 1040639 1041040 AGRN     -0.7960359 0.0003339975 0.003938498  8.627618\n",
       "5  chr1 1059451 1059852 RNF223   -0.7505437 0.0002121204 0.002716595  8.495040\n",
       "6  chr1 1072137 1072538 RNF223    0.7389463 0.0049684433 0.032877171  6.131999\n",
       "7  chr1 1079385 1079786 RNF223   -0.6755431 0.0008305223 0.008164265  8.626380\n",
       "8  chr1 1149971 1150372 TTLL10    0.9884808 0.0010490113 0.009834205  5.687819\n",
       "9  chr1 1179347 1179748 TTLL10    0.8311498 0.0036685120 0.026076299  5.695191\n",
       "10 chr1 1198179 1198580 TNFRSF18  0.8917788 0.0014828885 0.012921548  5.543359\n",
       "11 chr1 1212809 1213210 TNFRSF4  -0.4941372 0.0064241465 0.039889358  7.816148\n",
       "12 chr1 1243376 1243777 C1QTNF12  0.8227122 0.0015997166 0.013707580  6.181795\n",
       "13 chr1 1282891 1283292 SCNN1D    0.7619232 0.0013531276 0.012025406  6.309141\n",
       "14 chr1 1333540 1333941 TAS1R3    0.7620799 0.0032435786 0.023725490  6.300671\n",
       "15 chr1 1614193 1614594 MIB2     -0.5963609 0.0044285211 0.030117989  7.373250\n",
       "16 chr1 1919258 1919659 TMEM52   -0.7308363 0.0065099384 0.040281805 10.243009\n",
       "17 chr1 1925619 1926020 TMEM52    0.6935497 0.0080734129 0.047271739  6.411599\n",
       "18 chr1 1927751 1928152 TMEM52    0.8119941 0.0055768849 0.035856834  5.565707\n",
       "19 chr1 1928460 1928861 TMEM52    0.7520382 0.0040931456 0.028370184  5.898792\n",
       "20 chr1 1975587 1975988 CFAP74    1.1618161 0.0005994301 0.006305126  5.177670\n",
       "   V9       V10       V11  V12     V13     V14                V15 V16 V17  \n",
       "1  6.286556  4.965847 chr1  923926  923927 ENSG00000187634.11 0   +    8911\n",
       "2  7.172091  7.861380 chr1  923926  923927 ENSG00000187634.11 0   +   14150\n",
       "3  7.367286  8.069310 chr1 1001136 1001137 ENSG00000187608.9  0   +    4073\n",
       "4  8.039911  9.044025 chr1 1020121 1020122 ENSG00000188157.14 0   +   20518\n",
       "5  7.960277  8.884307 chr1 1074307 1074308 ENSG00000237330.2  0   -   14456\n",
       "6  6.579740  5.479318 chr1 1074307 1074308 ENSG00000237330.2  0   -    1770\n",
       "7  8.147063  8.985544 chr1 1074307 1074308 ENSG00000237330.2  0   -    5078\n",
       "8  6.268717  4.699944 chr1 1173882 1173883 ENSG00000162571.13 0   +   23511\n",
       "9  6.211622  4.883183 chr1 1173882 1173883 ENSG00000162571.13 0   +    5465\n",
       "10 6.038451  4.783586 chr1 1206691 1206692 ENSG00000186891.13 0   -    8112\n",
       "11 7.480000  8.088585 chr1 1214138 1214139 ENSG00000186827.10 0   -     929\n",
       "12 6.650906  5.482199 chr1 1246722 1246723 ENSG00000184163.3  0   -    2946\n",
       "13 6.725680  5.721169 chr1 1280434 1280435 ENSG00000162572.20 0   +    2457\n",
       "14 6.760582  5.621542 chr1 1331312 1331313 ENSG00000169962.4  0   +    2228\n",
       "15 6.912927  7.721683 chr1 1615413 1615414 ENSG00000197530.12 0   +     820\n",
       "16 9.617282 10.678004 chr1 1919273 1919274 ENSG00000178821.12 0   -       0\n",
       "17 6.850501  5.777688 chr1 1919273 1919274 ENSG00000178821.12 0   -    6346\n",
       "18 6.077852  4.764403 chr1 1919273 1919274 ENSG00000178821.12 0   -    8478\n",
       "19 6.346970  5.245173 chr1 1919273 1919274 ENSG00000178821.12 0   -    9187\n",
       "20 5.858454  3.844843 chr1 2003837 2003838 ENSG00000142609.18 0   -   27850"
      ]
     },
     "metadata": {},
     "output_type": "display_data"
    }
   ],
   "source": [
    "flow_bmp9_VS_stat_cont = read.table( \"/project/Mechanogenomics_data/ATACseq_analysis/DiffAcc/results/TSS_annotated_bedFiles/TSS_geneSymbolAnnotated_bedFiles/flow_bmp9_VS_stat_cont_TSS_annotated_geneSymbol.bed\", sep = \"\\t\", header = F)\n",
    "head(flow_bmp9_VS_stat_cont, 20)"
   ]
  },
  {
   "cell_type": "code",
   "execution_count": 63,
   "id": "1c1f8b2c-d397-4b74-81d4-364df20a51d4",
   "metadata": {},
   "outputs": [],
   "source": [
    "flow_bmp9_VS_stat_cont_gr = makeGRangesFromDataFrame(flow_bmp9_VS_stat_cont,\n",
    "                          \n",
    "                         keep.extra.columns=T,\n",
    "                         ignore.strand=T,\n",
    "                         seqinfo=NULL,\n",
    "                         seqnames.field=c(\"V1\"),\n",
    "                         start.field=\"V2\",\n",
    "                         end.field=c(\"V3\"),\n",
    "                         #strand.field=\"strand\",\n",
    "                         starts.in.df.are.0based=FALSE)"
   ]
  },
  {
   "cell_type": "code",
   "execution_count": 64,
   "id": "05f4b13d-ae65-4c2f-8ab5-cc0a443b974b",
   "metadata": {},
   "outputs": [
    {
     "data": {
      "text/plain": [
       "GRanges object with 38187 ranges and 14 metadata columns:\n",
       "          seqnames              ranges strand |          V4        V5\n",
       "             <Rle>           <IRanges>  <Rle> | <character> <numeric>\n",
       "      [1]     chr1       932837-933238      * |      SAMD11  0.847596\n",
       "      [2]     chr1       938076-938477      * |      SAMD11 -0.558682\n",
       "      [3]     chr1     1005209-1005610      * |       ISG15 -0.540365\n",
       "      [4]     chr1     1040639-1041040      * |        AGRN -0.796036\n",
       "      [5]     chr1     1059451-1059852      * |      RNF223 -0.750544\n",
       "      ...      ...                 ...    ... .         ...       ...\n",
       "  [38183]     chrX 154430455-154430856      * |     ATP6AP1  0.569304\n",
       "  [38184]     chrX 154484514-154484915      * |       UBL4A  1.630277\n",
       "  [38185]     chrX 154727918-154728319      * |        GAB3 -0.511772\n",
       "  [38186]     chrX 154729499-154729900      * |        GAB3  1.522060\n",
       "  [38187]     chrX 154730150-154730551      * |        GAB3 -0.865338\n",
       "                   V6          V7        V8        V9       V10         V11\n",
       "            <numeric>   <numeric> <numeric> <numeric> <numeric> <character>\n",
       "      [1] 0.003128831   0.0230631   5.77233   6.28656   4.96585        chr1\n",
       "      [2] 0.003279889   0.0239233   7.55752   7.17209   7.86138        chr1\n",
       "      [3] 0.006850992   0.0418433   7.76058   7.36729   8.06931        chr1\n",
       "      [4] 0.000333997   0.0039385   8.62762   8.03991   9.04402        chr1\n",
       "      [5] 0.000212120   0.0027166   8.49504   7.96028   8.88431        chr1\n",
       "      ...         ...         ...       ...       ...       ...         ...\n",
       "  [38183] 3.93520e-03 2.75321e-02   7.15364   7.45732   6.76852        chrX\n",
       "  [38184] 6.20900e-09 3.55495e-07   6.21773   6.88338   4.94445        chrX\n",
       "  [38185] 8.57646e-03 4.94593e-02   7.38277   7.00623   7.68109        chrX\n",
       "  [38186] 1.47157e-07 5.68274e-06   6.00591   6.63362   4.86952        chrX\n",
       "  [38187] 4.59018e-03 3.09394e-02   5.06325   4.11836   5.62936        chrX\n",
       "                V12       V13                V14       V15         V16\n",
       "          <integer> <integer>        <character> <integer> <character>\n",
       "      [1]    923926    923927 ENSG00000187634.11         0           +\n",
       "      [2]    923926    923927 ENSG00000187634.11         0           +\n",
       "      [3]   1001136   1001137  ENSG00000187608.9         0           +\n",
       "      [4]   1020121   1020122 ENSG00000188157.14         0           +\n",
       "      [5]   1074307   1074308  ENSG00000237330.2         0           -\n",
       "      ...       ...       ...                ...       ...         ...\n",
       "  [38183] 154428630 154428631 ENSG00000071553.16         0           +\n",
       "  [38184] 154486670 154486671 ENSG00000102178.12         0           -\n",
       "  [38185] 154751583 154751584 ENSG00000160219.11         0           -\n",
       "  [38186] 154751583 154751584 ENSG00000160219.11         0           -\n",
       "  [38187] 154751583 154751584 ENSG00000160219.11         0           -\n",
       "                V17\n",
       "          <integer>\n",
       "      [1]      8911\n",
       "      [2]     14150\n",
       "      [3]      4073\n",
       "      [4]     20518\n",
       "      [5]     14456\n",
       "      ...       ...\n",
       "  [38183]      1825\n",
       "  [38184]      1756\n",
       "  [38185]     23265\n",
       "  [38186]     21684\n",
       "  [38187]     21033\n",
       "  -------\n",
       "  seqinfo: 23 sequences from an unspecified genome; no seqlengths"
      ]
     },
     "metadata": {},
     "output_type": "display_data"
    }
   ],
   "source": [
    "flow_bmp9_VS_stat_cont_gr"
   ]
  },
  {
   "cell_type": "code",
   "execution_count": 65,
   "id": "f9a6d65d-70e2-44fc-9ada-dccf65ea2165",
   "metadata": {},
   "outputs": [],
   "source": [
    "flow_bmp9_VS_stat_cont_NOT_flow =subsetByOverlaps(flow_bmp9_VS_stat_cont_gr, flow_cont_VS_stat_cont_gr, invert = T)"
   ]
  },
  {
   "cell_type": "code",
   "execution_count": 66,
   "id": "d7fc94f1-bd77-4f29-9a40-a331996f9d5e",
   "metadata": {},
   "outputs": [],
   "source": [
    "#flow_bmp9_VS_stat_cont_gr[!(flow_bmp9_VS_stat_cont_gr %over% flow_cont_VS_stat_cont_gr)]"
   ]
  },
  {
   "cell_type": "code",
   "execution_count": 67,
   "id": "ffe7d56e-0f6f-480f-94a4-73507d6c30d0",
   "metadata": {},
   "outputs": [],
   "source": [
    "flow_bmp9_VS_stat_cont_NOT_bmp9 =subsetByOverlaps(flow_bmp9_VS_stat_cont_gr, stat_bmp9_VS_stat_cont_gr, invert=T)"
   ]
  },
  {
   "cell_type": "code",
   "execution_count": 68,
   "id": "fb796dfa-89bd-4def-bcb8-10440c31cded",
   "metadata": {
    "tags": []
   },
   "outputs": [
    {
     "data": {
      "text/plain": [
       "GRanges object with 9093 ranges and 14 metadata columns:\n",
       "         seqnames              ranges strand |          V4        V5         V6\n",
       "            <Rle>           <IRanges>  <Rle> | <character> <numeric>  <numeric>\n",
       "     [1]     chr1       932837-933238      * |      SAMD11  0.847596 0.00312883\n",
       "     [2]     chr1     1005209-1005610      * |       ISG15 -0.540365 0.00685099\n",
       "     [3]     chr1     1333540-1333941      * |      TAS1R3  0.762080 0.00324358\n",
       "     [4]     chr1     1614193-1614594      * |        MIB2 -0.596361 0.00442852\n",
       "     [5]     chr1     1919258-1919659      * |      TMEM52 -0.730836 0.00650994\n",
       "     ...      ...                 ...    ... .         ...       ...        ...\n",
       "  [9089]     chrX 153801792-153802193      * |       IDH3G  0.822821 0.00249995\n",
       "  [9090]     chrX 153910989-153911390      * |        <NA> -0.717086 0.00137244\n",
       "  [9091]     chrX 154002137-154002538      * |       IRAK1  0.777745 0.00487918\n",
       "  [9092]     chrX 154370420-154370821      * |        FLNA  0.569734 0.00605257\n",
       "  [9093]     chrX 154730150-154730551      * |        GAB3 -0.865338 0.00459018\n",
       "                V7        V8        V9       V10         V11       V12\n",
       "         <numeric> <numeric> <numeric> <numeric> <character> <integer>\n",
       "     [1] 0.0230631   5.77233   6.28656   4.96585        chr1    923926\n",
       "     [2] 0.0418433   7.76058   7.36729   8.06931        chr1   1001136\n",
       "     [3] 0.0237255   6.30067   6.76058   5.62154        chr1   1331312\n",
       "     [4] 0.0301180   7.37325   6.91293   7.72168        chr1   1615413\n",
       "     [5] 0.0402818  10.24301   9.61728  10.67800        chr1   1919273\n",
       "     ...       ...       ...       ...       ...         ...       ...\n",
       "  [9089] 0.0193960   5.98721   6.48288   5.22605        chrX 153794523\n",
       "  [9090] 0.0121660   6.90266   6.34082   7.30600        chrX 153909223\n",
       "  [9091] 0.0324278   5.65887   6.12982   4.95511        chrX 154019980\n",
       "  [9092] 0.0381367   7.16643   7.47391   6.77516        chrX 154374638\n",
       "  [9093] 0.0309394   5.06325   4.11836   5.62936        chrX 154751583\n",
       "               V13                V14       V15         V16       V17\n",
       "         <integer>        <character> <integer> <character> <integer>\n",
       "     [1]    923927 ENSG00000187634.11         0           +      8911\n",
       "     [2]   1001137  ENSG00000187608.9         0           +      4073\n",
       "     [3]   1331313  ENSG00000169962.4         0           +      2228\n",
       "     [4]   1615414 ENSG00000197530.12         0           +       820\n",
       "     [5]   1919274 ENSG00000178821.12         0           -         0\n",
       "     ...       ...                ...       ...         ...       ...\n",
       "  [9089] 153794524 ENSG00000067829.18         0           -      7269\n",
       "  [9090] 153909224  ENSG00000284987.1         0           -      1766\n",
       "  [9091] 154019981 ENSG00000184216.13         0           -     17443\n",
       "  [9092] 154374639 ENSG00000196924.15         0           -      3818\n",
       "  [9093] 154751584 ENSG00000160219.11         0           -     21033\n",
       "  -------\n",
       "  seqinfo: 23 sequences from an unspecified genome; no seqlengths"
      ]
     },
     "metadata": {},
     "output_type": "display_data"
    }
   ],
   "source": [
    "only_flow_and_bmp9 = subsetByOverlaps(flow_bmp9_VS_stat_cont_NOT_flow,flow_bmp9_VS_stat_cont_NOT_bmp9)\n",
    "only_flow_and_bmp9"
   ]
  },
  {
   "cell_type": "code",
   "execution_count": 69,
   "id": "d033b869-d37e-4764-959e-a4ce47e7597d",
   "metadata": {},
   "outputs": [
    {
     "data": {
      "text/html": [
       "<table class=\"dataframe\">\n",
       "<caption>A data.frame: 6 × 19</caption>\n",
       "<thead>\n",
       "\t<tr><th></th><th scope=col>seqnames</th><th scope=col>start</th><th scope=col>end</th><th scope=col>width</th><th scope=col>strand</th><th scope=col>gene_symbol</th><th scope=col>fold_change_flow_bmp9_VS_stat_cont</th><th scope=col>pvalue_flow_bmp9_VS_stat_cont</th><th scope=col>FDR_flow_bmp9_VS_stat_cont</th><th scope=col>Conc</th><th scope=col>Conc_flow_bmp9</th><th scope=col>Conc_stat_cont</th><th scope=col>TSS_seq</th><th scope=col>TSS_start</th><th scope=col>TSS_end</th><th scope=col>TSS_ENSEMBL</th><th scope=col>TSS_interval</th><th scope=col>TSS_strand</th><th scope=col>TSS_sth</th></tr>\n",
       "\t<tr><th></th><th scope=col>&lt;fct&gt;</th><th scope=col>&lt;int&gt;</th><th scope=col>&lt;int&gt;</th><th scope=col>&lt;int&gt;</th><th scope=col>&lt;fct&gt;</th><th scope=col>&lt;chr&gt;</th><th scope=col>&lt;dbl&gt;</th><th scope=col>&lt;dbl&gt;</th><th scope=col>&lt;dbl&gt;</th><th scope=col>&lt;dbl&gt;</th><th scope=col>&lt;dbl&gt;</th><th scope=col>&lt;dbl&gt;</th><th scope=col>&lt;chr&gt;</th><th scope=col>&lt;int&gt;</th><th scope=col>&lt;int&gt;</th><th scope=col>&lt;chr&gt;</th><th scope=col>&lt;int&gt;</th><th scope=col>&lt;chr&gt;</th><th scope=col>&lt;int&gt;</th></tr>\n",
       "</thead>\n",
       "<tbody>\n",
       "\t<tr><th scope=row>1</th><td>chr1</td><td> 932837</td><td> 933238</td><td>402</td><td>*</td><td>SAMD11</td><td> 0.8475958</td><td>0.0031288310</td><td>0.023063050</td><td> 5.772332</td><td>6.286556</td><td> 4.965847</td><td>chr1</td><td> 923926</td><td> 923927</td><td>ENSG00000187634.11</td><td>0</td><td>+</td><td> 8911</td></tr>\n",
       "\t<tr><th scope=row>2</th><td>chr1</td><td>1005209</td><td>1005610</td><td>402</td><td>*</td><td>ISG15 </td><td>-0.5403652</td><td>0.0068509922</td><td>0.041843265</td><td> 7.760584</td><td>7.367286</td><td> 8.069310</td><td>chr1</td><td>1001136</td><td>1001137</td><td>ENSG00000187608.9 </td><td>0</td><td>+</td><td> 4073</td></tr>\n",
       "\t<tr><th scope=row>3</th><td>chr1</td><td>1333540</td><td>1333941</td><td>402</td><td>*</td><td>TAS1R3</td><td> 0.7620799</td><td>0.0032435786</td><td>0.023725490</td><td> 6.300671</td><td>6.760582</td><td> 5.621542</td><td>chr1</td><td>1331312</td><td>1331313</td><td>ENSG00000169962.4 </td><td>0</td><td>+</td><td> 2228</td></tr>\n",
       "\t<tr><th scope=row>4</th><td>chr1</td><td>1614193</td><td>1614594</td><td>402</td><td>*</td><td>MIB2  </td><td>-0.5963609</td><td>0.0044285211</td><td>0.030117989</td><td> 7.373250</td><td>6.912927</td><td> 7.721683</td><td>chr1</td><td>1615413</td><td>1615414</td><td>ENSG00000197530.12</td><td>0</td><td>+</td><td>  820</td></tr>\n",
       "\t<tr><th scope=row>5</th><td>chr1</td><td>1919258</td><td>1919659</td><td>402</td><td>*</td><td>TMEM52</td><td>-0.7308363</td><td>0.0065099384</td><td>0.040281805</td><td>10.243009</td><td>9.617282</td><td>10.678004</td><td>chr1</td><td>1919273</td><td>1919274</td><td>ENSG00000178821.12</td><td>0</td><td>-</td><td>    0</td></tr>\n",
       "\t<tr><th scope=row>6</th><td>chr1</td><td>2360859</td><td>2361260</td><td>402</td><td>*</td><td>MORN1 </td><td>-0.9513262</td><td>0.0005113813</td><td>0.005551286</td><td> 5.811716</td><td>5.040947</td><td> 6.311391</td><td>chr1</td><td>2391707</td><td>2391708</td><td>ENSG00000116151.13</td><td>0</td><td>-</td><td>30448</td></tr>\n",
       "</tbody>\n",
       "</table>\n"
      ],
      "text/latex": [
       "A data.frame: 6 × 19\n",
       "\\begin{tabular}{r|lllllllllllllllllll}\n",
       "  & seqnames & start & end & width & strand & gene\\_symbol & fold\\_change\\_flow\\_bmp9\\_VS\\_stat\\_cont & pvalue\\_flow\\_bmp9\\_VS\\_stat\\_cont & FDR\\_flow\\_bmp9\\_VS\\_stat\\_cont & Conc & Conc\\_flow\\_bmp9 & Conc\\_stat\\_cont & TSS\\_seq & TSS\\_start & TSS\\_end & TSS\\_ENSEMBL & TSS\\_interval & TSS\\_strand & TSS\\_sth\\\\\n",
       "  & <fct> & <int> & <int> & <int> & <fct> & <chr> & <dbl> & <dbl> & <dbl> & <dbl> & <dbl> & <dbl> & <chr> & <int> & <int> & <chr> & <int> & <chr> & <int>\\\\\n",
       "\\hline\n",
       "\t1 & chr1 &  932837 &  933238 & 402 & * & SAMD11 &  0.8475958 & 0.0031288310 & 0.023063050 &  5.772332 & 6.286556 &  4.965847 & chr1 &  923926 &  923927 & ENSG00000187634.11 & 0 & + &  8911\\\\\n",
       "\t2 & chr1 & 1005209 & 1005610 & 402 & * & ISG15  & -0.5403652 & 0.0068509922 & 0.041843265 &  7.760584 & 7.367286 &  8.069310 & chr1 & 1001136 & 1001137 & ENSG00000187608.9  & 0 & + &  4073\\\\\n",
       "\t3 & chr1 & 1333540 & 1333941 & 402 & * & TAS1R3 &  0.7620799 & 0.0032435786 & 0.023725490 &  6.300671 & 6.760582 &  5.621542 & chr1 & 1331312 & 1331313 & ENSG00000169962.4  & 0 & + &  2228\\\\\n",
       "\t4 & chr1 & 1614193 & 1614594 & 402 & * & MIB2   & -0.5963609 & 0.0044285211 & 0.030117989 &  7.373250 & 6.912927 &  7.721683 & chr1 & 1615413 & 1615414 & ENSG00000197530.12 & 0 & + &   820\\\\\n",
       "\t5 & chr1 & 1919258 & 1919659 & 402 & * & TMEM52 & -0.7308363 & 0.0065099384 & 0.040281805 & 10.243009 & 9.617282 & 10.678004 & chr1 & 1919273 & 1919274 & ENSG00000178821.12 & 0 & - &     0\\\\\n",
       "\t6 & chr1 & 2360859 & 2361260 & 402 & * & MORN1  & -0.9513262 & 0.0005113813 & 0.005551286 &  5.811716 & 5.040947 &  6.311391 & chr1 & 2391707 & 2391708 & ENSG00000116151.13 & 0 & - & 30448\\\\\n",
       "\\end{tabular}\n"
      ],
      "text/markdown": [
       "\n",
       "A data.frame: 6 × 19\n",
       "\n",
       "| <!--/--> | seqnames &lt;fct&gt; | start &lt;int&gt; | end &lt;int&gt; | width &lt;int&gt; | strand &lt;fct&gt; | gene_symbol &lt;chr&gt; | fold_change_flow_bmp9_VS_stat_cont &lt;dbl&gt; | pvalue_flow_bmp9_VS_stat_cont &lt;dbl&gt; | FDR_flow_bmp9_VS_stat_cont &lt;dbl&gt; | Conc &lt;dbl&gt; | Conc_flow_bmp9 &lt;dbl&gt; | Conc_stat_cont &lt;dbl&gt; | TSS_seq &lt;chr&gt; | TSS_start &lt;int&gt; | TSS_end &lt;int&gt; | TSS_ENSEMBL &lt;chr&gt; | TSS_interval &lt;int&gt; | TSS_strand &lt;chr&gt; | TSS_sth &lt;int&gt; |\n",
       "|---|---|---|---|---|---|---|---|---|---|---|---|---|---|---|---|---|---|---|---|\n",
       "| 1 | chr1 |  932837 |  933238 | 402 | * | SAMD11 |  0.8475958 | 0.0031288310 | 0.023063050 |  5.772332 | 6.286556 |  4.965847 | chr1 |  923926 |  923927 | ENSG00000187634.11 | 0 | + |  8911 |\n",
       "| 2 | chr1 | 1005209 | 1005610 | 402 | * | ISG15  | -0.5403652 | 0.0068509922 | 0.041843265 |  7.760584 | 7.367286 |  8.069310 | chr1 | 1001136 | 1001137 | ENSG00000187608.9  | 0 | + |  4073 |\n",
       "| 3 | chr1 | 1333540 | 1333941 | 402 | * | TAS1R3 |  0.7620799 | 0.0032435786 | 0.023725490 |  6.300671 | 6.760582 |  5.621542 | chr1 | 1331312 | 1331313 | ENSG00000169962.4  | 0 | + |  2228 |\n",
       "| 4 | chr1 | 1614193 | 1614594 | 402 | * | MIB2   | -0.5963609 | 0.0044285211 | 0.030117989 |  7.373250 | 6.912927 |  7.721683 | chr1 | 1615413 | 1615414 | ENSG00000197530.12 | 0 | + |   820 |\n",
       "| 5 | chr1 | 1919258 | 1919659 | 402 | * | TMEM52 | -0.7308363 | 0.0065099384 | 0.040281805 | 10.243009 | 9.617282 | 10.678004 | chr1 | 1919273 | 1919274 | ENSG00000178821.12 | 0 | - |     0 |\n",
       "| 6 | chr1 | 2360859 | 2361260 | 402 | * | MORN1  | -0.9513262 | 0.0005113813 | 0.005551286 |  5.811716 | 5.040947 |  6.311391 | chr1 | 2391707 | 2391708 | ENSG00000116151.13 | 0 | - | 30448 |\n",
       "\n"
      ],
      "text/plain": [
       "  seqnames start   end     width strand gene_symbol\n",
       "1 chr1      932837  933238 402   *      SAMD11     \n",
       "2 chr1     1005209 1005610 402   *      ISG15      \n",
       "3 chr1     1333540 1333941 402   *      TAS1R3     \n",
       "4 chr1     1614193 1614594 402   *      MIB2       \n",
       "5 chr1     1919258 1919659 402   *      TMEM52     \n",
       "6 chr1     2360859 2361260 402   *      MORN1      \n",
       "  fold_change_flow_bmp9_VS_stat_cont pvalue_flow_bmp9_VS_stat_cont\n",
       "1  0.8475958                         0.0031288310                 \n",
       "2 -0.5403652                         0.0068509922                 \n",
       "3  0.7620799                         0.0032435786                 \n",
       "4 -0.5963609                         0.0044285211                 \n",
       "5 -0.7308363                         0.0065099384                 \n",
       "6 -0.9513262                         0.0005113813                 \n",
       "  FDR_flow_bmp9_VS_stat_cont Conc      Conc_flow_bmp9 Conc_stat_cont TSS_seq\n",
       "1 0.023063050                 5.772332 6.286556        4.965847      chr1   \n",
       "2 0.041843265                 7.760584 7.367286        8.069310      chr1   \n",
       "3 0.023725490                 6.300671 6.760582        5.621542      chr1   \n",
       "4 0.030117989                 7.373250 6.912927        7.721683      chr1   \n",
       "5 0.040281805                10.243009 9.617282       10.678004      chr1   \n",
       "6 0.005551286                 5.811716 5.040947        6.311391      chr1   \n",
       "  TSS_start TSS_end TSS_ENSEMBL        TSS_interval TSS_strand TSS_sth\n",
       "1  923926    923927 ENSG00000187634.11 0            +           8911  \n",
       "2 1001136   1001137 ENSG00000187608.9  0            +           4073  \n",
       "3 1331312   1331313 ENSG00000169962.4  0            +           2228  \n",
       "4 1615413   1615414 ENSG00000197530.12 0            +            820  \n",
       "5 1919273   1919274 ENSG00000178821.12 0            -              0  \n",
       "6 2391707   2391708 ENSG00000116151.13 0            -          30448  "
      ]
     },
     "metadata": {},
     "output_type": "display_data"
    }
   ],
   "source": [
    "only_flow_and_bmp9_regions_df= data.frame(only_flow_and_bmp9)\n",
    "colnames(only_flow_and_bmp9_regions_df)= c(\"seqnames\",\"start\",\"end\",\"width\",\"strand\", \"gene_symbol\",\"fold_change_flow_bmp9_VS_stat_cont\",\"pvalue_flow_bmp9_VS_stat_cont\",\"FDR_flow_bmp9_VS_stat_cont\",\"Conc\",\"Conc_flow_bmp9\",\"Conc_stat_cont\", \"TSS_seq\", \"TSS_start\", \"TSS_end\", \"TSS_ENSEMBL\",\"TSS_interval\", \"TSS_strand\", \"TSS_sth\")\n",
    "head(only_flow_and_bmp9_regions_df)"
   ]
  },
  {
   "cell_type": "code",
   "execution_count": 70,
   "id": "d08ea446-9520-4cc7-a2eb-69f1e7262f96",
   "metadata": {},
   "outputs": [],
   "source": [
    "# make a unique identifier:\n",
    "\n",
    "only_flow_and_bmp9_regions_df2 = only_flow_and_bmp9_regions_df\n",
    "only_flow_and_bmp9_regions_df2[\"regions\"] = paste(only_flow_and_bmp9_regions_df$seqnames, only_flow_and_bmp9_regions_df$start, only_flow_and_bmp9_regions_df$end,only_flow_and_bmp9_regions_df$gene_symbol,sep=\"_\" )\n"
   ]
  },
  {
   "cell_type": "code",
   "execution_count": 35,
   "id": "30481e16-3989-4711-88df-88a4bf49ad67",
   "metadata": {},
   "outputs": [
    {
     "data": {
      "text/html": [
       "<table class=\"dataframe\">\n",
       "<caption>A data.frame: 6 × 20</caption>\n",
       "<thead>\n",
       "\t<tr><th></th><th scope=col>seqnames</th><th scope=col>start</th><th scope=col>end</th><th scope=col>width</th><th scope=col>strand</th><th scope=col>gene_symbol</th><th scope=col>fold_change_flow_bmp9_VS_stat_cont</th><th scope=col>pvalue_flow_bmp9_VS_stat_cont</th><th scope=col>FDR_flow_bmp9_VS_stat_cont</th><th scope=col>Conc</th><th scope=col>Conc_flow_bmp9</th><th scope=col>Conc_stat_cont</th><th scope=col>TSS_seq</th><th scope=col>TSS_start</th><th scope=col>TSS_end</th><th scope=col>TSS_ENSEMBL</th><th scope=col>TSS_interval</th><th scope=col>TSS_strand</th><th scope=col>TSS_sth</th><th scope=col>regions</th></tr>\n",
       "\t<tr><th></th><th scope=col>&lt;fct&gt;</th><th scope=col>&lt;int&gt;</th><th scope=col>&lt;int&gt;</th><th scope=col>&lt;int&gt;</th><th scope=col>&lt;fct&gt;</th><th scope=col>&lt;chr&gt;</th><th scope=col>&lt;dbl&gt;</th><th scope=col>&lt;dbl&gt;</th><th scope=col>&lt;dbl&gt;</th><th scope=col>&lt;dbl&gt;</th><th scope=col>&lt;dbl&gt;</th><th scope=col>&lt;dbl&gt;</th><th scope=col>&lt;chr&gt;</th><th scope=col>&lt;int&gt;</th><th scope=col>&lt;int&gt;</th><th scope=col>&lt;chr&gt;</th><th scope=col>&lt;int&gt;</th><th scope=col>&lt;chr&gt;</th><th scope=col>&lt;int&gt;</th><th scope=col>&lt;chr&gt;</th></tr>\n",
       "</thead>\n",
       "<tbody>\n",
       "\t<tr><th scope=row>1</th><td>chr1</td><td> 932837</td><td> 933238</td><td>402</td><td>*</td><td>SAMD11</td><td> 0.8475958</td><td>0.0031288310</td><td>0.023063050</td><td> 5.772332</td><td>6.286556</td><td> 4.965847</td><td>chr1</td><td> 923926</td><td> 923927</td><td>ENSG00000187634.11</td><td>0</td><td>+</td><td> 8911</td><td>chr1_932837_933238_SAMD11  </td></tr>\n",
       "\t<tr><th scope=row>2</th><td>chr1</td><td>1005209</td><td>1005610</td><td>402</td><td>*</td><td>ISG15 </td><td>-0.5403652</td><td>0.0068509922</td><td>0.041843265</td><td> 7.760584</td><td>7.367286</td><td> 8.069310</td><td>chr1</td><td>1001136</td><td>1001137</td><td>ENSG00000187608.9 </td><td>0</td><td>+</td><td> 4073</td><td>chr1_1005209_1005610_ISG15 </td></tr>\n",
       "\t<tr><th scope=row>3</th><td>chr1</td><td>1333540</td><td>1333941</td><td>402</td><td>*</td><td>TAS1R3</td><td> 0.7620799</td><td>0.0032435786</td><td>0.023725490</td><td> 6.300671</td><td>6.760582</td><td> 5.621542</td><td>chr1</td><td>1331312</td><td>1331313</td><td>ENSG00000169962.4 </td><td>0</td><td>+</td><td> 2228</td><td>chr1_1333540_1333941_TAS1R3</td></tr>\n",
       "\t<tr><th scope=row>4</th><td>chr1</td><td>1614193</td><td>1614594</td><td>402</td><td>*</td><td>MIB2  </td><td>-0.5963609</td><td>0.0044285211</td><td>0.030117989</td><td> 7.373250</td><td>6.912927</td><td> 7.721683</td><td>chr1</td><td>1615413</td><td>1615414</td><td>ENSG00000197530.12</td><td>0</td><td>+</td><td>  820</td><td>chr1_1614193_1614594_MIB2  </td></tr>\n",
       "\t<tr><th scope=row>5</th><td>chr1</td><td>1919258</td><td>1919659</td><td>402</td><td>*</td><td>TMEM52</td><td>-0.7308363</td><td>0.0065099384</td><td>0.040281805</td><td>10.243009</td><td>9.617282</td><td>10.678004</td><td>chr1</td><td>1919273</td><td>1919274</td><td>ENSG00000178821.12</td><td>0</td><td>-</td><td>    0</td><td>chr1_1919258_1919659_TMEM52</td></tr>\n",
       "\t<tr><th scope=row>6</th><td>chr1</td><td>2360859</td><td>2361260</td><td>402</td><td>*</td><td>MORN1 </td><td>-0.9513262</td><td>0.0005113813</td><td>0.005551286</td><td> 5.811716</td><td>5.040947</td><td> 6.311391</td><td>chr1</td><td>2391707</td><td>2391708</td><td>ENSG00000116151.13</td><td>0</td><td>-</td><td>30448</td><td>chr1_2360859_2361260_MORN1 </td></tr>\n",
       "</tbody>\n",
       "</table>\n"
      ],
      "text/latex": [
       "A data.frame: 6 × 20\n",
       "\\begin{tabular}{r|llllllllllllllllllll}\n",
       "  & seqnames & start & end & width & strand & gene\\_symbol & fold\\_change\\_flow\\_bmp9\\_VS\\_stat\\_cont & pvalue\\_flow\\_bmp9\\_VS\\_stat\\_cont & FDR\\_flow\\_bmp9\\_VS\\_stat\\_cont & Conc & Conc\\_flow\\_bmp9 & Conc\\_stat\\_cont & TSS\\_seq & TSS\\_start & TSS\\_end & TSS\\_ENSEMBL & TSS\\_interval & TSS\\_strand & TSS\\_sth & regions\\\\\n",
       "  & <fct> & <int> & <int> & <int> & <fct> & <chr> & <dbl> & <dbl> & <dbl> & <dbl> & <dbl> & <dbl> & <chr> & <int> & <int> & <chr> & <int> & <chr> & <int> & <chr>\\\\\n",
       "\\hline\n",
       "\t1 & chr1 &  932837 &  933238 & 402 & * & SAMD11 &  0.8475958 & 0.0031288310 & 0.023063050 &  5.772332 & 6.286556 &  4.965847 & chr1 &  923926 &  923927 & ENSG00000187634.11 & 0 & + &  8911 & chr1\\_932837\\_933238\\_SAMD11  \\\\\n",
       "\t2 & chr1 & 1005209 & 1005610 & 402 & * & ISG15  & -0.5403652 & 0.0068509922 & 0.041843265 &  7.760584 & 7.367286 &  8.069310 & chr1 & 1001136 & 1001137 & ENSG00000187608.9  & 0 & + &  4073 & chr1\\_1005209\\_1005610\\_ISG15 \\\\\n",
       "\t3 & chr1 & 1333540 & 1333941 & 402 & * & TAS1R3 &  0.7620799 & 0.0032435786 & 0.023725490 &  6.300671 & 6.760582 &  5.621542 & chr1 & 1331312 & 1331313 & ENSG00000169962.4  & 0 & + &  2228 & chr1\\_1333540\\_1333941\\_TAS1R3\\\\\n",
       "\t4 & chr1 & 1614193 & 1614594 & 402 & * & MIB2   & -0.5963609 & 0.0044285211 & 0.030117989 &  7.373250 & 6.912927 &  7.721683 & chr1 & 1615413 & 1615414 & ENSG00000197530.12 & 0 & + &   820 & chr1\\_1614193\\_1614594\\_MIB2  \\\\\n",
       "\t5 & chr1 & 1919258 & 1919659 & 402 & * & TMEM52 & -0.7308363 & 0.0065099384 & 0.040281805 & 10.243009 & 9.617282 & 10.678004 & chr1 & 1919273 & 1919274 & ENSG00000178821.12 & 0 & - &     0 & chr1\\_1919258\\_1919659\\_TMEM52\\\\\n",
       "\t6 & chr1 & 2360859 & 2361260 & 402 & * & MORN1  & -0.9513262 & 0.0005113813 & 0.005551286 &  5.811716 & 5.040947 &  6.311391 & chr1 & 2391707 & 2391708 & ENSG00000116151.13 & 0 & - & 30448 & chr1\\_2360859\\_2361260\\_MORN1 \\\\\n",
       "\\end{tabular}\n"
      ],
      "text/markdown": [
       "\n",
       "A data.frame: 6 × 20\n",
       "\n",
       "| <!--/--> | seqnames &lt;fct&gt; | start &lt;int&gt; | end &lt;int&gt; | width &lt;int&gt; | strand &lt;fct&gt; | gene_symbol &lt;chr&gt; | fold_change_flow_bmp9_VS_stat_cont &lt;dbl&gt; | pvalue_flow_bmp9_VS_stat_cont &lt;dbl&gt; | FDR_flow_bmp9_VS_stat_cont &lt;dbl&gt; | Conc &lt;dbl&gt; | Conc_flow_bmp9 &lt;dbl&gt; | Conc_stat_cont &lt;dbl&gt; | TSS_seq &lt;chr&gt; | TSS_start &lt;int&gt; | TSS_end &lt;int&gt; | TSS_ENSEMBL &lt;chr&gt; | TSS_interval &lt;int&gt; | TSS_strand &lt;chr&gt; | TSS_sth &lt;int&gt; | regions &lt;chr&gt; |\n",
       "|---|---|---|---|---|---|---|---|---|---|---|---|---|---|---|---|---|---|---|---|---|\n",
       "| 1 | chr1 |  932837 |  933238 | 402 | * | SAMD11 |  0.8475958 | 0.0031288310 | 0.023063050 |  5.772332 | 6.286556 |  4.965847 | chr1 |  923926 |  923927 | ENSG00000187634.11 | 0 | + |  8911 | chr1_932837_933238_SAMD11   |\n",
       "| 2 | chr1 | 1005209 | 1005610 | 402 | * | ISG15  | -0.5403652 | 0.0068509922 | 0.041843265 |  7.760584 | 7.367286 |  8.069310 | chr1 | 1001136 | 1001137 | ENSG00000187608.9  | 0 | + |  4073 | chr1_1005209_1005610_ISG15  |\n",
       "| 3 | chr1 | 1333540 | 1333941 | 402 | * | TAS1R3 |  0.7620799 | 0.0032435786 | 0.023725490 |  6.300671 | 6.760582 |  5.621542 | chr1 | 1331312 | 1331313 | ENSG00000169962.4  | 0 | + |  2228 | chr1_1333540_1333941_TAS1R3 |\n",
       "| 4 | chr1 | 1614193 | 1614594 | 402 | * | MIB2   | -0.5963609 | 0.0044285211 | 0.030117989 |  7.373250 | 6.912927 |  7.721683 | chr1 | 1615413 | 1615414 | ENSG00000197530.12 | 0 | + |   820 | chr1_1614193_1614594_MIB2   |\n",
       "| 5 | chr1 | 1919258 | 1919659 | 402 | * | TMEM52 | -0.7308363 | 0.0065099384 | 0.040281805 | 10.243009 | 9.617282 | 10.678004 | chr1 | 1919273 | 1919274 | ENSG00000178821.12 | 0 | - |     0 | chr1_1919258_1919659_TMEM52 |\n",
       "| 6 | chr1 | 2360859 | 2361260 | 402 | * | MORN1  | -0.9513262 | 0.0005113813 | 0.005551286 |  5.811716 | 5.040947 |  6.311391 | chr1 | 2391707 | 2391708 | ENSG00000116151.13 | 0 | - | 30448 | chr1_2360859_2361260_MORN1  |\n",
       "\n"
      ],
      "text/plain": [
       "  seqnames start   end     width strand gene_symbol\n",
       "1 chr1      932837  933238 402   *      SAMD11     \n",
       "2 chr1     1005209 1005610 402   *      ISG15      \n",
       "3 chr1     1333540 1333941 402   *      TAS1R3     \n",
       "4 chr1     1614193 1614594 402   *      MIB2       \n",
       "5 chr1     1919258 1919659 402   *      TMEM52     \n",
       "6 chr1     2360859 2361260 402   *      MORN1      \n",
       "  fold_change_flow_bmp9_VS_stat_cont pvalue_flow_bmp9_VS_stat_cont\n",
       "1  0.8475958                         0.0031288310                 \n",
       "2 -0.5403652                         0.0068509922                 \n",
       "3  0.7620799                         0.0032435786                 \n",
       "4 -0.5963609                         0.0044285211                 \n",
       "5 -0.7308363                         0.0065099384                 \n",
       "6 -0.9513262                         0.0005113813                 \n",
       "  FDR_flow_bmp9_VS_stat_cont Conc      Conc_flow_bmp9 Conc_stat_cont TSS_seq\n",
       "1 0.023063050                 5.772332 6.286556        4.965847      chr1   \n",
       "2 0.041843265                 7.760584 7.367286        8.069310      chr1   \n",
       "3 0.023725490                 6.300671 6.760582        5.621542      chr1   \n",
       "4 0.030117989                 7.373250 6.912927        7.721683      chr1   \n",
       "5 0.040281805                10.243009 9.617282       10.678004      chr1   \n",
       "6 0.005551286                 5.811716 5.040947        6.311391      chr1   \n",
       "  TSS_start TSS_end TSS_ENSEMBL        TSS_interval TSS_strand TSS_sth\n",
       "1  923926    923927 ENSG00000187634.11 0            +           8911  \n",
       "2 1001136   1001137 ENSG00000187608.9  0            +           4073  \n",
       "3 1331312   1331313 ENSG00000169962.4  0            +           2228  \n",
       "4 1615413   1615414 ENSG00000197530.12 0            +            820  \n",
       "5 1919273   1919274 ENSG00000178821.12 0            -              0  \n",
       "6 2391707   2391708 ENSG00000116151.13 0            -          30448  \n",
       "  regions                    \n",
       "1 chr1_932837_933238_SAMD11  \n",
       "2 chr1_1005209_1005610_ISG15 \n",
       "3 chr1_1333540_1333941_TAS1R3\n",
       "4 chr1_1614193_1614594_MIB2  \n",
       "5 chr1_1919258_1919659_TMEM52\n",
       "6 chr1_2360859_2361260_MORN1 "
      ]
     },
     "metadata": {},
     "output_type": "display_data"
    }
   ],
   "source": [
    "head(only_flow_and_bmp9_regions_df2)"
   ]
  },
  {
   "cell_type": "code",
   "execution_count": 42,
   "id": "2f31ba5c-c517-4b1f-b19d-7b8187f14a9c",
   "metadata": {},
   "outputs": [],
   "source": [
    "write.table( x = only_flow_and_bmp9_regions_df2, file = \"/project/Mechanogenomics_data/ATACseq_analysis/DiffAcc/results/Q3/only_FSS_bmp9_VS_stat_cont_regions_annotated.csv\", sep=\",\", col.names=TRUE, row.names=FALSE, quote=FALSE )\n"
   ]
  },
  {
   "cell_type": "code",
   "execution_count": 43,
   "id": "d85485c7-3219-4f48-b2da-5e89a4d0c3fe",
   "metadata": {},
   "outputs": [],
   "source": [
    "write.table(only_flow_and_bmp9_regions_df2, file=\"/project/Mechanogenomics_data/ATACseq_analysis/DiffAcc/results/Q3/only_FSS_bmp9_VS_stat_cont_regions_annotated.bed\", quote=F, sep=\"\\t\", row.names=F, col.names=F)\n"
   ]
  },
  {
   "cell_type": "code",
   "execution_count": 71,
   "id": "230e68df-5a14-4e70-bb62-19a8cd6f1ad0",
   "metadata": {},
   "outputs": [
    {
     "data": {
      "text/plain": [
       "GRanges object with 11455 ranges and 0 metadata columns:\n",
       "          seqnames              ranges strand\n",
       "             <Rle>           <IRanges>  <Rle>\n",
       "      [1]     chr1       932837-933238      *\n",
       "      [2]     chr1     1005209-1005610      *\n",
       "      [3]     chr1     1212809-1213210      *\n",
       "      [4]     chr1     1333540-1333941      *\n",
       "      [5]     chr1     1614193-1614594      *\n",
       "      ...      ...                 ...    ...\n",
       "  [11451]     chrX 154002137-154002538      *\n",
       "  [11452]     chrX 154057099-154057500      *\n",
       "  [11453]     chrX 154063249-154063650      *\n",
       "  [11454]     chrX 154370420-154370821      *\n",
       "  [11455]     chrX 154730150-154730551      *\n",
       "  -------\n",
       "  seqinfo: 23 sequences from an unspecified genome; no seqlengths"
      ]
     },
     "metadata": {},
     "output_type": "display_data"
    }
   ],
   "source": [
    "setdiff(flow_bmp9_VS_stat_cont_gr, flow_cont_VS_stat_cont_gr)"
   ]
  },
  {
   "cell_type": "markdown",
   "id": "f1b9c105-3f3f-4251-9ffe-d9609d59603f",
   "metadata": {},
   "source": [
    "\n",
    "### we are interested in the regions that are specific to BMP9 or the ones shapred between BMP9 and BMP9+flow"
   ]
  },
  {
   "cell_type": "code",
   "execution_count": 72,
   "id": "e57235af-2a3b-4eec-96b4-63b8adc800b0",
   "metadata": {},
   "outputs": [
    {
     "data": {
      "image/png": "[encoded data removed]"
     },
     "metadata": {},
     "output_type": "display_data"
    }
   ],
   "source": [
    "library(\"IRdisplay\")\n",
    "display_png(file=\"/project/Mechanogenomics_data/ATACseq_analysis/DiffAcc/images/bmp9.png\")  \n",
    "#![image](/project/Mechanogenomics_data/ATACseq_analysis/DiffAcc/images/bmp9.png)\n"
   ]
  },
  {
   "cell_type": "code",
   "execution_count": 73,
   "id": "2fc2fee0-6da4-46dc-9f97-10570a2a83a6",
   "metadata": {},
   "outputs": [],
   "source": [
    "# first make the comparison between BMP9 and Flow+ BMP9 : find the regions that is specific to only BMP9 stimulation\n",
    "stat_bmp9_VS_stat_cont_VS_flow_bmp9_VS_stat_cont_only_bmp9=  subsetByOverlaps(stat_bmp9_VS_stat_cont_gr, flow_bmp9_VS_stat_cont_gr, invert=T)\n"
   ]
  },
  {
   "cell_type": "code",
   "execution_count": 103,
   "id": "108adcff-d2a7-4ba2-8a4a-5e270df95904",
   "metadata": {},
   "outputs": [
    {
     "data": {
      "text/html": [
       "<table class=\"dataframe\">\n",
       "<caption>A data.frame: 6 × 18</caption>\n",
       "<thead>\n",
       "\t<tr><th></th><th scope=col>seqnames</th><th scope=col>start</th><th scope=col>end</th><th scope=col>gene_symbol</th><th scope=col>fold_change_stat_bmp9_VS_stat_cont</th><th scope=col>pvalue_stat_bmp9_VS_stat_cont</th><th scope=col>FDR_stat_bmp9_VS_stat_cont</th><th scope=col>Conc</th><th scope=col>Conc_stat_bmp9</th><th scope=col>Conc_stat_cont</th><th scope=col>TSS_seq</th><th scope=col>TSS_start</th><th scope=col>TSS_end</th><th scope=col>TSS_ENSEMBL</th><th scope=col>TSS_interval</th><th scope=col>TSS_strand</th><th scope=col>TSS_sth</th><th scope=col>regions</th></tr>\n",
       "\t<tr><th></th><th scope=col>&lt;chr&gt;</th><th scope=col>&lt;int&gt;</th><th scope=col>&lt;int&gt;</th><th scope=col>&lt;chr&gt;</th><th scope=col>&lt;dbl&gt;</th><th scope=col>&lt;dbl&gt;</th><th scope=col>&lt;dbl&gt;</th><th scope=col>&lt;dbl&gt;</th><th scope=col>&lt;dbl&gt;</th><th scope=col>&lt;dbl&gt;</th><th scope=col>&lt;chr&gt;</th><th scope=col>&lt;int&gt;</th><th scope=col>&lt;int&gt;</th><th scope=col>&lt;chr&gt;</th><th scope=col>&lt;int&gt;</th><th scope=col>&lt;chr&gt;</th><th scope=col>&lt;int&gt;</th><th scope=col>&lt;chr&gt;</th></tr>\n",
       "</thead>\n",
       "<tbody>\n",
       "\t<tr><th scope=row>1</th><td>chr1</td><td>910190</td><td>910591</td><td>SAMD11</td><td>-0.8814186</td><td>6.861363e-04</td><td>1.278233e-02</td><td>5.327754</td><td>4.574066</td><td>5.820289</td><td>chr1</td><td>923926</td><td>923927</td><td>ENSG00000187634.11</td><td>0</td><td>+</td><td>13336</td><td>chr1_910190_910591_SAMD11</td></tr>\n",
       "\t<tr><th scope=row>2</th><td>chr1</td><td>921022</td><td>921423</td><td>SAMD11</td><td>-1.2083906</td><td>1.881436e-08</td><td>3.694537e-06</td><td>6.952478</td><td>6.069092</td><td>7.496376</td><td>chr1</td><td>923926</td><td>923927</td><td>ENSG00000187634.11</td><td>0</td><td>+</td><td> 2504</td><td>chr1_921022_921423_SAMD11</td></tr>\n",
       "\t<tr><th scope=row>3</th><td>chr1</td><td>923802</td><td>924203</td><td>SAMD11</td><td>-1.1629176</td><td>2.520596e-07</td><td>2.974507e-05</td><td>7.101950</td><td>6.210326</td><td>7.648899</td><td>chr1</td><td>923926</td><td>923927</td><td>ENSG00000187634.11</td><td>0</td><td>+</td><td>    0</td><td>chr1_923802_924203_SAMD11</td></tr>\n",
       "\t<tr><th scope=row>4</th><td>chr1</td><td>925466</td><td>925867</td><td>SAMD11</td><td>-0.9208781</td><td>4.594627e-05</td><td>1.821763e-03</td><td>6.203300</td><td>5.521827</td><td>6.664275</td><td>chr1</td><td>923926</td><td>923927</td><td>ENSG00000187634.11</td><td>0</td><td>+</td><td> 1540</td><td>chr1_925466_925867_SAMD11</td></tr>\n",
       "\t<tr><th scope=row>5</th><td>chr1</td><td>941593</td><td>941994</td><td>NOC2L </td><td>-0.6583104</td><td>1.240086e-03</td><td>1.926971e-02</td><td>6.970025</td><td>6.486176</td><td>7.331718</td><td>chr1</td><td>959309</td><td>959310</td><td>ENSG00000188976.10</td><td>0</td><td>-</td><td>17316</td><td>chr1_941593_941994_NOC2L </td></tr>\n",
       "\t<tr><th scope=row>6</th><td>chr1</td><td>942434</td><td>942835</td><td>NOC2L </td><td>-0.8610278</td><td>4.864304e-05</td><td>1.897477e-03</td><td>6.774891</td><td>6.180369</td><td>7.194684</td><td>chr1</td><td>959309</td><td>959310</td><td>ENSG00000188976.10</td><td>0</td><td>-</td><td>16475</td><td>chr1_942434_942835_NOC2L </td></tr>\n",
       "</tbody>\n",
       "</table>\n"
      ],
      "text/latex": [
       "A data.frame: 6 × 18\n",
       "\\begin{tabular}{r|llllllllllllllllll}\n",
       "  & seqnames & start & end & gene\\_symbol & fold\\_change\\_stat\\_bmp9\\_VS\\_stat\\_cont & pvalue\\_stat\\_bmp9\\_VS\\_stat\\_cont & FDR\\_stat\\_bmp9\\_VS\\_stat\\_cont & Conc & Conc\\_stat\\_bmp9 & Conc\\_stat\\_cont & TSS\\_seq & TSS\\_start & TSS\\_end & TSS\\_ENSEMBL & TSS\\_interval & TSS\\_strand & TSS\\_sth & regions\\\\\n",
       "  & <chr> & <int> & <int> & <chr> & <dbl> & <dbl> & <dbl> & <dbl> & <dbl> & <dbl> & <chr> & <int> & <int> & <chr> & <int> & <chr> & <int> & <chr>\\\\\n",
       "\\hline\n",
       "\t1 & chr1 & 910190 & 910591 & SAMD11 & -0.8814186 & 6.861363e-04 & 1.278233e-02 & 5.327754 & 4.574066 & 5.820289 & chr1 & 923926 & 923927 & ENSG00000187634.11 & 0 & + & 13336 & chr1\\_910190\\_910591\\_SAMD11\\\\\n",
       "\t2 & chr1 & 921022 & 921423 & SAMD11 & -1.2083906 & 1.881436e-08 & 3.694537e-06 & 6.952478 & 6.069092 & 7.496376 & chr1 & 923926 & 923927 & ENSG00000187634.11 & 0 & + &  2504 & chr1\\_921022\\_921423\\_SAMD11\\\\\n",
       "\t3 & chr1 & 923802 & 924203 & SAMD11 & -1.1629176 & 2.520596e-07 & 2.974507e-05 & 7.101950 & 6.210326 & 7.648899 & chr1 & 923926 & 923927 & ENSG00000187634.11 & 0 & + &     0 & chr1\\_923802\\_924203\\_SAMD11\\\\\n",
       "\t4 & chr1 & 925466 & 925867 & SAMD11 & -0.9208781 & 4.594627e-05 & 1.821763e-03 & 6.203300 & 5.521827 & 6.664275 & chr1 & 923926 & 923927 & ENSG00000187634.11 & 0 & + &  1540 & chr1\\_925466\\_925867\\_SAMD11\\\\\n",
       "\t5 & chr1 & 941593 & 941994 & NOC2L  & -0.6583104 & 1.240086e-03 & 1.926971e-02 & 6.970025 & 6.486176 & 7.331718 & chr1 & 959309 & 959310 & ENSG00000188976.10 & 0 & - & 17316 & chr1\\_941593\\_941994\\_NOC2L \\\\\n",
       "\t6 & chr1 & 942434 & 942835 & NOC2L  & -0.8610278 & 4.864304e-05 & 1.897477e-03 & 6.774891 & 6.180369 & 7.194684 & chr1 & 959309 & 959310 & ENSG00000188976.10 & 0 & - & 16475 & chr1\\_942434\\_942835\\_NOC2L \\\\\n",
       "\\end{tabular}\n"
      ],
      "text/markdown": [
       "\n",
       "A data.frame: 6 × 18\n",
       "\n",
       "| <!--/--> | seqnames &lt;chr&gt; | start &lt;int&gt; | end &lt;int&gt; | gene_symbol &lt;chr&gt; | fold_change_stat_bmp9_VS_stat_cont &lt;dbl&gt; | pvalue_stat_bmp9_VS_stat_cont &lt;dbl&gt; | FDR_stat_bmp9_VS_stat_cont &lt;dbl&gt; | Conc &lt;dbl&gt; | Conc_stat_bmp9 &lt;dbl&gt; | Conc_stat_cont &lt;dbl&gt; | TSS_seq &lt;chr&gt; | TSS_start &lt;int&gt; | TSS_end &lt;int&gt; | TSS_ENSEMBL &lt;chr&gt; | TSS_interval &lt;int&gt; | TSS_strand &lt;chr&gt; | TSS_sth &lt;int&gt; | regions &lt;chr&gt; |\n",
       "|---|---|---|---|---|---|---|---|---|---|---|---|---|---|---|---|---|---|---|\n",
       "| 1 | chr1 | 910190 | 910591 | SAMD11 | -0.8814186 | 6.861363e-04 | 1.278233e-02 | 5.327754 | 4.574066 | 5.820289 | chr1 | 923926 | 923927 | ENSG00000187634.11 | 0 | + | 13336 | chr1_910190_910591_SAMD11 |\n",
       "| 2 | chr1 | 921022 | 921423 | SAMD11 | -1.2083906 | 1.881436e-08 | 3.694537e-06 | 6.952478 | 6.069092 | 7.496376 | chr1 | 923926 | 923927 | ENSG00000187634.11 | 0 | + |  2504 | chr1_921022_921423_SAMD11 |\n",
       "| 3 | chr1 | 923802 | 924203 | SAMD11 | -1.1629176 | 2.520596e-07 | 2.974507e-05 | 7.101950 | 6.210326 | 7.648899 | chr1 | 923926 | 923927 | ENSG00000187634.11 | 0 | + |     0 | chr1_923802_924203_SAMD11 |\n",
       "| 4 | chr1 | 925466 | 925867 | SAMD11 | -0.9208781 | 4.594627e-05 | 1.821763e-03 | 6.203300 | 5.521827 | 6.664275 | chr1 | 923926 | 923927 | ENSG00000187634.11 | 0 | + |  1540 | chr1_925466_925867_SAMD11 |\n",
       "| 5 | chr1 | 941593 | 941994 | NOC2L  | -0.6583104 | 1.240086e-03 | 1.926971e-02 | 6.970025 | 6.486176 | 7.331718 | chr1 | 959309 | 959310 | ENSG00000188976.10 | 0 | - | 17316 | chr1_941593_941994_NOC2L  |\n",
       "| 6 | chr1 | 942434 | 942835 | NOC2L  | -0.8610278 | 4.864304e-05 | 1.897477e-03 | 6.774891 | 6.180369 | 7.194684 | chr1 | 959309 | 959310 | ENSG00000188976.10 | 0 | - | 16475 | chr1_942434_942835_NOC2L  |\n",
       "\n"
      ],
      "text/plain": [
       "  seqnames start  end    gene_symbol fold_change_stat_bmp9_VS_stat_cont\n",
       "1 chr1     910190 910591 SAMD11      -0.8814186                        \n",
       "2 chr1     921022 921423 SAMD11      -1.2083906                        \n",
       "3 chr1     923802 924203 SAMD11      -1.1629176                        \n",
       "4 chr1     925466 925867 SAMD11      -0.9208781                        \n",
       "5 chr1     941593 941994 NOC2L       -0.6583104                        \n",
       "6 chr1     942434 942835 NOC2L       -0.8610278                        \n",
       "  pvalue_stat_bmp9_VS_stat_cont FDR_stat_bmp9_VS_stat_cont Conc    \n",
       "1 6.861363e-04                  1.278233e-02               5.327754\n",
       "2 1.881436e-08                  3.694537e-06               6.952478\n",
       "3 2.520596e-07                  2.974507e-05               7.101950\n",
       "4 4.594627e-05                  1.821763e-03               6.203300\n",
       "5 1.240086e-03                  1.926971e-02               6.970025\n",
       "6 4.864304e-05                  1.897477e-03               6.774891\n",
       "  Conc_stat_bmp9 Conc_stat_cont TSS_seq TSS_start TSS_end TSS_ENSEMBL       \n",
       "1 4.574066       5.820289       chr1    923926    923927  ENSG00000187634.11\n",
       "2 6.069092       7.496376       chr1    923926    923927  ENSG00000187634.11\n",
       "3 6.210326       7.648899       chr1    923926    923927  ENSG00000187634.11\n",
       "4 5.521827       6.664275       chr1    923926    923927  ENSG00000187634.11\n",
       "5 6.486176       7.331718       chr1    959309    959310  ENSG00000188976.10\n",
       "6 6.180369       7.194684       chr1    959309    959310  ENSG00000188976.10\n",
       "  TSS_interval TSS_strand TSS_sth regions                  \n",
       "1 0            +          13336   chr1_910190_910591_SAMD11\n",
       "2 0            +           2504   chr1_921022_921423_SAMD11\n",
       "3 0            +              0   chr1_923802_924203_SAMD11\n",
       "4 0            +           1540   chr1_925466_925867_SAMD11\n",
       "5 0            -          17316   chr1_941593_941994_NOC2L \n",
       "6 0            -          16475   chr1_942434_942835_NOC2L "
      ]
     },
     "metadata": {},
     "output_type": "display_data"
    }
   ],
   "source": [
    "head(stat_bmp9_VS_stat_cont_df)"
   ]
  },
  {
   "cell_type": "code",
   "execution_count": 77,
   "id": "7ba99c2d-32d5-40f6-9310-ed680b261b46",
   "metadata": {},
   "outputs": [
    {
     "data": {
      "text/plain": [
       "GRanges object with 6 ranges and 14 metadata columns:\n",
       "      seqnames        ranges strand |          V4        V5          V6\n",
       "         <Rle>     <IRanges>  <Rle> | <character> <numeric>   <numeric>\n",
       "  [1]     chr1 910190-910591      * |      SAMD11 -0.881419 6.86136e-04\n",
       "  [2]     chr1 921022-921423      * |      SAMD11 -1.208391 1.88144e-08\n",
       "  [3]     chr1 923802-924203      * |      SAMD11 -1.162918 2.52060e-07\n",
       "  [4]     chr1 925466-925867      * |      SAMD11 -0.920878 4.59463e-05\n",
       "  [5]     chr1 941593-941994      * |       NOC2L -0.658310 1.24009e-03\n",
       "  [6]     chr1 942434-942835      * |       NOC2L -0.861028 4.86430e-05\n",
       "               V7        V8        V9       V10         V11       V12       V13\n",
       "        <numeric> <numeric> <numeric> <numeric> <character> <integer> <integer>\n",
       "  [1] 1.27823e-02   5.32775   4.57407   5.82029        chr1    923926    923927\n",
       "  [2] 3.69454e-06   6.95248   6.06909   7.49638        chr1    923926    923927\n",
       "  [3] 2.97451e-05   7.10195   6.21033   7.64890        chr1    923926    923927\n",
       "  [4] 1.82176e-03   6.20330   5.52183   6.66428        chr1    923926    923927\n",
       "  [5] 1.92697e-02   6.97003   6.48618   7.33172        chr1    959309    959310\n",
       "  [6] 1.89748e-03   6.77489   6.18037   7.19468        chr1    959309    959310\n",
       "                     V14       V15         V16       V17\n",
       "             <character> <integer> <character> <integer>\n",
       "  [1] ENSG00000187634.11         0           +     13336\n",
       "  [2] ENSG00000187634.11         0           +      2504\n",
       "  [3] ENSG00000187634.11         0           +         0\n",
       "  [4] ENSG00000187634.11         0           +      1540\n",
       "  [5] ENSG00000188976.10         0           -     17316\n",
       "  [6] ENSG00000188976.10         0           -     16475\n",
       "  -------\n",
       "  seqinfo: 23 sequences from an unspecified genome; no seqlengths"
      ]
     },
     "metadata": {},
     "output_type": "display_data"
    }
   ],
   "source": [
    "head(stat_bmp9_VS_stat_cont_VS_flow_bmp9_VS_stat_cont_only_bmp9)"
   ]
  },
  {
   "cell_type": "code",
   "execution_count": 86,
   "id": "97b2f320-cb75-4b35-b0f1-c93397936a5b",
   "metadata": {},
   "outputs": [],
   "source": [
    "# now, find the regions that are distict from those of Flow:\n",
    "stat_bmp9_VS_stat_cont_VS_flow_bmp9_VS_stat_cont_only_bmp9__VS__flow_cont_VS_stat_cont =  subsetByOverlaps(stat_bmp9_VS_stat_cont_VS_flow_bmp9_VS_stat_cont_only_bmp9, flow_cont_VS_stat_cont_gr, invert=T)\n"
   ]
  },
  {
   "cell_type": "code",
   "execution_count": 88,
   "id": "cf2d9392-6e91-4115-b8b9-42232c2f9b5e",
   "metadata": {},
   "outputs": [
    {
     "data": {
      "text/plain": [
       "GRanges object with 6 ranges and 14 metadata columns:\n",
       "      seqnames          ranges strand |          V4        V5          V6\n",
       "         <Rle>       <IRanges>  <Rle> | <character> <numeric>   <numeric>\n",
       "  [1]     chr1   910190-910591      * |      SAMD11 -0.881419 6.86136e-04\n",
       "  [2]     chr1   921022-921423      * |      SAMD11 -1.208391 1.88144e-08\n",
       "  [3]     chr1   925466-925867      * |      SAMD11 -0.920878 4.59463e-05\n",
       "  [4]     chr1   941593-941994      * |       NOC2L -0.658310 1.24009e-03\n",
       "  [5]     chr1   942434-942835      * |       NOC2L -0.861028 4.86430e-05\n",
       "  [6]     chr1 1021041-1021442      * |        AGRN -0.841736 2.28145e-05\n",
       "               V7        V8        V9       V10         V11       V12       V13\n",
       "        <numeric> <numeric> <numeric> <numeric> <character> <integer> <integer>\n",
       "  [1] 1.27823e-02   5.32775   4.57407   5.82029        chr1    923926    923927\n",
       "  [2] 3.69454e-06   6.95248   6.06909   7.49638        chr1    923926    923927\n",
       "  [3] 1.82176e-03   6.20330   5.52183   6.66428        chr1    923926    923927\n",
       "  [4] 1.92697e-02   6.97003   6.48618   7.33172        chr1    959309    959310\n",
       "  [5] 1.89748e-03   6.77489   6.18037   7.19468        chr1    959309    959310\n",
       "  [6] 1.05773e-03   7.38212   6.80177   7.79484        chr1   1020121   1020122\n",
       "                     V14       V15         V16       V17\n",
       "             <character> <integer> <character> <integer>\n",
       "  [1] ENSG00000187634.11         0           +     13336\n",
       "  [2] ENSG00000187634.11         0           +      2504\n",
       "  [3] ENSG00000187634.11         0           +      1540\n",
       "  [4] ENSG00000188976.10         0           -     17316\n",
       "  [5] ENSG00000188976.10         0           -     16475\n",
       "  [6] ENSG00000188157.14         0           +       920\n",
       "  -------\n",
       "  seqinfo: 23 sequences from an unspecified genome; no seqlengths"
      ]
     },
     "metadata": {},
     "output_type": "display_data"
    }
   ],
   "source": [
    "head(stat_bmp9_VS_stat_cont_VS_flow_bmp9_VS_stat_cont_only_bmp9__VS__flow_cont_VS_stat_cont)"
   ]
  },
  {
   "cell_type": "code",
   "execution_count": 114,
   "id": "cd58f8e9-0c0c-4a69-b6b8-da3a9bf233e1",
   "metadata": {},
   "outputs": [
    {
     "data": {
      "text/html": [
       "<table class=\"dataframe\">\n",
       "<caption>A data.frame: 6 × 19</caption>\n",
       "<thead>\n",
       "\t<tr><th></th><th scope=col>seqnames</th><th scope=col>start</th><th scope=col>end</th><th scope=col>width</th><th scope=col>strand</th><th scope=col>gene_symbol</th><th scope=col>fold_change_stat_bmp9_VS_stat_cont</th><th scope=col>pvalue_stat_bmp9_VS_stat_cont</th><th scope=col>FDR_stat_bmp9_VS_stat_cont</th><th scope=col>Conc</th><th scope=col>Conc_stat_bmp9</th><th scope=col>Conc_stat_cont</th><th scope=col>TSS_seq</th><th scope=col>TSS_start</th><th scope=col>TSS_end</th><th scope=col>TSS_ENSEMBL</th><th scope=col>TSS_interval</th><th scope=col>TSS_strand</th><th scope=col>TSS_sth</th></tr>\n",
       "\t<tr><th></th><th scope=col>&lt;fct&gt;</th><th scope=col>&lt;int&gt;</th><th scope=col>&lt;int&gt;</th><th scope=col>&lt;int&gt;</th><th scope=col>&lt;fct&gt;</th><th scope=col>&lt;chr&gt;</th><th scope=col>&lt;dbl&gt;</th><th scope=col>&lt;dbl&gt;</th><th scope=col>&lt;dbl&gt;</th><th scope=col>&lt;dbl&gt;</th><th scope=col>&lt;dbl&gt;</th><th scope=col>&lt;dbl&gt;</th><th scope=col>&lt;chr&gt;</th><th scope=col>&lt;int&gt;</th><th scope=col>&lt;int&gt;</th><th scope=col>&lt;chr&gt;</th><th scope=col>&lt;int&gt;</th><th scope=col>&lt;chr&gt;</th><th scope=col>&lt;int&gt;</th></tr>\n",
       "</thead>\n",
       "<tbody>\n",
       "\t<tr><th scope=row>1</th><td>chr1</td><td> 910190</td><td> 910591</td><td>402</td><td>*</td><td>SAMD11</td><td>-0.8814186</td><td>6.861363e-04</td><td>1.278233e-02</td><td>5.327754</td><td>4.574066</td><td>5.820289</td><td>chr1</td><td> 923926</td><td> 923927</td><td>ENSG00000187634.11</td><td>0</td><td>+</td><td>13336</td></tr>\n",
       "\t<tr><th scope=row>2</th><td>chr1</td><td> 921022</td><td> 921423</td><td>402</td><td>*</td><td>SAMD11</td><td>-1.2083906</td><td>1.881436e-08</td><td>3.694537e-06</td><td>6.952478</td><td>6.069092</td><td>7.496376</td><td>chr1</td><td> 923926</td><td> 923927</td><td>ENSG00000187634.11</td><td>0</td><td>+</td><td> 2504</td></tr>\n",
       "\t<tr><th scope=row>3</th><td>chr1</td><td> 925466</td><td> 925867</td><td>402</td><td>*</td><td>SAMD11</td><td>-0.9208781</td><td>4.594627e-05</td><td>1.821763e-03</td><td>6.203300</td><td>5.521827</td><td>6.664275</td><td>chr1</td><td> 923926</td><td> 923927</td><td>ENSG00000187634.11</td><td>0</td><td>+</td><td> 1540</td></tr>\n",
       "\t<tr><th scope=row>4</th><td>chr1</td><td> 941593</td><td> 941994</td><td>402</td><td>*</td><td>NOC2L </td><td>-0.6583104</td><td>1.240086e-03</td><td>1.926971e-02</td><td>6.970025</td><td>6.486176</td><td>7.331718</td><td>chr1</td><td> 959309</td><td> 959310</td><td>ENSG00000188976.10</td><td>0</td><td>-</td><td>17316</td></tr>\n",
       "\t<tr><th scope=row>5</th><td>chr1</td><td> 942434</td><td> 942835</td><td>402</td><td>*</td><td>NOC2L </td><td>-0.8610278</td><td>4.864304e-05</td><td>1.897477e-03</td><td>6.774891</td><td>6.180369</td><td>7.194684</td><td>chr1</td><td> 959309</td><td> 959310</td><td>ENSG00000188976.10</td><td>0</td><td>-</td><td>16475</td></tr>\n",
       "\t<tr><th scope=row>6</th><td>chr1</td><td>1021041</td><td>1021442</td><td>402</td><td>*</td><td>AGRN  </td><td>-0.8417360</td><td>2.281448e-05</td><td>1.057730e-03</td><td>7.382121</td><td>6.801775</td><td>7.794845</td><td>chr1</td><td>1020121</td><td>1020122</td><td>ENSG00000188157.14</td><td>0</td><td>+</td><td>  920</td></tr>\n",
       "</tbody>\n",
       "</table>\n"
      ],
      "text/latex": [
       "A data.frame: 6 × 19\n",
       "\\begin{tabular}{r|lllllllllllllllllll}\n",
       "  & seqnames & start & end & width & strand & gene\\_symbol & fold\\_change\\_stat\\_bmp9\\_VS\\_stat\\_cont & pvalue\\_stat\\_bmp9\\_VS\\_stat\\_cont & FDR\\_stat\\_bmp9\\_VS\\_stat\\_cont & Conc & Conc\\_stat\\_bmp9 & Conc\\_stat\\_cont & TSS\\_seq & TSS\\_start & TSS\\_end & TSS\\_ENSEMBL & TSS\\_interval & TSS\\_strand & TSS\\_sth\\\\\n",
       "  & <fct> & <int> & <int> & <int> & <fct> & <chr> & <dbl> & <dbl> & <dbl> & <dbl> & <dbl> & <dbl> & <chr> & <int> & <int> & <chr> & <int> & <chr> & <int>\\\\\n",
       "\\hline\n",
       "\t1 & chr1 &  910190 &  910591 & 402 & * & SAMD11 & -0.8814186 & 6.861363e-04 & 1.278233e-02 & 5.327754 & 4.574066 & 5.820289 & chr1 &  923926 &  923927 & ENSG00000187634.11 & 0 & + & 13336\\\\\n",
       "\t2 & chr1 &  921022 &  921423 & 402 & * & SAMD11 & -1.2083906 & 1.881436e-08 & 3.694537e-06 & 6.952478 & 6.069092 & 7.496376 & chr1 &  923926 &  923927 & ENSG00000187634.11 & 0 & + &  2504\\\\\n",
       "\t3 & chr1 &  925466 &  925867 & 402 & * & SAMD11 & -0.9208781 & 4.594627e-05 & 1.821763e-03 & 6.203300 & 5.521827 & 6.664275 & chr1 &  923926 &  923927 & ENSG00000187634.11 & 0 & + &  1540\\\\\n",
       "\t4 & chr1 &  941593 &  941994 & 402 & * & NOC2L  & -0.6583104 & 1.240086e-03 & 1.926971e-02 & 6.970025 & 6.486176 & 7.331718 & chr1 &  959309 &  959310 & ENSG00000188976.10 & 0 & - & 17316\\\\\n",
       "\t5 & chr1 &  942434 &  942835 & 402 & * & NOC2L  & -0.8610278 & 4.864304e-05 & 1.897477e-03 & 6.774891 & 6.180369 & 7.194684 & chr1 &  959309 &  959310 & ENSG00000188976.10 & 0 & - & 16475\\\\\n",
       "\t6 & chr1 & 1021041 & 1021442 & 402 & * & AGRN   & -0.8417360 & 2.281448e-05 & 1.057730e-03 & 7.382121 & 6.801775 & 7.794845 & chr1 & 1020121 & 1020122 & ENSG00000188157.14 & 0 & + &   920\\\\\n",
       "\\end{tabular}\n"
      ],
      "text/markdown": [
       "\n",
       "A data.frame: 6 × 19\n",
       "\n",
       "| <!--/--> | seqnames &lt;fct&gt; | start &lt;int&gt; | end &lt;int&gt; | width &lt;int&gt; | strand &lt;fct&gt; | gene_symbol &lt;chr&gt; | fold_change_stat_bmp9_VS_stat_cont &lt;dbl&gt; | pvalue_stat_bmp9_VS_stat_cont &lt;dbl&gt; | FDR_stat_bmp9_VS_stat_cont &lt;dbl&gt; | Conc &lt;dbl&gt; | Conc_stat_bmp9 &lt;dbl&gt; | Conc_stat_cont &lt;dbl&gt; | TSS_seq &lt;chr&gt; | TSS_start &lt;int&gt; | TSS_end &lt;int&gt; | TSS_ENSEMBL &lt;chr&gt; | TSS_interval &lt;int&gt; | TSS_strand &lt;chr&gt; | TSS_sth &lt;int&gt; |\n",
       "|---|---|---|---|---|---|---|---|---|---|---|---|---|---|---|---|---|---|---|---|\n",
       "| 1 | chr1 |  910190 |  910591 | 402 | * | SAMD11 | -0.8814186 | 6.861363e-04 | 1.278233e-02 | 5.327754 | 4.574066 | 5.820289 | chr1 |  923926 |  923927 | ENSG00000187634.11 | 0 | + | 13336 |\n",
       "| 2 | chr1 |  921022 |  921423 | 402 | * | SAMD11 | -1.2083906 | 1.881436e-08 | 3.694537e-06 | 6.952478 | 6.069092 | 7.496376 | chr1 |  923926 |  923927 | ENSG00000187634.11 | 0 | + |  2504 |\n",
       "| 3 | chr1 |  925466 |  925867 | 402 | * | SAMD11 | -0.9208781 | 4.594627e-05 | 1.821763e-03 | 6.203300 | 5.521827 | 6.664275 | chr1 |  923926 |  923927 | ENSG00000187634.11 | 0 | + |  1540 |\n",
       "| 4 | chr1 |  941593 |  941994 | 402 | * | NOC2L  | -0.6583104 | 1.240086e-03 | 1.926971e-02 | 6.970025 | 6.486176 | 7.331718 | chr1 |  959309 |  959310 | ENSG00000188976.10 | 0 | - | 17316 |\n",
       "| 5 | chr1 |  942434 |  942835 | 402 | * | NOC2L  | -0.8610278 | 4.864304e-05 | 1.897477e-03 | 6.774891 | 6.180369 | 7.194684 | chr1 |  959309 |  959310 | ENSG00000188976.10 | 0 | - | 16475 |\n",
       "| 6 | chr1 | 1021041 | 1021442 | 402 | * | AGRN   | -0.8417360 | 2.281448e-05 | 1.057730e-03 | 7.382121 | 6.801775 | 7.794845 | chr1 | 1020121 | 1020122 | ENSG00000188157.14 | 0 | + |   920 |\n",
       "\n"
      ],
      "text/plain": [
       "  seqnames start   end     width strand gene_symbol\n",
       "1 chr1      910190  910591 402   *      SAMD11     \n",
       "2 chr1      921022  921423 402   *      SAMD11     \n",
       "3 chr1      925466  925867 402   *      SAMD11     \n",
       "4 chr1      941593  941994 402   *      NOC2L      \n",
       "5 chr1      942434  942835 402   *      NOC2L      \n",
       "6 chr1     1021041 1021442 402   *      AGRN       \n",
       "  fold_change_stat_bmp9_VS_stat_cont pvalue_stat_bmp9_VS_stat_cont\n",
       "1 -0.8814186                         6.861363e-04                 \n",
       "2 -1.2083906                         1.881436e-08                 \n",
       "3 -0.9208781                         4.594627e-05                 \n",
       "4 -0.6583104                         1.240086e-03                 \n",
       "5 -0.8610278                         4.864304e-05                 \n",
       "6 -0.8417360                         2.281448e-05                 \n",
       "  FDR_stat_bmp9_VS_stat_cont Conc     Conc_stat_bmp9 Conc_stat_cont TSS_seq\n",
       "1 1.278233e-02               5.327754 4.574066       5.820289       chr1   \n",
       "2 3.694537e-06               6.952478 6.069092       7.496376       chr1   \n",
       "3 1.821763e-03               6.203300 5.521827       6.664275       chr1   \n",
       "4 1.926971e-02               6.970025 6.486176       7.331718       chr1   \n",
       "5 1.897477e-03               6.774891 6.180369       7.194684       chr1   \n",
       "6 1.057730e-03               7.382121 6.801775       7.794845       chr1   \n",
       "  TSS_start TSS_end TSS_ENSEMBL        TSS_interval TSS_strand TSS_sth\n",
       "1  923926    923927 ENSG00000187634.11 0            +          13336  \n",
       "2  923926    923927 ENSG00000187634.11 0            +           2504  \n",
       "3  923926    923927 ENSG00000187634.11 0            +           1540  \n",
       "4  959309    959310 ENSG00000188976.10 0            -          17316  \n",
       "5  959309    959310 ENSG00000188976.10 0            -          16475  \n",
       "6 1020121   1020122 ENSG00000188157.14 0            +            920  "
      ]
     },
     "metadata": {},
     "output_type": "display_data"
    }
   ],
   "source": [
    "# convert to df\n",
    "\n",
    "only_BMP9_regions_from_all_comparisons_df= data.frame(stat_bmp9_VS_stat_cont_VS_flow_bmp9_VS_stat_cont_only_bmp9__VS__flow_cont_VS_stat_cont)\n",
    "colnames(only_BMP9_regions_from_all_comparisons_df)= c(\"seqnames\",\"start\",\"end\",\"width\",\"strand\", \"gene_symbol\",\"fold_change_stat_bmp9_VS_stat_cont\",\"pvalue_stat_bmp9_VS_stat_cont\",\"FDR_stat_bmp9_VS_stat_cont\",\"Conc\",\"Conc_stat_bmp9\",\"Conc_stat_cont\", \"TSS_seq\", \"TSS_start\", \"TSS_end\", \"TSS_ENSEMBL\",\"TSS_interval\", \"TSS_strand\", \"TSS_sth\")\n",
    "head(only_BMP9_regions_from_all_comparisons_df)\n"
   ]
  },
  {
   "cell_type": "code",
   "execution_count": 115,
   "id": "fa5267f7-7e5b-48fd-ae83-da4ca5b21d24",
   "metadata": {},
   "outputs": [],
   "source": [
    "# make a unique identifier:\n",
    "\n",
    "only_BMP9_regions_from_all_comparisons_df2 = only_BMP9_regions_from_all_comparisons_df\n",
    "only_BMP9_regions_from_all_comparisons_df2[\"regions\"] = paste(only_BMP9_regions_from_all_comparisons_df$seqnames, only_BMP9_regions_from_all_comparisons_df$start, only_BMP9_regions_from_all_comparisons_df$end,only_BMP9_regions_from_all_comparisons_df$gene_symbol,sep=\"_\" )\n"
   ]
  },
  {
   "cell_type": "code",
   "execution_count": 116,
   "id": "02a8233f-c85c-4f27-9cf3-a44fa05dd5d2",
   "metadata": {},
   "outputs": [],
   "source": [
    "write.table( x = only_BMP9_regions_from_all_comparisons_df2, file = \"/project/Mechanogenomics_data/ATACseq_analysis/DiffAcc/results/Q_23March23/only_BMP9_regions_from_all_comparisons_df2_annotated.csv\", sep=\",\", col.names=TRUE, row.names=FALSE, quote=FALSE )\n"
   ]
  },
  {
   "cell_type": "code",
   "execution_count": 117,
   "id": "a1f952a6-4d62-421d-8f27-80625e4f4231",
   "metadata": {},
   "outputs": [],
   "source": [
    "write.table(only_BMP9_regions_from_all_comparisons_df2, file=\"/project/Mechanogenomics_data/ATACseq_analysis/DiffAcc/results/Q_23March23/only_BMP9_regions_from_all_comparisons_df2_annotated.bed\", quote=F, sep=\"\\t\", row.names=F, col.names=F)\n"
   ]
  },
  {
   "cell_type": "markdown",
   "id": "e80f1094-919e-4604-b659-004ad7332b48",
   "metadata": {},
   "source": [
    "## next, we want to find the regions that are common in bmp9 and bmp9+flow"
   ]
  },
  {
   "cell_type": "code",
   "execution_count": 93,
   "id": "6978f631-5654-44a4-be1e-3fca6dda757a",
   "metadata": {},
   "outputs": [
    {
     "data": {
      "image/png": "[encoded data removed]"
     },
     "metadata": {},
     "output_type": "display_data"
    }
   ],
   "source": [
    "library(\"IRdisplay\")\n",
    "display_png(file=\"/project/Mechanogenomics_data/ATACseq_analysis/DiffAcc/images/bmp9_and_bmp9andflow.png\")  \n",
    "#![image](/project/Mechanogenomics_data/ATACseq_analysis/DiffAcc/images/bmp9.png)\n"
   ]
  },
  {
   "cell_type": "code",
   "execution_count": 94,
   "id": "9037c80b-f100-4757-9c91-d7ae375789c6",
   "metadata": {},
   "outputs": [],
   "source": [
    "# find the regions that are common between only BMP9 stimulation and BMP9 stimulation\n",
    "stat_bmp9_VS_stat_cont__VS__flow_bmp9_VS_stat_cont=  subsetByOverlaps(stat_bmp9_VS_stat_cont_gr, flow_bmp9_VS_stat_cont_gr)\n"
   ]
  },
  {
   "cell_type": "code",
   "execution_count": 96,
   "id": "0fcf7a4e-f73a-43c1-bc07-a17ab3a651a8",
   "metadata": {},
   "outputs": [
    {
     "data": {
      "text/plain": [
       "GRanges object with 6 ranges and 14 metadata columns:\n",
       "      seqnames          ranges strand |          V4        V5          V6\n",
       "         <Rle>       <IRanges>  <Rle> | <character> <numeric>   <numeric>\n",
       "  [1]     chr1 1059451-1059852      * |      RNF223 -0.705584 2.58557e-04\n",
       "  [2]     chr1 1079385-1079786      * |      RNF223 -0.875508 1.38793e-05\n",
       "  [3]     chr1 1179347-1179748      * |      TTLL10 -0.952930 6.04248e-04\n",
       "  [4]     chr1 1212809-1213210      * |     TNFRSF4 -0.603948 5.08238e-04\n",
       "  [5]     chr1 1243376-1243777      * |    C1QTNF12 -1.023589 1.18866e-04\n",
       "  [6]     chr1 1925619-1926020      * |      TMEM52 -0.738410 3.14711e-03\n",
       "               V7        V8        V9       V10         V11       V12       V13\n",
       "        <numeric> <numeric> <numeric> <numeric> <character> <integer> <integer>\n",
       "  [1] 0.006470360   8.51874   8.02792   8.88431        chr1   1074307   1074308\n",
       "  [2] 0.000723632   8.55799   7.94766   8.98554        chr1   1074307   1074308\n",
       "  [3] 0.011753564   4.33634   3.44501   4.88318        chr1   1173882   1173883\n",
       "  [4] 0.010410821   7.77429   7.37189   8.08858        chr1   1214138   1214139\n",
       "  [5] 0.003665983   4.93190   4.03115   5.48220        chr1   1246722   1246723\n",
       "  [6] 0.035698338   5.35002   4.73946   5.77769        chr1   1919273   1919274\n",
       "                     V14       V15         V16       V17\n",
       "             <character> <integer> <character> <integer>\n",
       "  [1]  ENSG00000237330.2         0           -     14456\n",
       "  [2]  ENSG00000237330.2         0           -      5078\n",
       "  [3] ENSG00000162571.13         0           +      5465\n",
       "  [4] ENSG00000186827.10         0           -       929\n",
       "  [5]  ENSG00000184163.3         0           -      2946\n",
       "  [6] ENSG00000178821.12         0           -      6346\n",
       "  -------\n",
       "  seqinfo: 23 sequences from an unspecified genome; no seqlengths"
      ]
     },
     "metadata": {},
     "output_type": "display_data"
    }
   ],
   "source": [
    "head(stat_bmp9_VS_stat_cont__VS__flow_bmp9_VS_stat_cont)"
   ]
  },
  {
   "cell_type": "code",
   "execution_count": 118,
   "id": "9001105e-e5dc-4011-ac35-cbd523525a4e",
   "metadata": {},
   "outputs": [
    {
     "data": {
      "text/html": [
       "<table class=\"dataframe\">\n",
       "<caption>A data.frame: 6 × 19</caption>\n",
       "<thead>\n",
       "\t<tr><th></th><th scope=col>seqnames</th><th scope=col>start</th><th scope=col>end</th><th scope=col>width</th><th scope=col>strand</th><th scope=col>gene_symbol</th><th scope=col>fold_change_stat_bmp9_VS_stat_cont</th><th scope=col>pvalue_stat_bmp9_VS_stat_cont</th><th scope=col>FDR_stat_bmp9_VS_stat_cont</th><th scope=col>Conc</th><th scope=col>Conc_stat_bmp9</th><th scope=col>Conc_stat_cont</th><th scope=col>TSS_seq</th><th scope=col>TSS_start</th><th scope=col>TSS_end</th><th scope=col>TSS_ENSEMBL</th><th scope=col>TSS_interval</th><th scope=col>TSS_strand</th><th scope=col>TSS_sth</th></tr>\n",
       "\t<tr><th></th><th scope=col>&lt;fct&gt;</th><th scope=col>&lt;int&gt;</th><th scope=col>&lt;int&gt;</th><th scope=col>&lt;int&gt;</th><th scope=col>&lt;fct&gt;</th><th scope=col>&lt;chr&gt;</th><th scope=col>&lt;dbl&gt;</th><th scope=col>&lt;dbl&gt;</th><th scope=col>&lt;dbl&gt;</th><th scope=col>&lt;dbl&gt;</th><th scope=col>&lt;dbl&gt;</th><th scope=col>&lt;dbl&gt;</th><th scope=col>&lt;chr&gt;</th><th scope=col>&lt;int&gt;</th><th scope=col>&lt;int&gt;</th><th scope=col>&lt;chr&gt;</th><th scope=col>&lt;int&gt;</th><th scope=col>&lt;chr&gt;</th><th scope=col>&lt;int&gt;</th></tr>\n",
       "</thead>\n",
       "<tbody>\n",
       "\t<tr><th scope=row>1</th><td>chr1</td><td>1059451</td><td>1059852</td><td>402</td><td>*</td><td>RNF223  </td><td>-0.7055841</td><td>2.585572e-04</td><td>0.0064703603</td><td>8.518745</td><td>8.027916</td><td>8.884307</td><td>chr1</td><td>1074307</td><td>1074308</td><td>ENSG00000237330.2 </td><td>0</td><td>-</td><td>14456</td></tr>\n",
       "\t<tr><th scope=row>2</th><td>chr1</td><td>1079385</td><td>1079786</td><td>402</td><td>*</td><td>RNF223  </td><td>-0.8755083</td><td>1.387927e-05</td><td>0.0007236323</td><td>8.557989</td><td>7.947661</td><td>8.985544</td><td>chr1</td><td>1074307</td><td>1074308</td><td>ENSG00000237330.2 </td><td>0</td><td>-</td><td> 5078</td></tr>\n",
       "\t<tr><th scope=row>3</th><td>chr1</td><td>1179347</td><td>1179748</td><td>402</td><td>*</td><td>TTLL10  </td><td>-0.9529298</td><td>6.042480e-04</td><td>0.0117535644</td><td>4.336342</td><td>3.445011</td><td>4.883183</td><td>chr1</td><td>1173882</td><td>1173883</td><td>ENSG00000162571.13</td><td>0</td><td>+</td><td> 5465</td></tr>\n",
       "\t<tr><th scope=row>4</th><td>chr1</td><td>1212809</td><td>1213210</td><td>402</td><td>*</td><td>TNFRSF4 </td><td>-0.6039477</td><td>5.082381e-04</td><td>0.0104108207</td><td>7.774293</td><td>7.371895</td><td>8.088585</td><td>chr1</td><td>1214138</td><td>1214139</td><td>ENSG00000186827.10</td><td>0</td><td>-</td><td>  929</td></tr>\n",
       "\t<tr><th scope=row>5</th><td>chr1</td><td>1243376</td><td>1243777</td><td>402</td><td>*</td><td>C1QTNF12</td><td>-1.0235891</td><td>1.188662e-04</td><td>0.0036659826</td><td>4.931899</td><td>4.031153</td><td>5.482199</td><td>chr1</td><td>1246722</td><td>1246723</td><td>ENSG00000184163.3 </td><td>0</td><td>-</td><td> 2946</td></tr>\n",
       "\t<tr><th scope=row>6</th><td>chr1</td><td>1925619</td><td>1926020</td><td>402</td><td>*</td><td>TMEM52  </td><td>-0.7384102</td><td>3.147106e-03</td><td>0.0356983378</td><td>5.350021</td><td>4.739462</td><td>5.777688</td><td>chr1</td><td>1919273</td><td>1919274</td><td>ENSG00000178821.12</td><td>0</td><td>-</td><td> 6346</td></tr>\n",
       "</tbody>\n",
       "</table>\n"
      ],
      "text/latex": [
       "A data.frame: 6 × 19\n",
       "\\begin{tabular}{r|lllllllllllllllllll}\n",
       "  & seqnames & start & end & width & strand & gene\\_symbol & fold\\_change\\_stat\\_bmp9\\_VS\\_stat\\_cont & pvalue\\_stat\\_bmp9\\_VS\\_stat\\_cont & FDR\\_stat\\_bmp9\\_VS\\_stat\\_cont & Conc & Conc\\_stat\\_bmp9 & Conc\\_stat\\_cont & TSS\\_seq & TSS\\_start & TSS\\_end & TSS\\_ENSEMBL & TSS\\_interval & TSS\\_strand & TSS\\_sth\\\\\n",
       "  & <fct> & <int> & <int> & <int> & <fct> & <chr> & <dbl> & <dbl> & <dbl> & <dbl> & <dbl> & <dbl> & <chr> & <int> & <int> & <chr> & <int> & <chr> & <int>\\\\\n",
       "\\hline\n",
       "\t1 & chr1 & 1059451 & 1059852 & 402 & * & RNF223   & -0.7055841 & 2.585572e-04 & 0.0064703603 & 8.518745 & 8.027916 & 8.884307 & chr1 & 1074307 & 1074308 & ENSG00000237330.2  & 0 & - & 14456\\\\\n",
       "\t2 & chr1 & 1079385 & 1079786 & 402 & * & RNF223   & -0.8755083 & 1.387927e-05 & 0.0007236323 & 8.557989 & 7.947661 & 8.985544 & chr1 & 1074307 & 1074308 & ENSG00000237330.2  & 0 & - &  5078\\\\\n",
       "\t3 & chr1 & 1179347 & 1179748 & 402 & * & TTLL10   & -0.9529298 & 6.042480e-04 & 0.0117535644 & 4.336342 & 3.445011 & 4.883183 & chr1 & 1173882 & 1173883 & ENSG00000162571.13 & 0 & + &  5465\\\\\n",
       "\t4 & chr1 & 1212809 & 1213210 & 402 & * & TNFRSF4  & -0.6039477 & 5.082381e-04 & 0.0104108207 & 7.774293 & 7.371895 & 8.088585 & chr1 & 1214138 & 1214139 & ENSG00000186827.10 & 0 & - &   929\\\\\n",
       "\t5 & chr1 & 1243376 & 1243777 & 402 & * & C1QTNF12 & -1.0235891 & 1.188662e-04 & 0.0036659826 & 4.931899 & 4.031153 & 5.482199 & chr1 & 1246722 & 1246723 & ENSG00000184163.3  & 0 & - &  2946\\\\\n",
       "\t6 & chr1 & 1925619 & 1926020 & 402 & * & TMEM52   & -0.7384102 & 3.147106e-03 & 0.0356983378 & 5.350021 & 4.739462 & 5.777688 & chr1 & 1919273 & 1919274 & ENSG00000178821.12 & 0 & - &  6346\\\\\n",
       "\\end{tabular}\n"
      ],
      "text/markdown": [
       "\n",
       "A data.frame: 6 × 19\n",
       "\n",
       "| <!--/--> | seqnames &lt;fct&gt; | start &lt;int&gt; | end &lt;int&gt; | width &lt;int&gt; | strand &lt;fct&gt; | gene_symbol &lt;chr&gt; | fold_change_stat_bmp9_VS_stat_cont &lt;dbl&gt; | pvalue_stat_bmp9_VS_stat_cont &lt;dbl&gt; | FDR_stat_bmp9_VS_stat_cont &lt;dbl&gt; | Conc &lt;dbl&gt; | Conc_stat_bmp9 &lt;dbl&gt; | Conc_stat_cont &lt;dbl&gt; | TSS_seq &lt;chr&gt; | TSS_start &lt;int&gt; | TSS_end &lt;int&gt; | TSS_ENSEMBL &lt;chr&gt; | TSS_interval &lt;int&gt; | TSS_strand &lt;chr&gt; | TSS_sth &lt;int&gt; |\n",
       "|---|---|---|---|---|---|---|---|---|---|---|---|---|---|---|---|---|---|---|---|\n",
       "| 1 | chr1 | 1059451 | 1059852 | 402 | * | RNF223   | -0.7055841 | 2.585572e-04 | 0.0064703603 | 8.518745 | 8.027916 | 8.884307 | chr1 | 1074307 | 1074308 | ENSG00000237330.2  | 0 | - | 14456 |\n",
       "| 2 | chr1 | 1079385 | 1079786 | 402 | * | RNF223   | -0.8755083 | 1.387927e-05 | 0.0007236323 | 8.557989 | 7.947661 | 8.985544 | chr1 | 1074307 | 1074308 | ENSG00000237330.2  | 0 | - |  5078 |\n",
       "| 3 | chr1 | 1179347 | 1179748 | 402 | * | TTLL10   | -0.9529298 | 6.042480e-04 | 0.0117535644 | 4.336342 | 3.445011 | 4.883183 | chr1 | 1173882 | 1173883 | ENSG00000162571.13 | 0 | + |  5465 |\n",
       "| 4 | chr1 | 1212809 | 1213210 | 402 | * | TNFRSF4  | -0.6039477 | 5.082381e-04 | 0.0104108207 | 7.774293 | 7.371895 | 8.088585 | chr1 | 1214138 | 1214139 | ENSG00000186827.10 | 0 | - |   929 |\n",
       "| 5 | chr1 | 1243376 | 1243777 | 402 | * | C1QTNF12 | -1.0235891 | 1.188662e-04 | 0.0036659826 | 4.931899 | 4.031153 | 5.482199 | chr1 | 1246722 | 1246723 | ENSG00000184163.3  | 0 | - |  2946 |\n",
       "| 6 | chr1 | 1925619 | 1926020 | 402 | * | TMEM52   | -0.7384102 | 3.147106e-03 | 0.0356983378 | 5.350021 | 4.739462 | 5.777688 | chr1 | 1919273 | 1919274 | ENSG00000178821.12 | 0 | - |  6346 |\n",
       "\n"
      ],
      "text/plain": [
       "  seqnames start   end     width strand gene_symbol\n",
       "1 chr1     1059451 1059852 402   *      RNF223     \n",
       "2 chr1     1079385 1079786 402   *      RNF223     \n",
       "3 chr1     1179347 1179748 402   *      TTLL10     \n",
       "4 chr1     1212809 1213210 402   *      TNFRSF4    \n",
       "5 chr1     1243376 1243777 402   *      C1QTNF12   \n",
       "6 chr1     1925619 1926020 402   *      TMEM52     \n",
       "  fold_change_stat_bmp9_VS_stat_cont pvalue_stat_bmp9_VS_stat_cont\n",
       "1 -0.7055841                         2.585572e-04                 \n",
       "2 -0.8755083                         1.387927e-05                 \n",
       "3 -0.9529298                         6.042480e-04                 \n",
       "4 -0.6039477                         5.082381e-04                 \n",
       "5 -1.0235891                         1.188662e-04                 \n",
       "6 -0.7384102                         3.147106e-03                 \n",
       "  FDR_stat_bmp9_VS_stat_cont Conc     Conc_stat_bmp9 Conc_stat_cont TSS_seq\n",
       "1 0.0064703603               8.518745 8.027916       8.884307       chr1   \n",
       "2 0.0007236323               8.557989 7.947661       8.985544       chr1   \n",
       "3 0.0117535644               4.336342 3.445011       4.883183       chr1   \n",
       "4 0.0104108207               7.774293 7.371895       8.088585       chr1   \n",
       "5 0.0036659826               4.931899 4.031153       5.482199       chr1   \n",
       "6 0.0356983378               5.350021 4.739462       5.777688       chr1   \n",
       "  TSS_start TSS_end TSS_ENSEMBL        TSS_interval TSS_strand TSS_sth\n",
       "1 1074307   1074308 ENSG00000237330.2  0            -          14456  \n",
       "2 1074307   1074308 ENSG00000237330.2  0            -           5078  \n",
       "3 1173882   1173883 ENSG00000162571.13 0            +           5465  \n",
       "4 1214138   1214139 ENSG00000186827.10 0            -            929  \n",
       "5 1246722   1246723 ENSG00000184163.3  0            -           2946  \n",
       "6 1919273   1919274 ENSG00000178821.12 0            -           6346  "
      ]
     },
     "metadata": {},
     "output_type": "display_data"
    }
   ],
   "source": [
    "# convert to df\n",
    "\n",
    "common_regions_between_stat_bmp9_VS_stat_cont__AND__flow_bmp9_VS_stat_cont_df= data.frame(stat_bmp9_VS_stat_cont__VS__flow_bmp9_VS_stat_cont)\n",
    "colnames(common_regions_between_stat_bmp9_VS_stat_cont__AND__flow_bmp9_VS_stat_cont_df)= c(\"seqnames\",\"start\",\"end\",\"width\",\"strand\", \"gene_symbol\",\"fold_change_stat_bmp9_VS_stat_cont\",\"pvalue_stat_bmp9_VS_stat_cont\",\"FDR_stat_bmp9_VS_stat_cont\",\"Conc\",\"Conc_stat_bmp9\",\"Conc_stat_cont\", \"TSS_seq\", \"TSS_start\", \"TSS_end\", \"TSS_ENSEMBL\",\"TSS_interval\", \"TSS_strand\", \"TSS_sth\")\n",
    "head(common_regions_between_stat_bmp9_VS_stat_cont__AND__flow_bmp9_VS_stat_cont_df)\n"
   ]
  },
  {
   "cell_type": "code",
   "execution_count": 119,
   "id": "428a8c99-e663-45f3-b1e4-1de1e45dd19f",
   "metadata": {},
   "outputs": [],
   "source": [
    "# make a unique identifier:\n",
    "\n",
    "common_regions_between_stat_bmp9_VS_stat_cont__AND__flow_bmp9_VS_stat_cont_df2 = common_regions_between_stat_bmp9_VS_stat_cont__AND__flow_bmp9_VS_stat_cont_df\n",
    "common_regions_between_stat_bmp9_VS_stat_cont__AND__flow_bmp9_VS_stat_cont_df2[\"regions\"] = paste(common_regions_between_stat_bmp9_VS_stat_cont__AND__flow_bmp9_VS_stat_cont_df$seqnames, common_regions_between_stat_bmp9_VS_stat_cont__AND__flow_bmp9_VS_stat_cont_df$start, common_regions_between_stat_bmp9_VS_stat_cont__AND__flow_bmp9_VS_stat_cont_df$end,common_regions_between_stat_bmp9_VS_stat_cont__AND__flow_bmp9_VS_stat_cont_df$gene_symbol,sep=\"_\" )\n"
   ]
  },
  {
   "cell_type": "code",
   "execution_count": 120,
   "id": "e3c9fd7b-ba5d-4a4b-b201-55eed4fc6e21",
   "metadata": {},
   "outputs": [],
   "source": [
    "write.table( x = common_regions_between_stat_bmp9_VS_stat_cont__AND__flow_bmp9_VS_stat_cont_df2, file = \"/project/Mechanogenomics_data/ATACseq_analysis/DiffAcc/results/Q_23March23/common_regions_between_stat_bmp9_VS_stat_cont__AND__flow_bmp9_VS_stat_cont_df2.csv\", sep=\",\", col.names=TRUE, row.names=FALSE, quote=FALSE )\n"
   ]
  },
  {
   "cell_type": "code",
   "execution_count": 122,
   "id": "4083f96e-9c23-450c-8e4d-e0cad38f969c",
   "metadata": {},
   "outputs": [],
   "source": [
    "write.table(common_regions_between_stat_bmp9_VS_stat_cont__AND__flow_bmp9_VS_stat_cont_df2, file=\"/project/Mechanogenomics_data/ATACseq_analysis/DiffAcc/results/Q_23March23/common_regions_between_stat_bmp9_VS_stat_cont__AND__flow_bmp9_VS_stat_cont_df2.bed\", quote=F, sep=\"\\t\", row.names=F, col.names=F)\n"
   ]
  },
  {
   "cell_type": "markdown",
   "id": "b24e93cc-1763-46e2-a765-0803c24b0190",
   "metadata": {},
   "source": [
    "# upset plot -- uses setDiff but we need subsetbyoverlps"
   ]
  },
  {
   "cell_type": "code",
   "execution_count": 45,
   "id": "cd1644f2-d543-4481-a03b-f98fa62c2071",
   "metadata": {},
   "outputs": [
    {
     "name": "stderr",
     "output_type": "stream",
     "text": [
      "Loading required package: grid\n",
      "\n",
      "========================================\n",
      "ComplexHeatmap version 2.6.2\n",
      "Bioconductor page: http://bioconductor.org/packages/ComplexHeatmap/\n",
      "Github page: https://github.com/jokergoo/ComplexHeatmap\n",
      "Documentation: http://jokergoo.github.io/ComplexHeatmap-reference\n",
      "\n",
      "If you use it in published research, please cite:\n",
      "Gu, Z. Complex heatmaps reveal patterns and correlations in multidimensional \n",
      "  genomic data. Bioinformatics 2016.\n",
      "\n",
      "This message can be suppressed by:\n",
      "  suppressPackageStartupMessages(library(ComplexHeatmap))\n",
      "========================================\n",
      "\n",
      "\n"
     ]
    }
   ],
   "source": [
    "#install.packages(\"UpSetR\")\n",
    "library(ComplexHeatmap)"
   ]
  },
  {
   "cell_type": "code",
   "execution_count": 74,
   "id": "f9b1e9a8-81b7-4550-a91b-8a1a966a9fab",
   "metadata": {},
   "outputs": [],
   "source": [
    "ranges_list = list(flow = flow_cont_VS_stat_cont_gr,\n",
    "                    bmp9=stat_bmp9_VS_stat_cont_gr,\n",
    "                  flow_and_bmp9 = flow_bmp9_VS_stat_cont_gr)\n",
    "\n"
   ]
  },
  {
   "cell_type": "code",
   "execution_count": 76,
   "id": "f0bbaf8c-21ff-4efd-b477-c6c6649a1340",
   "metadata": {},
   "outputs": [],
   "source": [
    "m = make_comb_mat(ranges_list)#,mode = \"intersect\")\n",
    "cs = comb_size(m)"
   ]
  },
  {
   "cell_type": "code",
   "execution_count": 95,
   "id": "a3adbe3d-221c-4c02-be54-37db459e354f",
   "metadata": {},
   "outputs": [
    {
     "data": {
      "text/html": [
       "<style>\n",
       ".dl-inline {width: auto; margin:0; padding: 0}\n",
       ".dl-inline>dt, .dl-inline>dd {float: none; width: auto; display: inline-block}\n",
       ".dl-inline>dt::after {content: \":\\0020\"; padding-right: .5ex}\n",
       ".dl-inline>dt:not(:first-of-type) {padding-left: .5ex}\n",
       "</style><dl class=dl-inline><dt>111</dt><dd>1881236</dd><dt>110</dt><dd>643690</dd><dt>101</dt><dd>8870524</dd><dt>011</dt><dd>952713</dd><dt>100</dt><dd>5262774</dd><dt>010</dt><dd>5889109</dd><dt>001</dt><dd>3657079</dd></dl>\n"
      ],
      "text/latex": [
       "\\begin{description*}\n",
       "\\item[111] 1881236\n",
       "\\item[110] 643690\n",
       "\\item[101] 8870524\n",
       "\\item[011] 952713\n",
       "\\item[100] 5262774\n",
       "\\item[010] 5889109\n",
       "\\item[001] 3657079\n",
       "\\end{description*}\n"
      ],
      "text/markdown": [
       "111\n",
       ":   1881236110\n",
       ":   643690101\n",
       ":   8870524011\n",
       ":   952713100\n",
       ":   5262774010\n",
       ":   5889109001\n",
       ":   3657079\n",
       "\n"
      ],
      "text/plain": [
       "    111     110     101     011     100     010     001 \n",
       "1881236  643690 8870524  952713 5262774 5889109 3657079 "
      ]
     },
     "metadata": {},
     "output_type": "display_data"
    }
   ],
   "source": [
    "cs"
   ]
  },
  {
   "cell_type": "code",
   "execution_count": 93,
   "id": "65f5911c-2dfa-4a74-966b-f88da2c83d27",
   "metadata": {},
   "outputs": [
    {
     "data": {
      "text/html": [
       "<table class=\"dataframe\">\n",
       "<caption>A comb_mat: 3 × 7 of type dbl</caption>\n",
       "<tbody>\n",
       "\t<tr><th scope=row>flow</th><td>1</td><td>1</td><td>1</td><td>0</td><td>1</td><td>0</td><td>0</td></tr>\n",
       "\t<tr><th scope=row>bmp9</th><td>1</td><td>1</td><td>0</td><td>1</td><td>0</td><td>1</td><td>0</td></tr>\n",
       "\t<tr><th scope=row>flow_and_bmp9</th><td>1</td><td>0</td><td>1</td><td>1</td><td>0</td><td>0</td><td>1</td></tr>\n",
       "</tbody>\n",
       "</table>\n"
      ],
      "text/latex": [
       "A comb\\_mat: 3 × 7 of type dbl\n",
       "\\begin{tabular}{r|lllllll}\n",
       "\tflow & 1 & 1 & 1 & 0 & 1 & 0 & 0\\\\\n",
       "\tbmp9 & 1 & 1 & 0 & 1 & 0 & 1 & 0\\\\\n",
       "\tflow\\_and\\_bmp9 & 1 & 0 & 1 & 1 & 0 & 0 & 1\\\\\n",
       "\\end{tabular}\n"
      ],
      "text/markdown": [
       "\n",
       "A comb_mat: 3 × 7 of type dbl\n",
       "\n",
       "| flow | 1 | 1 | 1 | 0 | 1 | 0 | 0 |\n",
       "| bmp9 | 1 | 1 | 0 | 1 | 0 | 1 | 0 |\n",
       "| flow_and_bmp9 | 1 | 0 | 1 | 1 | 0 | 0 | 1 |\n",
       "\n"
      ],
      "text/plain": [
       "              [,1] [,2] [,3] [,4] [,5] [,6] [,7]\n",
       "flow          1    1    1    0    1    0    0   \n",
       "bmp9          1    1    0    1    0    1    0   \n",
       "flow_and_bmp9 1    0    1    1    0    0    1   "
      ]
     },
     "metadata": {},
     "output_type": "display_data"
    }
   ],
   "source": [
    "m"
   ]
  },
  {
   "cell_type": "code",
   "execution_count": 83,
   "id": "116ebc9b-cdac-4cff-9ca8-3673a1ac284e",
   "metadata": {},
   "outputs": [
    {
     "data": {
      "image/png": "[encoded data removed]",
      "text/plain": [
       "plot without title"
      ]
     },
     "metadata": {
      "image/png": {
       "height": 420,
       "width": 420
      }
     },
     "output_type": "display_data"
    }
   ],
   "source": [
    "UpSet(m, top_annotation = upset_top_annotation(m, add_numbers = TRUE),\n",
    "    right_annotation = upset_right_annotation(m, bb = TRUE))"
   ]
  },
  {
   "cell_type": "code",
   "execution_count": 84,
   "id": "db6fac68-fc74-407a-ac21-13fad9741dad",
   "metadata": {},
   "outputs": [
    {
     "data": {
      "image/png": "[encoded data removed]",
      "text/plain": [
       "plot without title"
      ]
     },
     "metadata": {
      "image/png": {
       "height": 420,
       "width": 420
      }
     },
     "output_type": "display_data"
    }
   ],
   "source": [
    "m1 = make_comb_mat(ranges_list, mode = \"distinct\")\n",
    "m2 = make_comb_mat(ranges_list, mode = \"intersect\")\n",
    "m3 = make_comb_mat(ranges_list, mode = \"union\")\n",
    "UpSet(t(m1), column_title = \"distinct mode\") +\n",
    "    UpSet(t(m2), column_title = \"intersect mode\") +\n",
    "    UpSet(t(m3), column_title = \"union mode\")"
   ]
  },
  {
   "cell_type": "code",
   "execution_count": 89,
   "id": "21a50fa1-1dec-49af-afb6-e861e502def5",
   "metadata": {},
   "outputs": [
    {
     "data": {
      "image/png": "[encoded data removed]",
      "text/plain": [
       "plot without title"
      ]
     },
     "metadata": {
      "image/png": {
       "height": 420,
       "width": 420
      }
     },
     "output_type": "display_data"
    }
   ],
   "source": [
    "top_ha = HeatmapAnnotation(\n",
    "    \"distict\" = anno_barplot(comb_size(m1), \n",
    "        gp = gpar(fill = \"black\"), height = unit(2, \"cm\")), \n",
    "    \"intersect\" = anno_barplot(comb_size(m2), \n",
    "        gp = gpar(fill = \"black\"), height = unit(2, \"cm\")), \n",
    "    \"union\" = anno_barplot(comb_size(m3), \n",
    "        gp = gpar(fill = \"black\"), height = unit(2, \"cm\")), \n",
    "    gap = unit(2, \"mm\"), annotation_name_side = \"left\", annotation_name_rot = 0)\n",
    "# the same for using m2 or m3\n",
    "UpSet(m1, top_annotation = top_ha)\n"
   ]
  },
  {
   "cell_type": "code",
   "execution_count": 81,
   "id": "838fb42b-7bdc-4079-9bcd-76d4bf054a97",
   "metadata": {},
   "outputs": [
    {
     "data": {
      "image/png": "[encoded data removed]",
      "text/plain": [
       "plot without title"
      ]
     },
     "metadata": {
      "image/png": {
       "height": 420,
       "width": 420
      }
     },
     "output_type": "display_data"
    }
   ],
   "source": [
    "ht = UpSet(m, top_annotation = upset_top_annotation(m,add_numbers = TRUE),right_annotation = upset_right_annotation(m, add_numbers = TRUE))\n",
    "ht = draw(ht)"
   ]
  },
  {
   "cell_type": "code",
   "execution_count": 78,
   "id": "db54be77-ebb2-41dd-9f65-7457dce48c08",
   "metadata": {},
   "outputs": [
    {
     "data": {
      "text/plain": [
       "GRanges object with 9087 ranges and 0 metadata columns:\n",
       "         seqnames              ranges strand\n",
       "            <Rle>           <IRanges>  <Rle>\n",
       "     [1]     chr1       932837-933238      *\n",
       "     [2]     chr1     1005209-1005610      *\n",
       "     [3]     chr1     1333540-1333941      *\n",
       "     [4]     chr1     1614193-1614594      *\n",
       "     [5]     chr1     1919258-1919659      *\n",
       "     ...      ...                 ...    ...\n",
       "  [9083]     chrX 153801792-153802193      *\n",
       "  [9084]     chrX 153910989-153911390      *\n",
       "  [9085]     chrX 154002137-154002538      *\n",
       "  [9086]     chrX 154370420-154370821      *\n",
       "  [9087]     chrX 154730150-154730551      *\n",
       "  -------\n",
       "  seqinfo: 23 sequences from an unspecified genome; no seqlengths"
      ]
     },
     "metadata": {},
     "output_type": "display_data"
    }
   ],
   "source": [
    "extract_comb(m, \"001\")"
   ]
  },
  {
   "cell_type": "code",
   "execution_count": 70,
   "id": "e64e96a3-4415-4375-9a21-d30383726a6f",
   "metadata": {},
   "outputs": [
    {
     "data": {
      "text/html": [
       "<style>\n",
       ".dl-inline {width: auto; margin:0; padding: 0}\n",
       ".dl-inline>dt, .dl-inline>dd {float: none; width: auto; display: inline-block}\n",
       ".dl-inline>dt::after {content: \":\\0020\"; padding-right: .5ex}\n",
       ".dl-inline>dt:not(:first-of-type) {padding-left: .5ex}\n",
       "</style><dl class=dl-inline><dt>111</dt><dd>1881236</dd><dt>110</dt><dd>2524926</dd><dt>101</dt><dd>10751760</dd><dt>011</dt><dd>2833949</dd><dt>100</dt><dd>16670284</dd><dt>010</dt><dd>9371974</dd><dt>001</dt><dd>15369592</dd></dl>\n"
      ],
      "text/latex": [
       "\\begin{description*}\n",
       "\\item[111] 1881236\n",
       "\\item[110] 2524926\n",
       "\\item[101] 10751760\n",
       "\\item[011] 2833949\n",
       "\\item[100] 16670284\n",
       "\\item[010] 9371974\n",
       "\\item[001] 15369592\n",
       "\\end{description*}\n"
      ],
      "text/markdown": [
       "111\n",
       ":   1881236110\n",
       ":   2524926101\n",
       ":   10751760011\n",
       ":   2833949100\n",
       ":   16670284010\n",
       ":   9371974001\n",
       ":   15369592\n",
       "\n"
      ],
      "text/plain": [
       "     111      110      101      011      100      010      001 \n",
       " 1881236  2524926 10751760  2833949 16670284  9371974 15369592 "
      ]
     },
     "metadata": {},
     "output_type": "display_data"
    }
   ],
   "source": [
    "comb_size(m)"
   ]
  },
  {
   "cell_type": "code",
   "execution_count": 73,
   "id": "7c7f8ae1-e7a4-49e2-81d4-78bc36c38215",
   "metadata": {},
   "outputs": [
    {
     "data": {
      "text/plain": [
       "GRanges object with 2368 ranges and 0 metadata columns:\n",
       "         seqnames              ranges strand\n",
       "            <Rle>           <IRanges>  <Rle>\n",
       "     [1]     chr1     1212809-1213210      *\n",
       "     [2]     chr1     1925619-1926020      *\n",
       "     [3]     chr1     2148668-2149069      *\n",
       "     [4]     chr1     2279160-2279561      *\n",
       "     [5]     chr1     2863158-2863559      *\n",
       "     ...      ...                 ...    ...\n",
       "  [2364]     chrX 134431890-134432291      *\n",
       "  [2365]     chrX 141314428-141314829      *\n",
       "  [2366]     chrX 153491729-153492130      *\n",
       "  [2367]     chrX 154057099-154057500      *\n",
       "  [2368]     chrX 154063249-154063650      *\n",
       "  -------\n",
       "  seqinfo: 23 sequences from an unspecified genome; no seqlengths"
      ]
     },
     "metadata": {},
     "output_type": "display_data"
    }
   ],
   "source": [
    "extract_comb(m, \"011\")"
   ]
  },
  {
   "cell_type": "code",
   "execution_count": 92,
   "id": "ea371add-584a-4227-8283-0d0163a889c4",
   "metadata": {},
   "outputs": [
    {
     "data": {
      "image/png": "[encoded data removed]",
      "text/plain": [
       "plot without title"
      ]
     },
     "metadata": {
      "image/png": {
       "height": 420,
       "width": 420
      }
     },
     "output_type": "display_data"
    }
   ],
   "source": [
    "m = make_comb_mat(ranges_list)#,mode = \"intersect\")\n",
    "cs = comb_size(m)\n",
    "ht = UpSet(m, top_annotation = upset_top_annotation(m, ylim = c(0, 1.1*max(cs))))\n",
    "ht = draw(ht)\n",
    "co = column_order(ht)\n",
    "decorate_annotation(\"intersection_size\", {\n",
    "    grid.text(cs[co], x = seq_along(cs), y = unit(cs[co], \"native\") + unit(2, \"pt\"), \n",
    "        default.units = \"native\", just = \"bottom\", gp = gpar(fontsize = 8))\n",
    "})\n",
    "\n",
    "\n",
    "# nc = ncol(m)\n",
    "# decorate_annotation(\"Intersection\\nsize\", {\n",
    "#     grid.text(cs[co], \n",
    "#         x = 1:nc, \n",
    "#         y = unit(cs[co], \"native\") + unit(1, \"mm\"), \n",
    "#         gp = gpar(fontsize = 5), \n",
    "#         just = \"bottom\",\n",
    "#         default.units = \"native\")\n",
    "# })"
   ]
  }
 ],
 "metadata": {
  "kernelspec": {
   "display_name": "R",
   "language": "R",
   "name": "ir"
  },
  "language_info": {
   "codemirror_mode": "r",
   "file_extension": ".r",
   "mimetype": "text/x-r-source",
   "name": "R",
   "pygments_lexer": "r",
   "version": "4.2.1"
  }
 },
 "nbformat": 4,
 "nbformat_minor": 5
}
